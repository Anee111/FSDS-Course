{
 "cells": [
  {
   "cell_type": "code",
   "execution_count": 1,
   "id": "1a23d503-01f6-42d2-9eaf-16338b9b21ba",
   "metadata": {},
   "outputs": [],
   "source": [
    "# class --- classification of real world entities"
   ]
  },
  {
   "cell_type": "code",
   "execution_count": 2,
   "id": "e781d2a5-f576-41e8-9cbf-ff5dac8693c2",
   "metadata": {},
   "outputs": [],
   "source": [
    "# int, float, list, Exception, tuple...................classes"
   ]
  },
  {
   "cell_type": "code",
   "execution_count": 3,
   "id": "98e317ff-f075-47d5-b769-6c78fa9c760e",
   "metadata": {},
   "outputs": [],
   "source": [
    "#use case--------big project --multiple modules develop"
   ]
  },
  {
   "cell_type": "code",
   "execution_count": 1,
   "id": "1d8cd4d7-3d7a-40de-b844-6a012d225daf",
   "metadata": {},
   "outputs": [],
   "source": [
    "class a:\n",
    "    a = 10"
   ]
  },
  {
   "cell_type": "code",
   "execution_count": 2,
   "id": "76c6ed8f-b53b-408c-b15e-858d7557ba36",
   "metadata": {},
   "outputs": [
    {
     "data": {
      "text/plain": [
       "__main__.a"
      ]
     },
     "execution_count": 2,
     "metadata": {},
     "output_type": "execute_result"
    }
   ],
   "source": [
    "a"
   ]
  },
  {
   "cell_type": "code",
   "execution_count": 3,
   "id": "9ee4fb96-5ede-4b5b-9507-a41695bf829b",
   "metadata": {},
   "outputs": [],
   "source": [
    "# oops makes it maintenance and reusuability"
   ]
  },
  {
   "cell_type": "code",
   "execution_count": 4,
   "id": "156507b9-9e9c-451d-931b-b8efd972f995",
   "metadata": {},
   "outputs": [],
   "source": [
    "# object ------ variable of a class"
   ]
  },
  {
   "cell_type": "code",
   "execution_count": 5,
   "id": "36c3e264-c610-4b0d-b61b-7e22cc4e8301",
   "metadata": {},
   "outputs": [
    {
     "data": {
      "text/plain": [
       "' EX: integer ---class\\n       object : a,b,c = 10,12,12 ------ a,b,c are objects'"
      ]
     },
     "execution_count": 5,
     "metadata": {},
     "output_type": "execute_result"
    }
   ],
   "source": [
    "''' EX: integer ---class\n",
    "       object : a,b,c = 10,12,12 ------ a,b,c are objects'''"
   ]
  },
  {
   "cell_type": "code",
   "execution_count": 6,
   "id": "fbcf7e4c-9478-45f2-bec4-4c402723379e",
   "metadata": {},
   "outputs": [],
   "source": [
    "# through object we are accessing various methods"
   ]
  },
  {
   "cell_type": "markdown",
   "id": "fd6b89a4-e666-4e9c-afc0-5755f545acc4",
   "metadata": {},
   "source": [
    "https://github.com/python/mypy/blob/master/mypy/copytype.py"
   ]
  },
  {
   "cell_type": "code",
   "execution_count": 6,
   "id": "7ee72cb3-f40f-4ae9-b438-f402426740e0",
   "metadata": {},
   "outputs": [],
   "source": [
    "# declaring related items in one class.\n",
    "# one can go to class and check functions\n",
    "\n",
    "    \n",
    "class bankaccount():\n",
    "    def open_account(self,name,email_id):   # give parameter as a pointer . we can give anything ... we have w arguments a=only suma is pointer \n",
    "            #self is n0t key word\n",
    "        try:\n",
    "            if not name or email_id:\n",
    "                raise Exception(\"name and email_id are not given\") \n",
    "            print(\"open account by taking name and email id\")\n",
    "            return name+email_id\n",
    "        except Exception as e:\n",
    "            print(e)\n",
    "            \n",
    "    def deposit_Account(self,amount):\n",
    "        try:\n",
    "            if amount<=0:\n",
    "                raise Exception(\"amount is negative or zero\")\n",
    "            print(\"i am trying to deposit an amount in my account\")\n",
    "        except Exception as e:\n",
    "            print(e)\n",
    "            \n",
    "    def withdraw(self,amount_with):\n",
    "        try:\n",
    "            print(\"withdraw amount\")\n",
    "        except Exception as e:\n",
    "            print(e)\n",
    "            \n",
    "    def update_details(self,name_update,email_update):\n",
    "        try:\n",
    "            print(\"will update name and email in account\")\n",
    "        except Exception as e:\n",
    "            print(e)\n",
    "\n",
    "        "
   ]
  },
  {
   "cell_type": "code",
   "execution_count": 7,
   "id": "3cd8ad43-28e8-4796-ac41-81f1bd61d93e",
   "metadata": {},
   "outputs": [
    {
     "ename": "NameError",
     "evalue": "name 'open_account' is not defined",
     "output_type": "error",
     "traceback": [
      "\u001b[0;31m---------------------------------------------------------------------------\u001b[0m",
      "\u001b[0;31mNameError\u001b[0m                                 Traceback (most recent call last)",
      "Cell \u001b[0;32mIn[7], line 1\u001b[0m\n\u001b[0;32m----> 1\u001b[0m \u001b[43mopen_account\u001b[49m(\u001b[38;5;124m\"\u001b[39m\u001b[38;5;124msuma\u001b[39m\u001b[38;5;124m\"\u001b[39m,\u001b[38;5;124m\"\u001b[39m\u001b[38;5;124mabbi@gmail.com\u001b[39m\u001b[38;5;124m\"\u001b[39m)\n",
      "\u001b[0;31mNameError\u001b[0m: name 'open_account' is not defined"
     ]
    }
   ],
   "source": [
    "open_account(\"suma\",\"abbi@gmail.com\")"
   ]
  },
  {
   "cell_type": "code",
   "execution_count": 8,
   "id": "4c27f9eb-7ea8-485c-b5b4-e433459f8b27",
   "metadata": {},
   "outputs": [],
   "source": [
    "# as we need to create object for class"
   ]
  },
  {
   "cell_type": "code",
   "execution_count": 9,
   "id": "5bc7e99f-bff0-4330-9bb7-eddff0147dbd",
   "metadata": {},
   "outputs": [
    {
     "ename": "TypeError",
     "evalue": "bankaccount.open_account() missing 1 required positional argument: 'email_id'",
     "output_type": "error",
     "traceback": [
      "\u001b[0;31m---------------------------------------------------------------------------\u001b[0m",
      "\u001b[0;31mTypeError\u001b[0m                                 Traceback (most recent call last)",
      "Cell \u001b[0;32mIn[9], line 1\u001b[0m\n\u001b[0;32m----> 1\u001b[0m \u001b[43mbankaccount\u001b[49m\u001b[38;5;241;43m.\u001b[39;49m\u001b[43mopen_account\u001b[49m\u001b[43m(\u001b[49m\u001b[38;5;124;43m\"\u001b[39;49m\u001b[38;5;124;43msuma\u001b[39;49m\u001b[38;5;124;43m\"\u001b[39;49m\u001b[43m,\u001b[49m\u001b[38;5;124;43m\"\u001b[39;49m\u001b[38;5;124;43mabbireddysumaanusha491@gmail.com\u001b[39;49m\u001b[38;5;124;43m\"\u001b[39;49m\u001b[43m)\u001b[49m\n",
      "\u001b[0;31mTypeError\u001b[0m: bankaccount.open_account() missing 1 required positional argument: 'email_id'"
     ]
    }
   ],
   "source": [
    "bankaccount.open_account(\"suma\",\"abbireddysumaanusha491@gmail.com\")"
   ]
  },
  {
   "cell_type": "code",
   "execution_count": 10,
   "id": "3514a5dc-292c-4238-b413-5d496a21942d",
   "metadata": {},
   "outputs": [],
   "source": [
    "suma = bankaccount()       # variable of a class (object)"
   ]
  },
  {
   "cell_type": "code",
   "execution_count": 11,
   "id": "01ec5ffc-bc32-4f9a-881a-4b929bc15431",
   "metadata": {},
   "outputs": [
    {
     "name": "stdout",
     "output_type": "stream",
     "text": [
      "name and email_id are not given\n"
     ]
    }
   ],
   "source": [
    "suma.open_account(\"suma\",\"abbireddysumaanusha491@gmail.com\")"
   ]
  },
  {
   "cell_type": "code",
   "execution_count": 24,
   "id": "93c1ee97-2ef6-41dc-9564-dd9193ed0479",
   "metadata": {
    "tags": []
   },
   "outputs": [
    {
     "ename": "TypeError",
     "evalue": "bankaccount.open_account() takes 3 positional arguments but 4 were given",
     "output_type": "error",
     "traceback": [
      "\u001b[0;31m---------------------------------------------------------------------------\u001b[0m",
      "\u001b[0;31mTypeError\u001b[0m                                 Traceback (most recent call last)",
      "Cell \u001b[0;32mIn[24], line 1\u001b[0m\n\u001b[0;32m----> 1\u001b[0m \u001b[43msuma\u001b[49m\u001b[38;5;241;43m.\u001b[39;49m\u001b[43mopen_account\u001b[49m\u001b[43m(\u001b[49m\u001b[38;5;124;43m\"\u001b[39;49m\u001b[38;5;124;43msuma\u001b[39;49m\u001b[38;5;124;43m\"\u001b[39;49m\u001b[43m,\u001b[49m\u001b[38;5;124;43m\"\u001b[39;49m\u001b[38;5;124;43mabbireddysumaanusha491@gmail.com\u001b[39;49m\u001b[38;5;124;43m\"\u001b[39;49m\u001b[43m,\u001b[49m\u001b[38;5;241;43m3\u001b[39;49m\u001b[43m)\u001b[49m\n",
      "\u001b[0;31mTypeError\u001b[0m: bankaccount.open_account() takes 3 positional arguments but 4 were given"
     ]
    }
   ],
   "source": [
    "suma.open_account(\"suma\",\"abbireddysumaanusha491@gmail.com\",3)"
   ]
  },
  {
   "cell_type": "code",
   "execution_count": 37,
   "id": "6aef7cef-e5a8-4e09-8ca4-907086f82608",
   "metadata": {
    "tags": []
   },
   "outputs": [
    {
     "ename": "TypeError",
     "evalue": "bankaccount.deposit_Account() takes 3 positional arguments but 4 were given",
     "output_type": "error",
     "traceback": [
      "\u001b[0;31m---------------------------------------------------------------------------\u001b[0m",
      "\u001b[0;31mTypeError\u001b[0m                                 Traceback (most recent call last)",
      "Cell \u001b[0;32mIn[37], line 1\u001b[0m\n\u001b[0;32m----> 1\u001b[0m \u001b[43msuma\u001b[49m\u001b[38;5;241;43m.\u001b[39;49m\u001b[43mdeposit_Account\u001b[49m\u001b[43m(\u001b[49m\u001b[38;5;124;43m\"\u001b[39;49m\u001b[38;5;124;43msuma\u001b[39;49m\u001b[38;5;124;43m\"\u001b[39;49m\u001b[43m,\u001b[49m\u001b[38;5;124;43m\"\u001b[39;49m\u001b[38;5;124;43m1000\u001b[39;49m\u001b[38;5;124;43m\"\u001b[39;49m\u001b[43m,\u001b[49m\u001b[38;5;241;43m3\u001b[39;49m\u001b[43m)\u001b[49m\n",
      "\u001b[0;31mTypeError\u001b[0m: bankaccount.deposit_Account() takes 3 positional arguments but 4 were given"
     ]
    }
   ],
   "source": [
    "suma.deposit_Account(\"suma\",\"1000\",3)"
   ]
  },
  {
   "cell_type": "code",
   "execution_count": 16,
   "id": "fb8e2bbc-9543-4e71-88e3-0058ca610c33",
   "metadata": {},
   "outputs": [
    {
     "data": {
      "text/plain": [
       "' Example:   integer is class\\na = 10 # a is variable\\nthrough varibale we can call any functions/methods defined in int class.\\na.remove() alaa '"
      ]
     },
     "execution_count": 16,
     "metadata": {},
     "output_type": "execute_result"
    }
   ],
   "source": [
    "''' Example:   integer is class\n",
    "a = 10 # a is variable\n",
    "through varibale we can call any functions/methods defined in int class.\n",
    "a.remove() alaa '''"
   ]
  },
  {
   "cell_type": "code",
   "execution_count": 17,
   "id": "16503167-e27e-4318-a1a0-c391a18a7e1b",
   "metadata": {},
   "outputs": [
    {
     "data": {
      "text/plain": [
       "' In the same way ..... bankaccount is class... we are declaring one variable or object suma through which we are callong methods/functions defined\\nin class.'"
      ]
     },
     "execution_count": 17,
     "metadata": {},
     "output_type": "execute_result"
    }
   ],
   "source": [
    "''' In the same way ..... bankaccount is class... we are declaring one variable or object suma through which we are callong methods/functions defined\n",
    "in class.'''"
   ]
  },
  {
   "cell_type": "code",
   "execution_count": 10,
   "id": "c066e800-e53d-4839-922c-5c0ea12ea496",
   "metadata": {},
   "outputs": [],
   "source": [
    "class list_ops:\n",
    "    \n",
    "    def extractfromindex(suma,l,index):\n",
    "        return l[index]\n",
    "    \n",
    "    def extractrangedata(suma,l,start,end):\n",
    "        return l[start:end]\n",
    "    \n",
    "    def extracteven(suma,l):\n",
    "        l1=[]\n",
    "        for i in l:\n",
    "            if i%2==0:\n",
    "                l.append(i)\n",
    "        return l1\n",
    "    a = 10\n",
    "    l=[1,2,3]\n",
    "    "
   ]
  },
  {
   "cell_type": "code",
   "execution_count": 11,
   "id": "6a1da0cb-8cbc-40f6-84a3-0b78155f33e6",
   "metadata": {},
   "outputs": [],
   "source": [
    "first_obj = list_ops()"
   ]
  },
  {
   "cell_type": "code",
   "execution_count": 12,
   "id": "36f68bd1-dc5b-4661-b7d0-fac90293881e",
   "metadata": {},
   "outputs": [
    {
     "data": {
      "text/plain": [
       "5"
      ]
     },
     "execution_count": 12,
     "metadata": {},
     "output_type": "execute_result"
    }
   ],
   "source": [
    "first_obj.extractfromindex([1,2,3,4,5],4)"
   ]
  },
  {
   "cell_type": "code",
   "execution_count": 13,
   "id": "f1429e3d-aba1-4eb5-aee7-e5f95c2289aa",
   "metadata": {},
   "outputs": [
    {
     "data": {
      "text/plain": [
       "[2, 3, 4]"
      ]
     },
     "execution_count": 13,
     "metadata": {},
     "output_type": "execute_result"
    }
   ],
   "source": [
    "first_obj.extractrangedata([1,2,3,4,5],1,4)"
   ]
  },
  {
   "cell_type": "code",
   "execution_count": 14,
   "id": "3a240a87-5c50-41b8-b6bd-6dd0672e04b5",
   "metadata": {},
   "outputs": [
    {
     "data": {
      "text/plain": [
       "10"
      ]
     },
     "execution_count": 14,
     "metadata": {},
     "output_type": "execute_result"
    }
   ],
   "source": [
    "first_obj.a"
   ]
  },
  {
   "cell_type": "code",
   "execution_count": 16,
   "id": "be628d2c-d6c9-4618-8d19-a8071cd26f54",
   "metadata": {},
   "outputs": [
    {
     "data": {
      "text/plain": [
       "[2, 3]"
      ]
     },
     "execution_count": 16,
     "metadata": {},
     "output_type": "execute_result"
    }
   ],
   "source": [
    "first_obj.extractrangedata(first_obj.l,1,4)"
   ]
  },
  {
   "cell_type": "code",
   "execution_count": 1,
   "id": "870a67d8-5cdc-4c17-8ae7-763fe1c3bd24",
   "metadata": {},
   "outputs": [],
   "source": [
    "# passing different data for different objects\n",
    "\n",
    "class list_ops:\n",
    "    # constructor ----method where you will pass data\n",
    "    def __init__(suma,l):                  # (dunder inbuilt  function) .. initiate class variable to pass data\n",
    "        suma.l1 = l\n",
    "        suma.l2 = 40\n",
    "        suma.l3 = \"suma\"\n",
    "        suma.l4 = (1,2,3,4)\n",
    "        suma.l5 ={\"key\":\"value\"}\n",
    "    \n",
    "    def extractfromindex(suma,l,index):\n",
    "        return l[index]\n",
    "    \n",
    "    def extractrangedata(suma,l,start,end):\n",
    "        return l[start:end]\n",
    "    \n",
    "    def extracteven(suma,l):\n",
    "        l1=[]\n",
    "        for i in l:\n",
    "            if i%2==0:\n",
    "                l.append(i)\n",
    "        return l1\n",
    "    #a = 10\n",
    "    #l=[1,2,3]"
   ]
  },
  {
   "cell_type": "code",
   "execution_count": 2,
   "id": "d0422df5-5ed2-4f37-8a4e-dca7cf4d5218",
   "metadata": {},
   "outputs": [
    {
     "ename": "TypeError",
     "evalue": "list_ops.__init__() missing 1 required positional argument: 'l'",
     "output_type": "error",
     "traceback": [
      "\u001b[0;31m---------------------------------------------------------------------------\u001b[0m",
      "\u001b[0;31mTypeError\u001b[0m                                 Traceback (most recent call last)",
      "Cell \u001b[0;32mIn[2], line 1\u001b[0m\n\u001b[0;32m----> 1\u001b[0m obj3 \u001b[38;5;241m=\u001b[39m \u001b[43mlist_ops\u001b[49m\u001b[43m(\u001b[49m\u001b[43m)\u001b[49m\n",
      "\u001b[0;31mTypeError\u001b[0m: list_ops.__init__() missing 1 required positional argument: 'l'"
     ]
    }
   ],
   "source": [
    "obj3 = list_ops()"
   ]
  },
  {
   "cell_type": "code",
   "execution_count": 3,
   "id": "74979be9-2593-47a2-b0ed-384f19c4440f",
   "metadata": {},
   "outputs": [
    {
     "data": {
      "text/plain": [
       "[1, 2, 3, 4, 5, 6, 7]"
      ]
     },
     "execution_count": 3,
     "metadata": {},
     "output_type": "execute_result"
    }
   ],
   "source": [
    "obj3 = list_ops([1,2,3,4,5,6,7])\n",
    "obj3.l1"
   ]
  },
  {
   "cell_type": "code",
   "execution_count": 4,
   "id": "28725475-d244-4491-b238-56de904450cc",
   "metadata": {},
   "outputs": [],
   "source": [
    "obj4 = list_ops([11,212,1,2,12,13,14])"
   ]
  },
  {
   "cell_type": "code",
   "execution_count": 5,
   "id": "90d2ab43-88a4-4156-922f-72e4f0f0f75c",
   "metadata": {},
   "outputs": [
    {
     "data": {
      "text/plain": [
       "40"
      ]
     },
     "execution_count": 5,
     "metadata": {},
     "output_type": "execute_result"
    }
   ],
   "source": [
    "obj4.l2"
   ]
  },
  {
   "cell_type": "code",
   "execution_count": 6,
   "id": "3ed80836-f2d5-472e-b34d-13f8f57d9cb3",
   "metadata": {},
   "outputs": [
    {
     "data": {
      "text/plain": [
       "40"
      ]
     },
     "execution_count": 6,
     "metadata": {},
     "output_type": "execute_result"
    }
   ],
   "source": [
    "obj3.l2"
   ]
  },
  {
   "cell_type": "code",
   "execution_count": 7,
   "id": "14151af2-3777-4660-83e9-774d68dbbb2c",
   "metadata": {},
   "outputs": [],
   "source": [
    "class book:\n",
    "    def __init__(pointer,name,title,pageno):\n",
    "        pointer.name_of_book = name\n",
    "        pointer.title_of_book = title\n",
    "        pointer.page_no = pageno\n",
    "        \n",
    "    def extract_details(pointer):\n",
    "        print(pointer.name_of_book , pointer.title_of_book)\n",
    "    \n",
    "    def print_page_no(pointer):\n",
    "        print(pointer.page_no)"
   ]
  },
  {
   "cell_type": "code",
   "execution_count": 9,
   "id": "805c8551-369d-4174-85e1-0fb9534db7de",
   "metadata": {},
   "outputs": [],
   "source": [
    "suma = book(\"python\",\"theory\",89)\n",
    "subhi = book(\"DS\",\"imp of DS\",345)\n",
    "viha = book(\"sql\", \"database\",34)"
   ]
  },
  {
   "cell_type": "code",
   "execution_count": 10,
   "id": "a51f3103-bfa4-4308-a981-280278c666c5",
   "metadata": {},
   "outputs": [
    {
     "name": "stdout",
     "output_type": "stream",
     "text": [
      "python theory\n"
     ]
    }
   ],
   "source": [
    "suma.extract_details()"
   ]
  },
  {
   "cell_type": "code",
   "execution_count": 12,
   "id": "070aaf6b-d7ef-41c4-b815-c1b39d8dd291",
   "metadata": {},
   "outputs": [
    {
     "name": "stdout",
     "output_type": "stream",
     "text": [
      "sql database\n"
     ]
    }
   ],
   "source": [
    "viha.extract_details()"
   ]
  },
  {
   "cell_type": "code",
   "execution_count": 19,
   "id": "ae1e8bfd-e4a1-48e9-b63e-4144dcd12e54",
   "metadata": {},
   "outputs": [],
   "source": [
    "class gmail_ops:\n",
    "    def __init__(my,userid,password):\n",
    "        my.user_id = userid\n",
    "        my.pass_Word = password\n",
    "        my.url = \"https://mail.google.com/mail/u/0/#inbox\"\n",
    "    def login(my):\n",
    "        print(\"take userid \" + my.user_id + \" take password \" + my.pass_Word + \" hit url \" + my.url)\n",
    "        \n",
    "    def read_mail(my):\n",
    "        print(\"read mail for\" + my.user_id + \" \" + my.pass_Word)\n",
    "    \n",
    "    def reply_mail(my):\n",
    "        print(\"Reply mail for\" + my.user_id + \" \" + my.pass_Word)"
   ]
  },
  {
   "cell_type": "code",
   "execution_count": 20,
   "id": "1c607f93-4699-41f1-b6e9-0aea956d7be3",
   "metadata": {},
   "outputs": [],
   "source": [
    "user1 = gmail_ops(\"user1\",\"iser1pass\")"
   ]
  },
  {
   "cell_type": "code",
   "execution_count": 21,
   "id": "c51f4bcc-d048-417b-9319-514c7446552a",
   "metadata": {},
   "outputs": [
    {
     "name": "stdout",
     "output_type": "stream",
     "text": [
      "take userid user1 take password iser1pass hit url https://mail.google.com/mail/u/0/#inbox\n"
     ]
    }
   ],
   "source": [
    "user1.login()"
   ]
  },
  {
   "cell_type": "code",
   "execution_count": 18,
   "id": "fe580fc4-ef19-4efb-9988-296a2a02347e",
   "metadata": {},
   "outputs": [],
   "source": [
    "from functools import reduce\n",
    "class calculator:\n",
    "\n",
    "    \n",
    "    def add(sing,*su):\n",
    "        try:\n",
    "            return  sum(su)\n",
    "        except Exception as e:\n",
    "            print(e)\n",
    "    \n",
    "    def sub(sing,*su):\n",
    "        return  reduce( lambda a,b: a-b,su)\n",
    "    \n",
    "    def mult(sing,*su):\n",
    "        return  reduce(lambda a,b : a*b,su)\n",
    "    \n",
    "    def div(sing,*su):\n",
    "        return   reduce(lambda a,b :a/b,su)\n",
    "        "
   ]
  },
  {
   "cell_type": "code",
   "execution_count": 19,
   "id": "241dc323-ddfb-482e-a023-bbbc11ab2487",
   "metadata": {},
   "outputs": [],
   "source": [
    "ram = calculator()"
   ]
  },
  {
   "cell_type": "code",
   "execution_count": 20,
   "id": "8c02cf57-b682-4fa7-9f26-06d1adb90d46",
   "metadata": {},
   "outputs": [
    {
     "data": {
      "text/plain": [
       "15"
      ]
     },
     "execution_count": 20,
     "metadata": {},
     "output_type": "execute_result"
    }
   ],
   "source": [
    "ram.add(1,2,3,4,5)"
   ]
  },
  {
   "cell_type": "code",
   "execution_count": 21,
   "id": "fa7ff3ff-8ace-4dd9-8c9f-925171408feb",
   "metadata": {},
   "outputs": [
    {
     "name": "stdout",
     "output_type": "stream",
     "text": [
      "unsupported operand type(s) for +: 'int' and 'str'\n"
     ]
    }
   ],
   "source": [
    "ram.add(\"suma\")"
   ]
  },
  {
   "cell_type": "code",
   "execution_count": 38,
   "id": "fa0118a9-1da4-42fc-b80c-dd81e4ce265d",
   "metadata": {},
   "outputs": [
    {
     "data": {
      "text/plain": [
       "-13"
      ]
     },
     "execution_count": 38,
     "metadata": {},
     "output_type": "execute_result"
    }
   ],
   "source": [
    "ram.sub(1,2,3,4,5)"
   ]
  },
  {
   "cell_type": "code",
   "execution_count": 39,
   "id": "452c11bf-a250-4fe1-8ea3-83d6f0d53453",
   "metadata": {},
   "outputs": [
    {
     "data": {
      "text/plain": [
       "24"
      ]
     },
     "execution_count": 39,
     "metadata": {},
     "output_type": "execute_result"
    }
   ],
   "source": [
    "ram.mult(1,2,3,4)"
   ]
  },
  {
   "cell_type": "code",
   "execution_count": 40,
   "id": "6254c4d4-cf44-4e56-8da2-77b0e7e7566b",
   "metadata": {},
   "outputs": [
    {
     "data": {
      "text/plain": [
       "0.041666666666666664"
      ]
     },
     "execution_count": 40,
     "metadata": {},
     "output_type": "execute_result"
    }
   ],
   "source": [
    "ram.div(1,2,3,4)"
   ]
  },
  {
   "cell_type": "code",
   "execution_count": 41,
   "id": "ec25598a-57ea-418e-a602-50c7bebb6b93",
   "metadata": {},
   "outputs": [],
   "source": [
    "karan = calculator()"
   ]
  },
  {
   "cell_type": "code",
   "execution_count": 42,
   "id": "e2416393-d2a6-4275-9053-a7746a40d7cd",
   "metadata": {},
   "outputs": [
    {
     "data": {
      "text/plain": [
       "3"
      ]
     },
     "execution_count": 42,
     "metadata": {},
     "output_type": "execute_result"
    }
   ],
   "source": [
    "karan.add(1,2)"
   ]
  },
  {
   "cell_type": "code",
   "execution_count": 13,
   "id": "a8cec320-bceb-4b7a-bec1-3f066a356d93",
   "metadata": {},
   "outputs": [],
   "source": [
    "from functools import reduce\n",
    "class calculator:\n",
    "    \n",
    "    def __init__(sing,user_name):\n",
    "        sing.username = user_name\n",
    "    \n",
    "    def add(sing,*su):\n",
    "        try:\n",
    "            return sing.username, sum(su)\n",
    "        except Exception as e:\n",
    "            print(e)\n",
    "    \n",
    "    def sub(sing,*su):\n",
    "        try: \n",
    "            return sing.username, reduce( lambda a,b: a-b,su)\n",
    "        except Exception as e:\n",
    "            print(e)\n",
    "    \n",
    "    def mult(sing,*su):\n",
    "        try:\n",
    "            return sing.username, reduce(lambda a,b : a*b,su)\n",
    "        except Exception as e:\n",
    "            print(e)\n",
    "    \n",
    "    def div(sing,*su):\n",
    "        try:\n",
    "            return sing.username,  reduce(lambda a,b :a/b,su)\n",
    "        except Exception as e:\n",
    "            print(e)"
   ]
  },
  {
   "cell_type": "code",
   "execution_count": 14,
   "id": "87ff37c7-f063-4428-b322-1bd0e5e82eee",
   "metadata": {},
   "outputs": [],
   "source": [
    "a = calculator(\"suma_abbireddy\")"
   ]
  },
  {
   "cell_type": "code",
   "execution_count": 15,
   "id": "ac2c81c4-ddd3-4673-ab40-5a1477298272",
   "metadata": {},
   "outputs": [
    {
     "data": {
      "text/plain": [
       "('suma_abbireddy', 0)"
      ]
     },
     "execution_count": 15,
     "metadata": {},
     "output_type": "execute_result"
    }
   ],
   "source": [
    "a.add()"
   ]
  },
  {
   "cell_type": "code",
   "execution_count": 16,
   "id": "9ed2dff7-faa3-4d63-b366-f443965bc700",
   "metadata": {
    "tags": []
   },
   "outputs": [
    {
     "data": {
      "text/plain": [
       "('suma_abbireddy', 6)"
      ]
     },
     "execution_count": 16,
     "metadata": {},
     "output_type": "execute_result"
    }
   ],
   "source": [
    "a.add(1,2,3)"
   ]
  },
  {
   "cell_type": "code",
   "execution_count": 17,
   "id": "9562f153-4dc8-42e0-9a63-b0e1782d9c16",
   "metadata": {},
   "outputs": [
    {
     "ename": "NameError",
     "evalue": "name 'suma' is not defined",
     "output_type": "error",
     "traceback": [
      "\u001b[0;31m---------------------------------------------------------------------------\u001b[0m",
      "\u001b[0;31mNameError\u001b[0m                                 Traceback (most recent call last)",
      "Cell \u001b[0;32mIn[17], line 1\u001b[0m\n\u001b[0;32m----> 1\u001b[0m a\u001b[38;5;241m.\u001b[39madd(\u001b[43msuma\u001b[49m)\n",
      "\u001b[0;31mNameError\u001b[0m: name 'suma' is not defined"
     ]
    }
   ],
   "source": [
    "a.add(suma)"
   ]
  },
  {
   "cell_type": "code",
   "execution_count": 23,
   "id": "17bba5d4-08f3-491c-9b9d-8eebcf6d497c",
   "metadata": {},
   "outputs": [
    {
     "data": {
      "text/plain": [
       "('Suma', 'suma')"
      ]
     },
     "execution_count": 23,
     "metadata": {},
     "output_type": "execute_result"
    }
   ],
   "source": [
    "a.div(\"suma\")"
   ]
  },
  {
   "cell_type": "markdown",
   "id": "68b90f14-de32-451b-8631-7a54366dfa68",
   "metadata": {},
   "source": [
    "# Inheritance\n",
    "\n"
   ]
  },
  {
   "cell_type": "code",
   "execution_count": 4,
   "id": "a305ff56-fd3b-4f50-b99b-dbd2e167bad9",
   "metadata": {
    "tags": []
   },
   "outputs": [],
   "source": [
    "# reuasubility code .use\n"
   ]
  },
  {
   "cell_type": "code",
   "execution_count": 5,
   "id": "6fd9a499-5dec-4515-86aa-6df29216f6be",
   "metadata": {},
   "outputs": [],
   "source": [
    "class a:\n",
    "    \n",
    "    def test(self):\n",
    "        print(\"this test methos is part of class a\")\n",
    "        "
   ]
  },
  {
   "cell_type": "code",
   "execution_count": 6,
   "id": "a5070b16-a2d9-4aef-96b5-24e67901a3e0",
   "metadata": {},
   "outputs": [],
   "source": [
    "obj_a = a()"
   ]
  },
  {
   "cell_type": "code",
   "execution_count": 7,
   "id": "ba71cc04-b441-4258-9132-62a04c1c1246",
   "metadata": {},
   "outputs": [
    {
     "name": "stdout",
     "output_type": "stream",
     "text": [
      "this test methos is part of class a\n"
     ]
    }
   ],
   "source": [
    "obj_a.test()"
   ]
  },
  {
   "cell_type": "code",
   "execution_count": 8,
   "id": "45f9f7c8-f425-472e-9c4c-8de9ced6972b",
   "metadata": {},
   "outputs": [],
   "source": [
    "# one way, we are having the same code as of class a\n",
    "class b:\n",
    "    \n",
    "    def test(self):\n",
    "        print(\"this test methos is part of class a\")"
   ]
  },
  {
   "cell_type": "markdown",
   "id": "6bd633c9-fce7-4afe-9c8a-5b4a58977239",
   "metadata": {
    "tags": []
   },
   "source": [
    "### Single inheritance\n",
    "\n",
    "##### Single inheritance: When a child class inherits from only one parent class, it is called\n",
    "##### \n",
    "###### now inherit prop of a into b class\n"
   ]
  },
  {
   "cell_type": "code",
   "execution_count": 26,
   "id": "294c4763-c586-4cf4-8e79-ff0162654b26",
   "metadata": {},
   "outputs": [],
   "source": [
    "class a:\n",
    "    \n",
    "    def test(self):\n",
    "        print(\"this test methos is part of class a\")"
   ]
  },
  {
   "cell_type": "code",
   "execution_count": 27,
   "id": "096f8074-96e9-4922-a83a-342b52913da0",
   "metadata": {},
   "outputs": [],
   "source": [
    "class b(a):\n",
    "    def test1b(self):\n",
    "        print(\"this is part of vlass b\")"
   ]
  },
  {
   "cell_type": "code",
   "execution_count": 28,
   "id": "8ef37b6b-0993-403b-a83f-aef40c7d4ede",
   "metadata": {},
   "outputs": [],
   "source": [
    "obj_b = b()"
   ]
  },
  {
   "cell_type": "code",
   "execution_count": 29,
   "id": "416ae87c-d7cb-4a1e-ac70-81fdf9508cdf",
   "metadata": {},
   "outputs": [
    {
     "name": "stdout",
     "output_type": "stream",
     "text": [
      "this test methos is part of class a\n"
     ]
    }
   ],
   "source": [
    "obj_b.test()"
   ]
  },
  {
   "cell_type": "code",
   "execution_count": 30,
   "id": "c0530365-b053-4e61-8a3d-1b2aff39e5e9",
   "metadata": {},
   "outputs": [
    {
     "name": "stdout",
     "output_type": "stream",
     "text": [
      "this is part of vlass b\n"
     ]
    }
   ],
   "source": [
    "obj_b.test1b()"
   ]
  },
  {
   "cell_type": "markdown",
   "id": "9f3c66c2-d501-4bf0-ac3c-a4037332fd5f",
   "metadata": {},
   "source": [
    "####  Multilevel inheritance"
   ]
  },
  {
   "cell_type": "markdown",
   "id": "e59da00d-295e-41c6-b54d-f7982a2febd2",
   "metadata": {},
   "source": [
    "##### Multilevel inheritances: When we have a child and grandchild relationship. This means that a child class will inherit from its parent class, which in turn is inheriting from its parent class."
   ]
  },
  {
   "cell_type": "markdown",
   "id": "c63ea996-93a5-4643-acea-c375171138e7",
   "metadata": {
    "tags": []
   },
   "source": [
    "##### 3 classes..... lecture > student(inherited from lecture) > teacher (inherited from student)"
   ]
  },
  {
   "cell_type": "markdown",
   "id": "6a7fc6dd-f96f-4c92-b03d-fb4f48825d56",
   "metadata": {},
   "source": [
    "#### One way"
   ]
  },
  {
   "cell_type": "code",
   "execution_count": 31,
   "id": "f02dd995-7260-4a6a-819c-78b543834552",
   "metadata": {},
   "outputs": [],
   "source": [
    "class lecture:\n",
    "    \n",
    "    def topic(self):\n",
    "        print(\"discussing about inheritance in oops\")\n",
    "        \n",
    "    def timing(self):\n",
    "        print(\"timing is 9am IST\")\n",
    "        \n",
    "    def doubt_class(self):\n",
    "        print(\"timing is 12 am IST\")"
   ]
  },
  {
   "cell_type": "code",
   "execution_count": 32,
   "id": "477a97c7-d946-45ad-9b1e-35b38be2e957",
   "metadata": {},
   "outputs": [],
   "source": [
    "class student(lecture):\n",
    "    \n",
    "    def stud_details(self):\n",
    "        print(\"this class will give a student details\")\n",
    "        \n",
    "    "
   ]
  },
  {
   "cell_type": "code",
   "execution_count": 33,
   "id": "02387efb-4323-48bc-9b64-d281f41d5e5c",
   "metadata": {},
   "outputs": [],
   "source": [
    "\n",
    "class teacher(student):\n",
    "    \n",
    "    def details(self):\n",
    "        print(\"this will give you details about teacher\")"
   ]
  },
  {
   "cell_type": "code",
   "execution_count": 34,
   "id": "6a9e2095-f367-41e7-9d59-e77f89fa93f3",
   "metadata": {},
   "outputs": [],
   "source": [
    "sudh = teacher()"
   ]
  },
  {
   "cell_type": "code",
   "execution_count": 35,
   "id": "7935884d-91c0-48da-9ec7-1033ec5de8fe",
   "metadata": {},
   "outputs": [
    {
     "name": "stdout",
     "output_type": "stream",
     "text": [
      "discussing about inheritance in oops\n"
     ]
    }
   ],
   "source": [
    "sudh.topic()"
   ]
  },
  {
   "cell_type": "code",
   "execution_count": 36,
   "id": "27b1101e-651a-4e5a-8d25-60b85eb765ed",
   "metadata": {},
   "outputs": [
    {
     "name": "stdout",
     "output_type": "stream",
     "text": [
      "this class will give a student details\n"
     ]
    }
   ],
   "source": [
    "sudh.stud_details()"
   ]
  },
  {
   "cell_type": "markdown",
   "id": "2675cc74-bdc8-41df-8cc0-01c1261491b5",
   "metadata": {},
   "source": [
    "### multible inheritance "
   ]
  },
  {
   "cell_type": "markdown",
   "id": "dc9f77db-9aad-4aa3-b670-c6563322ba6d",
   "metadata": {},
   "source": [
    "##### When a child class inherits from multiple parent classes, it is called multiple inheritances. \n",
    "##### Unlike Java, python shows multiple inheritances."
   ]
  },
  {
   "cell_type": "markdown",
   "id": "3f546f52-e030-41e2-b3fb-7811d55326f1",
   "metadata": {},
   "source": [
    "#### lecture and student are two classes > teacher inheriting from lecture and student"
   ]
  },
  {
   "cell_type": "code",
   "execution_count": 23,
   "id": "276ae56f-2d65-41f0-8f25-93bbfbea4cd0",
   "metadata": {
    "tags": []
   },
   "outputs": [],
   "source": [
    "class lecture:\n",
    "    \n",
    "    def topic(self):\n",
    "        print(\"discussing about inheritance in oops\")\n",
    "        \n",
    "    def timing(self):\n",
    "        print(\"timing is 9am IST\")\n",
    "        \n",
    "    def doubt_class(self):\n",
    "        print(\"timing is 12 am IST\")"
   ]
  },
  {
   "cell_type": "code",
   "execution_count": 24,
   "id": "990f36fc-05d5-40bc-a23b-78aad635ba9c",
   "metadata": {},
   "outputs": [],
   "source": [
    "class student:\n",
    "    \n",
    "    def stud_details(self):\n",
    "        print(\"this class will give a student details\")"
   ]
  },
  {
   "cell_type": "code",
   "execution_count": 25,
   "id": "6fe6c45b-78db-422d-9cb2-aca27ce55fd2",
   "metadata": {},
   "outputs": [],
   "source": [
    "class teacher(student,lecture):\n",
    "    \n",
    "    def details(self):\n",
    "        print(\"this will give you details about teacher\")"
   ]
  },
  {
   "cell_type": "code",
   "execution_count": 30,
   "id": "f424b7d7-64dd-4be9-8b55-418a1039c8ba",
   "metadata": {},
   "outputs": [],
   "source": [
    "krish = teacher()"
   ]
  },
  {
   "cell_type": "code",
   "execution_count": 31,
   "id": "3095abff-a3f9-4e39-b9a6-b491fc419f85",
   "metadata": {},
   "outputs": [
    {
     "name": "stdout",
     "output_type": "stream",
     "text": [
      "timing is 9am IST\n"
     ]
    }
   ],
   "source": [
    "krish.timing()"
   ]
  },
  {
   "cell_type": "code",
   "execution_count": 32,
   "id": "97400a30-5ba6-4aaa-95f8-4b1d66bc7e1c",
   "metadata": {},
   "outputs": [
    {
     "name": "stdout",
     "output_type": "stream",
     "text": [
      "this class will give a student details\n"
     ]
    }
   ],
   "source": [
    "krish.stud_details()"
   ]
  },
  {
   "cell_type": "code",
   "execution_count": 33,
   "id": "13c40743-67f6-4e1f-9f08-e613d0af7f91",
   "metadata": {},
   "outputs": [
    {
     "name": "stdout",
     "output_type": "stream",
     "text": [
      "this will give you details about teacher\n"
     ]
    }
   ],
   "source": [
    "krish.details()"
   ]
  },
  {
   "cell_type": "code",
   "execution_count": 37,
   "id": "48286f4e-ef79-4f48-9be6-ff844f26aedb",
   "metadata": {},
   "outputs": [],
   "source": [
    "# # ordering property can be clearly seen in this example"
   ]
  },
  {
   "cell_type": "code",
   "execution_count": 39,
   "id": "76635155-e094-4eeb-8a07-dc3385794a21",
   "metadata": {
    "tags": []
   },
   "outputs": [],
   "source": [
    "class lecture:\n",
    "    \n",
    "    def topic(self):\n",
    "        print(\"discussing about inheritance in oops\")\n",
    "        \n",
    "    def timing(self):\n",
    "        print(\"timing is 9am IST\")\n",
    "        \n",
    "    def doubt_class(self):\n",
    "        print(\"timing is 12 am IST\")"
   ]
  },
  {
   "cell_type": "code",
   "execution_count": 40,
   "id": "12ffdf79-254d-40ea-b6c9-9884a79df414",
   "metadata": {},
   "outputs": [],
   "source": [
    "class student:\n",
    "    \n",
    "    def stud_details(self):\n",
    "        print(\"this class will give a student details\")\n",
    "        \n",
    "    def timing(self):\n",
    "        print(\"this is timing from fun student class\")"
   ]
  },
  {
   "cell_type": "code",
   "execution_count": 41,
   "id": "48d9bd8f-96fe-4d50-8ef5-7b522027e399",
   "metadata": {},
   "outputs": [],
   "source": [
    "class teacher(student,lecture):\n",
    "    \n",
    "    def details(self):\n",
    "        print(\"this will give you details about teacher\")"
   ]
  },
  {
   "cell_type": "code",
   "execution_count": 42,
   "id": "5d2ba2cc-b4c7-42f0-934b-fbd51ed82cbf",
   "metadata": {},
   "outputs": [],
   "source": [
    "meera = teacher()"
   ]
  },
  {
   "cell_type": "code",
   "execution_count": 43,
   "id": "f2de0631-9038-4f6d-b613-bcf44e00098e",
   "metadata": {},
   "outputs": [
    {
     "name": "stdout",
     "output_type": "stream",
     "text": [
      "this is timing from fun student class\n"
     ]
    }
   ],
   "source": [
    "meera.timing()"
   ]
  },
  {
   "cell_type": "markdown",
   "id": "56a8535c-4e2f-478a-808c-4abb88fc952a",
   "metadata": {
    "tags": []
   },
   "source": [
    "#priority it gives\n",
    "meera.timing()"
   ]
  },
  {
   "cell_type": "code",
   "execution_count": 44,
   "id": "3d0aee24-e884-4ea2-a813-5543f1652d53",
   "metadata": {},
   "outputs": [],
   "source": [
    " class teacher(lecture,student):\n",
    "    \n",
    "    def details(self):\n",
    "        print(\"this will give you details about teacher\")"
   ]
  },
  {
   "cell_type": "code",
   "execution_count": 45,
   "id": "0db0311a-e53f-4864-bda1-ecb0eb4a86cb",
   "metadata": {},
   "outputs": [],
   "source": [
    "subhi = teacher()"
   ]
  },
  {
   "cell_type": "code",
   "execution_count": 46,
   "id": "6eb7237d-c306-4954-8804-78ce0d8dbf6b",
   "metadata": {},
   "outputs": [
    {
     "name": "stdout",
     "output_type": "stream",
     "text": [
      "timing is 9am IST\n"
     ]
    }
   ],
   "source": [
    "subhi.timing()"
   ]
  },
  {
   "cell_type": "code",
   "execution_count": null,
   "id": "bd11bbf8-8afc-4e47-8234-048d37e2a375",
   "metadata": {},
   "outputs": [],
   "source": []
  },
  {
   "cell_type": "code",
   "execution_count": null,
   "id": "9ddce9fc-f698-4b18-a92a-b38cedf0e603",
   "metadata": {},
   "outputs": [],
   "source": []
  },
  {
   "cell_type": "code",
   "execution_count": null,
   "id": "9cd63c97-377e-44e6-8d61-0c698cfb0e61",
   "metadata": {},
   "outputs": [],
   "source": []
  },
  {
   "cell_type": "code",
   "execution_count": null,
   "id": "dd62ce59-7959-4551-abb6-16700910cd6d",
   "metadata": {},
   "outputs": [],
   "source": []
  },
  {
   "cell_type": "code",
   "execution_count": null,
   "id": "59d86a44-69c4-47f7-a329-31bbdd4d18c3",
   "metadata": {},
   "outputs": [],
   "source": []
  },
  {
   "cell_type": "code",
   "execution_count": null,
   "id": "17db0370-7f38-4cda-9186-dfe3862fe513",
   "metadata": {},
   "outputs": [],
   "source": []
  },
  {
   "cell_type": "code",
   "execution_count": null,
   "id": "9dcfb2a0-fc30-49c3-bf07-1a63642424d9",
   "metadata": {},
   "outputs": [],
   "source": []
  },
  {
   "cell_type": "code",
   "execution_count": null,
   "id": "37fc1c27-3127-4c80-bc89-014592faccb6",
   "metadata": {},
   "outputs": [],
   "source": []
  },
  {
   "cell_type": "code",
   "execution_count": null,
   "id": "71159b90-e83a-4e12-8229-e93452992544",
   "metadata": {},
   "outputs": [],
   "source": []
  },
  {
   "cell_type": "code",
   "execution_count": null,
   "id": "0bd1a0d2-2780-4fc6-bf5d-3ae64b3373f1",
   "metadata": {},
   "outputs": [],
   "source": []
  },
  {
   "cell_type": "code",
   "execution_count": null,
   "id": "3d8d1a69-94d2-4a55-8994-bf2a2cf04e5d",
   "metadata": {},
   "outputs": [],
   "source": []
  },
  {
   "cell_type": "code",
   "execution_count": null,
   "id": "ce890615-7bc2-4522-b745-8bfe7a50649d",
   "metadata": {},
   "outputs": [],
   "source": []
  },
  {
   "cell_type": "markdown",
   "id": "f0817274-1586-4c06-ba9a-45d36c29ed46",
   "metadata": {},
   "source": [
    "# PRACTISE PROBLEMS"
   ]
  },
  {
   "cell_type": "markdown",
   "id": "95198cfd-c02e-4fbf-92ce-9b7ab1a52119",
   "metadata": {},
   "source": [
    "https://github.com/sudh9931/opps_assignment/tree/main"
   ]
  },
  {
   "cell_type": "markdown",
   "id": "bf6c36f3-8962-4c36-a11b-87dc61c34419",
   "metadata": {},
   "source": [
    "Problem 1: Bank Account Create a class representing a bank account with attributes like account number, account holder name, and balance. Implement methods to deposit and withdraw money from the account.\n",
    "\n",
    "Problem 2: Employee Management Create a class representing an employee with attributes like employee ID, name, and salary. Implement methods to calculate the yearly bonus and display employee details.\n",
    "\n",
    "Problem 3: Vehicle Rental Create a class representing a vehicle rental system. Implement methods to rent a vehicle, return a vehicle, and display available vehicles.\n",
    "\n",
    "Problem 4: Library Catalog Create classes representing a library and a book. Implement methods to add books to the library, borrow books, and display available books.\n",
    "\n",
    "Problem 5: Product Inventory Create classes representing a product and an inventory system. Implement methods to add products to the inventory, update product quantity, and display available products.\n",
    "\n",
    "Problem 6: Shape Calculation Create a class representing a shape with attributes like length, width, and height. Implement methods to calculate the area and perimeter of the shape.\n",
    "\n",
    "Problem 7: Student Management Create a class representing a student with attributes like student ID, name, and grades. Implement methods to calculate the average grade and display student details.\n",
    "\n",
    "Problem 8: Email Management Create a class representing an email with attributes like sender, recipient, and subject. Implement methods to send an email and display email details.\n",
    "\n",
    "Problem 9: Social Media Profile Create a class representing a social media profile with attributes like username and posts. Implement methods to add posts, display posts, and search for posts by keyword.\n",
    "\n",
    "Problem 10: ToDo List Create a class representing a ToDo list with attributes like tasks and due dates. Implement methods to add tasks, mark tasks as completed, and display pending tasks."
   ]
  },
  {
   "cell_type": "markdown",
   "id": "9a4a02c4-ff4a-42b7-95d6-ba6d0abef0c5",
   "metadata": {},
   "source": [
    "Problem 1: Bank Account Create a class representing a bank account with attributes like account number, account holder name, and balance. Implement methods to deposit and withdraw money from the account."
   ]
  },
  {
   "cell_type": "code",
   "execution_count": 56,
   "id": "b8f1e883-e7e2-4609-bf9e-d21ecc4295d0",
   "metadata": {},
   "outputs": [],
   "source": [
    "class bank_account:\n",
    "    \n",
    "    def __init__(self,acc_no,acc_holder_name,acc_balance =0.0):\n",
    "        self.account_number = acc_no\n",
    "        self.account_holder_name = acc_holder_name\n",
    "        self.account_balance = acc_balance\n",
    "    \n",
    "    def acc_deposit(self,deposit_amo):\n",
    "        if deposit_amo>0:\n",
    "            self.account_balance+=deposit_amo\n",
    "            print(f\"Deposited ${deposit_amo} into {self.account_holder_name}'s account. New balance: ${self.account_balance}\")\n",
    "        else:\n",
    "            print(\"invalid amount entered\")\n",
    "        \n",
    "    def acc_withdraw(self,withdraw_Amo):\n",
    "        if 0<withdraw_Amo<=self.account_balance:\n",
    "            self.account_balance  = self.account_balance -  withdraw_Amo\n",
    "            print(f\"you have withdrawn {withdraw_Amo} from {self.account_holder_name}\")\n",
    "            print(\"now balance in your account is\", self.account_balance)\n",
    "                  \n",
    "        else:\n",
    "            print(\"invalid amount\")\n",
    "    \n",
    "    def get_balance(self):\n",
    "        print(\"balance is \",self.account_balance)\n",
    "        \n",
    "    def __str__(self):\n",
    "        return f\"Account Holder: {self.account_holder_name}\\nAccount Number : {self.account_number}\\n Balance : {self.account_balance}\"\n",
    "    \n",
    "    "
   ]
  },
  {
   "cell_type": "code",
   "execution_count": 57,
   "id": "448a0bd1-fc91-4063-912d-8d03aa055f28",
   "metadata": {},
   "outputs": [
    {
     "name": "stdout",
     "output_type": "stream",
     "text": [
      "Account Holder: suma anusha abbireddy\n",
      "Account Number : 40276456123\n",
      " Balance : 0.0\n"
     ]
    }
   ],
   "source": [
    "obj_bank = bank_account(40276456123,\"suma anusha abbireddy\")\n",
    "print(obj_bank)"
   ]
  },
  {
   "cell_type": "code",
   "execution_count": 58,
   "id": "cd8e580d-0e0e-4323-a43d-5decb50b9e0e",
   "metadata": {},
   "outputs": [
    {
     "name": "stdout",
     "output_type": "stream",
     "text": [
      "Deposited $92000 into suma anusha abbireddy's account. New balance: $92000.0\n"
     ]
    }
   ],
   "source": [
    "obj_bank.acc_deposit(92000)"
   ]
  },
  {
   "cell_type": "code",
   "execution_count": 59,
   "id": "aa79e7ba-d12d-453a-9ff3-80eee5d34f28",
   "metadata": {},
   "outputs": [
    {
     "name": "stdout",
     "output_type": "stream",
     "text": [
      "you have withdrawn 92000 from suma anusha abbireddy\n",
      "now balance in your account is 0.0\n"
     ]
    }
   ],
   "source": [
    "obj_bank.acc_withdraw(92000)"
   ]
  },
  {
   "cell_type": "code",
   "execution_count": 60,
   "id": "51fea36d-aee8-4be2-8b8e-48f0701f1918",
   "metadata": {},
   "outputs": [
    {
     "name": "stdout",
     "output_type": "stream",
     "text": [
      "balance is  0.0\n"
     ]
    }
   ],
   "source": [
    "obj_bank.get_balance()"
   ]
  },
  {
   "cell_type": "markdown",
   "id": "fa945283-88a5-439d-b3fa-ca6542dc1fbd",
   "metadata": {},
   "source": [
    " Problem 2: Employee Management Create a class representing an employee with attributes like employee ID, name, and salary. Implement methods to calculate the yearly bonus and display employee details."
   ]
  },
  {
   "cell_type": "code",
   "execution_count": 2,
   "id": "a49c49d5-e859-4910-b6ef-107ed05f64fc",
   "metadata": {},
   "outputs": [],
   "source": [
    "class employee_management:\n",
    "    \n",
    "    def __init__(self,employ_id,name,salary):\n",
    "        self.employee_id = employ_id\n",
    "        self.employee_name = name\n",
    "        self.employee_salary = salary\n",
    "        \n",
    "    def year_bonus(self):\n",
    "        bonus = (5/100)*self.employee_salary\n",
    "        print(\"yearly bonus is\", bonus)\n",
    "        \n",
    "        \n",
    "    def __str__(self):\n",
    "        return f\"Employee_ID:{self.employee_id}\\n Employee_Name:{self.employee_name}\\n Employee_salary:{self.employee_salary}\""
   ]
  },
  {
   "cell_type": "code",
   "execution_count": 7,
   "id": "ffd8a613-8995-414a-bd7f-ddd0ef1f9328",
   "metadata": {},
   "outputs": [],
   "source": [
    "emp_man_obj = employee_management(\"F09592\",\"Suma Abbireddy\",700000)\n"
   ]
  },
  {
   "cell_type": "code",
   "execution_count": 8,
   "id": "fd94d068-8089-4047-969d-631c0f110239",
   "metadata": {},
   "outputs": [
    {
     "name": "stdout",
     "output_type": "stream",
     "text": [
      "yearly bonus is 35000.0\n"
     ]
    }
   ],
   "source": [
    "emp_man_obj.year_bonus()"
   ]
  },
  {
   "cell_type": "code",
   "execution_count": 9,
   "id": "45899e46-7926-4bdf-acde-a924e61217f7",
   "metadata": {},
   "outputs": [
    {
     "name": "stdout",
     "output_type": "stream",
     "text": [
      "Employee_ID:F09592\n",
      " Employee_Name:Suma Abbireddy\n",
      " Employee_salary:700000\n"
     ]
    }
   ],
   "source": [
    "print(emp_man_obj)"
   ]
  },
  {
   "cell_type": "markdown",
   "id": "5af9d39b-4989-4d64-9ebd-b99a87da8915",
   "metadata": {},
   "source": [
    "Problem 3: Vehicle Rental Create a class representing a vehicle rental system. Implement methods to rent a vehicle, return a vehicle, and display available vehicles."
   ]
  },
  {
   "cell_type": "code",
   "execution_count": null,
   "id": "eb989519-f62e-4075-88ee-1ddf93fa5bd8",
   "metadata": {},
   "outputs": [],
   "source": []
  }
 ],
 "metadata": {
  "kernelspec": {
   "display_name": "Python 3 (ipykernel)",
   "language": "python",
   "name": "python3"
  },
  "language_info": {
   "codemirror_mode": {
    "name": "ipython",
    "version": 3
   },
   "file_extension": ".py",
   "mimetype": "text/x-python",
   "name": "python",
   "nbconvert_exporter": "python",
   "pygments_lexer": "ipython3",
   "version": "3.9.13"
  }
 },
 "nbformat": 4,
 "nbformat_minor": 5
}
