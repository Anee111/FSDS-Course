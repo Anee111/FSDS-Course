{
 "cells": [
  {
   "cell_type": "code",
   "execution_count": null,
   "id": "ee4d496e-9777-490b-af73-ffb4444ad048",
   "metadata": {},
   "outputs": [],
   "source": [
    "# 1. tower of hanoi"
   ]
  },
  {
   "cell_type": "code",
   "execution_count": null,
   "id": "1f87b15a-b752-4642-a202-a95dea8165aa",
   "metadata": {},
   "outputs": [],
   "source": [
    "def tower_of_hanoi(n, source, auxiliary, destination):\n",
    "    if n == 1:\n",
    "        print(f\"Move disk 1 from rod {source} to rod {destination}\")\n",
    "        return\n",
    "    tower_of_hanoi(n - 1, source, destination, auxiliary)\n",
    "    print(f\"Move disk {n} from rod {source} to rod {destination}\")\n",
    "    tower_of_hanoi(n - 1, auxiliary, source, destination)\n",
    "\n",
    "# Example Usage:\n",
    "n = 3  # Number of disks\n",
    "tower_of_hanoi(n, 'A', 'B', 'C')  # A, B, and C are the rods\n"
   ]
  },
  {
   "cell_type": "code",
   "execution_count": null,
   "id": "6fa15044-e067-4484-8b3a-5173bc1911b7",
   "metadata": {},
   "outputs": [],
   "source": [
    "# 2"
   ]
  },
  {
   "cell_type": "code",
   "execution_count": null,
   "id": "3440eccf-b935-4f83-aa26-37b56bacd1a0",
   "metadata": {},
   "outputs": [],
   "source": [
    "def minDistance(word1, word2):\n",
    "    m = len(word1)\n",
    "    r = len(word2)\n",
    "    dp = [[0] * (r + 1) for _ in range(m + 1)]\n",
    "\n",
    "    for i in range(m + 1):\n",
    "        for j in range(r + 1):\n",
    "            if i == 0:\n",
    "                dp[i][j] = j  # word1 is empty, insert all characters of word2\n",
    "            elif j == 0:\n",
    "                dp[i][j] = i  # word2 is empty, remove all characters of word1\n",
    "            elif word1[i - 1] == word2[j - 1]:\n",
    "                dp[i][j] = dp[i - 1][j - 1]\n",
    "            else:\n",
    "                dp[i][j] = 1\n"
   ]
  },
  {
   "cell_type": "code",
   "execution_count": null,
   "id": "78f36433-1cb2-49c6-acd7-b7558e8563bb",
   "metadata": {},
   "outputs": [],
   "source": [
    "# 3\n",
    "\n",
    "def find_max_value(arr):\n",
    "    max_value = arr[0]\n",
    "    for num in arr[1:]:\n",
    "        if num > max_value:\n",
    "            max_value = num\n",
    "    return max_value\n",
    "\n",
    "# Example Usage:\n",
    "array = [13, 1, -3, 22, 5]\n",
    "print(f\"Maximum value in the array: {find_max_value(array)}\")\n"
   ]
  },
  {
   "cell_type": "code",
   "execution_count": null,
   "id": "56c05c79-2d7c-4c61-8e61-ca0d19d738cc",
   "metadata": {},
   "outputs": [],
   "source": [
    "# 4\n",
    "\n",
    "def sum_of_array(arr):\n",
    "    total = 0\n",
    "    for num in arr:\n",
    "        total += num\n",
    "    return total\n",
    "\n",
    "# Example Usage:\n",
    "array = [92, 23, 15, -20, 10]\n",
    "print(f\"Sum of the array values: {sum_of_array(array)}\")\n"
   ]
  }
 ],
 "metadata": {
  "kernelspec": {
   "display_name": "Python 3 (ipykernel)",
   "language": "python",
   "name": "python3"
  },
  "language_info": {
   "codemirror_mode": {
    "name": "ipython",
    "version": 3
   },
   "file_extension": ".py",
   "mimetype": "text/x-python",
   "name": "python",
   "nbconvert_exporter": "python",
   "pygments_lexer": "ipython3",
   "version": "3.11.7"
  }
 },
 "nbformat": 4,
 "nbformat_minor": 5
}
