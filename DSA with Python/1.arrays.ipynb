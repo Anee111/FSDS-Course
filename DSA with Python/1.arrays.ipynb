{
 "cells": [
  {
   "cell_type": "markdown",
   "id": "2a9f0659",
   "metadata": {},
   "source": [
    "1. Given an array, check if it contains any duplicates or not. \n",
    "\n",
    "arr = [1, 2, 4, 2, 5, 9] \n",
    "\n",
    "Output = True"
   ]
  },
  {
   "cell_type": "code",
   "execution_count": 7,
   "id": "a0982284",
   "metadata": {},
   "outputs": [
    {
     "name": "stdout",
     "output_type": "stream",
     "text": [
      "True\n"
     ]
    }
   ],
   "source": [
    "\n",
    "def duplicatescheck(arr):\n",
    "    a =[]\n",
    "    for i in arr:\n",
    "        a.append(arr.count(i))\n",
    "    for i in a:\n",
    "        if i>1:\n",
    "            print(True)\n",
    "            break\n",
    "            \n",
    "duplicatescheck([1,2,3,2,5,9])"
   ]
  },
  {
   "cell_type": "markdown",
   "id": "e2e146ea",
   "metadata": {},
   "source": [
    "2. Given an array and an integer k, rotate the array to the right by k steps. \n",
    "\n",
    "arr = [1, 2, 3, 4, 5, 6, 7] k = 3 \n",
    "\n",
    "Output = [5, 6, 7, 1, 2, 3, 4]"
   ]
  },
  {
   "cell_type": "code",
   "execution_count": 17,
   "id": "0dcd98d4",
   "metadata": {},
   "outputs": [
    {
     "data": {
      "text/plain": [
       "[5, 6, 7, 1, 2, 3, 4]"
      ]
     },
     "execution_count": 17,
     "metadata": {},
     "output_type": "execute_result"
    }
   ],
   "source": [
    "\n",
    "def rotatearray(arr,steps):\n",
    "    g = arr[steps+1:] + arr[0:steps+1]\n",
    "    return g\n",
    "\n",
    "rotatearray([1,2,3,4,5,6,7],3)"
   ]
  },
  {
   "cell_type": "markdown",
   "id": "dcfe04ff",
   "metadata": {},
   "source": [
    "3. Reverse the given array in-place, means without using any extra data structure. \n",
    "\n",
    "arr = [2, 4, 5, 7, 9, 12] \n",
    "\n",
    "Output = [12, 9, 7, 5, 4, 2"
   ]
  },
  {
   "cell_type": "code",
   "execution_count": 18,
   "id": "26072296",
   "metadata": {},
   "outputs": [
    {
     "data": {
      "text/plain": [
       "[12, 9, 7, 5, 4, 2]"
      ]
     },
     "execution_count": 18,
     "metadata": {},
     "output_type": "execute_result"
    }
   ],
   "source": [
    "arr = [2,4,5,7,9,12]\n",
    "arr[::-1]"
   ]
  },
  {
   "cell_type": "markdown",
   "id": "3f3ee4e8",
   "metadata": {},
   "source": [
    "#4. Given an array of integers, find the maximum element in an array\n",
    "\n",
    " arr = [10, 5, 20, 8, 15]\n",
    "\n",
    " Output = 20"
   ]
  },
  {
   "cell_type": "code",
   "execution_count": 19,
   "id": "c261dca6",
   "metadata": {},
   "outputs": [
    {
     "data": {
      "text/plain": [
       "20"
      ]
     },
     "execution_count": 19,
     "metadata": {},
     "output_type": "execute_result"
    }
   ],
   "source": [
    "arr = [10,5,20,8,15]\n",
    "max(arr)\n",
    "        "
   ]
  },
  {
   "cell_type": "markdown",
   "id": "b50df842",
   "metadata": {},
   "source": [
    "5. Given a sorted array, remove the duplicate element without using any extra data structure. \n",
    "\n",
    "arr = [1, 1, 2, 2, 2, 3, 3, 4, 4, 4, 5, 5] \n",
    "\n",
    "Output = [1, 2, 3, 4, 5]\n"
   ]
  },
  {
   "cell_type": "code",
   "execution_count": 21,
   "id": "34c35ad7",
   "metadata": {},
   "outputs": [
    {
     "name": "stdout",
     "output_type": "stream",
     "text": [
      "Modified array: [1, 2, 3, 4, 5]\n"
     ]
    }
   ],
   "source": [
    "def remove_duplicates(arr):\n",
    "    if len(arr) == 0:\n",
    "        return 0\n",
    "\n",
    "    unique_index = 0\n",
    "\n",
    "    for i in range(1, len(arr)):\n",
    "        if arr[i] != arr[unique_index]:\n",
    "            unique_index += 1\n",
    "            arr[unique_index] = arr[i]\n",
    "\n",
    "    return unique_index + 1\n",
    "\n",
    "arr = [1, 1, 2, 2, 2, 3, 3,4, 4,4,5 ,5]\n",
    "length = remove_duplicates(arr)\n",
    "\n",
    "print(\"Modified array:\", arr[:length])\n",
    "\n",
    "        "
   ]
  },
  {
   "cell_type": "code",
   "execution_count": null,
   "id": "c53ec3cb",
   "metadata": {},
   "outputs": [],
   "source": []
  }
 ],
 "metadata": {
  "kernelspec": {
   "display_name": "Python 3 (ipykernel)",
   "language": "python",
   "name": "python3"
  },
  "language_info": {
   "codemirror_mode": {
    "name": "ipython",
    "version": 3
   },
   "file_extension": ".py",
   "mimetype": "text/x-python",
   "name": "python",
   "nbconvert_exporter": "python",
   "pygments_lexer": "ipython3",
   "version": "3.9.13"
  }
 },
 "nbformat": 4,
 "nbformat_minor": 5
}
