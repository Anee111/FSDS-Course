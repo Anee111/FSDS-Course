{
 "cells": [
  {
   "cell_type": "markdown",
   "id": "b0816d99-2301-4fba-a6ee-78269a0adb9f",
   "metadata": {},
   "source": [
    "#### 1. Declare two variables, `x` and `y`, and assign them integer values. Swap the values of these variables without using any temporary variable"
   ]
  },
  {
   "cell_type": "code",
   "execution_count": 3,
   "id": "c4343530-ef0f-4da4-aa83-7ddc65dcbf72",
   "metadata": {},
   "outputs": [
    {
     "name": "stdin",
     "output_type": "stream",
     "text": [
      "Enter x integer value :  7\n",
      "Enter y integer value :  6\n"
     ]
    },
    {
     "name": "stdout",
     "output_type": "stream",
     "text": [
      "after swapping value of x:  6\n",
      "after swapping value of y:  7\n"
     ]
    }
   ],
   "source": [
    "x = int(input(\"Enter x integer value : \"))\n",
    "y = int(input(\"Enter y integer value : \"))\n",
    "\n",
    "x = x+y\n",
    "y = x-y\n",
    "x = x-y\n",
    "print(\"after swapping value of x: \", x)\n",
    "print(\"after swapping value of y: \", y)\n"
   ]
  },
  {
   "cell_type": "markdown",
   "id": "0601ddc4-8cf5-4147-bcc6-e6b3f54ea4e9",
   "metadata": {},
   "source": [
    "#### 2. Create a program that calculates the area of a rectangle. Take the length and width as inputs from the user and store them in variables. Calculate and display the area."
   ]
  },
  {
   "cell_type": "code",
   "execution_count": 4,
   "id": "c172ede7-5ce5-4ef3-b31c-d2b89a07b71f",
   "metadata": {},
   "outputs": [
    {
     "name": "stdin",
     "output_type": "stream",
     "text": [
      "enter length of a rectangle in units:  5\n",
      "enter width of a rectangle in units:  6\n"
     ]
    },
    {
     "name": "stdout",
     "output_type": "stream",
     "text": [
      "area of rectangle of ;ength 5.0 and width 6.0 is 30.0 sq.units\n"
     ]
    }
   ],
   "source": [
    "length = float(input('enter length of a rectangle in units: '))\n",
    "width = float(input('enter width of a rectangle in units: '))\n",
    "\n",
    "area= length*width\n",
    "\n",
    "print('area of rectangle of ;ength',length, 'and width', width,'is', area,\"sq.units\")"
   ]
  },
  {
   "cell_type": "markdown",
   "id": "1d421c57-17c7-4c20-839e-232c810e40bc",
   "metadata": {},
   "source": [
    "#### 3. Write a Python program that converts temperatures from Celsius to Fahrenheit. Take the temperaturein Celsius as input, store it in a variable, convert it to Fahrenheit, and display the result"
   ]
  },
  {
   "cell_type": "code",
   "execution_count": 5,
   "id": "a0996a32-2c99-45f1-ab98-eb1073f22007",
   "metadata": {},
   "outputs": [
    {
     "name": "stdin",
     "output_type": "stream",
     "text": [
      "Enter temperature in celsius:  56.8\n"
     ]
    },
    {
     "name": "stdout",
     "output_type": "stream",
     "text": [
      "Temperature is  134.24 degree fahrenheit\n"
     ]
    }
   ],
   "source": [
    "c = float(input(\"Enter temperature in celsius: \"))\n",
    "\n",
    "f = (c*1.8 + 32)\n",
    "\n",
    "print(\"Temperature is \",f,\"degree fahrenheit\")"
   ]
  },
  {
   "cell_type": "markdown",
   "id": "6a9122b8-fd48-488e-86ed-bea5fd956836",
   "metadata": {},
   "source": [
    "#### 1. Write a Python program that takes a string as input and prints the length of the string."
   ]
  },
  {
   "cell_type": "code",
   "execution_count": 6,
   "id": "5f5b5d46-758d-48e5-a6ba-3da3704a6a44",
   "metadata": {},
   "outputs": [
    {
     "name": "stdin",
     "output_type": "stream",
     "text": [
      "enter string:  suma anusha reddy\n"
     ]
    },
    {
     "name": "stdout",
     "output_type": "stream",
     "text": [
      "Length of string is 17 units\n"
     ]
    }
   ],
   "source": [
    "s = input(\"enter string: \")\n",
    "\n",
    "print(\"Length of string is\", len(s),\"units\")"
   ]
  },
  {
   "cell_type": "markdown",
   "id": "812b3a9d-3fea-497a-92b4-b7272a1dbe10",
   "metadata": {},
   "source": [
    "#### 2. Create a program that takes a sentence from the user and counts the number of vowels (a, e, i, o, u) in the string"
   ]
  },
  {
   "cell_type": "code",
   "execution_count": 7,
   "id": "f32ee434-187d-4b61-877c-955518aa2caa",
   "metadata": {},
   "outputs": [
    {
     "name": "stdin",
     "output_type": "stream",
     "text": [
      "enter sentence :  aneesha reddy\n"
     ]
    },
    {
     "name": "stdout",
     "output_type": "stream",
     "text": [
      "no.of vowels in given sentence 5\n"
     ]
    }
   ],
   "source": [
    "count = 0\n",
    "s =input(\"enter sentence : \" )\n",
    "\n",
    "v =\"aeiou\"\n",
    "\n",
    "for i in s:\n",
    "    if i in v:\n",
    "        count+=1\n",
    "print(\"no.of vowels in given sentence\",count)\n"
   ]
  },
  {
   "cell_type": "markdown",
   "id": "0afab4d3-c6e2-4398-b40d-568300f5d2de",
   "metadata": {},
   "source": [
    "#### 3. Given a string, reverse the order of characters using string slicing and print the reversed string."
   ]
  },
  {
   "cell_type": "code",
   "execution_count": 8,
   "id": "3d4633d3-6902-4d28-84f9-e00fb8f8e189",
   "metadata": {},
   "outputs": [
    {
     "name": "stdout",
     "output_type": "stream",
     "text": [
      "sliced string is  ydderibba ahsuna amus\n"
     ]
    }
   ],
   "source": [
    "s = \"suma anusha abbireddy\"\n",
    "\n",
    "t = s[::-1]\n",
    "\n",
    "print(\"sliced string is \",t)"
   ]
  },
  {
   "cell_type": "markdown",
   "id": "86f424fc-7bf2-48b7-b708-11e4bc56cef1",
   "metadata": {},
   "source": [
    "#### 4. Write a program that takes a string as input and checks if it is a palindrome (reads the same forwards and backwards).\n"
   ]
  },
  {
   "cell_type": "code",
   "execution_count": 9,
   "id": "3d59389b-d43a-4ec3-8139-c15c8ae9ed33",
   "metadata": {},
   "outputs": [
    {
     "name": "stdin",
     "output_type": "stream",
     "text": [
      "enter the string:  mem\n"
     ]
    },
    {
     "name": "stdout",
     "output_type": "stream",
     "text": [
      "It is a palindrome\n"
     ]
    }
   ],
   "source": [
    "i = input(\"enter the string: \" )\n",
    "\n",
    "rev = i[::-1]\n",
    "\n",
    "if i == rev:\n",
    "    print(\"It is a palindrome\")\n",
    "else:\n",
    "    print(\"It's not a palindrome\")\n",
    "    "
   ]
  },
  {
   "cell_type": "markdown",
   "id": "843bf4fb-0f1f-4dfc-86ec-cda549e972a3",
   "metadata": {},
   "source": [
    "#### 5. Create a program that takes a string as input and removes all the spaces from it. Print the modified string without spaces"
   ]
  },
  {
   "cell_type": "code",
   "execution_count": 11,
   "id": "6cd3a2e8-0004-4ed8-9baf-48d4547439ff",
   "metadata": {},
   "outputs": [
    {
     "name": "stdin",
     "output_type": "stream",
     "text": [
      "Enter string :         suma anusha          \n"
     ]
    },
    {
     "name": "stdout",
     "output_type": "stream",
     "text": [
      "Modified string without spaces(first and last) is  suma anusha\n"
     ]
    }
   ],
   "source": [
    "s = input(\"Enter string : \" )\n",
    "\n",
    "t = s.strip()\n",
    "\n",
    "print(\"Modified string without spaces(first and last) is \",t)"
   ]
  },
  {
   "cell_type": "code",
   "execution_count": 12,
   "id": "fdf4d8de-fda7-4012-b7b3-b3540480bf2e",
   "metadata": {
    "tags": []
   },
   "outputs": [
    {
     "name": "stdin",
     "output_type": "stream",
     "text": [
      "Enter string :            suma anusha     \n"
     ]
    },
    {
     "name": "stdout",
     "output_type": "stream",
     "text": [
      "Modified string without spaces is  sumaanusha\n"
     ]
    }
   ],
   "source": [
    "r = input(\"Enter string : \" )\n",
    "\n",
    "y = r.replace(\" \" , \"\")\n",
    "\n",
    "print(\"Modified string without spaces is \",y)"
   ]
  },
  {
   "cell_type": "code",
   "execution_count": null,
   "id": "5193a9bb-0ea2-4c8e-8508-02ceda57d39a",
   "metadata": {},
   "outputs": [],
   "source": []
  }
 ],
 "metadata": {
  "kernelspec": {
   "display_name": "Python 3 (ipykernel)",
   "language": "python",
   "name": "python3"
  },
  "language_info": {
   "codemirror_mode": {
    "name": "ipython",
    "version": 3
   },
   "file_extension": ".py",
   "mimetype": "text/x-python",
   "name": "python",
   "nbconvert_exporter": "python",
   "pygments_lexer": "ipython3",
   "version": "3.10.8"
  }
 },
 "nbformat": 4,
 "nbformat_minor": 5
}
