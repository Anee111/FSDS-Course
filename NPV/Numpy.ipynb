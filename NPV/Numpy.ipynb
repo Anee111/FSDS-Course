{
 "cells": [
  {
   "cell_type": "code",
   "execution_count": 1,
   "id": "4fd199da",
   "metadata": {},
   "outputs": [
    {
     "data": {
      "text/plain": [
       "'A Python library is a collection of pre-written and reusable code modules or functions that can be imported and used \\nin Python programs. Libraries provide a set of tools, functionalities, and resources that help developers efficiently\\nperform common tasks without having to implement everything from scratch.'"
      ]
     },
     "execution_count": 1,
     "metadata": {},
     "output_type": "execute_result"
    }
   ],
   "source": [
    "# 1. What is a Python library? Why ^o we use Python libraries?\n",
    "\n",
    "'''A Python library is a collection of pre-written and reusable code modules or functions that can be imported and used \n",
    "in Python programs. Libraries provide a set of tools, functionalities, and resources that help developers efficiently\n",
    "perform common tasks without having to implement everything from scratch.'''"
   ]
  },
  {
   "cell_type": "code",
   "execution_count": null,
   "id": "21dc3d01",
   "metadata": {},
   "outputs": [],
   "source": [
    "# 2. What is the ^ifference between Numpy array an^ List\n",
    "\n",
    "'''Numpy Array: Store data of only same type\n",
    "                  NumPy arrays are more memory-efficient compared to Python lists.\\\n",
    "\n",
    "\n",
    "List: List store data of any type at a time'''"
   ]
  },
  {
   "cell_type": "markdown",
   "id": "f93c1515",
   "metadata": {},
   "source": [
    "3. Fin^ the shape, size an^ ^imension of the following array?\n",
    "\n",
    "[[1, 2, 3, 4]\n",
    "\n",
    "[5, 6, 7, 8],\n",
    "\n",
    "[9, 10, 11, 12]]"
   ]
  },
  {
   "cell_type": "code",
   "execution_count": 6,
   "id": "203bf11d",
   "metadata": {},
   "outputs": [
    {
     "name": "stdout",
     "output_type": "stream",
     "text": [
      "shape of array is (3, 4)\n",
      "size of array is 12\n",
      "dimension of array is 2\n"
     ]
    }
   ],
   "source": [
    "import numpy as np\n",
    "a = np.array([[1, 2, 3, 4],[5, 6, 7, 8],[9, 10, 11, 12]])\n",
    "print(\"shape of array is\",a.shape)\n",
    "print(\"size of array is\",a.size)\n",
    "print(\"dimension of array is\",a.ndim)"
   ]
  },
  {
   "cell_type": "markdown",
   "id": "a69ebc08",
   "metadata": {},
   "source": [
    "4. Write python co^e to access the first row of the following array?\n",
    "\n",
    "[[1, 2, 3, 4]\n",
    "\n",
    "[5, 6, 7, 8],\n",
    "\n",
    "[9, 10, 11, 12]"
   ]
  },
  {
   "cell_type": "code",
   "execution_count": 7,
   "id": "0367649f",
   "metadata": {},
   "outputs": [
    {
     "data": {
      "text/plain": [
       "array([1, 2, 3, 4])"
      ]
     },
     "execution_count": 7,
     "metadata": {},
     "output_type": "execute_result"
    }
   ],
   "source": [
    "a = np.array([[1, 2, 3, 4],[5, 6, 7, 8],[9, 10, 11, 12]])\n",
    "\n",
    "a[0]"
   ]
  },
  {
   "cell_type": "markdown",
   "id": "31e62cdd",
   "metadata": {},
   "source": [
    "5. How ^o you access the element at the thir^ row an^ fourth column from the given numpy array?\n",
    "\n",
    "[[1, 2, 3, 4]\n",
    "\n",
    "[5, 6, 7, 8],\n",
    "\n",
    "[9, 10, 11, 12]"
   ]
  },
  {
   "cell_type": "code",
   "execution_count": 8,
   "id": "406cf020",
   "metadata": {},
   "outputs": [
    {
     "data": {
      "text/plain": [
       "12"
      ]
     },
     "execution_count": 8,
     "metadata": {},
     "output_type": "execute_result"
    }
   ],
   "source": [
    "a = np.array([[1, 2, 3, 4],[5, 6, 7, 8],[9, 10, 11, 12]])\n",
    "a[2][3]"
   ]
  },
  {
   "cell_type": "markdown",
   "id": "d4fab3d5",
   "metadata": {},
   "source": [
    "6. Write code to extract all odd-indexe elements from the given numpy array?\n",
    "\n",
    "[[1, 2, 3, 4]\n",
    "\n",
    "[5, 6, 7, 8],\n",
    "\n",
    "[9, 10, 11, 12]]"
   ]
  },
  {
   "cell_type": "code",
   "execution_count": 42,
   "id": "46c761e8",
   "metadata": {},
   "outputs": [
    {
     "name": "stdout",
     "output_type": "stream",
     "text": [
      "2 4 5 7 10 12 "
     ]
    }
   ],
   "source": [
    "a = np.array([[1, 2, 3, 4],[5, 6, 7, 8],[9, 10, 11, 12]])\n",
    "\n",
    "for i in range(len(a)):\n",
    "    for j in range(len(a[i])):\n",
    "        if (i+j) % 2 !=0:\n",
    "            print(a[i,j],end =\" \")\n"
   ]
  },
  {
   "cell_type": "code",
   "execution_count": 11,
   "id": "91e4f97b",
   "metadata": {},
   "outputs": [
    {
     "data": {
      "text/plain": [
       "array([[0, 0, 0],\n",
       "       [0, 0, 0],\n",
       "       [0, 0, 0]])"
      ]
     },
     "execution_count": 11,
     "metadata": {},
     "output_type": "execute_result"
    }
   ],
   "source": [
    "# 7. How can you generate a ran^om 3x3 matrix with values between 0 an^ 1?\n",
    "import random\n",
    "np.random.randint(0,1,(3,3))"
   ]
  },
  {
   "cell_type": "code",
   "execution_count": 15,
   "id": "2749f6ba",
   "metadata": {},
   "outputs": [
    {
     "data": {
      "text/plain": [
       "array([[[0.49797324, 0.37004372, 0.40202284],\n",
       "        [0.98049319, 0.46991378, 0.22492157]]])"
      ]
     },
     "execution_count": 15,
     "metadata": {},
     "output_type": "execute_result"
    }
   ],
   "source": [
    "# 8. Describe the ^ifference between np.random.rand and np.random.randn\n",
    "'''np.random.rand:\n",
    "\n",
    "Generates random values from a uniform distribution over the interval [0, 1).\n",
    "All values have an equal probability of being selected.\n",
    "The distribution is uniform, meaning each value is as likely to be chosen as any other within the specified range.\n",
    "Takes shape as input to generate an array of random values.'''\n",
    "np.random.rand(1,2,3)"
   ]
  },
  {
   "cell_type": "code",
   "execution_count": 17,
   "id": "bb4fcb37",
   "metadata": {},
   "outputs": [
    {
     "data": {
      "text/plain": [
       "array([[[-0.89788586,  0.363514  ,  0.75657414],\n",
       "        [ 0.37816394, -0.98700963,  0.99741553]]])"
      ]
     },
     "execution_count": 17,
     "metadata": {},
     "output_type": "execute_result"
    }
   ],
   "source": [
    "'''Generates random values from a standard normal distribution (also known as a Gaussian or normal distribution) with mean 0 \n",
    "and variance 1.\n",
    "The distribution is bell-shaped, with the majority of values centered around 0.\n",
    "Values are more likely to be close to 0, and less likely to be far from 0, following a Gaussian distribution.\n",
    "Takes shape as input to generate an array of random values.'''\n",
    "np.random.randn(1,2,3)"
   ]
  },
  {
   "cell_type": "markdown",
   "id": "cf3f7d53",
   "metadata": {},
   "source": [
    " \n",
    "\n",
    "9. Write co^e to increase the ^imension of the following array?\n",
    "\n",
    "[[1, 2, 3, 4]\n",
    "\n",
    "[5, 6, 7, 8],\n",
    "\n",
    "[9, 10, 11, 12]]"
   ]
  },
  {
   "cell_type": "code",
   "execution_count": 18,
   "id": "4b4d6baf",
   "metadata": {},
   "outputs": [
    {
     "data": {
      "text/plain": [
       "array([[ 1,  2],\n",
       "       [ 3,  4],\n",
       "       [ 5,  6],\n",
       "       [ 7,  8],\n",
       "       [ 9, 10],\n",
       "       [11, 12]])"
      ]
     },
     "execution_count": 18,
     "metadata": {},
     "output_type": "execute_result"
    }
   ],
   "source": [
    "a = np.array([[1, 2, 3, 4],[5, 6, 7, 8],[9, 10, 11, 12]])\n",
    "\n",
    "a.reshape(6,2)"
   ]
  },
  {
   "cell_type": "markdown",
   "id": "e5829cc9",
   "metadata": {},
   "source": [
    "10. How to transpose the following array in NumPy?\n",
    "\n",
    "[[1, 2, 3, 4]\n",
    "\n",
    "[5, 6, 7, 8],\n",
    "\n",
    "[9, 10, 11, 12]]"
   ]
  },
  {
   "cell_type": "code",
   "execution_count": 19,
   "id": "41662515",
   "metadata": {},
   "outputs": [
    {
     "data": {
      "text/plain": [
       "array([[ 1,  5,  9],\n",
       "       [ 2,  6, 10],\n",
       "       [ 3,  7, 11],\n",
       "       [ 4,  8, 12]])"
      ]
     },
     "execution_count": 19,
     "metadata": {},
     "output_type": "execute_result"
    }
   ],
   "source": [
    "a = np.array([[1, 2, 3, 4],[5, 6, 7, 8],[9, 10, 11, 12]])\n",
    "\n",
    "a.T"
   ]
  },
  {
   "cell_type": "code",
   "execution_count": 21,
   "id": "3c7e8b00",
   "metadata": {},
   "outputs": [
    {
     "data": {
      "text/plain": [
       "array([[ 1,  5,  9],\n",
       "       [ 2,  6, 10],\n",
       "       [ 3,  7, 11],\n",
       "       [ 4,  8, 12]])"
      ]
     },
     "execution_count": 21,
     "metadata": {},
     "output_type": "execute_result"
    }
   ],
   "source": [
    "a.transpose()"
   ]
  },
  {
   "cell_type": "markdown",
   "id": "148e1fbd",
   "metadata": {},
   "source": [
    "11. Consi^er the following matrix:\n",
    "\n",
    "Matrix A2 [[1, 2, 3, 4] [5, 6, 7, 8],[9, 10, 11, 12]]\n",
    "\n",
    "Matrix B2 [[1, 2, 3, 4] [5, 6, 7, 8],[9, 10, 11, 12]]\n",
    "\n",
    "\n",
    "Perform the following operation using Python1\n",
    ",+ I(dex wiLe multiplicatio'\n",
    "]+ Matrix multiplicatio'\n",
    "\u001a+ Add both the matricK\n",
    "-+ Subtract matrix B from A\n",
    "\u0013+ Di\u0012ide Mat\u001bix B by A"
   ]
  },
  {
   "cell_type": "code",
   "execution_count": 22,
   "id": "66178ac3",
   "metadata": {},
   "outputs": [],
   "source": [
    "a1 = np.array([[1, 2, 3, 4],[5, 6, 7, 8],[9, 10, 11, 12]])\n",
    "\n",
    "a2 = np.array([[1, 2, 3, 4],[5, 6, 7, 8],[9, 10, 11, 12]])"
   ]
  },
  {
   "cell_type": "code",
   "execution_count": 23,
   "id": "388ad441",
   "metadata": {},
   "outputs": [
    {
     "data": {
      "text/plain": [
       "array([[  1,   4,   9,  16],\n",
       "       [ 25,  36,  49,  64],\n",
       "       [ 81, 100, 121, 144]])"
      ]
     },
     "execution_count": 23,
     "metadata": {},
     "output_type": "execute_result"
    }
   ],
   "source": [
    "#index wise multiplication\n",
    "a1*a2"
   ]
  },
  {
   "cell_type": "code",
   "execution_count": 27,
   "id": "f7a005c2",
   "metadata": {},
   "outputs": [
    {
     "data": {
      "text/plain": [
       "(3, 4)"
      ]
     },
     "execution_count": 27,
     "metadata": {},
     "output_type": "execute_result"
    }
   ],
   "source": [
    "# matrix multiplication\n",
    "\n",
    "Matrix multiplication not possible\n"
   ]
  },
  {
   "cell_type": "code",
   "execution_count": 28,
   "id": "5e8ba68d",
   "metadata": {},
   "outputs": [
    {
     "data": {
      "text/plain": [
       "array([[ 2,  4,  6,  8],\n",
       "       [10, 12, 14, 16],\n",
       "       [18, 20, 22, 24]])"
      ]
     },
     "execution_count": 28,
     "metadata": {},
     "output_type": "execute_result"
    }
   ],
   "source": [
    "# addition\n",
    "\n",
    "a1+a2"
   ]
  },
  {
   "cell_type": "code",
   "execution_count": 29,
   "id": "cbb18197",
   "metadata": {},
   "outputs": [
    {
     "data": {
      "text/plain": [
       "array([[0, 0, 0, 0],\n",
       "       [0, 0, 0, 0],\n",
       "       [0, 0, 0, 0]])"
      ]
     },
     "execution_count": 29,
     "metadata": {},
     "output_type": "execute_result"
    }
   ],
   "source": [
    "# subtraction \n",
    "\n",
    "a1-a2"
   ]
  },
  {
   "cell_type": "code",
   "execution_count": 30,
   "id": "c4ea18b6",
   "metadata": {},
   "outputs": [
    {
     "data": {
      "text/plain": [
       "array([[1., 1., 1., 1.],\n",
       "       [1., 1., 1., 1.],\n",
       "       [1., 1., 1., 1.]])"
      ]
     },
     "execution_count": 30,
     "metadata": {},
     "output_type": "execute_result"
    }
   ],
   "source": [
    "# division\n",
    "\n",
    "a1/a2"
   ]
  },
  {
   "cell_type": "markdown",
   "id": "8a6a19ef",
   "metadata": {},
   "source": [
    "12.  Which function in Numpy can be use^ to swap the byte or^er of an array?"
   ]
  },
  {
   "cell_type": "code",
   "execution_count": null,
   "id": "885d72d1",
   "metadata": {},
   "outputs": [],
   "source": [
    "np.ndarray.byteswap"
   ]
  },
  {
   "cell_type": "markdown",
   "id": "721d92f1",
   "metadata": {},
   "source": [
    "13.  What is the significance of the np.linalg.inv function?"
   ]
  },
  {
   "cell_type": "code",
   "execution_count": null,
   "id": "5e4e4098",
   "metadata": {},
   "outputs": [],
   "source": [
    "'''The np.linalg.inv function in NumPy is used to compute the inverse of a square matrix. The significance of this \n",
    "function lies in its application to solve systems of linear equations and perform various mathematical \n",
    "operations. '''"
   ]
  },
  {
   "cell_type": "code",
   "execution_count": 32,
   "id": "3cae0a00",
   "metadata": {},
   "outputs": [
    {
     "name": "stdout",
     "output_type": "stream",
     "text": [
      "(6,)\n",
      "(2, 3)\n"
     ]
    }
   ],
   "source": [
    "#14. What ^oes the np.reshape function ^o, an^ how is it use^\n",
    "\n",
    "'''np.reshape is used change the shape of the matrix. It should take values that are multipled gives size of the original matrix\n",
    "'''\n",
    "\n",
    "# example\n",
    "\n",
    "a = np.array([1,2,4,5,6,4])\n",
    "print(a.shape)\n",
    "are = a.reshape(2,3)\n",
    "print(are.shape)"
   ]
  },
  {
   "cell_type": "markdown",
   "id": "1a0a4351",
   "metadata": {},
   "source": [
    " 15. What is broa^casting in Numpy?\n",
    "\n",
    "'''In NumPy, broadcasting is a powerful feature that allows universal functions to operate on arrays of different shapes and sizes. It enables element-wise operations between arrays of mismatched shapes by implicitly extending smaller arrays to match the shape of larger arrays. This eliminates the need for explicit loops and makes the code more concise and readable.'''"
   ]
  },
  {
   "cell_type": "code",
   "execution_count": 33,
   "id": "8ee40a6e",
   "metadata": {},
   "outputs": [
    {
     "name": "stdout",
     "output_type": "stream",
     "text": [
      "Result 1: [6 7 8]\n",
      "Result 2:\n",
      "[[11 22 33]\n",
      " [14 25 36]]\n"
     ]
    }
   ],
   "source": [
    "import numpy as np\n",
    "\n",
    "# Example 1: Broadcasting with a scalar\n",
    "arr1 = np.array([1, 2, 3])\n",
    "scalar = 5\n",
    "\n",
    "result1 = arr1 + scalar  # Broadcasting the scalar to the array\n",
    "print(\"Result 1:\", result1)\n",
    "\n",
    "# Example 2: Broadcasting with arrays of different shapes\n",
    "arr2 = np.array([[1, 2, 3], [4, 5, 6]])\n",
    "arr3 = np.array([10, 20, 30])\n",
    "\n",
    "result2 = arr2 + arr3  # Broadcasting the 1D array to the 2D array\n",
    "print(\"Result 2:\")\n",
    "print(result2)\n"
   ]
  },
  {
   "cell_type": "code",
   "execution_count": null,
   "id": "6def4ff7",
   "metadata": {},
   "outputs": [],
   "source": []
  }
 ],
 "metadata": {
  "kernelspec": {
   "display_name": "Python 3 (ipykernel)",
   "language": "python",
   "name": "python3"
  },
  "language_info": {
   "codemirror_mode": {
    "name": "ipython",
    "version": 3
   },
   "file_extension": ".py",
   "mimetype": "text/x-python",
   "name": "python",
   "nbconvert_exporter": "python",
   "pygments_lexer": "ipython3",
   "version": "3.9.7"
  }
 },
 "nbformat": 4,
 "nbformat_minor": 5
}
