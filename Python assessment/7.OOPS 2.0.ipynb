{
 "cells": [
  {
   "cell_type": "markdown",
   "id": "a81754f9",
   "metadata": {},
   "source": [
    "# Constructor"
   ]
  },
  {
   "cell_type": "code",
   "execution_count": null,
   "id": "54e81fc7",
   "metadata": {},
   "outputs": [],
   "source": [
    "# 1. What is a constructor in Python? Explain its purpose and usage.\n",
    "\n",
    "\n",
    "\n",
    "'''\n",
    "In Python, a constructor is a special method within a class that is used for initializing instances (objects) of that class.\n",
    "Constructors are defined using the __init__ method in Python. The primary purpose of a constructor is to set up the initial\n",
    "state of an object by assigning values to its attributes.\n",
    "\n",
    "ex:\n",
    "\n",
    "class MyClass:\n",
    "    def __init__(self, attribute1, attribute2):\n",
    "        self.attribute1 = attribute1\n",
    "        self.attribute2 = attribute2\n",
    "\n",
    "In this example, __init__ is the constructor for the MyClass class. It takes two parameters, attribute1 and attribute2, \n",
    "and assigns their values to the instance variables self.attribute1 and self.attribute2, respectively. \n",
    "The self parameter refers to the instance of the class being created, and it is automatically passed when an object of the\n",
    "class is instantiated.\n",
    "\n",
    "usage:\n",
    "1.object initialization\n",
    "2.attribute initialization\n",
    "\n",
    "'''"
   ]
  },
  {
   "cell_type": "code",
   "execution_count": null,
   "id": "216ee561",
   "metadata": {},
   "outputs": [],
   "source": [
    "#2. Differentiate between a parameterless constructor and a parameterized constructor in Python.\n",
    "\n",
    "\"\"\"\n",
    "\n",
    "1. parameterless constructor:\n",
    "it is the default constructor that does not take any parameters.\n",
    "\n",
    "Ex:\n",
    "class MyClass:\n",
    "    def __init__(self):\n",
    "        self.attribute = \"default_value\"\n",
    "\n",
    "2. parameterized constructor\n",
    "it takes one are more parameters as arguments for object initialization.\n",
    "\n",
    "ex:\n",
    "class MyClass:\n",
    "    def __init__(self, attribute1, attribute2):\n",
    "        self.attribute1 = attribute1\n",
    "        self.attribute2 = attribute2\n",
    "\n",
    "Usage differences:\n",
    "\n",
    "To create an object using a parameterless constructor, you simply call the class, e.g., obj = MyClass(), and the object is\n",
    "initialized with default values.\n",
    "To create an object using a parameterized constructor, you pass values for the required parameters when creating the object,\n",
    "e.g., obj = MyClass(\"value1\", \"value2\"), and the object is initialized with those specific values.\n"
   ]
  },
  {
   "cell_type": "code",
   "execution_count": null,
   "id": "1a557fec",
   "metadata": {},
   "outputs": [],
   "source": [
    "# 3. How do you define a constructor in a Python class? Provide an example.\n",
    "\n",
    "'''\n",
    "\n",
    "we define a constructor in a class using __init__() in class.\n",
    "\n",
    "ex:\n",
    "\n",
    "\n",
    "class suma:\n",
    "    def __init__(self,a,b):\n",
    "    self.a = a\n",
    "    self.b = b\n",
    "    \n",
    "    \n",
    "\n"
   ]
  },
  {
   "cell_type": "code",
   "execution_count": null,
   "id": "32e42c8b",
   "metadata": {},
   "outputs": [],
   "source": [
    "# 4. Explain the `__init__` method in Python and its role in constructors.\n",
    "\n",
    "The primary purpose of __init__ is to set up the initial\n",
    "state of an object by assigning values to its attributes."
   ]
  },
  {
   "cell_type": "code",
   "execution_count": 6,
   "id": "3538355b",
   "metadata": {},
   "outputs": [
    {
     "name": "stdout",
     "output_type": "stream",
     "text": [
      "reddy\n"
     ]
    }
   ],
   "source": [
    "# 5. In a class named `Person`, create a constructor that initializes the `name` and `age` attributes. Provide an example of creating an object of this class. \n",
    "\n",
    "class person:\n",
    "    def __init__(suma,name,age):\n",
    "        suma.name=name\n",
    "        suma.age = age\n",
    "  \n",
    "obje = person(\"reddy\",22)\n",
    "print(obje.name)"
   ]
  },
  {
   "cell_type": "code",
   "execution_count": 7,
   "id": "bb5d962c",
   "metadata": {},
   "outputs": [
    {
     "name": "stdout",
     "output_type": "stream",
     "text": [
      "Object 1\n",
      "None\n",
      "Object 2\n"
     ]
    }
   ],
   "source": [
    "# 6. How can you call a constructor explicitly in Python? Give an example.\n",
    "\n",
    "class MyClass:\n",
    "    def __init__(self, value):\n",
    "        self.value = value\n",
    "\n",
    "# Creating an instance of MyClass (constructor is called automatically)\n",
    "obj1 = MyClass(\"Object 1\")\n",
    "print(obj1.value)  # Output: \"Object 1\"\n",
    "\n",
    "# Calling the constructor explicitly\n",
    "obj2 = MyClass.__init__(obj1, \"Object 2\")\n",
    "print(obj2)  # Output: None (The constructor doesn't return anything)\n",
    "\n",
    "# Accessing the value attribute\n",
    "print(obj1.value)  # Output: \"Object 2\"\n"
   ]
  },
  {
   "cell_type": "code",
   "execution_count": 8,
   "id": "54310f4f",
   "metadata": {},
   "outputs": [
    {
     "name": "stdout",
     "output_type": "stream",
     "text": [
      "My name is Alice and I am 30 years old.\n",
      "My name is Bob and I am 25 years old.\n"
     ]
    }
   ],
   "source": [
    "# 7. What is the significance of the `self` parameter in Python constructors? Explain with an example\n",
    "\n",
    "\n",
    "'''\n",
    "\n",
    "The self parameter in Python constructors, and in methods within a class in general, is a reference to the instance of the \n",
    "class itself. It is a convention, not a reserved keyword, and you can technically use any variable name instead of self,\n",
    "but using self is a widely followed convention and helps make your code more readable and maintainable. The self parameter\n",
    "allows you to access and modify the attributes and methods of the current instance, making it an essential part of \n",
    "object-oriented programming in Python.\n",
    "\n",
    "In this example, the self parameter is used in both the constructor (__init__ method) and the introduce method. \n",
    "\n",
    "Here's how it works:\n",
    "\n",
    "In the __init__ method, self refers to the instance of the Person class that is being created (e.g., person1 or person2).\n",
    "\n",
    "When you create a Person object, the self parameter allows you to set the name and age attributes of that specific instance.\n",
    "\n",
    "In the introduce method, self refers to the instance from which the method is called. It allows you to access the name and \n",
    "age attributes specific to that instance and print an introduction based on those attributes.\n",
    "\n",
    "When you call the introduce method on person1, self inside the method refers to person1, and when you call it on person2, \n",
    "self refers to person2. This way, the self parameter ensures that you can work with the attributes and methods of the \n",
    "current instance of the class, making object-oriented programming in Python highly versatile and dynamic.\n",
    "\n",
    "'''\n",
    "\n",
    "class Person:\n",
    "    def __init__(self, name, age):\n",
    "        self.name = name\n",
    "        self.age = age\n",
    "\n",
    "    def introduce(self):\n",
    "        print(f\"My name is {self.name} and I am {self.age} years old.\")\n",
    "\n",
    "# Creating instances of the Person class\n",
    "person1 = Person(\"Alice\", 30)\n",
    "person2 = Person(\"Bob\", 25)\n",
    "\n",
    "# Calling the introduce method on each instance\n",
    "person1.introduce()\n",
    "person2.introduce()\n"
   ]
  },
  {
   "cell_type": "code",
   "execution_count": null,
   "id": "f40dd984",
   "metadata": {},
   "outputs": [],
   "source": [
    "# 8. Discuss the concept of default constructors in Python. When are they used?\n",
    "\n",
    " parameterless constructor:\n",
    "it is the default constructor that does not take any parameters.\n",
    "\n",
    "Ex:\n",
    "class MyClass:\n",
    "    def __init__(self):\n",
    "        self.attribute = \"default_value\"\n",
    "        \n",
    " Default constructors are used when you want to create instances of a class with some default attribute values but\n",
    "still allow for customization by providing different values during object creation."
   ]
  },
  {
   "cell_type": "code",
   "execution_count": 5,
   "id": "ec40bfd0",
   "metadata": {},
   "outputs": [
    {
     "name": "stdout",
     "output_type": "stream",
     "text": [
      "24\n"
     ]
    }
   ],
   "source": [
    "# 9. Create a Python class called `Rectangle` with a constructor that initializes the `width` and \n",
    "#    `height` attributes. Provide a method to calculate the area of the rectangle\n",
    "\n",
    "class rectangle:\n",
    "    def __init__(self,width,height):\n",
    "        self.w = width\n",
    "        self.h = height\n",
    "        \n",
    "    def area_of_rectangle(self):\n",
    "        area = self.w * self.h\n",
    "        return area\n",
    "\n",
    "area_obj = rectangle(3,8)\n",
    "print(area_obj.area_of_rectangle())\n"
   ]
  },
  {
   "cell_type": "code",
   "execution_count": null,
   "id": "2ffb5f61",
   "metadata": {},
   "outputs": [],
   "source": [
    "# 10. How can you have multiple constructors in a Python class? Explain with an example.\n",
    "\n",
    "'''In Python, you can have multiple constructors in a class by using class methods or by using default parameter values\n",
    "in the constructor'''\n",
    "\n"
   ]
  },
  {
   "cell_type": "code",
   "execution_count": 2,
   "id": "4e38cf7c",
   "metadata": {},
   "outputs": [
    {
     "name": "stdout",
     "output_type": "stream",
     "text": [
      "value1 value2\n",
      "default_param1 default_param2\n"
     ]
    }
   ],
   "source": [
    "# using class methods\n",
    "\n",
    "class MyClass:\n",
    "    def __init__(self, param1, param2):\n",
    "        self.param1 = param1\n",
    "        self.param2 = param2\n",
    "\n",
    "    @classmethod\n",
    "    def create_with_default(cls):\n",
    "        # Create an instance with default values\n",
    "        return cls(\"default_param1\", \"default_param2\")\n",
    "\n",
    "# Using the primary constructor\n",
    "obj1 = MyClass(\"value1\", \"value2\")\n",
    "print(obj1.param1, obj1.param2)  # Output: value1 value2\n",
    "\n",
    "# Using the alternative constructor\n",
    "obj2 = MyClass.create_with_default()\n",
    "print(obj2.param1, obj2.param2)  # Output: default_param1 default_param2\n"
   ]
  },
  {
   "cell_type": "code",
   "execution_count": 1,
   "id": "87225cf7",
   "metadata": {},
   "outputs": [
    {
     "name": "stdout",
     "output_type": "stream",
     "text": [
      "value1 value2\n",
      "default_param1 default_param2\n"
     ]
    }
   ],
   "source": [
    "# using default parameter values\n",
    "\n",
    "class MyClass:\n",
    "    def __init__(self, param1, param2):\n",
    "        self.param1 = param1\n",
    "        self.param2 = param2\n",
    "\n",
    "    @classmethod\n",
    "    def create_with_default(cls, param1=\"default_param1\", param2=\"default_param2\"):\n",
    "        # Create an instance with default values\n",
    "        return cls(param1, param2)\n",
    "\n",
    "# Using the primary constructor\n",
    "obj1 = MyClass(\"value1\", \"value2\")\n",
    "print(obj1.param1, obj1.param2)  # Output: value1 value2\n",
    "\n",
    "# Using the alternative constructor\n",
    "obj2 = MyClass.create_with_default()\n",
    "print(obj2.param1, obj2.param2)  # Output: default_param1 default_param2\n"
   ]
  },
  {
   "cell_type": "code",
   "execution_count": null,
   "id": "6c700ff2",
   "metadata": {},
   "outputs": [],
   "source": [
    "# 11. 11. What is method overloading, and how is it related to constructors in Python?\n",
    "\n",
    "'''ethod overloading in Python refers to the ability to define multiple methods within the same class that share the same name \n",
    "but have different parameter lists. The method or function that gets called is determined at runtime based on the arguments\n",
    "provided during the function call.\n",
    "\n",
    "hen it comes to constructors in Python, there is no true method overloading in the traditional sense. In Python, \n",
    "a class can have only one __init__ method, which serves as the constructor. However, you can achieve constructor-like\n",
    "overloading behavior by using default parameter values or by providing alternative class methods.'''"
   ]
  },
  {
   "cell_type": "code",
   "execution_count": 3,
   "id": "5f8c9527",
   "metadata": {},
   "outputs": [
    {
     "name": "stdout",
     "output_type": "stream",
     "text": [
      "Parent class constructor called. Name: John\n",
      "Child class constructor called. Age: 25\n"
     ]
    }
   ],
   "source": [
    "# 12. Explain the use of the `super()` function in Python constructors. Provide an example.\n",
    "\n",
    "'''In Python, the super() function is used to call a method from the parent class. It is commonly used in the context of \n",
    "constructors to invoke the constructor of the parent class. This is useful when you have a derived class (subclass) that \n",
    "overrides a method, and you want to ensure that the initialization code of the parent class is executed.'''\n",
    "\n",
    "class Parent:\n",
    "    def __init__(self, name):\n",
    "        self.name = name\n",
    "        print(f\"Parent class constructor called. Name: {self.name}\")\n",
    "\n",
    "class Child(Parent):\n",
    "    def __init__(self, name, age):\n",
    "        super().__init__(name)  # Call the constructor of the parent class\n",
    "        self.age = age\n",
    "        print(f\"Child class constructor called. Age: {self.age}\")\n",
    "\n",
    "# Creating an instance of the Child class\n",
    "child_obj = Child(\"John\", 25)\n"
   ]
  },
  {
   "cell_type": "code",
   "execution_count": null,
   "id": "da50747f",
   "metadata": {},
   "outputs": [],
   "source": [
    "# 18. What is the purpose of the `__del__` method in Python classes, and how does it relate to constructors?\n",
    "\n",
    "'''\n",
    "\n",
    "The __del__ method in Python is a special method used for defining the destructor of a class. While constructors \n",
    "(e.g., __init__ method) are responsible for initializing objects and their attributes, the destructor \n",
    "(__del__ method) is used for performing cleanup or finalization when an object is about to be destroyed .\n",
    "\n"
   ]
  },
  {
   "cell_type": "code",
   "execution_count": 2,
   "id": "37f41f1a",
   "metadata": {},
   "outputs": [
    {
     "name": "stdout",
     "output_type": "stream",
     "text": [
      "Employee ID: 12345, Name: John Doe\n"
     ]
    }
   ],
   "source": [
    "# 19. Explain the use of constructor chaining in Python. Provide a practical example.\n",
    "'''\n",
    "\n",
    "Constructor chaining, also known as constructor delegation, is a concept in object-oriented programming where one \n",
    "constructor of a class calls another constructor of the same class. In Python, constructor chaining is achieved by using the\n",
    "super() function to call a constructor in the parent class. This allows you to reuse code and avoid duplicating\n",
    "initialization logic in multiple constructors within a class hierarchy.\n",
    "\n",
    "'''\n",
    "\n",
    "class Person:\n",
    "    def __init__(self, first_name, last_name):\n",
    "        self.first_name = first_name\n",
    "        self.last_name = last_name\n",
    "\n",
    "    def display_name(self):\n",
    "        return f\"{self.first_name} {self.last_name}\"\n",
    "\n",
    "class Employee(Person):\n",
    "    def __init__(self, first_name, last_name, employee_id):\n",
    "        # Call the constructor of the parent class (Person) to initialize first_name and last_name\n",
    "        super().__init__(first_name, last_name)\n",
    "        self.employee_id = employee_id\n",
    "\n",
    "    def display_employee_info(self):\n",
    "        return f\"Employee ID: {self.employee_id}, Name: {self.display_name()}\"\n",
    "    \n",
    "\n",
    "\n",
    "# Creating an Employee object using constructor chaining\n",
    "employee = Employee(\"John\",\"Doe\", 12345)\n",
    "\n",
    "# Accessing and displaying employee information\n",
    "print(employee.display_employee_info())\n"
   ]
  },
  {
   "cell_type": "code",
   "execution_count": 7,
   "id": "848fe1bf",
   "metadata": {},
   "outputs": [
    {
     "name": "stdout",
     "output_type": "stream",
     "text": [
      "car make is  audi\n",
      "car model is 2.0\n"
     ]
    }
   ],
   "source": [
    "# 20. Create a Python class called `Car` with a default constructor that initializes the `make` and \n",
    "#     `model` attributes. Provide a method to display car information.\n",
    "\n",
    "class car:\n",
    "    \n",
    "    def __init__(self,make,model):\n",
    "        self.make = make\n",
    "        self.model = model\n",
    "    \n",
    "    def car_info(self):\n",
    "        print(\"car make is \",self.make)\n",
    "        print(\"car model is\",self.model)\n",
    "\n",
    "car_obj = car(\"audi\",\"2.0\")\n",
    "car_obj.car_info()\n",
    "\n"
   ]
  },
  {
   "cell_type": "code",
   "execution_count": null,
   "id": "4d03af35",
   "metadata": {},
   "outputs": [],
   "source": []
  },
  {
   "cell_type": "markdown",
   "id": "bc3358a9",
   "metadata": {},
   "source": [
    "## INHERITANCE"
   ]
  },
  {
   "cell_type": "code",
   "execution_count": null,
   "id": "dd23f1c4",
   "metadata": {},
   "outputs": [],
   "source": [
    "# 1. What is inheritance in Python? Explain its significance in object-oriented programming.\n",
    "\n",
    "'''\n",
    "\n",
    "Inheritance allows you to create a new class (called a \"subclass\" or \"derived class\") that inherits attributes and behaviors\n",
    "(i.e., data and methods) from an existing class (called a \"base class\" or \"superclass\"). \n",
    "\n",
    "significance:\n",
    "1. code resusability\n",
    "\n",
    "'''"
   ]
  },
  {
   "cell_type": "code",
   "execution_count": 8,
   "id": "89016bf6",
   "metadata": {},
   "outputs": [
    {
     "name": "stdout",
     "output_type": "stream",
     "text": [
      "name of the child is suma\n"
     ]
    }
   ],
   "source": [
    "#2. Differentiate between single inheritance and multiple inheritance in Python. Provide examples  for each.\n",
    "\n",
    "'''\n",
    "single Inheritance:\n",
    "    when a child class inherits properties from only one parent class is called single inheritance.\n",
    "    \n",
    "    \n",
    "Multiple Inheritance:\n",
    "    when a child class inherits properties from  two or more parent classes is called multiple inheritance.\n",
    "    \n",
    "'''\n",
    "\n",
    "# ex of single inheritance:\n",
    "class a:\n",
    "    def name(self):\n",
    "        print(\"name of the child is suma\")\n",
    "        \n",
    "class b(a):\n",
    "    def classs(self):\n",
    "        print(\" class is 12th\")\n",
    "        \n",
    "a_obj = a()\n",
    "b_obj = b()\n",
    "\n",
    "b_obj.name()\n",
    "\n",
    "\n"
   ]
  },
  {
   "cell_type": "code",
   "execution_count": 12,
   "id": "9ac3fa1d",
   "metadata": {},
   "outputs": [
    {
     "name": "stdout",
     "output_type": "stream",
     "text": [
      "name of the child is suma\n",
      " class is 12th\n",
      "roll no is 1257\n"
     ]
    }
   ],
   "source": [
    "#  ex of multiple inheritance\n",
    "\n",
    "class a:\n",
    "    def name(self):\n",
    "        print(\"name of the child is suma\")\n",
    "        \n",
    "class b:\n",
    "    def classs(self):\n",
    "        print(\" class is 12th\")\n",
    "\n",
    "class c(a,b):\n",
    "    def roll_no(self):\n",
    "        print(\"roll no is 1257\")\n",
    "        \n",
    "a_obj = a()\n",
    "b_obj = b()\n",
    "c_obj = c()\n",
    "\n",
    "c_obj.name()\n",
    "c_obj.classs()\n",
    "c_obj.roll_no()"
   ]
  },
  {
   "cell_type": "markdown",
   "id": "1d8186a2",
   "metadata": {},
   "source": [
    "3. Create a Python class called `Vehicle` with attributes `color` and `speed`. Then, create a child \n",
    "class called `Car` that inherits from `Vehicle` and adds a `brand` attribute. Provide an example \n",
    "of creating a `Car` object."
   ]
  },
  {
   "cell_type": "code",
   "execution_count": 21,
   "id": "ec79d917",
   "metadata": {},
   "outputs": [
    {
     "name": "stdout",
     "output_type": "stream",
     "text": [
      "car color is  Red\n",
      "car speed is 100km/h\n"
     ]
    }
   ],
   "source": [
    "class vehicle:\n",
    "    def __init__(self,color,speed):\n",
    "        self.c = color\n",
    "        self.s = speed\n",
    "    \n",
    "    def car_color(self):\n",
    "        print(\"car color is \",self.c)\n",
    "        \n",
    "    def car_speed(self):\n",
    "        print(\"car speed is\",self.s)\n",
    "    \n",
    "class car(vehicle):\n",
    "    def __init__(self,color,speed,brand):\n",
    "        super().__init__(color, speed)\n",
    "        self.b = brand\n",
    "    \n",
    "    def car_brand(self):\n",
    "        print(\"car brand is\",self.b)\n",
    "        \n",
    "vehicle_obj = vehicle(\"Red\",\"100km/h\")       \n",
    "car_obj = car(\"Red\",\"100km/h\",\"audi\")\n",
    "\n",
    "car_obj.car_color()\n",
    "car_obj.car_speed()\n",
    "        \n",
    "        "
   ]
  },
  {
   "cell_type": "code",
   "execution_count": 19,
   "id": "dfa9889f",
   "metadata": {},
   "outputs": [
    {
     "name": "stdout",
     "output_type": "stream",
     "text": [
      "car color is  red\n",
      "car speed is 100km/h\n"
     ]
    }
   ],
   "source": [
    "class vehicle:\n",
    "    \n",
    "    def car_color(self,color):\n",
    "        print(\"car color is \",color)\n",
    "        \n",
    "    def car_speed(self,speed):\n",
    "        print(\"car speed is\",speed)\n",
    "    \n",
    "class car(vehicle):\n",
    "    \n",
    "    def car_brand(self,brand):\n",
    "        print(\"car brand is\",brand)\n",
    "        \n",
    "vehicle_obj = vehicle()       \n",
    "car_obj = car()\n",
    "\n",
    "car_obj.car_color(\"red\")\n",
    "car_obj.car_speed(\"100km/h\")"
   ]
  },
  {
   "cell_type": "code",
   "execution_count": 32,
   "id": "754d8581",
   "metadata": {},
   "outputs": [
    {
     "name": "stdout",
     "output_type": "stream",
     "text": [
      "Animal makes a sound\n",
      "Dog barks\n",
      "Cat meows\n"
     ]
    }
   ],
   "source": [
    "# 4. Explain the concept of method overriding in inheritance. Provide a practical example.\n",
    "\n",
    "\n",
    "\"\"\"\n",
    "\n",
    "method overriding is a concept in oops and in inheritance that allows a subclass to provide a specific implementation of a\n",
    "method that is already defined in its superclass. \n",
    "\n",
    "When a method is overridden in a subclass, it replaces the implementation of the same method in the superclass.\n",
    "This allows the subclass to customize or extend the behavior of the inherited method while still maintaining \n",
    "the method signature.\n",
    "\n",
    "\"\"\"\n",
    "\n",
    "\n",
    "class Animal:\n",
    "    def speak(self):\n",
    "        print(\"Animal makes a sound\")\n",
    "\n",
    "class Dog(Animal):\n",
    "    def speak(self):\n",
    "        print(\"Dog barks\")\n",
    "\n",
    "class Cat(Animal):\n",
    "    def speak(self):\n",
    "        print(\"Cat meows\")\n",
    "\n",
    "# Create instances of the classes\n",
    "animal = Animal()\n",
    "dog = Dog()\n",
    "cat = Cat()\n",
    "\n",
    "# Method overriding in action\n",
    "animal.speak() \n",
    "dog.speak()    \n",
    "cat.speak()     #\n"
   ]
  },
  {
   "cell_type": "code",
   "execution_count": 26,
   "id": "093a3d35",
   "metadata": {},
   "outputs": [
    {
     "name": "stdout",
     "output_type": "stream",
     "text": [
      "('sujatha', 'krishna')\n",
      "('suma', 12)\n"
     ]
    }
   ],
   "source": [
    "# 5. How can you access the methods and attributes of a parent class from a child class in Python? Give an example\n",
    "\n",
    "'''through inheritance'''\n",
    "\n",
    "# ex\n",
    "\n",
    "class parent:\n",
    "    def details(self,mothername,fathername):\n",
    "        return mothername,fathername\n",
    "    \n",
    "class child(parent):\n",
    "    def ch_details(self,name,age):\n",
    "        return name,age\n",
    "    \n",
    "parent = parent()\n",
    "child = child()\n",
    "\n",
    "print(child.details(\"sujatha\",\"krishna\"))\n",
    "print(child.ch_details(\"suma\",12))"
   ]
  },
  {
   "cell_type": "code",
   "execution_count": null,
   "id": "0548f270",
   "metadata": {},
   "outputs": [],
   "source": [
    "# 6. Discuss the use of the `super()` function in Python inheritance. When and why is it used? Provide an example.\n",
    "\n",
    "\n",
    "'''In Python, you can access the methods and attributes of a parent class (superclass) from a child class (subclass)\n",
    "using the super() function. The super() function provides a way to call methods and access attributes of the parent \n",
    "class within the child class. This is particularly useful when you want to extend or override functionality in the child \n",
    "class while still making use of the functionality provided by the parent class.'''\n",
    "\n",
    "\n",
    "class Parent:\n",
    "    def __init__(self, name):\n",
    "        self.name = name\n",
    "\n",
    "    def display_name(self):\n",
    "        print(\"Name from Parent:\", self.name)\n",
    "\n",
    "class Child(Parent):\n",
    "    def __init__(self, name, age):\n",
    "        super().__init__(name)  # Call the parent class constructor\n",
    "        self.age = age\n",
    "\n",
    "    def display_age(self):\n",
    "        print(\"Age from Child:\", self.age)\n",
    "\n",
    "    def display_parent_name(self):\n",
    "        super().display_name()  # Access parent class method using super()\n",
    "\n",
    "# Create an instance of the child class\n",
    "child = Child(\"Alice\", 10)\n",
    "\n",
    "# Access and display attributes and methods from both parent and child classes\n",
    "child.display_name()          \n",
    "child.display_age()          \n",
    "child.display_parent_name()  \n"
   ]
  },
  {
   "cell_type": "markdown",
   "id": "52b5360c",
   "metadata": {},
   "source": [
    " 7. Create a Python class called `Animal` with a method `speak()`. Then, create child classes \n",
    "`Dog` and `Cat` that inherit from `Animal` and override the `speak()` method. Provide an \n",
    "example of using these classe"
   ]
  },
  {
   "cell_type": "code",
   "execution_count": 35,
   "id": "79e55cc8",
   "metadata": {},
   "outputs": [
    {
     "name": "stdout",
     "output_type": "stream",
     "text": [
      "Animal makes sound\n",
      "dog makes bow sound\n",
      "cat makes meow sound\n"
     ]
    }
   ],
   "source": [
    "class Animal:\n",
    "    def speak(self):\n",
    "        print(\"Animal makes sound\")\n",
    "class Dog(Animal):\n",
    "    def speak(self):\n",
    "        print(\"dog makes bow sound\")\n",
    "class Cat(Animal):\n",
    "    def speak(self):\n",
    "        print(\"cat makes meow sound\")\n",
    "        \n",
    "# Create instances of the classes\n",
    "animal = Animal()\n",
    "dog = Dog()\n",
    "cat = Cat()\n",
    "\n",
    "# Method overriding in action\n",
    "animal.speak() \n",
    "dog.speak()    \n",
    "cat.speak() \n",
    "\n",
    "\n",
    "    "
   ]
  },
  {
   "cell_type": "code",
   "execution_count": 36,
   "id": "650db949",
   "metadata": {},
   "outputs": [
    {
     "name": "stdout",
     "output_type": "stream",
     "text": [
      "Animal makes sound\n"
     ]
    }
   ],
   "source": [
    "class Animal:\n",
    "    def speak(self):\n",
    "        print(\"Animal makes sound\")\n",
    "class Dog(Animal):\n",
    "    def speaks(self):\n",
    "        print(\"dog makes bow sound\")\n",
    "        \n",
    "dog = Dog()\n",
    "dog.speak()\n",
    "        \n",
    "\n"
   ]
  },
  {
   "cell_type": "code",
   "execution_count": null,
   "id": "60f7ab47",
   "metadata": {},
   "outputs": [],
   "source": [
    "# 8. Explain the role of the `isinstance()` function in Python and how it relates to inheritance.\n",
    "\n",
    "\n",
    "'''The isinstance() function in Python is a built-in function that is used to check whether an object belongs to\n",
    "a particular class or type.\n",
    "\n",
    "relation with inheritance:\n",
    "\n",
    "Inheritance and Polymorphism: \n",
    "isinstance() is often used in conjunction with inheritance to enable polymorphism. \n",
    "It allows you to write code that can work with objects of different classes as long as they are related through inheritance.\n",
    "\n",
    "\n",
    "\n",
    "'''\n",
    "\n",
    "\n"
   ]
  },
  {
   "cell_type": "code",
   "execution_count": 4,
   "id": "0f61b1d8",
   "metadata": {},
   "outputs": [
    {
     "name": "stdout",
     "output_type": "stream",
     "text": [
      "Is Dog a subclass of Animal? True\n",
      "Is Mammal a subclass of Animal? True\n",
      "Is Dog a subclass of Mammal? True\n",
      "Is Animal a subclass of Mammal? False\n"
     ]
    }
   ],
   "source": [
    "# 9. What is the purpose of the `issubclass()` function in Python? Provide an example.\n",
    "'''The issubclass() function in Python is used to check if a class is a subclass of another class. It returns True if the first\n",
    "class is a subclass of the second class, and False otherwise. It's a built-in function that can be useful when you want to \n",
    "check the relationship between classes.'''\n",
    "\n",
    "class Animal:\n",
    "    pass\n",
    "\n",
    "class Mammal(Animal):\n",
    "    pass\n",
    "\n",
    "class Dog(Mammal):\n",
    "    pass\n",
    "\n",
    "# Check if Dog is a subclass of Animal\n",
    "result1 = issubclass(Dog, Animal)\n",
    "print(f\"Is Dog a subclass of Animal? {result1}\")  # Output: True\n",
    "\n",
    "# Check if Mammal is a subclass of Animal\n",
    "result2 = issubclass(Mammal, Animal)\n",
    "print(f\"Is Mammal a subclass of Animal? {result2}\")  # Output: True\n",
    "\n",
    "# Check if Dog is a subclass of Mammal\n",
    "result3 = issubclass(Dog, Mammal)\n",
    "print(f\"Is Dog a subclass of Mammal? {result3}\")  # Output: True\n",
    "\n",
    "# Check if Animal is a subclass of Mammal\n",
    "result4 = issubclass(Animal, Mammal)\n",
    "print(f\"Is Animal a subclass of Mammal? {result4}\")  # Output: False\n"
   ]
  },
  {
   "cell_type": "markdown",
   "id": "a399c805",
   "metadata": {},
   "source": [
    "11. Create a Python class called `Shape` with a method `area()` that calculates the area of a \n",
    "shape. Then, create child classes `Circle` and `Rectangle` that inherit from `Shape` and \n",
    "implement the `area()` method accordingly. Provide an example"
   ]
  },
  {
   "cell_type": "code",
   "execution_count": 40,
   "id": "63bf2421",
   "metadata": {},
   "outputs": [
    {
     "data": {
      "text/plain": [
       "50.285714285714285"
      ]
     },
     "execution_count": 40,
     "metadata": {},
     "output_type": "execute_result"
    }
   ],
   "source": [
    "class Shape:\n",
    "    def area(self):\n",
    "        pass\n",
    "        \n",
    "class circle(Shape):\n",
    "    def area(self,r):\n",
    "        return (22/7*r*r)\n",
    "    \n",
    "class rectangle(Shape):\n",
    "    def area(self,length,width):\n",
    "        return length*width\n",
    "    \n",
    "shape = Shape()\n",
    "circle = circle()\n",
    "rectangle = rectangle()\n",
    "\n",
    "circle.area(4)\n",
    "        \n",
    "        "
   ]
  },
  {
   "cell_type": "markdown",
   "id": "a73a3d2e",
   "metadata": {},
   "source": [
    "12. Explain the use of abstract base classes (ABCs) in Python and how they relate to \n",
    "inheritance. Provide an example using the `abc` module."
   ]
  },
  {
   "cell_type": "code",
   "execution_count": 5,
   "id": "6c2c9710",
   "metadata": {},
   "outputs": [
    {
     "name": "stdout",
     "output_type": "stream",
     "text": [
      "Circle - Area: 78.5 Perimeter: 31.400000000000002\n",
      "Square - Area: 16 Perimeter: 16\n"
     ]
    }
   ],
   "source": [
    "'''Abstract Base Classes (ABCs) in Python are a way to define abstract interfaces or common behaviors that must be implemented\n",
    "by concrete classes. ABCs provide a form of contract between a base class (abstract) and its derived classes (concrete),\n",
    "ensuring that certain methods are implemented in the derived classes.\n",
    "\n",
    "The abc module in Python provides the tools for defining and working with ABCs. To create an abstract base class, you can use\n",
    "the ABC class from the abc module, and to declare a method as abstract, you can use the @abstractmethod decorator.'''\n",
    "\n",
    "\n",
    "from abc import ABC, abstractmethod\n",
    "\n",
    "# Define an abstract base class (ABC)\n",
    "class Shape(ABC):\n",
    "    @abstractmethod\n",
    "    def area(self):\n",
    "        pass\n",
    "\n",
    "    @abstractmethod\n",
    "    def perimeter(self):\n",
    "        pass\n",
    "\n",
    "# Concrete class Circle implementing Shape\n",
    "class Circle(Shape):\n",
    "    def __init__(self, radius):\n",
    "        self.radius = radius\n",
    "\n",
    "    def area(self):\n",
    "        return 3.14 * self.radius**2\n",
    "\n",
    "    def perimeter(self):\n",
    "        return 2 * 3.14 * self.radius\n",
    "\n",
    "# Concrete class Square implementing Shape\n",
    "class Square(Shape):\n",
    "    def __init__(self, side):\n",
    "        self.side = side\n",
    "\n",
    "    def area(self):\n",
    "        return self.side**2\n",
    "\n",
    "    def perimeter(self):\n",
    "        return 4 * self.side\n",
    "\n",
    "# Creating instances and using the common interface\n",
    "circle = Circle(5)\n",
    "square = Square(4)\n",
    "\n",
    "print(\"Circle - Area:\", circle.area(), \"Perimeter:\", circle.perimeter())\n",
    "print(\"Square - Area:\", square.area(), \"Perimeter:\", square.perimeter())\n"
   ]
  },
  {
   "cell_type": "markdown",
   "id": "082c4158",
   "metadata": {},
   "source": [
    "13. How can you prevent a child class from modifying certain attributes or methods inherited \n",
    "from a parent class in Python?"
   ]
  },
  {
   "cell_type": "code",
   "execution_count": null,
   "id": "c1330725",
   "metadata": {},
   "outputs": [],
   "source": [
    "\n",
    "'''In Python, you can control access to attributes and methods of a class using encapsulation and by using private or protected \n",
    "members. However, it's important to note that Python follows the principle of \"we are all consenting adults here,\" which means\n",
    "that it doesn't enforce strict access control like some other languages. Instead, it relies on conventions and naming \n",
    "conventions to indicate the intended usage.'''"
   ]
  },
  {
   "cell_type": "markdown",
   "id": "657c6609",
   "metadata": {},
   "source": [
    "14. Create a Python class called `Employee` with attributes `name` and `salary`. Then, create a \n",
    "child class `Manager` that inherits from `Employee` and adds an attribute `department`. Provide \n",
    "an example."
   ]
  },
  {
   "cell_type": "code",
   "execution_count": 6,
   "id": "f9f39115",
   "metadata": {},
   "outputs": [
    {
     "name": "stdout",
     "output_type": "stream",
     "text": [
      "Name: John Doe, Salary: $50000\n",
      "Name: Jane Smith, Salary: $75000\n",
      "Department: HR\n"
     ]
    }
   ],
   "source": [
    "class Employee:\n",
    "    def __init__(self, name, salary):\n",
    "        self.name = name\n",
    "        self.salary = salary\n",
    "\n",
    "    def display_info(self):\n",
    "        print(f\"Name: {self.name}, Salary: ${self.salary}\")\n",
    "\n",
    "class Manager(Employee):\n",
    "    def __init__(self, name, salary, department):\n",
    "        # Call the constructor of the parent class using super()\n",
    "        super().__init__(name, salary)\n",
    "        self.department = department\n",
    "\n",
    "    # Override the display_info method to include the department\n",
    "    def display_info(self):\n",
    "        super().display_info()\n",
    "        print(f\"Department: {self.department}\")\n",
    "\n",
    "# Example usage:\n",
    "employee1 = Employee(\"John Doe\", 50000)\n",
    "employee1.display_info()\n",
    "\n",
    "manager1 = Manager(\"Jane Smith\", 75000, \"HR\")\n",
    "manager1.display_info()\n"
   ]
  },
  {
   "cell_type": "markdown",
   "id": "b0f752ec",
   "metadata": {},
   "source": [
    "15. Discuss the concept of method overloading in Python inheritance. How does it differ from \n",
    "method overriding?\n"
   ]
  },
  {
   "cell_type": "code",
   "execution_count": null,
   "id": "a0da0d99",
   "metadata": {},
   "outputs": [],
   "source": [
    "'''\n",
    "In Python, method overloading refers to the ability to define multiple methods with the same name in a class, \n",
    "but with different parameters. However, Python doesn't support true method overloading like some other languages\n",
    "(e.g., Java or C++), where you can have multiple methods with the same name but different parameter types or numbers. \n",
    "In Python, the last defined method with a particular name and the same number of parameters will override any previous methods\n",
    "with the same name.\n",
    "\n",
    "In Python, method overloading is achieved by defining multiple methods with the same name in a class, \n",
    "but with different parameter lists. However, the methods must have different numbers or types of parameters, \n",
    "as Python will consider the latest definition as the one to use:'''"
   ]
  },
  {
   "cell_type": "markdown",
   "id": "b65dafff",
   "metadata": {},
   "source": [
    "16. Explain the purpose of the `__init__()` method in Python inheritance and how it is utilized in \n",
    "child classes.\n"
   ]
  },
  {
   "cell_type": "code",
   "execution_count": null,
   "id": "976ece8c",
   "metadata": {},
   "outputs": [],
   "source": [
    "'''The __init__() method in Python is a special method, also known as a constructor, that is automatically called when an \n",
    "object is created from a class. Its primary purpose is to initialize the attributes or properties of the object. \n",
    "In the context of inheritance, the __init__() method plays a crucial role in initializing attributes inherited from the\n",
    "parent class and in allowing the child class to perform additional initialization specific to itself.'''"
   ]
  },
  {
   "cell_type": "markdown",
   "id": "e6ac83c1",
   "metadata": {},
   "source": [
    "17. Create a Python class called `Bird` with a method `fly()`. Then, create child classes `Eagle` \n",
    "and `Sparrow` that inherit from `Bird` and implement the `fly()` method differently. Provide an \n",
    "example of using these classes."
   ]
  },
  {
   "cell_type": "code",
   "execution_count": 7,
   "id": "0e0f0af1",
   "metadata": {},
   "outputs": [
    {
     "name": "stdout",
     "output_type": "stream",
     "text": [
      "Eagle is soaring high in the sky.\n",
      "Sparrow is fluttering around in the air.\n"
     ]
    }
   ],
   "source": [
    "class Bird:\n",
    "    def fly(self):\n",
    "        raise NotImplementedError(\"Subclasses must implement the fly method.\")\n",
    "\n",
    "class Eagle(Bird):\n",
    "    def fly(self):\n",
    "        return \"Eagle is soaring high in the sky.\"\n",
    "\n",
    "class Sparrow(Bird):\n",
    "    def fly(self):\n",
    "        return \"Sparrow is fluttering around in the air.\"\n",
    "\n",
    "# Example usage:\n",
    "eagle_obj = Eagle()\n",
    "sparrow_obj = Sparrow()\n",
    "\n",
    "print(eagle_obj.fly())   # Output: Eagle is soaring high in the sky.\n",
    "print(sparrow_obj.fly())  # Output: Sparrow is fluttering around in the air.\n"
   ]
  },
  {
   "cell_type": "markdown",
   "id": "30bd1266",
   "metadata": {},
   "source": [
    "18. What is the \"diamond problem\" in multiple inheritance, and how does Python address it"
   ]
  },
  {
   "cell_type": "code",
   "execution_count": null,
   "id": "8763c1f8",
   "metadata": {},
   "outputs": [],
   "source": [
    "'''The \"diamond problem\" is a term used in the context of multiple inheritance, which arises when a class inherits\n",
    "from two classes that have a common ancestor. This common ancestor class is often referred to as the \"diamond,\"\n",
    "and the problem occurs when there are method conflicts or ambiguities in the inheritance hierarchy.'''"
   ]
  },
  {
   "cell_type": "markdown",
   "id": "437a6192",
   "metadata": {},
   "source": [
    "19. Discuss the concept of \"is-a\" and \"has-a\" relationships in inheritance, and provide examples \n",
    "of each."
   ]
  },
  {
   "cell_type": "code",
   "execution_count": null,
   "id": "174cf224",
   "metadata": {},
   "outputs": [],
   "source": [
    "'''The concepts of \"is-a\" and \"has-a\" relationships are related to inheritance and composition in object-oriented programming. \n",
    "These concepts help describe the relationships between classes and objects in a system.\n",
    "\n",
    "\"is-a\" Relationship:\n",
    "The \"is-a\" relationship is also known as inheritance or specialization. It indicates that one class is a specialized \n",
    "version of another class. The subclass (derived class) \"is a kind of\" the superclass (base class). Inheritance allows \n",
    "the subclass to inherit the attributes and behaviors of the superclass while adding or modifying its own.'''\n",
    "\n",
    "\n",
    "'''\"has-a\" Relationship:\n",
    "The \"has-a\" relationship involves composition, where one class has another class as a component or part. It indicates that\n",
    "one class \"has a\" relationship with another class, typically through the use of instance variables or attributes.'''"
   ]
  },
  {
   "cell_type": "markdown",
   "id": "f90563ee",
   "metadata": {},
   "source": [
    "20. Create a Python class hierarchy for a university system. Start with a base class `Person` \n",
    "and create child classes `Student` and `Professor`, each with their own attributes and methods. \n",
    "Provide an example of using these classes in a university context."
   ]
  },
  {
   "cell_type": "code",
   "execution_count": 8,
   "id": "243d3bf2",
   "metadata": {},
   "outputs": [],
   "source": [
    "class Person:\n",
    "    def __init__(self, name, age):\n",
    "        self.name = name\n",
    "        self.age = age\n",
    "\n",
    "    def display_info(self):\n",
    "        print(f\"Name: {self.name}, Age: {self.age}\")\n",
    "\n",
    "\n",
    "class Student(Person):\n",
    "    def __init__(self, name, age, student_id):\n",
    "        super().__init__(name, age)\n",
    "        self.student_id = student_id\n",
    "\n",
    "    def display_info(self):\n",
    "        super().display_info()\n",
    "        print(f\"Student ID: {self.student_id}\")\n",
    "\n",
    "    def study(self):\n",
    "        print(f\"{self.name} is studying.\")\n",
    "\n",
    "\n",
    "class Professor(Person):\n",
    "    def __init__(self, name, age, employee_id):\n",
    "        super().__init__(name, age)\n",
    "        self.employee_id = employee_id\n",
    "\n",
    "    def display_info(self):\n",
    "        super().display_info()\n",
    "        print(f\"Employee ID: {self.employee_id}\")\n",
    "\n",
    "    def teach(self):\n",
    "        print(f\"{self.name} is teaching a class.\")\n"
   ]
  },
  {
   "cell_type": "markdown",
   "id": "d8d97ddd",
   "metadata": {},
   "source": [
    "# ENCAPSULATION"
   ]
  },
  {
   "cell_type": "markdown",
   "id": "6dffacb3",
   "metadata": {},
   "source": [
    "1. Explain the concept of encapsulation in Python. What is its role in object-oriented \n",
    "programming?"
   ]
  },
  {
   "cell_type": "code",
   "execution_count": 41,
   "id": "144245cc",
   "metadata": {},
   "outputs": [
    {
     "data": {
      "text/plain": [
       "'\\nit is a concept of oops ,Hiding internal implementation or details of how an object works is called encapsulation\\n\\nrole in oop\\n1.data hiding\\n2.access control\\n\\n'"
      ]
     },
     "execution_count": 41,
     "metadata": {},
     "output_type": "execute_result"
    }
   ],
   "source": [
    "'''\n",
    "it is a concept of oops ,Hiding internal implementation or details of how an object works is called encapsulation\n",
    "\n",
    "role in oop\n",
    "1.data hiding\n",
    "2.access control\n",
    "\n",
    "'''"
   ]
  },
  {
   "cell_type": "markdown",
   "id": "deb809e9",
   "metadata": {},
   "source": [
    "2. Describe the key principles of encapsulation, including access control and data \n",
    "hiding"
   ]
  },
  {
   "cell_type": "code",
   "execution_count": null,
   "id": "0820c9a1",
   "metadata": {},
   "outputs": [],
   "source": [
    "''' key principles are :\n",
    "\n",
    "1.Data hiding : hide internal data by \n",
    "      public attributes\n",
    "      protected attributes\n",
    "      private attributes\n",
    "2.access control\n",
    "        public\n",
    "        protected\n",
    "        private\n",
    "\n",
    "\n",
    "'''"
   ]
  },
  {
   "cell_type": "markdown",
   "id": "a5d25383",
   "metadata": {},
   "source": [
    "3. How can you achieve encapsulation in Python classes? Provide an example"
   ]
  },
  {
   "cell_type": "code",
   "execution_count": 42,
   "id": "5341aa0b",
   "metadata": {},
   "outputs": [
    {
     "name": "stdout",
     "output_type": "stream",
     "text": [
      "Name: Alice\n",
      "Age: 20\n",
      "Invalid name format. Name not updated.\n",
      "Invalid age format. Age not updated.\n",
      "Name: Bob\n",
      "Age: 25\n"
     ]
    }
   ],
   "source": [
    "'''\n",
    "\n",
    "Using Access Control Modifiers:\n",
    "\n",
    "1.Make attributes and methods private, protected, or public by using naming conventions or double underscores to \n",
    "control access levels.\n",
    "\n",
    "Public attributes and methods have no specific access modifier.\n",
    "Protected attributes and methods are typically indicated with a single underscore prefix (e.g., _protected_attr).\n",
    "Private attributes and methods are usually indicated with a double underscore prefix (e.g., __private_attr).\n",
    "\n",
    "\n",
    "2.Using Getter and Setter Methods:\n",
    "\n",
    "Provide public methods (getter and setter methods) to access and modify the internal state of the object.\n",
    "Getter methods allow you to retrieve the values of attributes.\n",
    "Setter methods allow you to set or modify the values of attributes, often with validation or additional logic.\n",
    "\n",
    "'''\n",
    "\n",
    "\n",
    "class Student:\n",
    "    def __init__(self, name, age):\n",
    "        self.__name = name  # Private attribute\n",
    "        self.__age = age    # Private attribute\n",
    "\n",
    "    # Getter methods\n",
    "    def get_name(self):\n",
    "        return self.__name\n",
    "\n",
    "    def get_age(self):\n",
    "        return self.__age\n",
    "\n",
    "    # Setter methods with validation\n",
    "    def set_name(self, name):\n",
    "        if isinstance(name, str):\n",
    "            self.__name = name\n",
    "        else:\n",
    "            print(\"Invalid name format. Name not updated.\")\n",
    "\n",
    "    def set_age(self, age):\n",
    "        if isinstance(age, int) and age > 0:\n",
    "            self.__age = age\n",
    "        else:\n",
    "            print(\"Invalid age format. Age not updated.\")\n",
    "\n",
    "# Create an instance of the class\n",
    "student = Student(\"Alice\", 20)\n",
    "\n",
    "# Accessing attributes using getter methods\n",
    "print(\"Name:\", student.get_name())\n",
    "print(\"Age:\", student.get_age())\n",
    "\n",
    "# Modifying attributes using setter methods\n",
    "student.set_name(\"Bob\")\n",
    "student.set_age(25)\n",
    "\n",
    "# Attempting to modify attributes with invalid data\n",
    "student.set_name(123)\n",
    "student.set_age(\"Invalid\")\n",
    "\n",
    "# Accessing attributes after attempted modifications\n",
    "print(\"Name:\", student.get_name())  # \"Name\" remains \"Bob\"\n",
    "print(\"Age:\", student.get_age())    # \"Age\" remains 25\n"
   ]
  },
  {
   "cell_type": "markdown",
   "id": "60387e88",
   "metadata": {},
   "source": [
    "4. Discuss the difference between public, private, and protected access modifiers in \n",
    "Python."
   ]
  },
  {
   "cell_type": "code",
   "execution_count": null,
   "id": "b62eb7fd",
   "metadata": {},
   "outputs": [],
   "source": [
    "''' public, private and protected are access modifiers used to control the visibility and accessibility of class members \n",
    "(attributes and methods)\n",
    "\n",
    "Public members have no access restrictions, meaning they can be accessed from anywhere, both within and outside the class.\n",
    "\n",
    "Private members are intended to be used only within the class they are defined in, and they are not \n",
    "directly accessible from outside the class.\n",
    "Private members are indicated by prefixing the member name with a double underscore \"__\". \n",
    "For example, __private_var or __private_method().\n",
    "\n",
    "Protected members are intended to be used within the class they are defined in and its subclasses (inheritors). \n",
    "However, they can still be accessed from outside the class.\n",
    "Protected members are indicated by prefixing the member name with a single underscore \"_\".\n",
    "For example, _protected_var or _protected_method().\n",
    "\n",
    "'''"
   ]
  },
  {
   "cell_type": "markdown",
   "id": "ca631032",
   "metadata": {},
   "source": [
    " 5. Create a Python class called `Person` with a private attribute `__name`. Provide \n",
    "methods to get and set the name attribute."
   ]
  },
  {
   "cell_type": "code",
   "execution_count": 47,
   "id": "5499e037",
   "metadata": {},
   "outputs": [
    {
     "name": "stdout",
     "output_type": "stream",
     "text": [
      "suma\n",
      "suma\n"
     ]
    }
   ],
   "source": [
    "class person:\n",
    "    def __init__(self,name):\n",
    "        self.__name = name\n",
    "        \n",
    "    def get_name(self):\n",
    "        return self.__name\n",
    "    \n",
    "    def set_name(self,new_name):\n",
    "        self.__new_name = new_name\n",
    "        \n",
    "person_obj = person(\"suma\")\n",
    "print(person_obj.get_name())\n",
    "\n",
    "person_obj.set_name(\"reddy\")\n",
    "\n",
    "print(person_obj.get_name())\n",
    "        \n",
    "        "
   ]
  },
  {
   "cell_type": "code",
   "execution_count": 49,
   "id": "e9b1c62f",
   "metadata": {},
   "outputs": [
    {
     "name": "stdout",
     "output_type": "stream",
     "text": [
      "Current temperature: 25\n",
      "Invalid temperature value.\n",
      "Current temperature: 25\n"
     ]
    }
   ],
   "source": [
    "# 6. Explain the purpose of getter and setter methods in encapsulation. Provide examples.\n",
    "\n",
    "'''They are used to control access to the attributes of a class, providing a way to get (access) and\n",
    "set (modify) the values of these attributes. \n",
    "\n",
    "primary purpose is to enforce data encapsulation.'''\n",
    "\n",
    "class TemperatureSensor:\n",
    "    def __init__(self):\n",
    "        self.__temperature = 0  # Private attribute\n",
    "\n",
    "    def get_temperature(self):\n",
    "        return self.__temperature\n",
    "\n",
    "    def set_temperature(self, new_temperature):\n",
    "        if new_temperature < -50 or new_temperature > 50:\n",
    "            print(\"Invalid temperature value.\")\n",
    "        else:\n",
    "            self.__temperature = new_temperature\n",
    "\n",
    "# Create an instance of the TemperatureSensor class\n",
    "sensor = TemperatureSensor()\n",
    "\n",
    "# Using getter and setter to access and modify the temperature\n",
    "sensor.set_temperature(25)\n",
    "print(\"Current temperature:\", sensor.get_temperature())  # Output: Current temperature: 25\n",
    "\n",
    "sensor.set_temperature(60)  # This will trigger the validation check\n",
    "print(\"Current temperature:\", sensor.get_temperature())  # Output: Invalid temperature value.\n"
   ]
  },
  {
   "cell_type": "code",
   "execution_count": null,
   "id": "efe3208a",
   "metadata": {},
   "outputs": [],
   "source": [
    "# 7. What is name mangling in Python, and how does it affect encapsulation?\n",
    "'''Name mangling in Python is a mechanism that adds a prefix to names of attributes in a class to make them less accessible \n",
    "from outside the class. This is often used to create a form of \"private\" attributes or to avoid accidental name clashes in \n",
    "large codebases. The mangling process involves adding a double underscore (__) as a prefix to the attribute name, and an \n",
    "additional prefix based on the class name.\n",
    "\n",
    "Here's how name mangling works:\n",
    "\n",
    "Any identifier of the form __<name> (at least two leading underscores and at most one trailing underscore) is textually \n",
    "replaced with _classname__<name>, where classname is the current class name with leading underscore(s) stripped.\n",
    "\n",
    "If the class name starts with one or more underscores, they are not stripped.\n",
    "\n",
    "\n",
    "\n",
    "How it Affects Encapsulation:\n",
    "Encapsulation: Encapsulation is a fundamental concept in object-oriented programming that involves bundling the data \n",
    "(attributes) and methods that operate on the data into a single unit (a class). It helps hide the internal implementation\n",
    "details of a class and only exposes a well-defined interface.\n",
    "\n",
    "Name Mangling and Encapsulation: Name mangling adds a level of name privacy to attributes, making them less accessible\n",
    "from outside the class. However, it's important to note that name mangling in Python is more of a convention than a strict \n",
    "enforcement. If someone is determined to access a mangled attribute, they can still do so.\n",
    "\n",
    "Convention for Private Attributes: While name mangling provides a level of encapsulation, in Python, a single leading \n",
    "underscore is often used as a convention to indicate that an attribute is intended for internal use and should not be accessed\n",
    "from outside the class. This is a gentler form of encapsulation, relying on developers to follow conventions rather than\n",
    "strict access control.'''\n"
   ]
  },
  {
   "cell_type": "markdown",
   "id": "7613069c",
   "metadata": {},
   "source": [
    "8. Create a Python class called `BankAccount` with private attributes for the account \n",
    "balance (`__balance`) and account number (`__account_number`). Provide methods for \n",
    "depositing and withdrawing money."
   ]
  },
  {
   "cell_type": "code",
   "execution_count": 2,
   "id": "3a0daa98",
   "metadata": {},
   "outputs": [
    {
     "name": "stdout",
     "output_type": "stream",
     "text": [
      "person having 40293143567 deposited 10000 money\n"
     ]
    }
   ],
   "source": [
    "class BankAccount:\n",
    "    def __init__(self,balance,acc_number):\n",
    "        self.__balance = balance\n",
    "        self.__acc_number = acc_number\n",
    "        \n",
    "    def deposit(self,deposit_amount):\n",
    "        print(\"person having\",self.__acc_number, \"deposited\",deposit_amount,\"money\")\n",
    "        self.__balance = self.__balance + deposit_amount\n",
    "        \n",
    "    def withdraw(self,withdraw_amount):\n",
    "        if withdraw_amount <= self.__balance:\n",
    "            print(\"Person having\", self.__acc_number, \"withdraw\", withdraw_amount, \"money\")\n",
    "            self.__balance = self.__balance - withdraw_amount\n",
    "        else:\n",
    "            print(\"insuffiecient balance\")\n",
    "        \n",
    "bank = BankAccount(20000,40293143567)\n",
    "bank.deposit(10000)"
   ]
  },
  {
   "cell_type": "markdown",
   "id": "d87cc379",
   "metadata": {},
   "source": [
    " 9. Discuss the advantages of encapsulation in terms of code maintainability and \n",
    "security.\n"
   ]
  },
  {
   "cell_type": "code",
   "execution_count": null,
   "id": "01c455da",
   "metadata": {},
   "outputs": [],
   "source": [
    "'''\n",
    "\n",
    "Data Hiding: Encapsulation allows you to hide the internal details and implementation of a class from the outside world. \n",
    "This means that the internal data (attributes) and the implementation details are not directly accessible by external code.\n",
    "This helps in preventing unintended interference and manipulation of the object's state, which can lead to more stable and \n",
    "predictable behavior.\n",
    "\n",
    "\n",
    "\n",
    "Code Maintenance: Encapsulation simplifies code maintenance by providing a clear and well-defined interface to interact\n",
    "with an object. When you encapsulate the internal details of a class, you can make changes to the internal implementation \n",
    "without affecting the code that uses the class. This is known as \"encapsulation shields from change.\" As long as the \n",
    "external interface remains consistent, you can modify the internal details without breaking the code that relies on the \n",
    "class.\n",
    "\n",
    "Modularity: Encapsulation encourages a modular approach to software design. You can create independent, reusable components\n",
    "(classes) that can be used in various parts of your program without exposing their inner workings. This promotes the \n",
    "separation of concerns and allows you to build more maintainable and understandable code.\n",
    "\n",
    "Security: Encapsulation enhances security by controlling access to the internal data of an object. \n",
    "You can specify which parts of the object are accessible and which are not. This prevents unauthorized or unintended access\n",
    "to sensitive data and functionality. In some cases, you can implement access control mechanisms (e.g., using access\n",
    "modifiers like private, protected, and public in languages like Python or Java) to restrict access to certain attributes \n",
    "or methods.\n",
    "\n",
    "Code Readability: Encapsulation improves code readability by providing a clear and self-contained interface to interact \n",
    "with an object. Developers working with an encapsulated class don't need to understand the intricate details of its\n",
    "implementation. They can rely on the well-defined public interface, making the code more understandable and maintainable.\n",
    "\n",
    "Code Reusability: Encapsulated classes are often more reusable because they provide a clear and consistent interface for\n",
    "interacting with their objects. This makes it easier to use the class in different parts of a program or even in different \n",
    "projects, leading to increased code reusability and reduced redundancy.'''"
   ]
  },
  {
   "cell_type": "markdown",
   "id": "cd873b8a",
   "metadata": {},
   "source": [
    "10. How can you access private attributes in Python? Provide an example \n",
    "demonstrating the use of name manglin"
   ]
  },
  {
   "cell_type": "code",
   "execution_count": 10,
   "id": "da9f6acc",
   "metadata": {},
   "outputs": [
    {
     "name": "stdout",
     "output_type": "stream",
     "text": [
      "42\n"
     ]
    }
   ],
   "source": [
    "'''Accessing private attributes in Python involves using the name mangling convention. Private attributes are prefixed with \n",
    "double underscores (__), and the names are mangled to include the class name. However, it's important to note that accessing \n",
    "private attributes using name mangling is discouraged and goes against the principles of encapsulation. It should be avoided\n",
    "unless there's a compelling reason to do so.'''\n",
    "\n",
    "\n",
    "class MyClass:\n",
    "    def __init__(self):\n",
    "        self.__private_attribute = 42\n",
    "\n",
    "# Creating an instance of MyClass\n",
    "obj = MyClass()\n",
    "\n",
    "# Accessing the private attribute using name mangling (discouraged)\n",
    "mangled_name = f\"_{obj.__class__.__name__}__private_attribute\"\n",
    "print(getattr(obj, mangled_name))  # Output: 42\n",
    "\n"
   ]
  },
  {
   "cell_type": "markdown",
   "id": "5b870788",
   "metadata": {},
   "source": [
    "11. Create a Python class hierarchy for a school system, including classes for students, \n",
    "teachers, and courses, and implement encapsulation principles to protect sensitive \n",
    "information.\n"
   ]
  },
  {
   "cell_type": "code",
   "execution_count": 3,
   "id": "6da1cf3b",
   "metadata": {},
   "outputs": [
    {
     "name": "stdout",
     "output_type": "stream",
     "text": [
      "Student: Alice Johnson, Student ID: 18, Courses: Mathematics\n",
      "Teacher: John Smith, Employee ID: 35, Courses Taught: Mathematics\n"
     ]
    }
   ],
   "source": [
    "class Person:\n",
    "    def __init__(self, first_name, last_name, age):\n",
    "        self.__first_name = first_name\n",
    "        self.__last_name = last_name\n",
    "        self.__age = age\n",
    "\n",
    "    def get_full_name(self):\n",
    "        return f\"{self.__first_name} {self.__last_name}\"\n",
    "\n",
    "    def get_age(self):\n",
    "        return self.__age\n",
    "\n",
    "class Student(Person):\n",
    "    def __init__(self, first_name, last_name, age, student_id):\n",
    "        super().__init__(first_name, last_name, age)\n",
    "        self.__student_id = student_id\n",
    "        self.__courses = []\n",
    "\n",
    "    def enroll_in_course(self, course):\n",
    "        self.__courses.append(course)\n",
    "\n",
    "    def get_courses(self):\n",
    "        return self.__courses\n",
    "\n",
    "class Teacher(Person):\n",
    "    def __init__(self, first_name, last_name, age, employee_id):\n",
    "        super().__init__(first_name, last_name, age)\n",
    "        self.__employee_id = employee_id\n",
    "        self.__courses_taught = []\n",
    "\n",
    "    def assign_course(self, course):\n",
    "        self.__courses_taught.append(course)\n",
    "\n",
    "    def get_courses_taught(self):\n",
    "        return self.__courses_taught\n",
    "\n",
    "class Course:\n",
    "    def __init__(self, course_code, course_name):\n",
    "        self.__course_code = course_code\n",
    "        self.__course_name = course_name\n",
    "\n",
    "    def get_course_code(self):\n",
    "        return self.__course_code\n",
    "\n",
    "    def get_course_name(self):\n",
    "        return self.__course_name\n",
    "\n",
    "# Example usage:\n",
    "student1 = Student(\"Alice\", \"Johnson\", 18, \"S12345\")\n",
    "teacher1 = Teacher(\"John\", \"Smith\", 35, \"T7890\")\n",
    "course1 = Course(\"MATH101\", \"Mathematics\")\n",
    "\n",
    "student1.enroll_in_course(course1)\n",
    "teacher1.assign_course(course1)\n",
    "\n",
    "print(f\"Student: {student1.get_full_name()}, Student ID: {student1.get_age()}, Courses: {', '.join([course.get_course_name() for course in student1.get_courses()])}\")\n",
    "print(f\"Teacher: {teacher1.get_full_name()}, Employee ID: {teacher1.get_age()}, Courses Taught: {', '.join([course.get_course_name() for course in teacher1.get_courses_taught()])}\")\n"
   ]
  },
  {
   "cell_type": "markdown",
   "id": "0e696b1f",
   "metadata": {},
   "source": [
    "12. Explain the concept of property decorators in Python and how they relate to \n",
    "encapsulation.\n"
   ]
  },
  {
   "cell_type": "code",
   "execution_count": null,
   "id": "837b61b4",
   "metadata": {},
   "outputs": [],
   "source": [
    "'''Property decorators in Python are a way to create read-only or read-write properties for class attributes.\n",
    "They allow you to define getter, setter, and deleter methods in a way that resembles accessing or modifying attributes \n",
    "directly, providing a clean and intuitive interface for working with object properties. Property decorators are a \n",
    "powerful tool for implementing encapsulation and ensuring controlled access\n",
    "to class attributes.'''"
   ]
  },
  {
   "cell_type": "markdown",
   "id": "aaffb91d",
   "metadata": {},
   "source": [
    "13. What is data hiding, and why is it important in encapsulation? Provide examples.\n"
   ]
  },
  {
   "cell_type": "code",
   "execution_count": 11,
   "id": "178b71db",
   "metadata": {},
   "outputs": [
    {
     "name": "stdout",
     "output_type": "stream",
     "text": [
      "Current Balance: $1000\n",
      "Updated Balance: $1300\n"
     ]
    }
   ],
   "source": [
    "'''Data hiding is a concept in object-oriented programming that involves restricting access to certain details of an object \n",
    "and exposing only what is necessary. It is closely related to encapsulation, which is one of the fundamental principles of \n",
    "object-oriented design. The main idea behind data hiding is to shield the internal state or implementation details of an object\n",
    "from direct access by external code.\n",
    "\n",
    "In Python, data hiding is often achieved through the use of access modifiers such as single leading underscores (_) \n",
    "and double leading underscores (__). These conventions indicate to other developers that certain attributes or methods \n",
    "are intended for internal use and should not be accessed directly from outside the class.'''\n",
    "\n",
    "class BankAccount:\n",
    "    def __init__(self, balance):\n",
    "        self._balance = balance  # Single leading underscore for indicating protected attribute\n",
    "\n",
    "    def get_balance(self):\n",
    "        \"\"\"Getter method for accessing balance.\"\"\"\n",
    "        return self._balance\n",
    "\n",
    "    def deposit(self, amount):\n",
    "        \"\"\"Method for depositing money.\"\"\"\n",
    "        if amount > 0:\n",
    "            self._balance += amount\n",
    "\n",
    "    def withdraw(self, amount):\n",
    "        \"\"\"Method for withdrawing money.\"\"\"\n",
    "        if amount > 0 and amount <= self._balance:\n",
    "            self._balance -= amount\n",
    "\n",
    "# Example usage:\n",
    "account = BankAccount(1000)\n",
    "\n",
    "# Accessing balance using the getter method\n",
    "current_balance = account.get_balance()\n",
    "print(f\"Current Balance: ${current_balance}\")\n",
    "\n",
    "# Depositing and withdrawing money using methods\n",
    "account.deposit(500)\n",
    "account.withdraw(200)\n",
    "\n",
    "# Accessing balance again\n",
    "current_balance = account.get_balance()\n",
    "print(f\"Updated Balance: ${current_balance}\")\n"
   ]
  },
  {
   "cell_type": "markdown",
   "id": "b312e7e6",
   "metadata": {},
   "source": [
    "14. Create a Python class called `Employee` with private attributes for salary (`__salary`) \n",
    "and employee ID (`__employee_id`). Provide a method to calculate yearly bonuses"
   ]
  },
  {
   "cell_type": "code",
   "execution_count": 12,
   "id": "4bc97b78",
   "metadata": {},
   "outputs": [
    {
     "name": "stdout",
     "output_type": "stream",
     "text": [
      "Employee ID: E12345\n",
      "Salary: $50000\n",
      "Yearly Bonus: $5000.0\n"
     ]
    }
   ],
   "source": [
    "class Employee:\n",
    "    def __init__(self, employee_id, salary):\n",
    "        self.__employee_id = employee_id\n",
    "        self.__salary = salary\n",
    "\n",
    "    def calculate_yearly_bonus(self):\n",
    "        \"\"\"Calculate yearly bonus based on salary.\"\"\"\n",
    "        bonus_percentage = 0.1  # 10% of the salary as a bonus (adjust as needed)\n",
    "        yearly_bonus = self.__salary * bonus_percentage\n",
    "        return yearly_bonus\n",
    "\n",
    "    # Getter methods to access private attributes\n",
    "    def get_employee_id(self):\n",
    "        return self.__employee_id\n",
    "\n",
    "    def get_salary(self):\n",
    "        return self.__salary\n",
    "\n",
    "# Example usage:\n",
    "employee = Employee(employee_id=\"E12345\", salary=50000)\n",
    "\n",
    "# Accessing private attributes using getter methods\n",
    "print(f\"Employee ID: {employee.get_employee_id()}\")\n",
    "print(f\"Salary: ${employee.get_salary()}\")\n",
    "\n",
    "# Calculating and displaying the yearly bonus\n",
    "yearly_bonus = employee.calculate_yearly_bonus()\n",
    "print(f\"Yearly Bonus: ${yearly_bonus}\")\n"
   ]
  },
  {
   "cell_type": "markdown",
   "id": "ae7af747",
   "metadata": {},
   "source": [
    "15. Discuss the use of accessors and mutators in encapsulation. How do they help \n",
    "maintain control over attribute access"
   ]
  },
  {
   "cell_type": "code",
   "execution_count": null,
   "id": "263a5730",
   "metadata": {},
   "outputs": [],
   "source": [
    "'''Accessors and mutators, often referred to as getters and setters, are methods used in encapsulation to provide \n",
    "controlled access to the attributes of a class. They play a crucial role in maintaining control over how attributes are \n",
    "accessed and modified, promoting data integrity and encapsulation principles.'''"
   ]
  },
  {
   "cell_type": "markdown",
   "id": "3e8b970c",
   "metadata": {},
   "source": [
    "16. What are the potential drawbacks or disadvantages of using encapsulation in \n",
    "Python?"
   ]
  },
  {
   "cell_type": "code",
   "execution_count": null,
   "id": "54ad5575",
   "metadata": {},
   "outputs": [],
   "source": [
    "'''\n",
    " some potential drawbacks of using encapsulation in Python:\n",
    " \n",
    " 1.INCREASED COMPLEXITY\n",
    " 2.PERFORMANCE OVEHEAD\n",
    " 3.CODE VERBOSITY\n",
    " 4LIMITED ACCESS TO INTERNAL STATE'''"
   ]
  },
  {
   "cell_type": "markdown",
   "id": "7875b37b",
   "metadata": {},
   "source": [
    "17. Create a Python class for a library system that encapsulates book information, \n",
    "including titles, authors, and availability status"
   ]
  },
  {
   "cell_type": "code",
   "execution_count": 13,
   "id": "6f19ffbe",
   "metadata": {},
   "outputs": [
    {
     "name": "stdout",
     "output_type": "stream",
     "text": [
      "Title: The Great Gatsby\n",
      "Author: F. Scott Fitzgerald\n",
      "Status: Available\n",
      "\n",
      "Title: To Kill a Mockingbird\n",
      "Author: Harper Lee\n",
      "Status: Not Available\n",
      "\n",
      "Borrowing 'The Great Gatsby' by F. Scott Fitzgerald\n",
      "Sorry, 'To Kill a Mockingbird' is currently not available.\n",
      "Returning 'The Great Gatsby' by F. Scott Fitzgerald\n",
      "Returning 'To Kill a Mockingbird' by Harper Lee\n",
      "Title: The Great Gatsby\n",
      "Author: F. Scott Fitzgerald\n",
      "Status: Available\n",
      "\n",
      "Title: To Kill a Mockingbird\n",
      "Author: Harper Lee\n",
      "Status: Available\n",
      "\n"
     ]
    }
   ],
   "source": [
    "class Book:\n",
    "    def __init__(self, title, author, is_available=True):\n",
    "        self.title = title\n",
    "        self.author = author\n",
    "        self.is_available = is_available\n",
    "\n",
    "    def display_info(self):\n",
    "        \"\"\"Display information about the book.\"\"\"\n",
    "        availability = \"Available\" if self.is_available else \"Not Available\"\n",
    "        print(f\"Title: {self.title}\\nAuthor: {self.author}\\nStatus: {availability}\\n\")\n",
    "\n",
    "    def borrow_book(self):\n",
    "        \"\"\"Borrow the book if available.\"\"\"\n",
    "        if self.is_available:\n",
    "            print(f\"Borrowing '{self.title}' by {self.author}\")\n",
    "            self.is_available = False\n",
    "        else:\n",
    "            print(f\"Sorry, '{self.title}' is currently not available.\")\n",
    "\n",
    "    def return_book(self):\n",
    "        \"\"\"Return the book.\"\"\"\n",
    "        if not self.is_available:\n",
    "            print(f\"Returning '{self.title}' by {self.author}\")\n",
    "            self.is_available = True\n",
    "        else:\n",
    "            print(f\"The book '{self.title}' is already available.\")\n",
    "\n",
    "# Example usage:\n",
    "book1 = Book(\"The Great Gatsby\", \"F. Scott Fitzgerald\")\n",
    "book2 = Book(\"To Kill a Mockingbird\", \"Harper Lee\", is_available=False)\n",
    "\n",
    "# Display information about the books\n",
    "book1.display_info()\n",
    "book2.display_info()\n",
    "\n",
    "# Borrow and return books\n",
    "book1.borrow_book()\n",
    "book2.borrow_book()\n",
    "\n",
    "book1.return_book()\n",
    "book2.return_book()\n",
    "\n",
    "# Display updated information\n",
    "book1.display_info()\n",
    "book2.display_info()\n"
   ]
  },
  {
   "cell_type": "markdown",
   "id": "d613c3b6",
   "metadata": {},
   "source": [
    "18. Explain how encapsulation enhances code reusability and modularity in Python \n",
    "programs"
   ]
  },
  {
   "cell_type": "code",
   "execution_count": null,
   "id": "adcf3a7c",
   "metadata": {},
   "outputs": [],
   "source": [
    "'''Encapsulation in Python enhances code reusability and modularity by promoting a clear separation between the internal\n",
    "implementation details of a class and its external interface. This separation allows for the creation of independent,\n",
    "reusable components that can be easily understood, maintained, and extended.'''"
   ]
  },
  {
   "cell_type": "markdown",
   "id": "b43a62be",
   "metadata": {},
   "source": [
    "19. Describe the concept of information hiding in encapsulation. Why is it essential in \n",
    "software development?\n"
   ]
  },
  {
   "cell_type": "code",
   "execution_count": null,
   "id": "f6f2edcc",
   "metadata": {},
   "outputs": [],
   "source": [
    "'''\n",
    "Information hiding is a key concept in encapsulation that involves concealing the implementation details of a class\n",
    "from external code and exposing only what is necessary for the class's intended use. It is about selectively revealing \n",
    "or hiding certain aspects of a class to provide a clean, well-defined interface while keeping the internal workings hidden.'''"
   ]
  },
  {
   "cell_type": "markdown",
   "id": "371c3c53",
   "metadata": {},
   "source": [
    "20. Create a Python class called `Customer` with private attributes for customer details \n",
    "like name, address, and contact information. Implement encapsulation to ensure data \n",
    "integrity and security.\n"
   ]
  },
  {
   "cell_type": "code",
   "execution_count": 14,
   "id": "95f9e4c7",
   "metadata": {},
   "outputs": [
    {
     "name": "stdout",
     "output_type": "stream",
     "text": [
      "Name: John Doe\n",
      "Address: 123 Main St\n",
      "Contact Info: john.doe@email.com\n",
      "\n",
      "Updated Information:\n",
      "Name: John Doe\n",
      "Address: 456 Oak St\n",
      "Contact Info: john.doe@gmail.com\n"
     ]
    }
   ],
   "source": [
    "class Customer:\n",
    "    def __init__(self, name, address, contact_info):\n",
    "        self._name = name  # Single leading underscore for indicating protected attribute\n",
    "        self._address = address\n",
    "        self._contact_info = contact_info\n",
    "\n",
    "    # Getter methods to access private attributes\n",
    "    def get_name(self):\n",
    "        return self._name\n",
    "\n",
    "    def get_address(self):\n",
    "        return self._address\n",
    "\n",
    "    def get_contact_info(self):\n",
    "        return self._contact_info\n",
    "\n",
    "    # Setter methods to modify private attributes (optional)\n",
    "    def set_address(self, new_address):\n",
    "        self._address = new_address\n",
    "\n",
    "    def set_contact_info(self, new_contact_info):\n",
    "        self._contact_info = new_contact_info\n",
    "\n",
    "# Example usage:\n",
    "customer = Customer(name=\"John Doe\", address=\"123 Main St\", contact_info=\"john.doe@email.com\")\n",
    "\n",
    "# Accessing private attributes using getter methods\n",
    "print(f\"Name: {customer.get_name()}\")\n",
    "print(f\"Address: {customer.get_address()}\")\n",
    "print(f\"Contact Info: {customer.get_contact_info()}\")\n",
    "\n",
    "# Modifying private attributes using setter methods (optional)\n",
    "customer.set_address(\"456 Oak St\")\n",
    "customer.set_contact_info(\"john.doe@gmail.com\")\n",
    "\n",
    "# Displaying updated information\n",
    "print(\"\\nUpdated Information:\")\n",
    "print(f\"Name: {customer.get_name()}\")\n",
    "print(f\"Address: {customer.get_address()}\")\n",
    "print(f\"Contact Info: {customer.get_contact_info()}\")\n"
   ]
  },
  {
   "cell_type": "markdown",
   "id": "59afd0d0",
   "metadata": {},
   "source": [
    "# POLYMORPHISM"
   ]
  },
  {
   "cell_type": "code",
   "execution_count": 5,
   "id": "18e73d61",
   "metadata": {
    "scrolled": true
   },
   "outputs": [
    {
     "data": {
      "text/plain": [
       "\"Polymorphism means object's ability to take multiple forms. it allows objects of different types to be treated as \\nobjects of a common type.\\n\\npoly means numerous\\nmorphism means forms\\n\\n\\nThere are two typees.\\n\\n1.compile time polymorphism : also known as method overloading.  it occurs when multiple methods in the same class have the\\n    same name but different parameter lists. The correct method is selected at compile time based on the number and types\\n    of arguments.\\n\\n\\n2.Runtime polymorphism: Also known as method overriding, it occurs when a method in a base class is redefined in a derived \\n    class. The correct method is selected at runtime based on the object type.\\n    \""
      ]
     },
     "execution_count": 5,
     "metadata": {},
     "output_type": "execute_result"
    }
   ],
   "source": [
    "# 1. What is polymorphism in Python? Explain how it is related to object-oriented programming.\n",
    "\n",
    "'''Polymorphism means object's ability to take multiple forms. it allows objects of different types to be treated as \n",
    "objects of a common type.\n",
    "\n",
    "poly means numerous\n",
    "morphism means forms\n",
    "\n",
    "\n",
    "There are two typees.\n",
    "\n",
    "1.compile time polymorphism : also known as method overloading.  it occurs when multiple methods in the same class have the\n",
    "    same name but different parameter lists. The correct method is selected at compile time based on the number and types\n",
    "    of arguments.\n",
    "\n",
    "\n",
    "2.Runtime polymorphism: Also known as method overriding, it occurs when a method in a base class is redefined in a derived \n",
    "    class. The correct method is selected at runtime based on the object type.\n",
    "    '''\n",
    "    "
   ]
  },
  {
   "cell_type": "code",
   "execution_count": null,
   "id": "9113a0f8",
   "metadata": {},
   "outputs": [],
   "source": [
    "# 2. Describe the difference between compile-time polymorphism and runtime polymorphism in Python.\n",
    "''' Compile-time polymorphism (Method Overloading):\n",
    "\n",
    "In languages with explicit type declarations and compilation steps, like C++ or Java, method overloading allows a class \n",
    "to have multiple methods with the same name but different parameter lists.\n",
    "The correct method is chosen at compile time based on the number and types of arguments provided during the method call.\n",
    "In Python, method overloading is achieved using default parameter values and variable-length argument lists, as Python does\n",
    "not natively support traditional method overloading. The determination of which method to call is done at runtime.\n",
    "\n",
    "Runtime polymorphism (Method Overriding):\n",
    "\n",
    "Runtime polymorphism, or method overriding, occurs when a method in a base class is redefined in a derived class.\n",
    "The correct method to execute is determined at runtime based on the actual type of the object.\n",
    "Python supports runtime polymorphism naturally through class inheritance and method overriding.'''"
   ]
  },
  {
   "cell_type": "markdown",
   "id": "6108060d",
   "metadata": {},
   "source": [
    " 3. Create a Python class hierarchy for shapes (e.g., circle, square, triangle) and \n",
    "demonstrate polymorphism through a common method, such as `calculate_area()`."
   ]
  },
  {
   "cell_type": "code",
   "execution_count": 15,
   "id": "929ea6e7",
   "metadata": {},
   "outputs": [
    {
     "name": "stdout",
     "output_type": "stream",
     "text": [
      "The area of the Circle is: 78.54\n",
      "The area of the Square is: 16.00\n",
      "The area of the Triangle is: 9.00\n"
     ]
    }
   ],
   "source": [
    "'''Yes, Python supports a form of method overloading, but not in the same way as some other languages like Java or C++. \n",
    "In Python, you can achieve method overloading by defining a function with default parameter values or by using \n",
    "variable-length argument lists.\n",
    "\n",
    "'''\n",
    "\n",
    "import math\n",
    "\n",
    "class Shape:\n",
    "    def calculate_area(self):\n",
    "        \"\"\"Common method to calculate the area (to be overridden by subclasses).\"\"\"\n",
    "        pass\n",
    "\n",
    "class Circle(Shape):\n",
    "    def __init__(self, radius):\n",
    "        self.radius = radius\n",
    "\n",
    "    def calculate_area(self):\n",
    "        return math.pi * self.radius**2\n",
    "\n",
    "class Square(Shape):\n",
    "    def __init__(self, side_length):\n",
    "        self.side_length = side_length\n",
    "\n",
    "    def calculate_area(self):\n",
    "        return self.side_length**2\n",
    "\n",
    "class Triangle(Shape):\n",
    "    def __init__(self, base, height):\n",
    "        self.base = base\n",
    "        self.height = height\n",
    "\n",
    "    def calculate_area(self):\n",
    "        return 0.5 * self.base * self.height\n",
    "\n",
    "# Example usage demonstrating polymorphism\n",
    "shapes = [\n",
    "    Circle(radius=5),\n",
    "    Square(side_length=4),\n",
    "    Triangle(base=3, height=6),\n",
    "]\n",
    "\n",
    "for shape in shapes:\n",
    "    area = shape.calculate_area()\n",
    "    print(f\"The area of the {shape.__class__.__name__} is: {area:.2f}\")\n",
    "\n"
   ]
  },
  {
   "cell_type": "markdown",
   "id": "075bfe91",
   "metadata": {},
   "source": [
    "4. Explain the concept of method overriding in polymorphism. Provide an example."
   ]
  },
  {
   "cell_type": "code",
   "execution_count": 16,
   "id": "83158fc1",
   "metadata": {},
   "outputs": [
    {
     "name": "stdout",
     "output_type": "stream",
     "text": [
      "Generic animal sound - Woof!\n",
      "Generic animal sound - Meow!\n"
     ]
    }
   ],
   "source": [
    "\n",
    "'''Method overriding is a concept in object-oriented programming that occurs when a subclass provides a specific implementation \n",
    "for a method that is already defined in its superclass. In other words, the subclass redefines or overrides a method inherited\n",
    "from the superclass, allowing it to provide a specialized behavior while maintaining the same method signature.'''\n",
    "\n",
    "class Animal:\n",
    "    def make_sound(self):\n",
    "        return \"Generic animal sound\"\n",
    "\n",
    "class Dog(Animal):\n",
    "    def make_sound(self):\n",
    "        # Using super() to invoke the overridden method from the superclass\n",
    "        return super().make_sound() + \" - Woof!\"\n",
    "\n",
    "class Cat(Animal):\n",
    "    def make_sound(self):\n",
    "        # Using super() to invoke the overridden method from the superclass\n",
    "        return super().make_sound() + \" - Meow!\"\n",
    "\n",
    "# Example usage demonstrating method overriding\n",
    "dog = Dog()\n",
    "cat = Cat()\n",
    "\n",
    "print(dog.make_sound())  # Outputs: Generic animal sound - Woof!\n",
    "print(cat.make_sound())  # Outputs: Generic animal sound - Meow!\n"
   ]
  },
  {
   "cell_type": "markdown",
   "id": "1066b126",
   "metadata": {},
   "source": [
    "5. How is polymorphism different from method overloading in Python? Provide \n",
    "examples for both."
   ]
  },
  {
   "cell_type": "code",
   "execution_count": null,
   "id": "6cfe511b",
   "metadata": {},
   "outputs": [],
   "source": [
    "\n",
    "'''\n",
    "Polymorphism and method overloading are both concepts in object-oriented programming, but they differ in how they allow\n",
    "multiple methods with the same name to coexist.'''"
   ]
  },
  {
   "cell_type": "code",
   "execution_count": 17,
   "id": "a355847a",
   "metadata": {},
   "outputs": [
    {
     "name": "stdout",
     "output_type": "stream",
     "text": [
      "Woof!\n",
      "Meow!\n"
     ]
    }
   ],
   "source": [
    "# POLYMORPHISM\n",
    "\n",
    "class Animal:\n",
    "    def make_sound(self):\n",
    "        return \"Generic animal sound\"\n",
    "\n",
    "class Dog(Animal):\n",
    "    def make_sound(self):\n",
    "        return \"Woof!\"\n",
    "\n",
    "class Cat(Animal):\n",
    "    def make_sound(self):\n",
    "        return \"Meow!\"\n",
    "\n",
    "# Polymorphic behavior\n",
    "def animal_sound(animal):\n",
    "    return animal.make_sound()\n",
    "\n",
    "# Example usage\n",
    "dog = Dog()\n",
    "cat = Cat()\n",
    "\n",
    "print(animal_sound(dog))  # Outputs: Woof!\n",
    "print(animal_sound(cat))  # Outputs: Meow!\n"
   ]
  },
  {
   "cell_type": "code",
   "execution_count": 18,
   "id": "9e050c13",
   "metadata": {},
   "outputs": [
    {
     "name": "stdout",
     "output_type": "stream",
     "text": [
      "2\n",
      "5\n",
      "9\n"
     ]
    }
   ],
   "source": [
    "# METHOD OVERLOADING\n",
    "\n",
    "class MathOperations:\n",
    "    def add(self, x, y=0, z=0):\n",
    "        return x + y + z\n",
    "\n",
    "# Example usage\n",
    "math_ops = MathOperations()\n",
    "\n",
    "print(math_ops.add(2))        # Outputs: 2\n",
    "print(math_ops.add(2, 3))     # Outputs: 5\n",
    "print(math_ops.add(2, 3, 4))  # Outputs: 9\n"
   ]
  },
  {
   "cell_type": "markdown",
   "id": "ae69f2b5",
   "metadata": {},
   "source": [
    "6. Create a Python class called `Animal` with a method `speak()`. Then, create child \n",
    "classes like `Dog`, `Cat`, and `Bird`, each with their own `speak()` method. Demonstrate \n",
    "polymorphism by calling the `speak()` method on objects of different subclasses."
   ]
  },
  {
   "cell_type": "code",
   "execution_count": 19,
   "id": "bf1c4aff",
   "metadata": {},
   "outputs": [
    {
     "name": "stdout",
     "output_type": "stream",
     "text": [
      "Woof!\n",
      "Meow!\n",
      "Chirp!\n"
     ]
    }
   ],
   "source": [
    "class Animal:\n",
    "    def speak(self):\n",
    "        return \"Generic animal sound\"\n",
    "\n",
    "class Dog(Animal):\n",
    "    def speak(self):\n",
    "        return \"Woof!\"\n",
    "\n",
    "class Cat(Animal):\n",
    "    def speak(self):\n",
    "        return \"Meow!\"\n",
    "\n",
    "class Bird(Animal):\n",
    "    def speak(self):\n",
    "        return \"Chirp!\"\n",
    "\n",
    "# Example usage demonstrating polymorphism\n",
    "def animal_speak(animal):\n",
    "    return animal.speak()\n",
    "\n",
    "# Creating instances of different subclasses\n",
    "dog = Dog()\n",
    "cat = Cat()\n",
    "bird = Bird()\n",
    "\n",
    "# Calling the speak method on objects of different subclasses\n",
    "print(animal_speak(dog))  # Outputs: Woof!\n",
    "print(animal_speak(cat))  # Outputs: Meow!\n",
    "print(animal_speak(bird)) # Outputs: Chirp!\n"
   ]
  },
  {
   "cell_type": "markdown",
   "id": "50a24f4b",
   "metadata": {},
   "source": [
    "7. Discuss the use of abstract methods and classes in achieving polymorphism in \n",
    "Python. Provide an example using the `abc` module"
   ]
  },
  {
   "cell_type": "code",
   "execution_count": null,
   "id": "9555582f",
   "metadata": {},
   "outputs": [],
   "source": [
    "In Python, abstract methods and abstract classes play a key role in achieving polymorphism by providing a common interface for related classes while allowing each class to implement its own behavior. The abc module (Abstract Base Classes) in Python facilitates the creation of abstract classes and abstract methods."
   ]
  },
  {
   "cell_type": "code",
   "execution_count": 20,
   "id": "d46d1743",
   "metadata": {},
   "outputs": [
    {
     "name": "stdout",
     "output_type": "stream",
     "text": [
      "Woof!\n",
      "Meow!\n",
      "Chirp!\n"
     ]
    }
   ],
   "source": [
    "from abc import ABC, abstractmethod\n",
    "\n",
    "# Abstract class with an abstract method\n",
    "class Animal(ABC):\n",
    "    @abstractmethod\n",
    "    def speak(self):\n",
    "        pass\n",
    "\n",
    "# Concrete subclasses implementing the abstract method\n",
    "class Dog(Animal):\n",
    "    def speak(self):\n",
    "        return \"Woof!\"\n",
    "\n",
    "class Cat(Animal):\n",
    "    def speak(self):\n",
    "        return \"Meow!\"\n",
    "\n",
    "class Bird(Animal):\n",
    "    def speak(self):\n",
    "        return \"Chirp!\"\n",
    "\n",
    "# Example usage demonstrating polymorphism\n",
    "def animal_speak(animal):\n",
    "    return animal.speak()\n",
    "\n",
    "# Creating instances of different subclasses\n",
    "dog = Dog()\n",
    "cat = Cat()\n",
    "bird = Bird()\n",
    "\n",
    "# Calling the speak method on objects of different subclasses\n",
    "print(animal_speak(dog))  # Outputs: Woof!\n",
    "print(animal_speak(cat))  # Outputs: Meow!\n",
    "print(animal_speak(bird)) # Outputs: Chirp!\n"
   ]
  },
  {
   "cell_type": "markdown",
   "id": "5bac404f",
   "metadata": {},
   "source": [
    "8. Create a Python class hierarchy for a vehicle system (e.g., car, bicycle, boat) and \n",
    "implement a polymorphic `start()` method that prints a message specific to each \n",
    "vehicle type"
   ]
  },
  {
   "cell_type": "code",
   "execution_count": 21,
   "id": "f1388c74",
   "metadata": {},
   "outputs": [
    {
     "name": "stdout",
     "output_type": "stream",
     "text": [
      "Car engine started. Vroom Vroom!\n",
      "Bicycle pedaling started. Let's ride!\n",
      "Boat engine started. Setting sail!\n"
     ]
    }
   ],
   "source": [
    "class Vehicle:\n",
    "    def start(self):\n",
    "        pass  # Abstract method to be overridden by subclasses\n",
    "\n",
    "class Car(Vehicle):\n",
    "    def start(self):\n",
    "        return \"Car engine started. Vroom Vroom!\"\n",
    "\n",
    "class Bicycle(Vehicle):\n",
    "    def start(self):\n",
    "        return \"Bicycle pedaling started. Let's ride!\"\n",
    "\n",
    "class Boat(Vehicle):\n",
    "    def start(self):\n",
    "        return \"Boat engine started. Setting sail!\"\n",
    "\n",
    "# Example usage demonstrating polymorphism\n",
    "def start_vehicle(vehicle):\n",
    "    return vehicle.start()\n",
    "\n",
    "# Creating instances of different vehicle types\n",
    "car = Car()\n",
    "bicycle = Bicycle()\n",
    "boat = Boat()\n",
    "\n",
    "# Calling the start method on objects of different vehicle types\n",
    "print(start_vehicle(car))       # Outputs: Car engine started. Vroom Vroom!\n",
    "print(start_vehicle(bicycle))   # Outputs: Bicycle pedaling started. Let's ride!\n",
    "print(start_vehicle(boat))       # Outputs: Boat engine started. Setting sail!\n"
   ]
  },
  {
   "cell_type": "markdown",
   "id": "b9cfe670",
   "metadata": {},
   "source": [
    "9. Explain the significance of the `isinstance()` and `issubclass()` functions in Python \n",
    "polymorphism."
   ]
  },
  {
   "cell_type": "code",
   "execution_count": null,
   "id": "a5f9e42d",
   "metadata": {},
   "outputs": [],
   "source": [
    "'''\n",
    "\n",
    "isinstance:\n",
    "\n",
    "The isinstance() function checks if an object is an instance of a specified class or a tuple of classes. Its usage \n",
    "is crucial in ensuring that polymorphic behavior is achieved by accepting objects of diverse types but still maintaining a \n",
    "common interface.\n",
    "\n",
    "issubclass() Function:\n",
    "The issubclass() function checks if a class is a subclass of a specified class or a tuple of classes. \n",
    "This is useful when dealing with class hierarchies and ensuring that a certain polymorphic behavior can be \n",
    "expected from subclasses."
   ]
  },
  {
   "cell_type": "code",
   "execution_count": null,
   "id": "616985b3",
   "metadata": {},
   "outputs": [],
   "source": []
  },
  {
   "cell_type": "markdown",
   "id": "a5abb02b",
   "metadata": {},
   "source": [
    "10. What is the role of the `@abstractmethod` decorator in achieving polymorphism in \n",
    "Python? Provide an example."
   ]
  },
  {
   "cell_type": "code",
   "execution_count": 22,
   "id": "786d3512",
   "metadata": {},
   "outputs": [
    {
     "name": "stdout",
     "output_type": "stream",
     "text": [
      "Drawing a circle.\n",
      "Drawing a square.\n"
     ]
    }
   ],
   "source": [
    "'''\n",
    "The @abstractmethod decorator in Python is part of the abc module (Abstract Base Classes) and is used to define abstract \n",
    "methods within abstract classes. An abstract method is a method declared in an abstract class but has no implementation \n",
    "in the abstract class itself. It serves as a placeholder for methods that must be implemented by concrete (non-abstract)\n",
    "subclasses. The @abstractmethod decorator ensures that concrete subclasses provide their own implementations for the declared\n",
    "abstract methods, promoting a consistent interface and achieving polymorphism.'''\n",
    "\n",
    "from abc import ABC, abstractmethod\n",
    "\n",
    "# Abstract class with abstract method\n",
    "class Shape(ABC):\n",
    "    @abstractmethod\n",
    "    def draw(self):\n",
    "        pass\n",
    "\n",
    "# Concrete subclasses implementing the abstract method\n",
    "class Circle(Shape):\n",
    "    def draw(self):\n",
    "        return \"Drawing a circle.\"\n",
    "\n",
    "class Square(Shape):\n",
    "    def draw(self):\n",
    "        return \"Drawing a square.\"\n",
    "\n",
    "# Example usage demonstrating polymorphism\n",
    "def draw_shape(shape):\n",
    "    return shape.draw()\n",
    "\n",
    "# Creating instances of different subclasses\n",
    "circle = Circle()\n",
    "square = Square()\n",
    "\n",
    "# Calling the draw method on objects of different subclasses\n",
    "print(draw_shape(circle))  # Outputs: Drawing a circle.\n",
    "print(draw_shape(square))  # Outputs: Drawing a square.\n"
   ]
  },
  {
   "cell_type": "markdown",
   "id": "96870eca",
   "metadata": {},
   "source": [
    "11. Create a Python class called `Shape` with a polymorphic method `area()` that \n",
    "calculates the area of different shapes (e.g., circle, rectangle, triangle).\n"
   ]
  },
  {
   "cell_type": "code",
   "execution_count": 24,
   "id": "6a7df203",
   "metadata": {},
   "outputs": [
    {
     "name": "stdout",
     "output_type": "stream",
     "text": [
      "Area of Circle: 78.54\n",
      "Area of Rectangle: 24\n",
      "Area of Triangle: 12.0\n"
     ]
    }
   ],
   "source": [
    "import math\n",
    "\n",
    "class Shape:\n",
    "    def area(self):\n",
    "        pass  # Abstract method to be overridden by subclasses\n",
    "\n",
    "class Circle(Shape):\n",
    "    def __init__(self, radius):\n",
    "        self.radius = radius\n",
    "\n",
    "    def area(self):\n",
    "        return math.pi * self.radius**2\n",
    "\n",
    "class Rectangle(Shape):\n",
    "    def __init__(self, length, width):\n",
    "        self.length = length\n",
    "        self.width = width\n",
    "\n",
    "    def area(self):\n",
    "        return self.length * self.width\n",
    "\n",
    "class Triangle(Shape):\n",
    "    def __init__(self, base, height):\n",
    "        self.base = base\n",
    "        self.height = height\n",
    "\n",
    "    def area(self):\n",
    "        return 0.5 * self.base * self.height\n",
    "\n",
    "# Example usage demonstrating polymorphism\n",
    "def calculate_area(shape):\n",
    "    return shape.area()\n",
    "\n",
    "# Creating instances of different shape classes\n",
    "circle = Circle(radius=5)\n",
    "rectangle = Rectangle(length=4, width=6)\n",
    "triangle = Triangle(base=3, height=8)\n",
    "\n",
    "# Calling the area method on objects of different shape classes\n",
    "print(f\"Area of Circle: {calculate_area(circle):.2f}\")\n",
    "print(f\"Area of Rectangle: {calculate_area(rectangle)}\")\n",
    "print(f\"Area of Triangle: {calculate_area(triangle)}\")\n"
   ]
  },
  {
   "cell_type": "markdown",
   "id": "2fa86618",
   "metadata": {},
   "source": [
    "12. Discuss the benefits of polymorphism in terms of code reusability and flexibility in \n",
    "Python programs"
   ]
  },
  {
   "cell_type": "code",
   "execution_count": null,
   "id": "c64f937f",
   "metadata": {},
   "outputs": [],
   "source": [
    "'''Polymorphism is a fundamental concept in object-oriented programming (OOP) that allows objects of different types\n",
    "to be treated as objects of a common type. In Python, polymorphism is achieved through features like method overloading \n",
    "and method overriding.'''"
   ]
  },
  {
   "cell_type": "markdown",
   "id": "cfbaf4a3",
   "metadata": {},
   "source": [
    "13. Explain the use of the `super()` function in Python polymorphism. How does it help \n",
    "call methods of parent classes?"
   ]
  },
  {
   "cell_type": "code",
   "execution_count": null,
   "id": "d92e642e",
   "metadata": {},
   "outputs": [],
   "source": [
    "'''\n",
    "In Python, the super() function is used to call methods of a parent or superclass \n",
    "from within a subclass. It plays a crucial role in achieving method overriding and maintaining a clean and organized \n",
    "hierarchy in object-oriented programming. Here's how super() helps in calling methods of parent classes in the context of \n",
    "polymorphism:'''"
   ]
  },
  {
   "cell_type": "markdown",
   "id": "22a5cd1b",
   "metadata": {},
   "source": [
    "14. Create a Python class hierarchy for a banking system with various account types \n",
    "(e.g., savings, checking, credit card) and demonstrate polymorphism by implementing a \n",
    "common `withdraw()` method."
   ]
  },
  {
   "cell_type": "code",
   "execution_count": 1,
   "id": "a0d9b802",
   "metadata": {},
   "outputs": [
    {
     "name": "stdout",
     "output_type": "stream",
     "text": [
      "Account 101: Balance = $1000.00\n",
      "Withdrawal of $200.00 successful.\n",
      "Interest applied: $40.00\n",
      "Account 101: Balance = $840.00\n",
      "==============================\n",
      "Account 201: Balance = $1500.00\n",
      "Withdrawal of $200.00 from checking account successful.\n",
      "Account 201: Balance = $1300.00\n",
      "==============================\n",
      "Account 301: Balance = $2000.00\n",
      "Withdrawal of $200.00 from credit card successful.\n",
      "Account 301: Balance = $1800.00\n",
      "==============================\n"
     ]
    }
   ],
   "source": [
    "class BankAccount:\n",
    "    def __init__(self, account_number, balance):\n",
    "        self.account_number = account_number\n",
    "        self.balance = balance\n",
    "\n",
    "    def display_balance(self):\n",
    "        print(f\"Account {self.account_number}: Balance = ${self.balance:.2f}\")\n",
    "\n",
    "    def withdraw(self, amount):\n",
    "        if amount > 0 and amount <= self.balance:\n",
    "            self.balance -= amount\n",
    "            print(f\"Withdrawal of ${amount:.2f} successful.\")\n",
    "        else:\n",
    "            print(\"Invalid withdrawal amount or insufficient funds.\")\n",
    "\n",
    "\n",
    "class SavingsAccount(BankAccount):\n",
    "    def __init__(self, account_number, balance, interest_rate):\n",
    "        super().__init__(account_number, balance)\n",
    "        self.interest_rate = interest_rate\n",
    "\n",
    "    def apply_interest(self):\n",
    "        interest_amount = self.balance * self.interest_rate\n",
    "        self.balance += interest_amount\n",
    "        print(f\"Interest applied: ${interest_amount:.2f}\")\n",
    "\n",
    "    # Overriding withdraw method for SavingsAccount\n",
    "    def withdraw(self, amount):\n",
    "        super().withdraw(amount)  # Call the withdraw method from the parent class\n",
    "        self.apply_interest()\n",
    "\n",
    "\n",
    "class CheckingAccount(BankAccount):\n",
    "    def __init__(self, account_number, balance, overdraft_limit):\n",
    "        super().__init__(account_number, balance)\n",
    "        self.overdraft_limit = overdraft_limit\n",
    "\n",
    "    # Overriding withdraw method for CheckingAccount\n",
    "    def withdraw(self, amount):\n",
    "        if amount > 0 and amount <= (self.balance + self.overdraft_limit):\n",
    "            self.balance -= amount\n",
    "            print(f\"Withdrawal of ${amount:.2f} from checking account successful.\")\n",
    "        else:\n",
    "            print(\"Invalid withdrawal amount or overdraft limit exceeded.\")\n",
    "\n",
    "\n",
    "class CreditCardAccount(BankAccount):\n",
    "    def __init__(self, account_number, balance, credit_limit):\n",
    "        super().__init__(account_number, balance)\n",
    "        self.credit_limit = credit_limit\n",
    "\n",
    "    # Overriding withdraw method for CreditCardAccount\n",
    "    def withdraw(self, amount):\n",
    "        if amount > 0 and amount <= (self.balance + self.credit_limit):\n",
    "            self.balance -= amount\n",
    "            print(f\"Withdrawal of ${amount:.2f} from credit card successful.\")\n",
    "        else:\n",
    "            print(\"Invalid withdrawal amount or credit limit exceeded.\")\n",
    "\n",
    "\n",
    "# Demonstrate polymorphism by using the common withdraw method\n",
    "savings_account = SavingsAccount(account_number=101, balance=1000, interest_rate=0.05)\n",
    "checking_account = CheckingAccount(account_number=201, balance=1500, overdraft_limit=500)\n",
    "credit_card_account = CreditCardAccount(account_number=301, balance=2000, credit_limit=1000)\n",
    "\n",
    "accounts = [savings_account, checking_account, credit_card_account]\n",
    "\n",
    "for account in accounts:\n",
    "    account.display_balance()\n",
    "    account.withdraw(200)\n",
    "    account.display_balance()\n",
    "    print(\"=\" * 30)\n"
   ]
  },
  {
   "cell_type": "markdown",
   "id": "13adf999",
   "metadata": {},
   "source": [
    "15. Describe the concept of operator overloading in Python and how it relates to \n",
    "polymorphism. Provide examples using operators like `+` and `*`.\n"
   ]
  },
  {
   "cell_type": "code",
   "execution_count": 2,
   "id": "71187496",
   "metadata": {},
   "outputs": [
    {
     "name": "stdout",
     "output_type": "stream",
     "text": [
      "v1 + v2 = Vector(4, 6)\n",
      "v1 * 2 = Vector(2, 4)\n"
     ]
    }
   ],
   "source": [
    "'''Operator overloading in Python refers to the ability to define and redefine the behavior of operators for custom objects or \n",
    "user-defined classes. Python allows you to provide special methods in your class to define the behavior of built-in operators,\n",
    "making instances of your class behave like built-in types. This concept is closely related to polymorphism, as it allows\n",
    "different types of objects to respond to the same operator in a way that is appropriate for their context.'''\n",
    "\n",
    "class Vector:\n",
    "    def __init__(self, x, y):\n",
    "        self.x = x\n",
    "        self.y = y\n",
    "\n",
    "    # Overloading the + operator\n",
    "    def __add__(self, other):\n",
    "        if isinstance(other, Vector):\n",
    "            return Vector(self.x + other.x, self.y + other.y)\n",
    "        else:\n",
    "            raise TypeError(\"Unsupported operand type for +: {}\".format(type(other)))\n",
    "\n",
    "    # Overloading the * operator (scalar multiplication)\n",
    "    def __mul__(self, scalar):\n",
    "        return Vector(self.x * scalar, self.y * scalar)\n",
    "\n",
    "    # Overriding the __str__ method for a more readable representation\n",
    "    def __str__(self):\n",
    "        return f\"Vector({self.x}, {self.y})\"\n",
    "\n",
    "\n",
    "# Example usage\n",
    "v1 = Vector(1, 2)\n",
    "v2 = Vector(3, 4)\n",
    "\n",
    "# Operator overloading for addition\n",
    "result_add = v1 + v2\n",
    "print(\"v1 + v2 =\", result_add)\n",
    "\n",
    "# Operator overloading for scalar multiplication\n",
    "result_mul = v1 * 2\n",
    "print(\"v1 * 2 =\", result_mul)\n"
   ]
  },
  {
   "cell_type": "markdown",
   "id": "d8fbbcc4",
   "metadata": {},
   "source": [
    "16. What is dynamic polymorphism, and how is it achieved in Python?\n"
   ]
  },
  {
   "cell_type": "code",
   "execution_count": null,
   "id": "9322d57b",
   "metadata": {},
   "outputs": [],
   "source": [
    "'''Dynamic polymorphism, also known as runtime polymorphism or late binding, is a concept in object-oriented programming\n",
    "where the actual method or operation that gets executed is determined at runtime. It allows objects of different types to\n",
    "be treated as objects of a common type, and the specific method to be called is resolved during runtime based on the actual \n",
    "type of the object.\n",
    "\n",
    "In Python, dynamic polymorphism is achieved through method overriding and the use of dynamic binding. Here are the key\n",
    "components that contribute to dynamic polymorphism in Python:'''"
   ]
  },
  {
   "cell_type": "code",
   "execution_count": null,
   "id": "4eb11b29",
   "metadata": {},
   "outputs": [],
   "source": []
  },
  {
   "cell_type": "markdown",
   "id": "2fe77323",
   "metadata": {},
   "source": [
    "17. Create a Python class hierarchy for employees in a company (e.g., manager, \n",
    "developer, designer) and implement polymorphism through a common \n",
    "`calculate_salary()` method."
   ]
  },
  {
   "cell_type": "code",
   "execution_count": 3,
   "id": "c14ff604",
   "metadata": {},
   "outputs": [
    {
     "name": "stdout",
     "output_type": "stream",
     "text": [
      "John Doe's salary: $60,000.00\n",
      "Alice Smith's salary: $4,000.00\n",
      "Bob Johnson's salary: $6,000.00\n"
     ]
    }
   ],
   "source": [
    "class Employee:\n",
    "    def __init__(self, name, employee_id):\n",
    "        self.name = name\n",
    "        self.employee_id = employee_id\n",
    "\n",
    "    def calculate_salary(self):\n",
    "        # Default implementation for generic employees\n",
    "        return 0\n",
    "\n",
    "\n",
    "class Manager(Employee):\n",
    "    def __init__(self, name, employee_id, base_salary, bonus):\n",
    "        super().__init__(name, employee_id)\n",
    "        self.base_salary = base_salary\n",
    "        self.bonus = bonus\n",
    "\n",
    "    def calculate_salary(self):\n",
    "        # Manager's salary calculation includes base salary and bonus\n",
    "        return self.base_salary + self.bonus\n",
    "\n",
    "\n",
    "class Developer(Employee):\n",
    "    def __init__(self, name, employee_id, hourly_rate, hours_worked):\n",
    "        super().__init__(name, employee_id)\n",
    "        self.hourly_rate = hourly_rate\n",
    "        self.hours_worked = hours_worked\n",
    "\n",
    "    def calculate_salary(self):\n",
    "        # Developer's salary calculation is based on hourly rate and hours worked\n",
    "        return self.hourly_rate * self.hours_worked\n",
    "\n",
    "\n",
    "class Designer(Employee):\n",
    "    def __init__(self, name, employee_id, monthly_salary):\n",
    "        super().__init__(name, employee_id)\n",
    "        self.monthly_salary = monthly_salary\n",
    "\n",
    "    def calculate_salary(self):\n",
    "        # Designer's salary is fixed and based on monthly salary\n",
    "        return self.monthly_salary\n",
    "\n",
    "\n",
    "# Demonstrate polymorphism using the common calculate_salary method\n",
    "manager = Manager(name=\"John Doe\", employee_id=101, base_salary=50000, bonus=10000)\n",
    "developer = Developer(name=\"Alice Smith\", employee_id=201, hourly_rate=25, hours_worked=160)\n",
    "designer = Designer(name=\"Bob Johnson\", employee_id=301, monthly_salary=6000)\n",
    "\n",
    "employees = [manager, developer, designer]\n",
    "\n",
    "for employee in employees:\n",
    "    print(f\"{employee.name}'s salary: ${employee.calculate_salary():,.2f}\")\n"
   ]
  },
  {
   "cell_type": "markdown",
   "id": "7ead5495",
   "metadata": {},
   "source": [
    "18. Discuss the concept of function pointers and how they can be used to achieve \n",
    "polymorphism in Python"
   ]
  },
  {
   "cell_type": "code",
   "execution_count": null,
   "id": "527163b4",
   "metadata": {},
   "outputs": [],
   "source": [
    "'''In Python, the concept of function pointers is not explicitly present as it is in some other programming languages like C or C++. However, Python provides a way to achieve polymorphism through a combination of dynamic typing, first-class functions, and the ability to pass functions as arguments. In Python, polymorphism is often achieved through duck typing, where the focus is on an object's behavior rather than its explicit type.'''"
   ]
  },
  {
   "cell_type": "markdown",
   "id": "a47c894d",
   "metadata": {},
   "source": [
    "19. Explain the role of interfaces and abstract classes in polymorphism, drawing \n",
    "comparisons between them"
   ]
  },
  {
   "cell_type": "code",
   "execution_count": null,
   "id": "47396ead",
   "metadata": {},
   "outputs": [],
   "source": [
    "'''Interfaces and abstract classes are both constructs in object-oriented programming (OOP) that play a significant role in achieving polymorphism. They provide a way to define a common interface for a set of related classes, allowing objects of these classes to be treated interchangeably. However, there are some key differences between interfaces and abstract classes in terms of their implementation and usage.'''"
   ]
  },
  {
   "cell_type": "markdown",
   "id": "4b35ae22",
   "metadata": {},
   "source": [
    "20. Create a Python class for a zoo simulation, demonstrating polymorphism with \n",
    "different animal types (e.g., mammals, birds, reptiles) and their behavior (e.g., eating, \n",
    "sleeping, making sounds)."
   ]
  },
  {
   "cell_type": "code",
   "execution_count": 4,
   "id": "8e61d5d5",
   "metadata": {},
   "outputs": [
    {
     "name": "stdout",
     "output_type": "stream",
     "text": [
      "Lion: Mammal sound\n",
      "Lion: Mammal is eating\n",
      "Lion: Mammal is sleeping\n",
      "==============================\n",
      "Parrot: Bird sound\n",
      "Parrot: Bird is eating\n",
      "Parrot: Bird is sleeping\n",
      "==============================\n",
      "Snake: Reptile sound\n",
      "Snake: Reptile is eating\n",
      "Snake: Reptile is sleeping\n",
      "==============================\n"
     ]
    }
   ],
   "source": [
    "class Animal:\n",
    "    def __init__(self, name):\n",
    "        self.name = name\n",
    "\n",
    "    def make_sound(self):\n",
    "        pass\n",
    "\n",
    "    def eat(self):\n",
    "        pass\n",
    "\n",
    "    def sleep(self):\n",
    "        pass\n",
    "\n",
    "class Mammal(Animal):\n",
    "    def make_sound(self):\n",
    "        return \"Mammal sound\"\n",
    "\n",
    "    def eat(self):\n",
    "        return \"Mammal is eating\"\n",
    "\n",
    "    def sleep(self):\n",
    "        return \"Mammal is sleeping\"\n",
    "\n",
    "class Bird(Animal):\n",
    "    def make_sound(self):\n",
    "        return \"Bird sound\"\n",
    "\n",
    "    def eat(self):\n",
    "        return \"Bird is eating\"\n",
    "\n",
    "    def sleep(self):\n",
    "        return \"Bird is sleeping\"\n",
    "\n",
    "class Reptile(Animal):\n",
    "    def make_sound(self):\n",
    "        return \"Reptile sound\"\n",
    "\n",
    "    def eat(self):\n",
    "        return \"Reptile is eating\"\n",
    "\n",
    "    def sleep(self):\n",
    "        return \"Reptile is sleeping\"\n",
    "\n",
    "# Zoo simulation\n",
    "def simulate_zoo(animals):\n",
    "    for animal in animals:\n",
    "        print(f\"{animal.name}: {animal.make_sound()}\")\n",
    "        print(f\"{animal.name}: {animal.eat()}\")\n",
    "        print(f\"{animal.name}: {animal.sleep()}\")\n",
    "        print(\"=\" * 30)\n",
    "\n",
    "# Create instances of different animal types\n",
    "lion = Mammal(name=\"Lion\")\n",
    "parrot = Bird(name=\"Parrot\")\n",
    "snake = Reptile(name=\"Snake\")\n",
    "\n",
    "# Simulate the zoo with different types of animals\n",
    "simulate_zoo([lion, parrot, snake])\n"
   ]
  },
  {
   "cell_type": "markdown",
   "id": "07155170",
   "metadata": {},
   "source": [
    "# ABSTRACTION"
   ]
  },
  {
   "cell_type": "markdown",
   "id": "10659c88",
   "metadata": {},
   "source": [
    "1. What is abstraction in Python, and how does it relate to object-oriented \n",
    "programming?\n"
   ]
  },
  {
   "cell_type": "code",
   "execution_count": null,
   "id": "5af503a2",
   "metadata": {},
   "outputs": [],
   "source": [
    "'''Abstraction is a fundamental concept in object-oriented programming (OOP) and refers to the process of simplifying complex \n",
    "systems by modeling classes based on essential properties and behaviors, while hiding unnecessary details from the user. \n",
    "In Python, abstraction is closely related to the principles of OOP, particularly encapsulation and inheritance.'''"
   ]
  },
  {
   "cell_type": "markdown",
   "id": "d39899a6",
   "metadata": {},
   "source": [
    "2. Describe the benefits of abstraction in terms of code organization and complexity \n",
    "reduction."
   ]
  },
  {
   "cell_type": "code",
   "execution_count": null,
   "id": "c77139f0",
   "metadata": {},
   "outputs": [],
   "source": [
    "'''Code Organization: Abstraction helps organize code by breaking it into smaller, manageable parts (classes). Each class \n",
    "represents a specific feature or functionality.\n",
    "\n",
    "Complexity Reduction: Abstraction hides unnecessary details, allowing developers to focus on high-level concepts.\n",
    "This simplifies understanding, maintenance, and modification of code.'''"
   ]
  },
  {
   "cell_type": "markdown",
   "id": "fccedc21",
   "metadata": {},
   "source": [
    "3. Create a Python class called `Shape` with an abstract method `calculate_area()`. \n",
    "Then, create child classes (e.g., `Circle`, `Rectangle`) that implement the \n",
    "`calculate_area()` method. Provide an example of using these classes"
   ]
  },
  {
   "cell_type": "code",
   "execution_count": 5,
   "id": "c6cd419e",
   "metadata": {},
   "outputs": [
    {
     "name": "stdout",
     "output_type": "stream",
     "text": [
      "Area of the circle: 78.5\n",
      "Area of the rectangle: 24\n"
     ]
    }
   ],
   "source": [
    "from abc import ABC, abstractmethod\n",
    "\n",
    "class Shape(ABC):\n",
    "    @abstractmethod\n",
    "    def calculate_area(self):\n",
    "        pass\n",
    "\n",
    "class Circle(Shape):\n",
    "    def __init__(self, radius):\n",
    "        self.radius = radius\n",
    "\n",
    "    def calculate_area(self):\n",
    "        return 3.14 * self.radius * self.radius\n",
    "\n",
    "class Rectangle(Shape):\n",
    "    def __init__(self, length, width):\n",
    "        self.length = length\n",
    "        self.width = width\n",
    "\n",
    "    def calculate_area(self):\n",
    "        return self.length * self.width\n",
    "\n",
    "# Example usage\n",
    "circle = Circle(radius=5)\n",
    "rectangle = Rectangle(length=4, width=6)\n",
    "\n",
    "print(f\"Area of the circle: {circle.calculate_area()}\")\n",
    "print(f\"Area of the rectangle: {rectangle.calculate_area()}\")\n"
   ]
  },
  {
   "cell_type": "markdown",
   "id": "75e89e29",
   "metadata": {},
   "source": [
    "4. Explain the concept of abstract classes in Python and how they are defined using the \n",
    "`abc` module. Provide an example."
   ]
  },
  {
   "cell_type": "code",
   "execution_count": 6,
   "id": "696dbcad",
   "metadata": {},
   "outputs": [
    {
     "name": "stdout",
     "output_type": "stream",
     "text": [
      "Area of the circle: 78.5\n",
      "Area of the rectangle: 24\n"
     ]
    }
   ],
   "source": [
    "'''In Python, abstract classes are classes that cannot be instantiated on their own and are meant to be subclassed by \n",
    "other classes. Abstract classes may contain abstract methods, which are methods without an implementation. The abc module \n",
    "(Abstract Base Classes) in Python provides the necessary tools to define abstract classes and abstract methods.'''\n",
    "\n",
    "from abc import ABC, abstractmethod\n",
    "\n",
    "# Define an abstract class 'Shape'\n",
    "class Shape(ABC):\n",
    "    @abstractmethod\n",
    "    def calculate_area(self):\n",
    "        pass\n",
    "\n",
    "# Concrete subclass 'Circle' implementing 'Shape'\n",
    "class Circle(Shape):\n",
    "    def __init__(self, radius):\n",
    "        self.radius = radius\n",
    "\n",
    "    def calculate_area(self):\n",
    "        return 3.14 * self.radius * self.radius\n",
    "\n",
    "# Concrete subclass 'Rectangle' implementing 'Shape'\n",
    "class Rectangle(Shape):\n",
    "    def __init__(self, length, width):\n",
    "        self.length = length\n",
    "        self.width = width\n",
    "\n",
    "    def calculate_area(self):\n",
    "        return self.length * self.width\n",
    "\n",
    "# Create objects of the concrete subclasses\n",
    "circle = Circle(radius=5)\n",
    "rectangle = Rectangle(length=4, width=6)\n",
    "\n",
    "# Call the 'calculate_area()' method on each object\n",
    "print(f\"Area of the circle: {circle.calculate_area()}\")\n",
    "print(f\"Area of the rectangle: {rectangle.calculate_area()}\")\n"
   ]
  },
  {
   "cell_type": "markdown",
   "id": "67fdc095",
   "metadata": {},
   "source": [
    "5. How do abstract classes differ from regular classes in Python? Discuss their use \n",
    "cases"
   ]
  },
  {
   "cell_type": "code",
   "execution_count": null,
   "id": "e5e15df0",
   "metadata": {},
   "outputs": [],
   "source": [
    "'''Abstract classes in Python differ from regular classes in that they cannot be instantiated on their own, \n",
    "and they may contain abstract methods. Here are the key differences and use cases for abstract classes compared to regular \n",
    "classes:\n",
    "\n",
    "Use Cases:\n",
    "Abstract Classes:\n",
    "\n",
    "Use abstract classes when you want to define a common interface for a group of related classes.\n",
    "Use abstract classes to enforce a consistent structure among subclasses.\n",
    "Use abstract classes when you want to provide some default behavior that can be overridden by subclasses.\n",
    "Use abstract classes to create a hierarchy of related classes where some methods are expected to be implemented by subclasses.\n",
    "Regular Classes:\n",
    "\n",
    "Use regular classes when you want to create standalone objects with complete implementations.\n",
    "Use regular classes when there is no need to enforce a common interface or provide default behavior that must be overridden.\n",
    "Use regular classes for cases where each class in a hierarchy can have its own distinct structure and behavior without strict\n",
    "adherence to a common interface.'''"
   ]
  },
  {
   "cell_type": "markdown",
   "id": "6ce0ad24",
   "metadata": {},
   "source": [
    "6. Create a Python class for a bank account and demonstrate abstraction by hiding the \n",
    "account balance and providing methods to deposit and withdraw funds.\n"
   ]
  },
  {
   "cell_type": "code",
   "execution_count": 7,
   "id": "950dcbbb",
   "metadata": {},
   "outputs": [
    {
     "name": "stdout",
     "output_type": "stream",
     "text": [
      "Savings Account SA101: Balance = $0.00\n",
      "Deposit of $1000.00 successful.\n",
      "Savings Account SA101: Balance = $1000.00\n",
      "Withdrawal of $500.00 from savings account successful.\n",
      "Savings Account SA101: Balance = $500.00\n",
      "==============================\n",
      "Checking Account CA201: Balance = $0.00\n",
      "Deposit of $1500.00 successful.\n",
      "Checking Account CA201: Balance = $1500.00\n",
      "Withdrawal of $700.00 from checking account successful.\n",
      "Checking Account CA201: Balance = $800.00\n"
     ]
    }
   ],
   "source": [
    "from abc import ABC, abstractmethod\n",
    "\n",
    "class BankAccount(ABC):\n",
    "    def __init__(self, account_number, holder_name):\n",
    "        self.account_number = account_number\n",
    "        self.holder_name = holder_name\n",
    "        self._balance = 0  # Protected attribute, not meant to be accessed directly\n",
    "\n",
    "    @abstractmethod\n",
    "    def display_balance(self):\n",
    "        pass\n",
    "\n",
    "    def deposit(self, amount):\n",
    "        if amount > 0:\n",
    "            self._balance += amount\n",
    "            print(f\"Deposit of ${amount:.2f} successful.\")\n",
    "        else:\n",
    "            print(\"Invalid deposit amount.\")\n",
    "\n",
    "    @abstractmethod\n",
    "    def withdraw(self, amount):\n",
    "        pass\n",
    "\n",
    "# Concrete subclass for a savings account\n",
    "class SavingsAccount(BankAccount):\n",
    "    def display_balance(self):\n",
    "        print(f\"Savings Account {self.account_number}: Balance = ${self._balance:.2f}\")\n",
    "\n",
    "    def withdraw(self, amount):\n",
    "        if amount > 0 and amount <= self._balance:\n",
    "            self._balance -= amount\n",
    "            print(f\"Withdrawal of ${amount:.2f} from savings account successful.\")\n",
    "        else:\n",
    "            print(\"Invalid withdrawal amount or insufficient funds.\")\n",
    "\n",
    "# Concrete subclass for a checking account\n",
    "class CheckingAccount(BankAccount):\n",
    "    def display_balance(self):\n",
    "        print(f\"Checking Account {self.account_number}: Balance = ${self._balance:.2f}\")\n",
    "\n",
    "    def withdraw(self, amount):\n",
    "        if amount > 0 and amount <= self._balance:\n",
    "            self._balance -= amount\n",
    "            print(f\"Withdrawal of ${amount:.2f} from checking account successful.\")\n",
    "        else:\n",
    "            print(\"Invalid withdrawal amount or insufficient funds.\")\n",
    "\n",
    "# Demonstrate abstraction\n",
    "savings_account = SavingsAccount(account_number=\"SA101\", holder_name=\"John Doe\")\n",
    "checking_account = CheckingAccount(account_number=\"CA201\", holder_name=\"Alice Smith\")\n",
    "\n",
    "savings_account.display_balance()\n",
    "savings_account.deposit(1000)\n",
    "savings_account.display_balance()\n",
    "savings_account.withdraw(500)\n",
    "savings_account.display_balance()\n",
    "\n",
    "print(\"=\" * 30)\n",
    "\n",
    "checking_account.display_balance()\n",
    "checking_account.deposit(1500)\n",
    "checking_account.display_balance()\n",
    "checking_account.withdraw(700)\n",
    "checking_account.display_balance()\n"
   ]
  },
  {
   "cell_type": "markdown",
   "id": "d8b78281",
   "metadata": {},
   "source": [
    "7. Discuss the concept of interface classes in Python and their role in achieving \n",
    "abstraction"
   ]
  },
  {
   "cell_type": "code",
   "execution_count": null,
   "id": "b8cfb292",
   "metadata": {},
   "outputs": [],
   "source": [
    "'''n Python, the concept of interface classes is not explicitly present as it is in some other programming languages like Java.\n",
    "Python is a dynamically-typed language that emphasizes duck typing, which means that the suitability of an object for a \n",
    "particular operation is determined by whether it supports the required methods or attributes, rather than checking its explicit\n",
    "type.\n",
    "\n",
    "However, even though Python does not have a distinct \"interface\" keyword or construct, the abc module (Abstract Base Classes)\n",
    "can be used to define interfaces in a way that promotes abstraction and enforces a common interface for classes that inherit \n",
    "from it.\n",
    "\n",
    "\n",
    "\n",
    "'''"
   ]
  },
  {
   "cell_type": "markdown",
   "id": "35419bbf",
   "metadata": {},
   "source": [
    "8. Create a Python class hierarchy for animals and implement abstraction by defining \n",
    "common methods (e.g., `eat()`, `sleep()`) in an abstract base class."
   ]
  },
  {
   "cell_type": "code",
   "execution_count": 8,
   "id": "aaed17ab",
   "metadata": {},
   "outputs": [
    {
     "name": "stdout",
     "output_type": "stream",
     "text": [
      "Buddy (Canine): Woof!, Dog is eating, Dog is sleeping\n",
      "Whiskers (Feline): Meow!, Cat is eating, Cat is sleeping\n",
      "Hooty (Bird): Hoot!, Owl is eating, Owl is sleeping\n"
     ]
    }
   ],
   "source": [
    "from abc import ABC, abstractmethod\n",
    "\n",
    "# Abstract base class for animals\n",
    "class Animal(ABC):\n",
    "    def __init__(self, name, species):\n",
    "        self.name = name\n",
    "        self.species = species\n",
    "\n",
    "    @abstractmethod\n",
    "    def make_sound(self):\n",
    "        pass\n",
    "\n",
    "    @abstractmethod\n",
    "    def eat(self):\n",
    "        pass\n",
    "\n",
    "    @abstractmethod\n",
    "    def sleep(self):\n",
    "        pass\n",
    "\n",
    "# Concrete subclasses for different types of animals\n",
    "class Dog(Animal):\n",
    "    def make_sound(self):\n",
    "        return \"Woof!\"\n",
    "\n",
    "    def eat(self):\n",
    "        return \"Dog is eating\"\n",
    "\n",
    "    def sleep(self):\n",
    "        return \"Dog is sleeping\"\n",
    "\n",
    "class Cat(Animal):\n",
    "    def make_sound(self):\n",
    "        return \"Meow!\"\n",
    "\n",
    "    def eat(self):\n",
    "        return \"Cat is eating\"\n",
    "\n",
    "    def sleep(self):\n",
    "        return \"Cat is sleeping\"\n",
    "\n",
    "class Owl(Animal):\n",
    "    def make_sound(self):\n",
    "        return \"Hoot!\"\n",
    "\n",
    "    def eat(self):\n",
    "        return \"Owl is eating\"\n",
    "\n",
    "    def sleep(self):\n",
    "        return \"Owl is sleeping\"\n",
    "\n",
    "# Example usage\n",
    "dog = Dog(name=\"Buddy\", species=\"Canine\")\n",
    "cat = Cat(name=\"Whiskers\", species=\"Feline\")\n",
    "owl = Owl(name=\"Hooty\", species=\"Bird\")\n",
    "\n",
    "# Display information and behavior of each animal\n",
    "print(f\"{dog.name} ({dog.species}): {dog.make_sound()}, {dog.eat()}, {dog.sleep()}\")\n",
    "print(f\"{cat.name} ({cat.species}): {cat.make_sound()}, {cat.eat()}, {cat.sleep()}\")\n",
    "print(f\"{owl.name} ({owl.species}): {owl.make_sound()}, {owl.eat()}, {owl.sleep()}\")\n"
   ]
  },
  {
   "cell_type": "markdown",
   "id": "f7514a41",
   "metadata": {},
   "source": [
    "9. Explain the significance of encapsulation in achieving abstraction. Provide examples."
   ]
  },
  {
   "cell_type": "code",
   "execution_count": null,
   "id": "f7722221",
   "metadata": {},
   "outputs": [],
   "source": [
    "'''\n",
    "Encapsulation is a key concept in object-oriented programming that involves bundling the data (attributes) and methods\n",
    "(functions) that operate on the data into a single unit, known as a class. Encapsulation helps in achieving \n",
    "abstraction by hiding the internal details of an object and exposing only what is necessary. This allows for\n",
    "better control over the access and modification of data, promoting modularity, code organization, and reducing complexity.'''"
   ]
  },
  {
   "cell_type": "markdown",
   "id": "c56789f7",
   "metadata": {},
   "source": [
    "10. What is the purpose of abstract methods, and how do they enforce abstraction in \n",
    "Python classes?"
   ]
  },
  {
   "cell_type": "code",
   "execution_count": null,
   "id": "177b7176",
   "metadata": {},
   "outputs": [],
   "source": [
    "'''Abstract methods serve the purpose of defining a method signature in an abstract base class (ABC) without providing an \n",
    "actual implementation. They enforce abstraction by requiring concrete subclasses to provide their own implementations for\n",
    "these abstract methods. Abstract methods help in creating a common interface for a group of related classes, ensuring that \n",
    "certain methods are present in each concrete subclass, but leaving the specific implementation details to those subclasses.'''"
   ]
  },
  {
   "cell_type": "markdown",
   "id": "88a78605",
   "metadata": {},
   "source": [
    "11. Create a Python class for a vehicle system and demonstrate abstraction by defining \n",
    "common methods (e.g., `start()`, `stop()`) in an abstract base class."
   ]
  },
  {
   "cell_type": "code",
   "execution_count": 9,
   "id": "b9feef47",
   "metadata": {},
   "outputs": [
    {
     "name": "stdout",
     "output_type": "stream",
     "text": [
      "Toyota Camry engine started.\n",
      "Toyota Camry engine stopped.\n",
      "Harley-Davidson Sportster engine started.\n",
      "Harley-Davidson Sportster engine stopped.\n"
     ]
    }
   ],
   "source": [
    "from abc import ABC, abstractmethod\n",
    "\n",
    "# Abstract base class for vehicles\n",
    "class Vehicle(ABC):\n",
    "    def __init__(self, brand, model):\n",
    "        self.brand = brand\n",
    "        self.model = model\n",
    "        self.engine_started = False\n",
    "\n",
    "    @abstractmethod\n",
    "    def start(self):\n",
    "        pass\n",
    "\n",
    "    @abstractmethod\n",
    "    def stop(self):\n",
    "        pass\n",
    "\n",
    "# Concrete subclass for a car\n",
    "class Car(Vehicle):\n",
    "    def start(self):\n",
    "        if not self.engine_started:\n",
    "            print(f\"{self.brand} {self.model} engine started.\")\n",
    "            self.engine_started = True\n",
    "        else:\n",
    "            print(\"Car engine is already running.\")\n",
    "\n",
    "    def stop(self):\n",
    "        if self.engine_started:\n",
    "            print(f\"{self.brand} {self.model} engine stopped.\")\n",
    "            self.engine_started = False\n",
    "        else:\n",
    "            print(\"Car engine is already stopped.\")\n",
    "\n",
    "# Concrete subclass for a motorcycle\n",
    "class Motorcycle(Vehicle):\n",
    "    def start(self):\n",
    "        if not self.engine_started:\n",
    "            print(f\"{self.brand} {self.model} engine started.\")\n",
    "            self.engine_started = True\n",
    "        else:\n",
    "            print(\"Motorcycle engine is already running.\")\n",
    "\n",
    "    def stop(self):\n",
    "        if self.engine_started:\n",
    "            print(f\"{self.brand} {self.model} engine stopped.\")\n",
    "            self.engine_started = False\n",
    "        else:\n",
    "            print(\"Motorcycle engine is already stopped.\")\n",
    "\n",
    "# Example usage\n",
    "car = Car(brand=\"Toyota\", model=\"Camry\")\n",
    "motorcycle = Motorcycle(brand=\"Harley-Davidson\", model=\"Sportster\")\n",
    "\n",
    "# Demonstrate abstraction by using common methods\n",
    "car.start()\n",
    "car.stop()\n",
    "\n",
    "motorcycle.start()\n",
    "motorcycle.stop()\n"
   ]
  },
  {
   "cell_type": "markdown",
   "id": "0c650259",
   "metadata": {},
   "source": [
    "12. Describe the use of abstract properties in Python and how they can be employed in \n",
    "abstract classes."
   ]
  },
  {
   "cell_type": "code",
   "execution_count": null,
   "id": "a4c6aeb0",
   "metadata": {},
   "outputs": [],
   "source": [
    "'''In Python, abstract properties are used to define abstract attributes in abstract base classes (ABCs).\n",
    "Abstract properties allow you to declare a property in an abstract base class without providing a concrete implementation.\n",
    "Subclasses are then required to provide their own implementations for these abstract properties. Abstract properties are\n",
    "defined using the @property decorator along with the @abstractmethod decorator from the abc (Abstract Base Classes) module.'''"
   ]
  },
  {
   "cell_type": "markdown",
   "id": "4a928e11",
   "metadata": {},
   "source": [
    "13. Create a Python class hierarchy for employees in a company (e.g., manager, \n",
    "developer, designer) and implement abstraction by defining a common `get_salary()` \n",
    "method"
   ]
  },
  {
   "cell_type": "code",
   "execution_count": 10,
   "id": "cabbbc95",
   "metadata": {},
   "outputs": [
    {
     "name": "stdout",
     "output_type": "stream",
     "text": [
      "John Doe's salary: $66,000.00\n",
      "Alice Smith's salary: $50,000.00\n",
      "Bob Johnson's salary: $58,000.00\n"
     ]
    }
   ],
   "source": [
    "from abc import ABC, abstractmethod\n",
    "\n",
    "# Abstract base class for employees\n",
    "class Employee(ABC):\n",
    "    def __init__(self, name, employee_id):\n",
    "        self.name = name\n",
    "        self.employee_id = employee_id\n",
    "\n",
    "    @abstractmethod\n",
    "    def get_salary(self):\n",
    "        pass\n",
    "\n",
    "# Concrete subclass for a manager\n",
    "class Manager(Employee):\n",
    "    def __init__(self, name, employee_id, salary, bonus_percentage):\n",
    "        super().__init__(name, employee_id)\n",
    "        self.salary = salary\n",
    "        self.bonus_percentage = bonus_percentage\n",
    "\n",
    "    def get_salary(self):\n",
    "        bonus_amount = (self.bonus_percentage / 100) * self.salary\n",
    "        return self.salary + bonus_amount\n",
    "\n",
    "# Concrete subclass for a developer\n",
    "class Developer(Employee):\n",
    "    def __init__(self, name, employee_id, salary, programming_language):\n",
    "        super().__init__(name, employee_id)\n",
    "        self.salary = salary\n",
    "        self.programming_language = programming_language\n",
    "\n",
    "    def get_salary(self):\n",
    "        return self.salary\n",
    "\n",
    "# Concrete subclass for a designer\n",
    "class Designer(Employee):\n",
    "    def __init__(self, name, employee_id, salary, years_of_experience):\n",
    "        super().__init__(name, employee_id)\n",
    "        self.salary = salary\n",
    "        self.years_of_experience = years_of_experience\n",
    "\n",
    "    def get_salary(self):\n",
    "        experience_bonus = min(self.years_of_experience, 5) * 1000\n",
    "        return self.salary + experience_bonus\n",
    "\n",
    "# Example usage\n",
    "manager = Manager(name=\"John Doe\", employee_id=\"M101\", salary=60000, bonus_percentage=10)\n",
    "developer = Developer(name=\"Alice Smith\", employee_id=\"D201\", salary=50000, programming_language=\"Python\")\n",
    "designer = Designer(name=\"Bob Johnson\", employee_id=\"DS301\", salary=55000, years_of_experience=3)\n",
    "\n",
    "# Demonstrate abstraction by using the common method\n",
    "print(f\"{manager.name}'s salary: ${manager.get_salary():,.2f}\")\n",
    "print(f\"{developer.name}'s salary: ${developer.get_salary():,.2f}\")\n",
    "print(f\"{designer.name}'s salary: ${designer.get_salary():,.2f}\")\n"
   ]
  },
  {
   "cell_type": "markdown",
   "id": "54a8cc49",
   "metadata": {},
   "source": [
    "14. Discuss the differences between abstract classes and concrete classes in Python, \n",
    "including their instantiation"
   ]
  },
  {
   "cell_type": "code",
   "execution_count": 11,
   "id": "72617893",
   "metadata": {},
   "outputs": [
    {
     "data": {
      "text/plain": [
       "'Abstract Classes:\\nDefinition:\\n\\nAbstract classes cannot be instantiated on their own.\\nabc Module Usage:\\n\\nAbstract classes are typically defined using the abc module.\\nAbstract Methods:\\n\\nAbstract classes may contain abstract methods.\\nEnforcing a Common Interface:\\n\\nThey define a common interface for subclasses.\\nCannot Be Instantiated:\\n\\nInstances of abstract classes cannot be created directly.\\nConcrete Classes:\\nComplete Implementations:\\n\\nConcrete classes are standalone with complete implementations.\\nInstantiation:\\n\\nInstances of concrete classes can be created directly.\\nNo abc Module Usage:\\n\\nConcrete classes do not require the abc module for definition.\\nFlexible Usage:\\n\\nThey are more flexible in terms of instantiation and usage.'"
      ]
     },
     "execution_count": 11,
     "metadata": {},
     "output_type": "execute_result"
    }
   ],
   "source": [
    "'''Abstract Classes:\n",
    "Definition:\n",
    "\n",
    "Abstract classes cannot be instantiated on their own.\n",
    "abc Module Usage:\n",
    "\n",
    "Abstract classes are typically defined using the abc module.\n",
    "Abstract Methods:\n",
    "\n",
    "Abstract classes may contain abstract methods.\n",
    "Enforcing a Common Interface:\n",
    "\n",
    "They define a common interface for subclasses.\n",
    "Cannot Be Instantiated:\n",
    "\n",
    "Instances of abstract classes cannot be created directly.\n",
    "Concrete Classes:\n",
    "Complete Implementations:\n",
    "\n",
    "Concrete classes are standalone with complete implementations.\n",
    "Instantiation:\n",
    "\n",
    "Instances of concrete classes can be created directly.\n",
    "No abc Module Usage:\n",
    "\n",
    "Concrete classes do not require the abc module for definition.\n",
    "Flexible Usage:\n",
    "\n",
    "They are more flexible in terms of instantiation and usage.'''"
   ]
  },
  {
   "cell_type": "markdown",
   "id": "e37961f6",
   "metadata": {},
   "source": [
    "15. Explain the concept of abstract data types (ADTs) and their role in achieving \n",
    "abstraction in Pytho"
   ]
  },
  {
   "cell_type": "code",
   "execution_count": null,
   "id": "cac1e131",
   "metadata": {},
   "outputs": [],
   "source": [
    "'''Abstract Data Types (ADTs) are a theoretical concept in computer science that represents a high-level description of a \n",
    "data structure and the operations that can be performed on it. ADTs define the behavior of a data structure without specifying its\n",
    "implementation details. The idea is to abstract away the inner workings, focusing on what the data structure does rather\n",
    "than how it achieves it. In Python, objects and classes are often used to implement abstract data types, providing a practical\n",
    "means of achieving abstraction.'''"
   ]
  },
  {
   "cell_type": "markdown",
   "id": "8d4e70b1",
   "metadata": {},
   "source": [
    "16. Create a Python class for a computer system, demonstrating abstraction by defining \n",
    "common methods (e.g., `power_on()`, `shutdown()`) in an abstract base class"
   ]
  },
  {
   "cell_type": "code",
   "execution_count": 12,
   "id": "dc227d96",
   "metadata": {},
   "outputs": [
    {
     "name": "stdout",
     "output_type": "stream",
     "text": [
      "Dell OptiPlex desktop computer is powering on.\n",
      "Dell OptiPlex desktop computer is shutting down.\n",
      "HP EliteBook laptop computer is powering on.\n",
      "HP EliteBook laptop computer is shutting down.\n"
     ]
    }
   ],
   "source": [
    "from abc import ABC, abstractmethod\n",
    "\n",
    "# Abstract base class for computer systems\n",
    "class ComputerSystem(ABC):\n",
    "    def __init__(self, brand, model):\n",
    "        self.brand = brand\n",
    "        self.model = model\n",
    "        self.powered_on = False\n",
    "\n",
    "    @abstractmethod\n",
    "    def power_on(self):\n",
    "        pass\n",
    "\n",
    "    @abstractmethod\n",
    "    def shutdown(self):\n",
    "        pass\n",
    "\n",
    "# Concrete subclass for a desktop computer\n",
    "class DesktopComputer(ComputerSystem):\n",
    "    def power_on(self):\n",
    "        if not self.powered_on:\n",
    "            print(f\"{self.brand} {self.model} desktop computer is powering on.\")\n",
    "            self.powered_on = True\n",
    "        else:\n",
    "            print(\"Desktop computer is already powered on.\")\n",
    "\n",
    "    def shutdown(self):\n",
    "        if self.powered_on:\n",
    "            print(f\"{self.brand} {self.model} desktop computer is shutting down.\")\n",
    "            self.powered_on = False\n",
    "        else:\n",
    "            print(\"Desktop computer is already powered off.\")\n",
    "\n",
    "# Concrete subclass for a laptop computer\n",
    "class LaptopComputer(ComputerSystem):\n",
    "    def power_on(self):\n",
    "        if not self.powered_on:\n",
    "            print(f\"{self.brand} {self.model} laptop computer is powering on.\")\n",
    "            self.powered_on = True\n",
    "        else:\n",
    "            print(\"Laptop computer is already powered on.\")\n",
    "\n",
    "    def shutdown(self):\n",
    "        if self.powered_on:\n",
    "            print(f\"{self.brand} {self.model} laptop computer is shutting down.\")\n",
    "            self.powered_on = False\n",
    "        else:\n",
    "            print(\"Laptop computer is already powered off.\")\n",
    "\n",
    "# Example usage\n",
    "desktop = DesktopComputer(brand=\"Dell\", model=\"OptiPlex\")\n",
    "laptop = LaptopComputer(brand=\"HP\", model=\"EliteBook\")\n",
    "\n",
    "# Demonstrate abstraction by using common methods\n",
    "desktop.power_on()\n",
    "desktop.shutdown()\n",
    "\n",
    "laptop.power_on()\n",
    "laptop.shutdown()\n"
   ]
  },
  {
   "cell_type": "markdown",
   "id": "f371252d",
   "metadata": {},
   "source": [
    "17. Discuss the benefits of using abstraction in large-scale software development \n",
    "projects."
   ]
  },
  {
   "cell_type": "code",
   "execution_count": null,
   "id": "0caac7a4",
   "metadata": {},
   "outputs": [],
   "source": [
    "'''Modularity: Enhances code organization by breaking down complex systems into manageable components.\n",
    "\n",
    "Reduced Complexity: Hides unnecessary details, simplifying the understanding and maintenance of the code.\n",
    "\n",
    "Code Reusability: Promotes the reuse of abstracted components across different parts of the system.\n",
    "\n",
    "Ease of Maintenance: Simplifies maintenance tasks by providing clear interfaces and encapsulating implementation details.\n",
    "\n",
    "Collaboration: Facilitates team collaboration through well-defined interfaces, reducing dependencies.'''"
   ]
  },
  {
   "cell_type": "markdown",
   "id": "e676fc5a",
   "metadata": {},
   "source": [
    "18. Explain how abstraction enhances code reusability and modularity in Python \n",
    "programs."
   ]
  },
  {
   "cell_type": "code",
   "execution_count": null,
   "id": "b931a6ba",
   "metadata": {},
   "outputs": [],
   "source": [
    "'''Abstraction in Python enhances code reusability by allowing the creation of abstract classes and interfaces, providing \n",
    "blueprints for multiple implementations. This promotes modularity by breaking down programs into self-contained components \n",
    "with clear interfaces. Modules can be developed and maintained independently, reducing dependencies and improving code \n",
    "organization. Abstraction hides unnecessary implementation details, encapsulating functionality and making it easier to \n",
    "update or replace specific components. Consistent interfaces ensure predictable interactions, facilitating collaboration\n",
    "and promoting a standardized way of using different parts of the program.'''"
   ]
  },
  {
   "cell_type": "markdown",
   "id": "44796f4c",
   "metadata": {},
   "source": [
    "19. Create a Python class for a library system, implementing abstraction by defining \n",
    "common methods (e.g., `add_book()`, `borrow_book()`) in an abstract base class"
   ]
  },
  {
   "cell_type": "code",
   "execution_count": 13,
   "id": "04d1ba6c",
   "metadata": {},
   "outputs": [
    {
     "name": "stdout",
     "output_type": "stream",
     "text": [
      "Book 'The Great Gatsby' by F. Scott Fitzgerald added to the library.\n",
      "Book 'The Great Gatsby' borrowed successfully.\n",
      "Book 'The Great Gatsby' is currently unavailable.\n",
      "Book 'The Great Gatsby' already exists in the library.\n"
     ]
    }
   ],
   "source": [
    "from abc import ABC, abstractmethod\n",
    "\n",
    "# Abstract base class for library systems\n",
    "class LibrarySystem(ABC):\n",
    "    def __init__(self, name):\n",
    "        self.name = name\n",
    "        self.books = {}  # Dictionary to store book information\n",
    "\n",
    "    @abstractmethod\n",
    "    def add_book(self, book_title, author):\n",
    "        pass\n",
    "\n",
    "    @abstractmethod\n",
    "    def borrow_book(self, book_title):\n",
    "        pass\n",
    "\n",
    "# Concrete subclass for a specific library system\n",
    "class MyLibrarySystem(LibrarySystem):\n",
    "    def add_book(self, book_title, author):\n",
    "        if book_title not in self.books:\n",
    "            self.books[book_title] = {'author': author, 'available': True}\n",
    "            print(f\"Book '{book_title}' by {author} added to the library.\")\n",
    "        else:\n",
    "            print(f\"Book '{book_title}' already exists in the library.\")\n",
    "\n",
    "    def borrow_book(self, book_title):\n",
    "        if book_title in self.books:\n",
    "            if self.books[book_title]['available']:\n",
    "                self.books[book_title]['available'] = False\n",
    "                print(f\"Book '{book_title}' borrowed successfully.\")\n",
    "            else:\n",
    "                print(f\"Book '{book_title}' is currently unavailable.\")\n",
    "        else:\n",
    "            print(f\"Book '{book_title}' not found in the library.\")\n",
    "\n",
    "# Example usage\n",
    "library = MyLibrarySystem(name=\"My Library\")\n",
    "\n",
    "# Demonstrate abstraction by using common methods\n",
    "library.add_book(\"The Great Gatsby\", \"F. Scott Fitzgerald\")\n",
    "library.borrow_book(\"The Great Gatsby\")\n",
    "library.borrow_book(\"The Great Gatsby\")  # Attempting to borrow the same book again\n",
    "library.add_book(\"The Great Gatsby\", \"F. Scott Fitzgerald\")  # Attempting to add the same book again\n"
   ]
  },
  {
   "cell_type": "markdown",
   "id": "21784ef1",
   "metadata": {},
   "source": [
    "20. Describe the concept of method abstraction in Python and how it relates to \n",
    "polymorphism"
   ]
  },
  {
   "cell_type": "code",
   "execution_count": null,
   "id": "c656c460",
   "metadata": {},
   "outputs": [],
   "source": [
    "'''Method abstraction in Python involves defining abstract methods in base classes, emphasizing functionality over \n",
    "implementation. Abstract methods act as placeholders, providing a common interface for derived classes. This concept \n",
    "facilitates polymorphism, allowing objects of different types to be treated interchangeably through method overriding.\n",
    "By adhering to abstract base classes, Python achieves a level of code reusability and consistency, promoting a more flexible\n",
    "and modular design. Dynamic binding at runtime enables the execution of the appropriate method based on the actual type of th\n",
    "e object, contributing to the polymorphic behavior.'''"
   ]
  },
  {
   "cell_type": "markdown",
   "id": "e4627251",
   "metadata": {},
   "source": [
    "### COMPOSITION"
   ]
  },
  {
   "cell_type": "markdown",
   "id": "17709e46",
   "metadata": {},
   "source": [
    "1. Explain the concept of composition in Python and how it is used to build complex \n",
    "objects from simpler ones"
   ]
  },
  {
   "cell_type": "code",
   "execution_count": null,
   "id": "94e686b1",
   "metadata": {},
   "outputs": [],
   "source": [
    "''' composition is a concept of oops in which we create complex objects by combining simpler ones\n",
    "\n",
    "we build new classes  by using instances of other classes attributes.\n",
    "\n",
    "This allows you to take advantage of the features and behaviors of the included classes without inheriting from them'''"
   ]
  },
  {
   "cell_type": "markdown",
   "id": "e17e3af9",
   "metadata": {},
   "source": [
    "2. Describe the difference between composition and inheritance in object-oriented \n",
    "programming."
   ]
  },
  {
   "cell_type": "code",
   "execution_count": null,
   "id": "88cb878a",
   "metadata": {},
   "outputs": [],
   "source": [
    "Composition and inheritance are two fundamental concepts in object-oriented programming (OOP) that allow you to create\n",
    "relationships between classes and reuse code. \n",
    "\n"
   ]
  },
  {
   "cell_type": "markdown",
   "id": "806b627f",
   "metadata": {},
   "source": [
    "3. Create a Python class called `Author` with attributes for name and birthdate. Then, \n",
    "create a `Book` class that contains an instance of `Author` as a composition. Provide an \n",
    "example of creating a `Book` object.\n"
   ]
  },
  {
   "cell_type": "code",
   "execution_count": 14,
   "id": "50fe5400",
   "metadata": {},
   "outputs": [
    {
     "name": "stdout",
     "output_type": "stream",
     "text": [
      "Book Title: Example Book\n",
      "Book Genre: Fiction\n",
      "Author: John Doe\n",
      "Author Birthdate: January 1, 1980\n"
     ]
    }
   ],
   "source": [
    "class Author:\n",
    "    def __init__(self, name, birthdate):\n",
    "        self.name = name\n",
    "        self.birthdate = birthdate\n",
    "\n",
    "class Book:\n",
    "    def __init__(self, title, genre, author):\n",
    "        self.title = title\n",
    "        self.genre = genre\n",
    "        self.author = author  # Composition: Book has an Author\n",
    "\n",
    "# Example usage\n",
    "author_john_doe = Author(name=\"John Doe\", birthdate=\"January 1, 1980\")\n",
    "book_example = Book(title=\"Example Book\", genre=\"Fiction\", author=author_john_doe)\n",
    "\n",
    "# Accessing attributes of the Book and its Author\n",
    "print(f\"Book Title: {book_example.title}\")\n",
    "print(f\"Book Genre: {book_example.genre}\")\n",
    "print(f\"Author: {book_example.author.name}\")\n",
    "print(f\"Author Birthdate: {book_example.author.birthdate}\")\n"
   ]
  },
  {
   "cell_type": "markdown",
   "id": "56e1c375",
   "metadata": {},
   "source": [
    "4. Discuss the benefits of using composition over inheritance in Python, especially in \n",
    "terms of code flexibility and reusability."
   ]
  },
  {
   "cell_type": "code",
   "execution_count": null,
   "id": "81902219",
   "metadata": {},
   "outputs": [],
   "source": [
    "'''sing composition over inheritance in Python offers several benefits, \n",
    "particularly in terms of code flexibility and reusability.'''"
   ]
  },
  {
   "cell_type": "markdown",
   "id": "8edee826",
   "metadata": {},
   "source": [
    "5. How can you implement composition in Python classes? Provide examples of using \n",
    "composition to create complex objects.\n"
   ]
  },
  {
   "cell_type": "code",
   "execution_count": 15,
   "id": "60edd519",
   "metadata": {},
   "outputs": [
    {
     "name": "stdout",
     "output_type": "stream",
     "text": [
      "Car is starting...\n",
      "Engine started\n",
      "Name: John Doe, Age: 30\n",
      "Address: 123 Main St, Cityville, 12345\n"
     ]
    }
   ],
   "source": [
    "'''In Python, composition can be implemented by creating instances of other classes within a class.\n",
    "This allows you to build complex objects by combining simpler components. '''\n",
    "\n",
    "# Example 1: Simple Composition\n",
    "\n",
    "class Engine:\n",
    "    def start(self):\n",
    "        print(\"Engine started\")\n",
    "\n",
    "class Car:\n",
    "    def __init__(self):\n",
    "        self.engine = Engine()  # Composition: Car has an Engine\n",
    "\n",
    "    def start(self):\n",
    "        print(\"Car is starting...\")\n",
    "        self.engine.start()\n",
    "\n",
    "# Creating a Car object using composition\n",
    "my_car = Car()\n",
    "my_car.start()\n",
    "\n",
    "\n",
    "# Example 2: More Complex Composition\n",
    "\n",
    "class Address:\n",
    "    def __init__(self, street, city, zip_code):\n",
    "        self.street = street\n",
    "        self.city = city\n",
    "        self.zip_code = zip_code\n",
    "\n",
    "class Person:\n",
    "    def __init__(self, name, age, address):\n",
    "        self.name = name\n",
    "        self.age = age\n",
    "        self.address = address  # Composition: Person has an Address\n",
    "\n",
    "    def display_info(self):\n",
    "        print(f\"Name: {self.name}, Age: {self.age}\")\n",
    "        print(f\"Address: {self.address.street}, {self.address.city}, {self.address.zip_code}\")\n",
    "\n",
    "# Creating a Person object with an Address using composition\n",
    "person_address = Address(street=\"123 Main St\", city=\"Cityville\", zip_code=\"12345\")\n",
    "person = Person(name=\"John Doe\", age=30, address=person_address)\n",
    "person.display_info()\n"
   ]
  },
  {
   "cell_type": "markdown",
   "id": "a8fa145a",
   "metadata": {},
   "source": [
    "6. Create a Python class hierarchy for a music player system, using composition to \n",
    "represent playlists and songs.\n"
   ]
  },
  {
   "cell_type": "code",
   "execution_count": 16,
   "id": "8b58214f",
   "metadata": {},
   "outputs": [
    {
     "name": "stdout",
     "output_type": "stream",
     "text": [
      "Playlist: My Playlist\n",
      "Playing: Song 1 by Artist 1 (180 seconds)\n",
      "Playing: Song 2 by Artist 2 (240 seconds)\n",
      "Playing: Song 3 by Artist 3 (200 seconds)\n",
      "Playlist: Favorites\n",
      "Playing: Song 4 by Artist 4 (210 seconds)\n",
      "Playing: Song 5 by Artist 5 (190 seconds)\n"
     ]
    }
   ],
   "source": [
    "class Song:\n",
    "    def __init__(self, title, artist, duration):\n",
    "        self.title = title\n",
    "        self.artist = artist\n",
    "        self.duration = duration\n",
    "\n",
    "    def play(self):\n",
    "        print(f\"Playing: {self.title} by {self.artist} ({self.duration} seconds)\")\n",
    "\n",
    "class Playlist:\n",
    "    def __init__(self, name):\n",
    "        self.name = name\n",
    "        self.songs = []  # Composition: Playlist has a list of Song objects\n",
    "\n",
    "    def add_song(self, song):\n",
    "        self.songs.append(song)\n",
    "\n",
    "    def play_all(self):\n",
    "        print(f\"Playlist: {self.name}\")\n",
    "        for song in self.songs:\n",
    "            song.play()\n",
    "\n",
    "# Example usage\n",
    "song1 = Song(title=\"Song 1\", artist=\"Artist 1\", duration=180)\n",
    "song2 = Song(title=\"Song 2\", artist=\"Artist 2\", duration=240)\n",
    "song3 = Song(title=\"Song 3\", artist=\"Artist 3\", duration=200)\n",
    "\n",
    "playlist1 = Playlist(name=\"My Playlist\")\n",
    "playlist1.add_song(song1)\n",
    "playlist1.add_song(song2)\n",
    "playlist1.add_song(song3)\n",
    "\n",
    "song4 = Song(title=\"Song 4\", artist=\"Artist 4\", duration=210)\n",
    "song5 = Song(title=\"Song 5\", artist=\"Artist 5\", duration=190)\n",
    "\n",
    "playlist2 = Playlist(name=\"Favorites\")\n",
    "playlist2.add_song(song4)\n",
    "playlist2.add_song(song5)\n",
    "\n",
    "# Play all songs in each playlist\n",
    "playlist1.play_all()\n",
    "playlist2.play_all()\n"
   ]
  },
  {
   "cell_type": "markdown",
   "id": "fcea4286",
   "metadata": {},
   "source": [
    "7. Explain the concept of \"has-a\" relationships in composition and how it helps design \n",
    "software systems.\n"
   ]
  },
  {
   "cell_type": "code",
   "execution_count": null,
   "id": "84d9a2e7",
   "metadata": {},
   "outputs": [],
   "source": [
    "'''The \"has-a\" relationship in composition refers to the idea that one class has an object of another class as one of its \n",
    "components or attributes. It is a form of association where an object of one class is part of another class, representing a \n",
    "more modular and flexible approach to design. This concept is fundamental to composition, where objects collaborate by being \n",
    "composed of other objects.'''"
   ]
  },
  {
   "cell_type": "markdown",
   "id": "8f1a7160",
   "metadata": {},
   "source": [
    "8. Create a Python class for a computer system, using composition to represent \n",
    "components like CPU, RAM, and storage devices"
   ]
  },
  {
   "cell_type": "code",
   "execution_count": 17,
   "id": "63ca19c0",
   "metadata": {},
   "outputs": [
    {
     "name": "stdout",
     "output_type": "stream",
     "text": [
      "Intel Core i5 CPU processing data at 2.5 GHz\n",
      "RAM with 8 GB storing data\n",
      "SSD storage device reading data from 256 GB\n"
     ]
    }
   ],
   "source": [
    "class CPU:\n",
    "    def __init__(self, model, speed):\n",
    "        self.model = model\n",
    "        self.speed = speed\n",
    "\n",
    "    def process_data(self):\n",
    "        print(f\"{self.model} CPU processing data at {self.speed} GHz\")\n",
    "\n",
    "class RAM:\n",
    "    def __init__(self, capacity):\n",
    "        self.capacity = capacity\n",
    "\n",
    "    def store_data(self):\n",
    "        print(f\"RAM with {self.capacity} GB storing data\")\n",
    "\n",
    "class StorageDevice:\n",
    "    def __init__(self, type, capacity):\n",
    "        self.type = type\n",
    "        self.capacity = capacity\n",
    "\n",
    "    def read_data(self):\n",
    "        print(f\"{self.type} storage device reading data from {self.capacity} GB\")\n",
    "\n",
    "class ComputerSystem:\n",
    "    def __init__(self, cpu, ram, storage):\n",
    "        self.cpu = cpu  # Composition: ComputerSystem has a CPU\n",
    "        self.ram = ram  # Composition: ComputerSystem has RAM\n",
    "        self.storage = storage  # Composition: ComputerSystem has a StorageDevice\n",
    "\n",
    "    def perform_computations(self):\n",
    "        self.cpu.process_data()\n",
    "        self.ram.store_data()\n",
    "        self.storage.read_data()\n",
    "\n",
    "# Example usage\n",
    "my_cpu = CPU(model=\"Intel Core i5\", speed=2.5)\n",
    "my_ram = RAM(capacity=8)\n",
    "my_storage = StorageDevice(type=\"SSD\", capacity=256)\n",
    "\n",
    "my_computer = ComputerSystem(cpu=my_cpu, ram=my_ram, storage=my_storage)\n",
    "my_computer.perform_computations()\n"
   ]
  },
  {
   "cell_type": "markdown",
   "id": "4bcc309c",
   "metadata": {},
   "source": [
    "9. Describe the concept of \"delegation\" in composition and how it simplifies the design \n",
    "of complex systems.\n"
   ]
  },
  {
   "cell_type": "code",
   "execution_count": null,
   "id": "7605fd83",
   "metadata": {},
   "outputs": [],
   "source": [
    "'''Delegation in composition refers to the practice of one class (delegator) using another class (delegate) to perform a \n",
    "specific task on its behalf. Instead of directly implementing certain functionalities, the delegator class delegates the\n",
    "responsibility to an instance of another class. This concept simplifies the design of complex systems by promoting modularity, \n",
    "encapsulation, and the division of responsibilities.'''"
   ]
  },
  {
   "cell_type": "markdown",
   "id": "600bed33",
   "metadata": {},
   "source": [
    "10. Create a Python class for a car, using composition to represent components like the \n",
    "engine, wheels, and transmission"
   ]
  },
  {
   "cell_type": "code",
   "execution_count": 18,
   "id": "e36f731f",
   "metadata": {},
   "outputs": [
    {
     "name": "stdout",
     "output_type": "stream",
     "text": [
      "Starting the car...\n",
      "Engine started\n",
      "Transmission shifted to gear 1\n",
      "Wheels rotating\n",
      "Car is now running\n",
      "Stopping the car...\n",
      "Engine stopped\n",
      "Car has come to a stop\n"
     ]
    }
   ],
   "source": [
    "class Engine:\n",
    "    def start(self):\n",
    "        print(\"Engine started\")\n",
    "\n",
    "    def stop(self):\n",
    "        print(\"Engine stopped\")\n",
    "\n",
    "class Wheels:\n",
    "    def rotate(self):\n",
    "        print(\"Wheels rotating\")\n",
    "\n",
    "class Transmission:\n",
    "    def shift_gear(self, gear):\n",
    "        print(f\"Transmission shifted to gear {gear}\")\n",
    "\n",
    "class Car:\n",
    "    def __init__(self, engine, wheels, transmission):\n",
    "        self.engine = engine  # Composition: Car has an Engine\n",
    "        self.wheels = wheels  # Composition: Car has Wheels\n",
    "        self.transmission = transmission  # Composition: Car has a Transmission\n",
    "\n",
    "    def start(self):\n",
    "        print(\"Starting the car...\")\n",
    "        self.engine.start()\n",
    "        self.transmission.shift_gear(gear=\"1\")\n",
    "        self.wheels.rotate()\n",
    "        print(\"Car is now running\")\n",
    "\n",
    "    def stop(self):\n",
    "        print(\"Stopping the car...\")\n",
    "        self.engine.stop()\n",
    "        print(\"Car has come to a stop\")\n",
    "\n",
    "# Example usage\n",
    "my_engine = Engine()\n",
    "my_wheels = Wheels()\n",
    "my_transmission = Transmission()\n",
    "\n",
    "my_car = Car(engine=my_engine, wheels=my_wheels, transmission=my_transmission)\n",
    "my_car.start()\n",
    "\n",
    "# Simulate driving, then stop the car\n",
    "my_car.stop()\n"
   ]
  },
  {
   "cell_type": "markdown",
   "id": "928849b8",
   "metadata": {},
   "source": [
    "11. How can you encapsulate and hide the details of composed objects in Python \n",
    "classes to maintain abstraction?"
   ]
  },
  {
   "cell_type": "code",
   "execution_count": null,
   "id": "7118e2b4",
   "metadata": {},
   "outputs": [],
   "source": [
    "'''To encapsulate and hide the details of composed objects in Python classes for maintaining abstraction, you can follow \n",
    "these principles and techniques:\n",
    "\n",
    "Use Private Attributes:\n",
    "\n",
    "Declare the attributes representing composed objects as private (prefixed with an underscore) to signal that they are not \n",
    "intended for external use.\n",
    "Example: self._engine, self._wheels, etc.\n",
    "Limit Direct Access:\n",
    "\n",
    "Avoid direct access to the attributes representing composed objects from outside the class. Instead, provide public methods\n",
    "for interaction.\n",
    "Example: Instead of car._engine.start(), use car.start_engine().\n",
    "Expose Necessary Interfaces:\n",
    "\n",
    "Expose only the necessary interfaces of the composed objects that are relevant to the external behavior of the class.\n",
    "Provide methods in the class that serve as a clean and abstract interface to interact with the composed objects.\n",
    "Provide Abstraction Methods:\n",
    "\n",
    "Encapsulate the details of the composed objects by providing abstraction methods in the class that delegate tasks to \n",
    "the composed objects.\n",
    "Example: Instead of exposing engine.start(), create a method like start_engine() in the class.\n",
    "Use Decorators for Property Methods:\n",
    "\n",
    "If you need to expose certain attributes of composed objects, consider using property methods with decorators to\n",
    "control access.\n",
    "Example: @property and @attribute_name.setter for controlled access.'''"
   ]
  },
  {
   "cell_type": "markdown",
   "id": "1d938c11",
   "metadata": {},
   "source": [
    "12. Create a Python class for a university course, using composition to represent \n",
    "students, instructors, and course materials."
   ]
  },
  {
   "cell_type": "code",
   "execution_count": 19,
   "id": "e683c673",
   "metadata": {},
   "outputs": [
    {
     "name": "stdout",
     "output_type": "stream",
     "text": [
      "Course 'Introduction to Python' (CS101) has started.\n",
      "John Smith has enrolled in the course: Introduction to Python\n",
      "Jane Doe is teaching the course: Introduction to Python\n",
      "Course 'Introduction to Python' (CS101) has ended.\n"
     ]
    }
   ],
   "source": [
    "class Student:\n",
    "    def __init__(self, student_id, name):\n",
    "        self.student_id = student_id\n",
    "        self.name = name\n",
    "\n",
    "    def enroll(self, course):\n",
    "        print(f\"{self.name} has enrolled in the course: {course}\")\n",
    "\n",
    "class Instructor:\n",
    "    def __init__(self, instructor_id, name):\n",
    "        self.instructor_id = instructor_id\n",
    "        self.name = name\n",
    "\n",
    "    def teach(self, course):\n",
    "        print(f\"{self.name} is teaching the course: {course}\")\n",
    "\n",
    "class CourseMaterial:\n",
    "    def __init__(self, textbook, syllabus):\n",
    "        self.textbook = textbook\n",
    "        self.syllabus = syllabus\n",
    "\n",
    "class UniversityCourse:\n",
    "    def __init__(self, course_code, course_name, instructor, students, course_material):\n",
    "        self.course_code = course_code\n",
    "        self.course_name = course_name\n",
    "        self.instructor = instructor  # Composition: UniversityCourse has an Instructor\n",
    "        self.students = students  # Composition: UniversityCourse has a list of Students\n",
    "        self.course_material = course_material  # Composition: UniversityCourse has CourseMaterial\n",
    "\n",
    "    def start_course(self):\n",
    "        print(f\"Course '{self.course_name}' ({self.course_code}) has started.\")\n",
    "\n",
    "    def end_course(self):\n",
    "        print(f\"Course '{self.course_name}' ({self.course_code}) has ended.\")\n",
    "\n",
    "# Example usage\n",
    "instructor_jane = Instructor(instructor_id=1, name=\"Jane Doe\")\n",
    "student_john = Student(student_id=101, name=\"John Smith\")\n",
    "student_emily = Student(student_id=102, name=\"Emily Johnson\")\n",
    "\n",
    "textbook_info = \"Introduction to Python Programming\"\n",
    "syllabus_info = \"Week-by-week course outline\"\n",
    "\n",
    "course_materials = CourseMaterial(textbook=textbook_info, syllabus=syllabus_info)\n",
    "\n",
    "python_course = UniversityCourse(\n",
    "    course_code=\"CS101\",\n",
    "    course_name=\"Introduction to Python\",\n",
    "    instructor=instructor_jane,\n",
    "    students=[student_john, student_emily],\n",
    "    course_material=course_materials\n",
    ")\n",
    "\n",
    "python_course.start_course()\n",
    "\n",
    "# Simulate enrollment and teaching\n",
    "student_john.enroll(course=\"Introduction to Python\")\n",
    "instructor_jane.teach(course=\"Introduction to Python\")\n",
    "\n",
    "python_course.end_course()\n"
   ]
  },
  {
   "cell_type": "markdown",
   "id": "1975a640",
   "metadata": {},
   "source": [
    "13. Discuss the challenges and drawbacks of composition, such as increased \n",
    "complexity and potential for tight coupling between objects"
   ]
  },
  {
   "cell_type": "code",
   "execution_count": null,
   "id": "2888a6c5",
   "metadata": {},
   "outputs": [],
   "source": [
    "'''While composition offers several benefits, it also comes with challenges and drawbacks that should be considered during the design of a software system. '''"
   ]
  },
  {
   "cell_type": "markdown",
   "id": "1ccb0d80",
   "metadata": {},
   "source": [
    "14. Create a Python class hierarchy for a restaurant system, using composition to \n",
    "represent menus, dishes, and ingredients."
   ]
  },
  {
   "cell_type": "code",
   "execution_count": 20,
   "id": "7fa0226c",
   "metadata": {},
   "outputs": [
    {
     "name": "stdout",
     "output_type": "stream",
     "text": [
      "Welcome to Gourmet Delight!\n",
      "Our Menus:\n",
      "Menu: Italian Cuisine\n",
      "Dish: Margherita Pizza\n",
      "Ingredients:\n",
      "- Tomato: 200g\n",
      "- Cheese: 100g\n",
      "- Dough: 300g\n",
      "------------------------\n",
      "Dish: Caesar Salad\n",
      "Ingredients:\n",
      "- Tomato: 200g\n",
      "- Cheese: 100g\n",
      "------------------------\n",
      "Menu: Desserts\n",
      "Dish: Chocolate Cake\n",
      "Ingredients:\n",
      "- Dough: 300g\n",
      "------------------------\n"
     ]
    }
   ],
   "source": [
    "class Ingredient:\n",
    "    def __init__(self, name, quantity):\n",
    "        self.name = name\n",
    "        self.quantity = quantity\n",
    "\n",
    "class Dish:\n",
    "    def __init__(self, name, ingredients):\n",
    "        self.name = name\n",
    "        self.ingredients = ingredients  # Composition: Dish has a list of Ingredients\n",
    "\n",
    "    def display_info(self):\n",
    "        print(f\"Dish: {self.name}\")\n",
    "        print(\"Ingredients:\")\n",
    "        for ingredient in self.ingredients:\n",
    "            print(f\"- {ingredient.name}: {ingredient.quantity}\")\n",
    "\n",
    "class Menu:\n",
    "    def __init__(self, name, dishes):\n",
    "        self.name = name\n",
    "        self.dishes = dishes  # Composition: Menu has a list of Dishes\n",
    "\n",
    "    def display_menu(self):\n",
    "        print(f\"Menu: {self.name}\")\n",
    "        for dish in self.dishes:\n",
    "            dish.display_info()\n",
    "            print(\"------------------------\")\n",
    "\n",
    "class Restaurant:\n",
    "    def __init__(self, name, menus):\n",
    "        self.name = name\n",
    "        self.menus = menus  # Composition: Restaurant has a list of Menus\n",
    "\n",
    "    def display_restaurant_info(self):\n",
    "        print(f\"Welcome to {self.name}!\")\n",
    "        print(\"Our Menus:\")\n",
    "        for menu in self.menus:\n",
    "            menu.display_menu()\n",
    "\n",
    "# Example usage\n",
    "ingredient1 = Ingredient(name=\"Tomato\", quantity=\"200g\")\n",
    "ingredient2 = Ingredient(name=\"Cheese\", quantity=\"100g\")\n",
    "ingredient3 = Ingredient(name=\"Dough\", quantity=\"300g\")\n",
    "\n",
    "dish1 = Dish(name=\"Margherita Pizza\", ingredients=[ingredient1, ingredient2, ingredient3])\n",
    "dish2 = Dish(name=\"Caesar Salad\", ingredients=[ingredient1, ingredient2])\n",
    "dish3 = Dish(name=\"Chocolate Cake\", ingredients=[ingredient3])\n",
    "\n",
    "menu1 = Menu(name=\"Italian Cuisine\", dishes=[dish1, dish2])\n",
    "menu2 = Menu(name=\"Desserts\", dishes=[dish3])\n",
    "\n",
    "restaurant = Restaurant(name=\"Gourmet Delight\", menus=[menu1, menu2])\n",
    "restaurant.display_restaurant_info()\n"
   ]
  },
  {
   "cell_type": "markdown",
   "id": "899b7e71",
   "metadata": {},
   "source": [
    "15. Explain how composition enhances code maintainability and modularity in Python \n",
    "programs"
   ]
  },
  {
   "cell_type": "markdown",
   "id": "247327f1",
   "metadata": {},
   "source": [
    "Composition enhances code maintainability and modularity in Python programs by promoting a design approach where smaller, independent components are combined to build more complex systems."
   ]
  },
  {
   "cell_type": "markdown",
   "id": "13ad4c34",
   "metadata": {},
   "source": [
    "16. Create a Python class for a computer game character, using composition to \n",
    "represent attributes like weapons, armor, and inventory."
   ]
  },
  {
   "cell_type": "code",
   "execution_count": 21,
   "id": "3fb09b02",
   "metadata": {},
   "outputs": [
    {
     "name": "stdout",
     "output_type": "stream",
     "text": [
      "Character: Hero\n",
      "Health: 100\n",
      "Weapon: Sword\n",
      "Armor: Shield\n",
      "Inventory:\n",
      "- Health Potion\n",
      "Hero equips Axe.\n",
      "Hero equips Plate Mail.\n",
      "Hero adds Mana Potion to their inventory.\n",
      "Character: Hero\n",
      "Health: 100\n",
      "Weapon: Axe\n",
      "Armor: Plate Mail\n",
      "Inventory:\n",
      "- Health Potion\n",
      "- Mana Potion\n"
     ]
    }
   ],
   "source": [
    "class Weapon:\n",
    "    def __init__(self, name, damage):\n",
    "        self.name = name\n",
    "        self.damage = damage\n",
    "\n",
    "    def attack(self):\n",
    "        print(f\"{self.name} deals {self.damage} damage!\")\n",
    "\n",
    "class Armor:\n",
    "    def __init__(self, name, defense):\n",
    "        self.name = name\n",
    "        self.defense = defense\n",
    "\n",
    "    def defend(self):\n",
    "        print(f\"{self.name} provides {self.defense} defense!\")\n",
    "\n",
    "class InventoryItem:\n",
    "    def __init__(self, name, description):\n",
    "        self.name = name\n",
    "        self.description = description\n",
    "\n",
    "    def use(self):\n",
    "        print(f\"Used {self.name}: {self.description}\")\n",
    "\n",
    "class GameCharacter:\n",
    "    def __init__(self, name, health, weapon=None, armor=None, inventory=None):\n",
    "        self.name = name\n",
    "        self.health = health\n",
    "        self.weapon = weapon  # Composition: GameCharacter has a Weapon\n",
    "        self.armor = armor    # Composition: GameCharacter has an Armor\n",
    "        self.inventory = inventory or []  # Composition: GameCharacter has a list of InventoryItems\n",
    "\n",
    "    def equip_weapon(self, weapon):\n",
    "        print(f\"{self.name} equips {weapon.name}.\")\n",
    "        self.weapon = weapon\n",
    "\n",
    "    def equip_armor(self, armor):\n",
    "        print(f\"{self.name} equips {armor.name}.\")\n",
    "        self.armor = armor\n",
    "\n",
    "    def add_to_inventory(self, item):\n",
    "        print(f\"{self.name} adds {item.name} to their inventory.\")\n",
    "        self.inventory.append(item)\n",
    "\n",
    "    def display_character_info(self):\n",
    "        print(f\"Character: {self.name}\")\n",
    "        print(f\"Health: {self.health}\")\n",
    "        if self.weapon:\n",
    "            print(f\"Weapon: {self.weapon.name}\")\n",
    "        if self.armor:\n",
    "            print(f\"Armor: {self.armor.name}\")\n",
    "        if self.inventory:\n",
    "            print(\"Inventory:\")\n",
    "            for item in self.inventory:\n",
    "                print(f\"- {item.name}\")\n",
    "\n",
    "# Example usage\n",
    "sword = Weapon(name=\"Sword\", damage=10)\n",
    "shield = Armor(name=\"Shield\", defense=5)\n",
    "health_potion = InventoryItem(name=\"Health Potion\", description=\"Restores health.\")\n",
    "\n",
    "player_character = GameCharacter(name=\"Hero\", health=100, weapon=sword, armor=shield, inventory=[health_potion])\n",
    "player_character.display_character_info()\n",
    "\n",
    "# Simulate actions in the game\n",
    "player_character.equip_weapon(Weapon(name=\"Axe\", damage=15))\n",
    "player_character.equip_armor(Armor(name=\"Plate Mail\", defense=8))\n",
    "player_character.add_to_inventory(InventoryItem(name=\"Mana Potion\", description=\"Restores mana.\"))\n",
    "\n",
    "player_character.display_character_info()\n"
   ]
  },
  {
   "cell_type": "markdown",
   "id": "7d40ab9a",
   "metadata": {},
   "source": [
    "17. Describe the concept of \"aggregation\" in composition and how it differs from simple \n",
    "composition"
   ]
  },
  {
   "cell_type": "markdown",
   "id": "6184e926",
   "metadata": {},
   "source": [
    "In the context of object-oriented programming, \"aggregation\" is a form of composition that represents a relationship between two classes where one class contains another, but the contained class can exist independently of the container. Aggregation is a weaker form of composition compared to simple composition. The key distinction lies in the lifecycle and ownership of the objects involved."
   ]
  },
  {
   "cell_type": "markdown",
   "id": "14f9810f",
   "metadata": {},
   "source": [
    "18. Create a Python class for a house, using composition to represent rooms, furniture, \n",
    "and appliances."
   ]
  },
  {
   "cell_type": "code",
   "execution_count": 22,
   "id": "56a900fd",
   "metadata": {},
   "outputs": [
    {
     "name": "stdout",
     "output_type": "stream",
     "text": [
      "House: Cozy Cottage\n",
      "Rooms:\n",
      "Room: Living Room\n",
      "Furniture:\n",
      "Furniture: Sofa\n",
      "Appliances:\n",
      "Appliance: Refrigerator\n",
      "Room: Bedroom\n",
      "Adding Dining Table to Kitchen.\n",
      "Adding Kitchen to Cozy Cottage.\n",
      "House: Cozy Cottage\n",
      "Rooms:\n",
      "Room: Living Room\n",
      "Furniture:\n",
      "Furniture: Sofa\n",
      "Appliances:\n",
      "Appliance: Refrigerator\n",
      "Room: Bedroom\n",
      "Room: Kitchen\n",
      "Furniture:\n",
      "Furniture: Dining Table\n"
     ]
    }
   ],
   "source": [
    "class Furniture:\n",
    "    def __init__(self, name):\n",
    "        self.name = name\n",
    "\n",
    "    def display_info(self):\n",
    "        print(f\"Furniture: {self.name}\")\n",
    "\n",
    "class Appliance:\n",
    "    def __init__(self, name):\n",
    "        self.name = name\n",
    "\n",
    "    def display_info(self):\n",
    "        print(f\"Appliance: {self.name}\")\n",
    "\n",
    "class Room:\n",
    "    def __init__(self, name, furniture=None, appliances=None):\n",
    "        self.name = name\n",
    "        self.furniture = furniture or []    # Composition: Room has a list of Furniture\n",
    "        self.appliances = appliances or []  # Composition: Room has a list of Appliances\n",
    "\n",
    "    def add_furniture(self, furniture):\n",
    "        print(f\"Adding {furniture.name} to {self.name}.\")\n",
    "        self.furniture.append(furniture)\n",
    "\n",
    "    def add_appliance(self, appliance):\n",
    "        print(f\"Adding {appliance.name} to {self.name}.\")\n",
    "        self.appliances.append(appliance)\n",
    "\n",
    "    def display_info(self):\n",
    "        print(f\"Room: {self.name}\")\n",
    "        if self.furniture:\n",
    "            print(\"Furniture:\")\n",
    "            for item in self.furniture:\n",
    "                item.display_info()\n",
    "        if self.appliances:\n",
    "            print(\"Appliances:\")\n",
    "            for item in self.appliances:\n",
    "                item.display_info()\n",
    "\n",
    "class House:\n",
    "    def __init__(self, name, rooms=None):\n",
    "        self.name = name\n",
    "        self.rooms = rooms or []  # Composition: House has a list of Rooms\n",
    "\n",
    "    def add_room(self, room):\n",
    "        print(f\"Adding {room.name} to {self.name}.\")\n",
    "        self.rooms.append(room)\n",
    "\n",
    "    def display_house_info(self):\n",
    "        print(f\"House: {self.name}\")\n",
    "        if self.rooms:\n",
    "            print(\"Rooms:\")\n",
    "            for room in self.rooms:\n",
    "                room.display_info()\n",
    "\n",
    "# Example usage\n",
    "sofa = Furniture(name=\"Sofa\")\n",
    "fridge = Appliance(name=\"Refrigerator\")\n",
    "\n",
    "living_room = Room(name=\"Living Room\", furniture=[sofa], appliances=[fridge])\n",
    "bedroom = Room(name=\"Bedroom\")\n",
    "\n",
    "my_house = House(name=\"Cozy Cottage\", rooms=[living_room, bedroom])\n",
    "my_house.display_house_info()\n",
    "\n",
    "# Add a new room and some furniture\n",
    "kitchen = Room(name=\"Kitchen\")\n",
    "table = Furniture(name=\"Dining Table\")\n",
    "kitchen.add_furniture(table)\n",
    "\n",
    "my_house.add_room(kitchen)\n",
    "\n",
    "# Display updated house information\n",
    "my_house.display_house_info()\n"
   ]
  },
  {
   "cell_type": "markdown",
   "id": "e453f299",
   "metadata": {},
   "source": [
    "19. How can you achieve flexibility in composed objects by allowing them to be \n",
    "replaced or modified dynamically at runtime"
   ]
  },
  {
   "cell_type": "markdown",
   "id": "75d57feb",
   "metadata": {},
   "source": [
    "Interfaces or Abstract Classes:\n",
    "\n",
    "Define interfaces or abstract classes for components, enabling dynamic substitution while maintaining a common interface.\n",
    "Strategy Pattern:\n",
    "\n",
    "Implement the Strategy Pattern to encapsulate behaviors in separate classes, allowing dynamic switching of strategies at runtime.\n",
    "Dependency Injection:\n",
    "\n",
    "Use dependency injection to inject components, facilitating dynamic replacement without modifying the composed object's code.\n",
    "Factory Pattern:\n",
    "\n",
    "Implement a Factory Pattern for dynamic creation, allowing the instantiation of different classes based on runtime conditions.\n",
    "Decorator Pattern:\n",
    "\n",
    "Utilize the Decorator Pattern to dynamically add or replace behaviors of composed objects, enhancing flexibility at runtime."
   ]
  },
  {
   "cell_type": "markdown",
   "id": "d36e9ae8",
   "metadata": {},
   "source": [
    "20. Create a Python class for a social media application, using composition to represent \n",
    "users, posts, and comments"
   ]
  },
  {
   "cell_type": "code",
   "execution_count": 23,
   "id": "8cc9c54a",
   "metadata": {},
   "outputs": [
    {
     "name": "stdout",
     "output_type": "stream",
     "text": [
      "Posts by Alice:\n",
      "Post by Alice: Hello, this is my first post!\n",
      "Comments:\n",
      "Comment by Charlie: Great post, Alice!\n",
      "Posts by Bob:\n",
      "Post by Bob: Exciting news, everyone!\n",
      "Comments:\n",
      "Comment by David: Looking forward to hearing more.\n"
     ]
    }
   ],
   "source": [
    "class Comment:\n",
    "    def __init__(self, user, text):\n",
    "        self.user = user\n",
    "        self.text = text\n",
    "\n",
    "    def display_info(self):\n",
    "        print(f\"Comment by {self.user}: {self.text}\")\n",
    "\n",
    "class Post:\n",
    "    def __init__(self, user, content):\n",
    "        self.user = user\n",
    "        self.content = content\n",
    "        self.comments = []  # Composition: Post has a list of Comments\n",
    "\n",
    "    def add_comment(self, user, text):\n",
    "        comment = Comment(user=user, text=text)\n",
    "        self.comments.append(comment)\n",
    "\n",
    "    def display_info(self):\n",
    "        print(f\"Post by {self.user}: {self.content}\")\n",
    "        if self.comments:\n",
    "            print(\"Comments:\")\n",
    "            for comment in self.comments:\n",
    "                comment.display_info()\n",
    "\n",
    "class User:\n",
    "    def __init__(self, username):\n",
    "        self.username = username\n",
    "        self.posts = []  # Composition: User has a list of Posts\n",
    "\n",
    "    def create_post(self, content):\n",
    "        post = Post(user=self.username, content=content)\n",
    "        self.posts.append(post)\n",
    "\n",
    "    def display_posts(self):\n",
    "        print(f\"Posts by {self.username}:\")\n",
    "        for post in self.posts:\n",
    "            post.display_info()\n",
    "\n",
    "# Example usage\n",
    "user1 = User(username=\"Alice\")\n",
    "user2 = User(username=\"Bob\")\n",
    "\n",
    "user1.create_post(content=\"Hello, this is my first post!\")\n",
    "user2.create_post(content=\"Exciting news, everyone!\")\n",
    "\n",
    "user1.posts[0].add_comment(user=\"Charlie\", text=\"Great post, Alice!\")\n",
    "user2.posts[0].add_comment(user=\"David\", text=\"Looking forward to hearing more.\")\n",
    "\n",
    "user1.display_posts()\n",
    "user2.display_posts()\n"
   ]
  },
  {
   "cell_type": "code",
   "execution_count": null,
   "id": "de808220",
   "metadata": {},
   "outputs": [],
   "source": []
  },
  {
   "cell_type": "code",
   "execution_count": null,
   "id": "988e4400",
   "metadata": {},
   "outputs": [],
   "source": []
  },
  {
   "cell_type": "code",
   "execution_count": null,
   "id": "400bb79c",
   "metadata": {},
   "outputs": [],
   "source": []
  },
  {
   "cell_type": "code",
   "execution_count": null,
   "id": "ed9974eb",
   "metadata": {},
   "outputs": [],
   "source": []
  },
  {
   "cell_type": "code",
   "execution_count": null,
   "id": "b3ab3a7b",
   "metadata": {},
   "outputs": [],
   "source": []
  },
  {
   "cell_type": "code",
   "execution_count": null,
   "id": "39ed2afb",
   "metadata": {},
   "outputs": [],
   "source": []
  },
  {
   "cell_type": "code",
   "execution_count": null,
   "id": "46d4bd59",
   "metadata": {},
   "outputs": [],
   "source": []
  },
  {
   "cell_type": "code",
   "execution_count": null,
   "id": "9033b353",
   "metadata": {},
   "outputs": [],
   "source": []
  },
  {
   "cell_type": "code",
   "execution_count": null,
   "id": "47d2df13",
   "metadata": {},
   "outputs": [],
   "source": []
  },
  {
   "cell_type": "code",
   "execution_count": null,
   "id": "e6cff7bc",
   "metadata": {},
   "outputs": [],
   "source": []
  },
  {
   "cell_type": "code",
   "execution_count": null,
   "id": "e78b8a05",
   "metadata": {},
   "outputs": [],
   "source": []
  },
  {
   "cell_type": "code",
   "execution_count": null,
   "id": "716f568e",
   "metadata": {},
   "outputs": [],
   "source": []
  }
 ],
 "metadata": {
  "kernelspec": {
   "display_name": "Python 3 (ipykernel)",
   "language": "python",
   "name": "python3"
  },
  "language_info": {
   "codemirror_mode": {
    "name": "ipython",
    "version": 3
   },
   "file_extension": ".py",
   "mimetype": "text/x-python",
   "name": "python",
   "nbconvert_exporter": "python",
   "pygments_lexer": "ipython3",
   "version": "3.9.7"
  }
 },
 "nbformat": 4,
 "nbformat_minor": 5
}
