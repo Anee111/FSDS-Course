{
  "cells": [
    {
      "cell_type": "markdown",
      "metadata": {
        "id": "b51f168c"
      },
      "source": [
        "# String Based Assignment Problem\n"
      ],
      "id": "b51f168c"
    },
    {
      "cell_type": "markdown",
      "metadata": {
        "id": "03e8a155"
      },
      "source": [
        "1. Write a program to reverse a string.\n",
        "2. Check if a string is a palindrome.\n",
        "3. Convert a string to uppercase.\n",
        "4. Convert a string to lowercase.\n",
        "5. Count the number of vowels in a string.\n",
        "6. Count the number of consonants in a string.\n",
        "7. Remove all whitespaces from a string.\n",
        "8. Find the length of a string without using the `len()` function.\n",
        "9. Check if a string contains a specific word.\n",
        "10. Replace a word in a string with another word.\n",
        "11. Count the occurrences of a word in a string.\n",
        "12. Find the first occurrence of a word in a string.\n",
        "13. Find the last occurrence of a word in a string.\n",
        "14. Split a string into a list of words.\n",
        "15. Join a list of words into a string.\n",
        "Assignment\n",
        "Full Stack Data Science Pro\n",
        "TOPIC: String Based Assignment Problem\n",
        "Full Stack Data Science Pro\n",
        "16. Convert a string where words are separated by spaces to one where words\n",
        "are separated by underscores.\n",
        "17. Check if a string starts with a specific word or phrase.\n",
        "18. Check if a string ends with a specific word or phrase.\n",
        "19. Convert a string to title case (e.g., \"hello world\" to \"Hello World\").\n",
        "20. Find the longest word in a string.\n",
        "21. Find the shortest word in a string.\n",
        "22. Reverse the order of words in a string.\n",
        "23. Check if a string is alphanumeric.\n",
        "24. Extract all digits from a string.\n",
        "25. Extract all alphabets from a string.\n",
        "26. Count the number of uppercase letters in a string.\n",
        "27. Count the number of lowercase letters in a string.\n",
        "28. Swap the case of each character in a string.\n",
        "29. Remove a specific word from a string.\n",
        "30. Check if a string is a valid email address.\n",
        "Full Stack Data Science Pro\n",
        "31. Extract the username from an email address string.\n",
        "32. Extract the domain name from an email address string.\n",
        "33. Replace multiple spaces in a string with a single space.\n",
        "34. Check if a string is a valid URL.\n",
        "35. Extract the protocol (http or https) from a URL string.\n",
        "36. Find the frequency of each character in a string.\n",
        "37. Remove all punctuation from a string.\n",
        "38. Check if a string contains only digits.\n",
        "39. Check if a string contains only alphabets.\n",
        "40. Convert a string to a list of characters.\n",
        "41. Check if two strings are anagrams.\n",
        "42. Encode a string using a Caesar cipher.\n",
        "43. Decode a Caesar cipher encoded string.\n",
        "44. Find the most frequent word in a string.\n",
        "45. Find all unique words in a string.\n",
        "46. Count the number of syllables in a string.\n",
        "Full Stack Data Science Pro\n",
        "47. Check if a string contains any special characters.\n",
        "48. Remove the nth word from a string.\n",
        "49. Insert a word at the nth position in a string.\n",
        "50. Convert a CSV string to a list of lists."
      ],
      "id": "03e8a155"
    },
    {
      "cell_type": "code",
      "execution_count": null,
      "metadata": {
        "colab": {
          "base_uri": "https://localhost:8080/"
        },
        "id": "897dd929",
        "outputId": "4deacbbd-4ddb-4eee-ab9f-86219e43b654"
      },
      "outputs": [
        {
          "name": "stdout",
          "output_type": "stream",
          "text": [
            "enter string: suma anusha\n",
            "reversed string is  ahsuna amus\n"
          ]
        }
      ],
      "source": [
        "# 1\n",
        "\n",
        "s = input(\"enter string: \")\n",
        "\n",
        "sr = s[::-1]\n",
        "\n",
        "print(\"reversed string is \", sr)"
      ],
      "id": "897dd929"
    },
    {
      "cell_type": "code",
      "execution_count": null,
      "metadata": {
        "id": "_TYxxSY7KUKi"
      },
      "outputs": [],
      "source": [],
      "id": "_TYxxSY7KUKi"
    },
    {
      "cell_type": "code",
      "execution_count": null,
      "metadata": {
        "colab": {
          "base_uri": "https://localhost:8080/"
        },
        "id": "456435ca",
        "outputId": "2d693e16-1fc5-409b-878e-c5d78a3877ba"
      },
      "outputs": [
        {
          "name": "stdout",
          "output_type": "stream",
          "text": [
            "string suma anusha is not palindrome\n"
          ]
        }
      ],
      "source": [
        "# 2\n",
        "\n",
        "if s == sr:\n",
        "    print(\"string\",s,\" is palindrome\")\n",
        "else:\n",
        "    print(\"string\",s,\"is not palindrome\")\n",
        "\n",
        "\n"
      ],
      "id": "456435ca"
    },
    {
      "cell_type": "code",
      "execution_count": null,
      "metadata": {
        "colab": {
          "base_uri": "https://localhost:8080/"
        },
        "id": "34243c2c",
        "outputId": "356f9883-a7d4-41f5-fa12-5426b8cfaf8b"
      },
      "outputs": [
        {
          "name": "stdout",
          "output_type": "stream",
          "text": [
            "upper case of a string is SUMA ANUSHA\n"
          ]
        }
      ],
      "source": [
        "# 3\n",
        "\n",
        "print(\"upper case of a string is\" ,s.upper())"
      ],
      "id": "34243c2c"
    },
    {
      "cell_type": "code",
      "execution_count": null,
      "metadata": {
        "colab": {
          "base_uri": "https://localhost:8080/"
        },
        "id": "f9061fe5",
        "outputId": "2c621108-8e3f-4a8b-ea18-f2da22dbd305"
      },
      "outputs": [
        {
          "name": "stdout",
          "output_type": "stream",
          "text": [
            " lower case of a string is suma anusha\n"
          ]
        }
      ],
      "source": [
        "#4\n",
        "\n",
        "print(\" lower case of a string is\",s.lower())"
      ],
      "id": "f9061fe5"
    },
    {
      "cell_type": "code",
      "execution_count": null,
      "metadata": {
        "colab": {
          "base_uri": "https://localhost:8080/"
        },
        "id": "31b95249",
        "outputId": "9c679c52-2c7e-4b57-ab08-4c48ee6cd7d8"
      },
      "outputs": [
        {
          "name": "stdout",
          "output_type": "stream",
          "text": [
            "enter word! suma\n"
          ]
        },
        {
          "data": {
            "text/plain": [
              "2"
            ]
          },
          "execution_count": 6,
          "metadata": {},
          "output_type": "execute_result"
        }
      ],
      "source": [
        "# 5\n",
        "count = 0\n",
        "s = input(\"enter word! \")\n",
        "\n",
        "v = \"aeiouAEIOU\"\n",
        "for i in s:\n",
        "    if i in v:\n",
        "        count+=1\n",
        "\n",
        "count\n",
        "\n"
      ],
      "id": "31b95249"
    },
    {
      "cell_type": "code",
      "execution_count": null,
      "metadata": {
        "colab": {
          "base_uri": "https://localhost:8080/"
        },
        "id": "3f51b925",
        "outputId": "136a63f9-3594-4986-8d95-f10078c02634"
      },
      "outputs": [
        {
          "name": "stdout",
          "output_type": "stream",
          "text": [
            "enter word! suma\n"
          ]
        },
        {
          "data": {
            "text/plain": [
              "2"
            ]
          },
          "execution_count": 7,
          "metadata": {},
          "output_type": "execute_result"
        }
      ],
      "source": [
        "# 6\n",
        "\n",
        "count = 0\n",
        "s = input(\"enter word! \")\n",
        "\n",
        "v = \"aeiouAEIOU\"\n",
        "for i in s:\n",
        "    if i not in v:\n",
        "        count+=1\n",
        "\n",
        "count\n"
      ],
      "id": "3f51b925"
    },
    {
      "cell_type": "code",
      "execution_count": null,
      "metadata": {
        "colab": {
          "base_uri": "https://localhost:8080/",
          "height": 36
        },
        "id": "3ae23e2d",
        "outputId": "d2c1a842-a7c2-4ef0-bcb8-e5e2c65e4cf5"
      },
      "outputs": [
        {
          "data": {
            "application/vnd.google.colaboratory.intrinsic+json": {
              "type": "string"
            },
            "text/plain": [
              "'sumaanusha'"
            ]
          },
          "execution_count": 8,
          "metadata": {},
          "output_type": "execute_result"
        }
      ],
      "source": [
        "# 7\n",
        "\n",
        "s1 = \"  suma anusha    \"\n",
        "\n",
        "s1.replace(\" \",\"\")"
      ],
      "id": "3ae23e2d"
    },
    {
      "cell_type": "code",
      "execution_count": null,
      "metadata": {
        "colab": {
          "base_uri": "https://localhost:8080/"
        },
        "id": "143c8a82",
        "outputId": "46ef593b-aa39-4481-99f3-9d7ebec234b0"
      },
      "outputs": [
        {
          "name": "stdout",
          "output_type": "stream",
          "text": [
            "length of string is  22\n"
          ]
        }
      ],
      "source": [
        "# 8\n",
        "count = 0\n",
        "s = \" suma anusha abbireddy\"\n",
        "\n",
        "for i in s:\n",
        "    count+=1\n",
        "print(\"length of string is \",count)"
      ],
      "id": "143c8a82"
    },
    {
      "cell_type": "code",
      "execution_count": null,
      "metadata": {
        "colab": {
          "base_uri": "https://localhost:8080/"
        },
        "id": "7cb4c2a9",
        "outputId": "8afa4c78-1ec2-4b0a-a5cb-30b1692a4857"
      },
      "outputs": [
        {
          "data": {
            "text/plain": [
              "True"
            ]
          },
          "execution_count": 10,
          "metadata": {},
          "output_type": "execute_result"
        }
      ],
      "source": [
        "# 9\n",
        "\n",
        "s = \"This is the best team, where I have been working with them since 2011\"\n",
        "\n",
        "\"team\" in s\n",
        "\n"
      ],
      "id": "7cb4c2a9"
    },
    {
      "cell_type": "code",
      "execution_count": null,
      "metadata": {
        "colab": {
          "base_uri": "https://localhost:8080/"
        },
        "id": "31a68774",
        "outputId": "a683bd55-8b01-477e-bb8b-36cb8e52e62f"
      },
      "outputs": [
        {
          "name": "stdout",
          "output_type": "stream",
          "text": [
            "after replacing:  suma aneesha abbireddy\n"
          ]
        }
      ],
      "source": [
        "# 10\n",
        "\n",
        "s = \"suma anusha abbireddy\"\n",
        "\n",
        "t = s.replace(\"anusha\",\"aneesha\")\n",
        "print(\"after replacing: \", t)"
      ],
      "id": "31a68774"
    },
    {
      "cell_type": "code",
      "execution_count": null,
      "metadata": {
        "colab": {
          "base_uri": "https://localhost:8080/"
        },
        "id": "fce394e0",
        "outputId": "bc2b5114-0ad4-4aca-b79f-e51dd55545ed"
      },
      "outputs": [
        {
          "name": "stdout",
          "output_type": "stream",
          "text": [
            "repetition of word the is  2\n"
          ]
        }
      ],
      "source": [
        "# 11\n",
        "\n",
        "s = \"The the rain kept falling, creating a soothing rhythm on the windowpane.\"\n",
        "\n",
        "print(\"repetition of word the is \",s.count(\"the\"))"
      ],
      "id": "fce394e0"
    },
    {
      "cell_type": "code",
      "execution_count": null,
      "metadata": {
        "colab": {
          "base_uri": "https://localhost:8080/"
        },
        "id": "05af2f65",
        "outputId": "ff617873-384a-4669-a09d-54ec7c631970",
        "scrolled": false
      },
      "outputs": [
        {
          "name": "stdout",
          "output_type": "stream",
          "text": [
            "enter word ! the\n",
            "first occurence of the starts at index  4\n"
          ]
        }
      ],
      "source": [
        "# 12\n",
        "s = \"The the rain kept falling, creating a soothing rhythm on the windowpane.\"\n",
        "\n",
        "t = input(\"enter word ! \")\n",
        "print(\"first occurence of\",t,\"starts at index \",s.find(t))\n"
      ],
      "id": "05af2f65"
    },
    {
      "cell_type": "code",
      "execution_count": null,
      "metadata": {
        "colab": {
          "base_uri": "https://localhost:8080/"
        },
        "id": "1e7b7b2d",
        "outputId": "e12e08f9-3da1-4c61-f6eb-742cd31a56be"
      },
      "outputs": [
        {
          "data": {
            "text/plain": [
              "57"
            ]
          },
          "execution_count": 14,
          "metadata": {},
          "output_type": "execute_result"
        }
      ],
      "source": [
        "# 13\n",
        "\n",
        "s = \"The the rain kept falling, creating a soothing rhythm on the windowpane.\"\n",
        "\n",
        "s.rfind(\"the\")"
      ],
      "id": "1e7b7b2d"
    },
    {
      "cell_type": "code",
      "execution_count": null,
      "metadata": {
        "colab": {
          "base_uri": "https://localhost:8080/"
        },
        "id": "f45fe851",
        "outputId": "05046655-1df4-4d93-93cf-f3c28934e02b",
        "scrolled": false
      },
      "outputs": [
        {
          "name": "stdout",
          "output_type": "stream",
          "text": [
            "enter string: suma anusha\n"
          ]
        },
        {
          "data": {
            "text/plain": [
              "['suma', 'anusha']"
            ]
          },
          "execution_count": 15,
          "metadata": {},
          "output_type": "execute_result"
        }
      ],
      "source": [
        "#14\n",
        "s = input(\"enter string: \")\n",
        "s.split(\" \")"
      ],
      "id": "f45fe851"
    },
    {
      "cell_type": "code",
      "execution_count": null,
      "metadata": {
        "colab": {
          "base_uri": "https://localhost:8080/",
          "height": 36
        },
        "id": "bac1f986",
        "outputId": "50bd3a9d-6213-494c-eb46-d5165f47ef1c",
        "scrolled": true
      },
      "outputs": [
        {
          "data": {
            "application/vnd.google.colaboratory.intrinsic+json": {
              "type": "string"
            },
            "text/plain": [
              "'my name is suma'"
            ]
          },
          "execution_count": 16,
          "metadata": {},
          "output_type": "execute_result"
        }
      ],
      "source": [
        "# 15\n",
        "l = [\"my\" ,\"name\" , \"is\", \"suma\"]\n",
        "\n",
        "d = \" \"\n",
        "\n",
        "s = d.join(l)\n",
        "s"
      ],
      "id": "bac1f986"
    },
    {
      "cell_type": "code",
      "execution_count": null,
      "metadata": {
        "colab": {
          "base_uri": "https://localhost:8080/",
          "height": 36
        },
        "id": "22be2a85",
        "outputId": "608831fb-1f01-44b6-8a8d-89054796f5a5"
      },
      "outputs": [
        {
          "data": {
            "application/vnd.google.colaboratory.intrinsic+json": {
              "type": "string"
            },
            "text/plain": [
              "'suma_ anusha_ reddy'"
            ]
          },
          "execution_count": 17,
          "metadata": {},
          "output_type": "execute_result"
        }
      ],
      "source": [
        "# 16\n",
        "\n",
        "s = \"suma, anusha, reddy\"\n",
        "s.replace(\",\",\"_\")"
      ],
      "id": "22be2a85"
    },
    {
      "cell_type": "code",
      "execution_count": null,
      "metadata": {
        "colab": {
          "base_uri": "https://localhost:8080/"
        },
        "id": "40dc0206",
        "outputId": "5fe30290-8d65-47b9-f012-c19e1016018b"
      },
      "outputs": [
        {
          "data": {
            "text/plain": [
              "True"
            ]
          },
          "execution_count": 18,
          "metadata": {},
          "output_type": "execute_result"
        }
      ],
      "source": [
        "# 17\n",
        "\n",
        "s.startswith(\"s\")"
      ],
      "id": "40dc0206"
    },
    {
      "cell_type": "code",
      "execution_count": null,
      "metadata": {
        "colab": {
          "base_uri": "https://localhost:8080/"
        },
        "id": "a07e2d25",
        "outputId": "984274da-1228-4702-f50d-e3242a1445eb"
      },
      "outputs": [
        {
          "data": {
            "text/plain": [
              "False"
            ]
          },
          "execution_count": 19,
          "metadata": {},
          "output_type": "execute_result"
        }
      ],
      "source": [
        "# 18\n",
        "\n",
        "s.endswith(\"s\")"
      ],
      "id": "a07e2d25"
    },
    {
      "cell_type": "code",
      "execution_count": null,
      "metadata": {
        "colab": {
          "base_uri": "https://localhost:8080/",
          "height": 53
        },
        "id": "4b4db23d",
        "outputId": "f741590d-fe34-4681-8283-b9b7ef90edc8"
      },
      "outputs": [
        {
          "name": "stdout",
          "output_type": "stream",
          "text": [
            "enter string: suma anusha\n"
          ]
        },
        {
          "data": {
            "application/vnd.google.colaboratory.intrinsic+json": {
              "type": "string"
            },
            "text/plain": [
              "'Suma Anusha'"
            ]
          },
          "execution_count": 20,
          "metadata": {},
          "output_type": "execute_result"
        }
      ],
      "source": [
        "# 19\n",
        "\n",
        "s4 = input(\"enter string: \")\n",
        "\n",
        "s4.title()"
      ],
      "id": "4b4db23d"
    },
    {
      "cell_type": "code",
      "execution_count": null,
      "metadata": {
        "colab": {
          "base_uri": "https://localhost:8080/",
          "height": 53
        },
        "id": "9bd74385",
        "outputId": "51eef2b3-ff4c-4f55-ebff-39bce4ce5ade"
      },
      "outputs": [
        {
          "name": "stdout",
          "output_type": "stream",
          "text": [
            "enter string: suma anusha\n"
          ]
        },
        {
          "data": {
            "application/vnd.google.colaboratory.intrinsic+json": {
              "type": "string"
            },
            "text/plain": [
              "'anusha'"
            ]
          },
          "execution_count": 21,
          "metadata": {},
          "output_type": "execute_result"
        }
      ],
      "source": [
        "# 20. Find the longest word in a string.\n",
        "s = input(\"enter string: \")\n",
        "t = s.split()\n",
        "l = []\n",
        "for i in t:\n",
        "    l.append(len(i))\n",
        "l\n",
        "r = dict(zip(t,l))\n",
        "k = max(zip(r.values(),r.keys()))[1]\n",
        "k"
      ],
      "id": "9bd74385"
    },
    {
      "cell_type": "code",
      "execution_count": null,
      "metadata": {
        "colab": {
          "base_uri": "https://localhost:8080/",
          "height": 36
        },
        "id": "001c8d13",
        "outputId": "d478400b-7a38-442d-98e5-60b3f517a85a"
      },
      "outputs": [
        {
          "data": {
            "application/vnd.google.colaboratory.intrinsic+json": {
              "type": "string"
            },
            "text/plain": [
              "'suma'"
            ]
          },
          "execution_count": 22,
          "metadata": {},
          "output_type": "execute_result"
        }
      ],
      "source": [
        "# 21\n",
        "s = \"suma anusha abbireddy\"\n",
        "t = s.split()\n",
        "l = []\n",
        "for i in t:\n",
        "    l.append(len(i))\n",
        "l\n",
        "r = dict(zip(t,l))\n",
        "k = min(zip(r.values(),r.keys()))[1]\n",
        "k"
      ],
      "id": "001c8d13"
    },
    {
      "cell_type": "code",
      "execution_count": null,
      "metadata": {
        "colab": {
          "base_uri": "https://localhost:8080/",
          "height": 36
        },
        "id": "6d26ecf9",
        "outputId": "3e919a58-538f-4716-af66-10b1de79e5ed",
        "scrolled": true
      },
      "outputs": [
        {
          "data": {
            "application/vnd.google.colaboratory.intrinsic+json": {
              "type": "string"
            },
            "text/plain": [
              "'abbireddy anusha Suma'"
            ]
          },
          "execution_count": 24,
          "metadata": {},
          "output_type": "execute_result"
        }
      ],
      "source": [
        "# 22. Reverse the order of words in a string.\n",
        "\n",
        "s = \"Suma anusha abbireddy\"\n",
        "t = s.split()\n",
        "t.reverse()\n",
        "separator = \" \"\n",
        "k = separator.join(t)\n",
        "k\n",
        "\n",
        "\n",
        "\n",
        "\n"
      ],
      "id": "6d26ecf9"
    },
    {
      "cell_type": "code",
      "execution_count": null,
      "metadata": {
        "id": "15b88f94",
        "outputId": "de1c6649-cb2e-4d10-ea4f-88f4e9624ecf"
      },
      "outputs": [
        {
          "name": "stdout",
          "output_type": "stream",
          "text": [
            "True\n",
            "False\n"
          ]
        }
      ],
      "source": [
        "# 23\n",
        "\n",
        "s1 = \"Aneesha111\"\n",
        "s2 = \"suma anusha\"\n",
        "print(s1.isalnum())\n",
        "print(s2.isalnum())\n"
      ],
      "id": "15b88f94"
    },
    {
      "cell_type": "code",
      "execution_count": null,
      "metadata": {
        "id": "2bad71aa",
        "outputId": "a0de5be7-aa65-496a-8317-6e66fd6ef43e"
      },
      "outputs": [
        {
          "name": "stdout",
          "output_type": "stream",
          "text": [
            "1\n",
            "2\n",
            "3\n",
            "4\n",
            "1\n",
            "2\n",
            "1\n",
            "2\n",
            "3\n"
          ]
        }
      ],
      "source": [
        "# 24\n",
        "\n",
        "k =[]\n",
        "s = \"1234suma12re123\"\n",
        "a = \"1234567890\"\n",
        "\n",
        "for i in s:\n",
        "    if i in a:\n",
        "       print(i)\n",
        "\n"
      ],
      "id": "2bad71aa"
    },
    {
      "cell_type": "code",
      "execution_count": null,
      "metadata": {
        "id": "bd5937a3",
        "outputId": "6295bd5c-df93-42d6-810a-2e29c675381e"
      },
      "outputs": [
        {
          "name": "stdout",
          "output_type": "stream",
          "text": [
            "0\n",
            "1\n",
            "1\n",
            "1\n",
            "9\n"
          ]
        }
      ],
      "source": [
        "# 24\n",
        "\n",
        "s=\"09isumaAneesha111\"\n",
        "for i in range(0,10):\n",
        "    for j in s:\n",
        "        if str(i)==j:\n",
        "            print(j)"
      ],
      "id": "bd5937a3"
    },
    {
      "cell_type": "code",
      "execution_count": null,
      "metadata": {
        "id": "d8edcadd",
        "outputId": "ead560f3-6207-4cfc-e1cf-cd45f3ff1a3a",
        "scrolled": true
      },
      "outputs": [
        {
          "name": "stdout",
          "output_type": "stream",
          "text": [
            "s\n",
            "u\n",
            "m\n",
            "a\n",
            "a\n",
            "n\n",
            "u\n",
            "s\n",
            "h\n",
            "a\n",
            "A\n",
            "B\n",
            "B\n",
            "I\n",
            "R\n",
            "E\n",
            "D\n",
            "D\n",
            "Y\n"
          ]
        }
      ],
      "source": [
        "# 25\n",
        "\n",
        "\n",
        "k =[]\n",
        "s = \"1234suma12anusha123ABBIREDDY\"\n",
        "a = \"abcdefghijklmnopqrstuvwxyzABCDEFGHIJKLMNOPQRSTUVWXYZ\"\n",
        "\n",
        "for i in s:\n",
        "    if i in a:\n",
        "       print(i)"
      ],
      "id": "d8edcadd"
    },
    {
      "cell_type": "code",
      "execution_count": null,
      "metadata": {
        "id": "b9b0cfdf",
        "outputId": "c12b51fb-107f-46ac-e38a-8613c89dd624"
      },
      "outputs": [
        {
          "data": {
            "text/plain": [
              "9"
            ]
          },
          "execution_count": 13,
          "metadata": {},
          "output_type": "execute_result"
        }
      ],
      "source": [
        "# 26\n",
        "count =0\n",
        "upper = \"ABCDEFGHIJKLMNOPQRSTUVWXYZ\"\n",
        "s = \"SUmaAnushaABBIredDY\"\n",
        "for i in s:\n",
        "    if i in upper:\n",
        "       count+=1\n",
        "count\n"
      ],
      "id": "b9b0cfdf"
    },
    {
      "cell_type": "code",
      "execution_count": null,
      "metadata": {
        "id": "ce8694e9",
        "outputId": "71dd5f52-f7c1-4daf-d592-6d81edfeddad"
      },
      "outputs": [
        {
          "data": {
            "text/plain": [
              "10"
            ]
          },
          "execution_count": 7,
          "metadata": {},
          "output_type": "execute_result"
        }
      ],
      "source": [
        "# 27\n",
        "l =[]\n",
        "upper = \"ABCDEFGHIJKLMNOPQRSTUVWXYZ\"\n",
        "lower = upper.lower()\n",
        "s = \"SUmaAnushaABBIredDY\"\n",
        "for i in s:\n",
        "    if i in lower:\n",
        "        l.append(i)\n",
        "len(l)"
      ],
      "id": "ce8694e9"
    },
    {
      "cell_type": "code",
      "execution_count": null,
      "metadata": {
        "id": "e44d0077",
        "outputId": "addb2806-7967-4504-863d-6966113d0445"
      },
      "outputs": [
        {
          "data": {
            "text/plain": [
              "True"
            ]
          },
          "execution_count": 12,
          "metadata": {},
          "output_type": "execute_result"
        }
      ],
      "source": [
        "L=\"S\"\n",
        "L.isupper()"
      ],
      "id": "e44d0077"
    },
    {
      "cell_type": "code",
      "execution_count": null,
      "metadata": {
        "id": "7f972adc",
        "outputId": "1819899f-b4c8-414f-fd4e-a1a2f2072b7f"
      },
      "outputs": [
        {
          "data": {
            "text/plain": [
              "['s',\n",
              " 'u',\n",
              " 'M',\n",
              " 'A',\n",
              " 'a',\n",
              " 'N',\n",
              " 'U',\n",
              " 'S',\n",
              " 'H',\n",
              " 'A',\n",
              " 'a',\n",
              " 'b',\n",
              " 'b',\n",
              " 'i',\n",
              " 'R',\n",
              " 'E',\n",
              " 'D',\n",
              " 'd',\n",
              " 'y']"
            ]
          },
          "execution_count": 8,
          "metadata": {},
          "output_type": "execute_result"
        }
      ],
      "source": [
        "# 28\n",
        "l=[]\n",
        "upper = \"ABCDEFGHIJKLMNOPQRSTUVWXYZ\"\n",
        "s = \"SUmaAnushaABBIredDY\"\n",
        "for i in s:\n",
        "    if i in upper:\n",
        "        l.append(i.lower())\n",
        "    else:\n",
        "        l.append(i.upper())\n",
        "l"
      ],
      "id": "7f972adc"
    },
    {
      "cell_type": "code",
      "execution_count": null,
      "metadata": {
        "id": "ee59762c",
        "outputId": "7b89a608-c818-40a2-b0a7-ad1d4b41fcf3"
      },
      "outputs": [
        {
          "data": {
            "text/plain": [
              "'suMAaNUSHAabbiREDdy'"
            ]
          },
          "execution_count": 11,
          "metadata": {},
          "output_type": "execute_result"
        }
      ],
      "source": [
        "#28\n",
        "s = \"SUmaAnushaABBIredDY\"\n",
        "s.swapcase()\n"
      ],
      "id": "ee59762c"
    },
    {
      "cell_type": "code",
      "execution_count": null,
      "metadata": {
        "colab": {
          "base_uri": "https://localhost:8080/",
          "height": 53
        },
        "id": "a21a0f58",
        "outputId": "df2fca4e-9b6b-4086-c82e-f89ca80eb379"
      },
      "outputs": [
        {
          "name": "stdout",
          "output_type": "stream",
          "text": [
            "enter word to remove:suma\n"
          ]
        },
        {
          "data": {
            "application/vnd.google.colaboratory.intrinsic+json": {
              "type": "string"
            },
            "text/plain": [
              "'anusha reddy abbireddy'"
            ]
          },
          "execution_count": 56,
          "metadata": {},
          "output_type": "execute_result"
        }
      ],
      "source": [
        "# 29. Remove a specific word from a string.\n",
        "\n",
        "\n",
        "i = \"suma anusha reddy abbireddy\"\n",
        "k = list(i.split(\" \"))\n",
        "j = input(\"enter word to remove:\")\n",
        "for i in k:\n",
        "  if i==j:\n",
        "    k.remove(i)\n",
        "t = \" \".join(k)\n",
        "t\n",
        "\n",
        "\n"
      ],
      "id": "a21a0f58"
    },
    {
      "cell_type": "code",
      "execution_count": null,
      "metadata": {
        "id": "24b65dc7"
      },
      "outputs": [],
      "source": [
        "# 30\n",
        "\n",
        "\n"
      ],
      "id": "24b65dc7"
    },
    {
      "cell_type": "code",
      "execution_count": null,
      "metadata": {
        "colab": {
          "base_uri": "https://localhost:8080/"
        },
        "id": "MXKeqmV6N4Dy",
        "outputId": "0953ac09-bc02-4575-a822-bdb3a06ac76f"
      },
      "outputs": [
        {
          "name": "stdout",
          "output_type": "stream",
          "text": [
            "enter email address:subbiramreddy111@gmail.com\n",
            "subbiramreddy111 is the username\n"
          ]
        }
      ],
      "source": [
        "# 31. Extract the username from an email address string.\n",
        "email = input(\"enter email address:\")\n",
        "x = email.split(\"@\")\n",
        "if len(x) ==2:\n",
        "  print(f\"{x[0]} is the username\")\n",
        "else:\n",
        "  print(\"entered invalid email\")"
      ],
      "id": "MXKeqmV6N4Dy"
    },
    {
      "cell_type": "code",
      "execution_count": null,
      "metadata": {
        "colab": {
          "base_uri": "https://localhost:8080/"
        },
        "id": "DpofpWxzN5h5",
        "outputId": "40784ca9-d9fc-49f1-c52d-9b09334b7512"
      },
      "outputs": [
        {
          "name": "stdout",
          "output_type": "stream",
          "text": [
            "enter email address:suma.abbireddy@fractal.ai\n",
            "fractal.ai is the domain name\n"
          ]
        }
      ],
      "source": [
        "# 32. Extract the domain name from an email address string.\n",
        "email = input(\"enter email address:\")\n",
        "x = email.split(\"@\")\n",
        "if len(x) ==2:\n",
        "  print(f\"{x[1]} is the domain name\")\n",
        "else:\n",
        "  print(\"entered invalid email\")"
      ],
      "id": "DpofpWxzN5h5"
    },
    {
      "cell_type": "code",
      "execution_count": 7,
      "metadata": {
        "id": "WlvPEwV7N5eN",
        "colab": {
          "base_uri": "https://localhost:8080/",
          "height": 36
        },
        "outputId": "74d291b0-d51f-414f-9706-390839f205ee"
      },
      "outputs": [
        {
          "output_type": "execute_result",
          "data": {
            "text/plain": [
              "'suma anusha abbireddy reddy studying 12 th grade. '"
            ],
            "application/vnd.google.colaboratory.intrinsic+json": {
              "type": "string"
            }
          },
          "metadata": {},
          "execution_count": 7
        }
      ],
      "source": [
        "# 33. Replace multiple spaces in a string with a single space.\n",
        "import re\n",
        "def replacing_mul_spaces_with_single_space(string):\n",
        "  cleaned_string = re.sub(r'\\s+',' ',string)\n",
        "  return cleaned_string\n",
        "\n",
        "replacing_mul_spaces_with_single_space(\"suma  anusha  abbireddy   reddy  studying     12 th grade. \")\n"
      ],
      "id": "WlvPEwV7N5eN"
    },
    {
      "cell_type": "code",
      "execution_count": 8,
      "metadata": {
        "id": "wFPBFEAnN5aZ",
        "colab": {
          "base_uri": "https://localhost:8080/"
        },
        "outputId": "03f936f8-1102-4986-f820-666ba4c28d9d"
      },
      "outputs": [
        {
          "output_type": "stream",
          "name": "stdout",
          "text": [
            "'https://www.example.com' is a valid URL.\n"
          ]
        }
      ],
      "source": [
        "# 34. Check if a string is a valid URL.\n",
        "import re\n",
        "\n",
        "def is_valid_url(url):\n",
        "    url_pattern = re.compile(r\"^(https?|ftp|file)://[-A-Za-z0-9+&@#/%?=~_|!:,.;]*[-A-Za-z0-9+&@#/%=~_|]$\")\n",
        "\n",
        "    return bool(url_pattern.match(url))\n",
        "\n",
        "url = \"https://www.example.com\"\n",
        "if is_valid_url(url):\n",
        "    print(f\"'{url}' is a valid URL.\")\n",
        "else:\n",
        "    print(f\"'{url}' is not a valid URL.\")\n",
        "\n"
      ],
      "id": "wFPBFEAnN5aZ"
    },
    {
      "cell_type": "code",
      "source": [
        "# 35. Extract the protocol (http or https) from a URL string.\n",
        "import re\n",
        "\n",
        "def extract_protocol(url):\n",
        "    protocol_pattern = re.compile(r\"^(https?)://\")\n",
        "\n",
        "    match = protocol_pattern.match(url)\n",
        "\n",
        "    if match:\n",
        "        return match.group(1)\n",
        "    else:\n",
        "        return \"No protocol found\"\n",
        "\n",
        "# Example usage:\n",
        "url = \"https://www.example.com\"\n",
        "protocol = extract_protocol(url)\n",
        "print(f\"The protocol in the URL is: {protocol}\")\n"
      ],
      "metadata": {
        "id": "6wPgHYxCchM_",
        "colab": {
          "base_uri": "https://localhost:8080/"
        },
        "outputId": "2776163f-e8fc-4efa-f179-96bc63e551c7"
      },
      "id": "6wPgHYxCchM_",
      "execution_count": 9,
      "outputs": [
        {
          "output_type": "stream",
          "name": "stdout",
          "text": [
            "The protocol in the URL is: https\n"
          ]
        }
      ]
    },
    {
      "cell_type": "code",
      "source": [
        "# 36. Find the frequency of each character in a string\n",
        "def count_characters(string):\n",
        "    char_count = {}\n",
        "    for i in string:\n",
        "        if i in char_count:\n",
        "            char_count[i] += 1\n",
        "        else:\n",
        "            char_count[i] = 1\n",
        "\n",
        "    return char_count\n",
        "\n",
        "char_frequency = count_characters(\"suma abbireddy\")\n",
        "\n",
        "# Print the character frequencies\n",
        "for i, count in char_frequency.items():\n",
        "    print(f\"'{i}' appears {count} times.\")\n",
        "\n",
        "\n",
        "\n",
        "\n"
      ],
      "metadata": {
        "id": "xnrTo6dIdHuU",
        "outputId": "294eb215-4edb-4818-8691-cc1b5116a3d4",
        "colab": {
          "base_uri": "https://localhost:8080/"
        }
      },
      "id": "xnrTo6dIdHuU",
      "execution_count": 15,
      "outputs": [
        {
          "output_type": "stream",
          "name": "stdout",
          "text": [
            "'s' appears 1 times.\n",
            "'u' appears 1 times.\n",
            "'m' appears 1 times.\n",
            "'a' appears 2 times.\n",
            "' ' appears 1 times.\n",
            "'b' appears 2 times.\n",
            "'i' appears 1 times.\n",
            "'r' appears 1 times.\n",
            "'e' appears 1 times.\n",
            "'d' appears 2 times.\n",
            "'y' appears 1 times.\n"
          ]
        }
      ]
    },
    {
      "cell_type": "code",
      "source": [
        "# 37. Remove all punctuation from a string.\n",
        "\n",
        "import string\n",
        "\n",
        "def remove_punctuation(input_string):\n",
        "    translator = str.maketrans('', '', string.punctuation)\n",
        "\n",
        "    cleaned_string = input_string.translate(translator)\n",
        "\n",
        "    return cleaned_string\n",
        "\n",
        "cleaned_string = remove_punctuation(\"Hello, world! This is a sample string with punctuation.\")\n",
        "print(cleaned_string)\n"
      ],
      "metadata": {
        "id": "1EyzgxaKdJLQ",
        "outputId": "92d6274b-79d1-4924-9886-5fd914a83dd6",
        "colab": {
          "base_uri": "https://localhost:8080/"
        }
      },
      "id": "1EyzgxaKdJLQ",
      "execution_count": 16,
      "outputs": [
        {
          "output_type": "stream",
          "name": "stdout",
          "text": [
            "Hello world This is a sample string with punctuation\n"
          ]
        }
      ]
    },
    {
      "cell_type": "code",
      "source": [
        "# 38. Check if a string contains only digits.\n",
        "def str_digit(string):\n",
        "  return string.isdigit()\n",
        "\n",
        "str_digit(\"A123\")"
      ],
      "metadata": {
        "colab": {
          "base_uri": "https://localhost:8080/"
        },
        "id": "B6-iyAqNdJIL",
        "outputId": "f52c50b7-b797-4061-8cf2-ea21620fddbb"
      },
      "id": "B6-iyAqNdJIL",
      "execution_count": 19,
      "outputs": [
        {
          "output_type": "execute_result",
          "data": {
            "text/plain": [
              "False"
            ]
          },
          "metadata": {},
          "execution_count": 19
        }
      ]
    },
    {
      "cell_type": "code",
      "source": [
        "# 39. Check if a string contains only alphabets.\n",
        "def str_alpha(string):\n",
        "  return string.isalpha()\n",
        "\n",
        "str_alpha(\"A123\")"
      ],
      "metadata": {
        "id": "yju8_PZndJFS",
        "outputId": "686d2d06-ecf2-4f71-9e27-20c04a69dc2f",
        "colab": {
          "base_uri": "https://localhost:8080/"
        }
      },
      "id": "yju8_PZndJFS",
      "execution_count": 20,
      "outputs": [
        {
          "output_type": "execute_result",
          "data": {
            "text/plain": [
              "False"
            ]
          },
          "metadata": {},
          "execution_count": 20
        }
      ]
    },
    {
      "cell_type": "code",
      "source": [
        "# 40. Convert a string to a list of characters.\n",
        "def str_to_char(string):\n",
        "  l=[]\n",
        "  for i in string:\n",
        "    l.append(i)\n",
        "  return l\n",
        "\n",
        "str_to_char(\"suma anusha\")"
      ],
      "metadata": {
        "id": "6UTisdwrdJBy",
        "outputId": "e5333501-4da5-4de2-f6af-67bc3f94df37",
        "colab": {
          "base_uri": "https://localhost:8080/"
        }
      },
      "id": "6UTisdwrdJBy",
      "execution_count": 21,
      "outputs": [
        {
          "output_type": "execute_result",
          "data": {
            "text/plain": [
              "['s', 'u', 'm', 'a', ' ', 'a', 'n', 'u', 's', 'h', 'a']"
            ]
          },
          "metadata": {},
          "execution_count": 21
        }
      ]
    },
    {
      "cell_type": "code",
      "source": [
        "# 41. Check if two strings are anagrams.\n",
        "# anagrams means ----Anagrams are words or phrases that are formed by rearranging the sorted letters of another word or phrase\n",
        "def are_anagrams(str1, str2):\n",
        "    str1 = str1.replace(\" \", \"\").lower()\n",
        "    str2 = str2.replace(\" \", \"\").lower()\n",
        "    return sorted(str1) == sorted(str2)\n",
        "\n",
        "\n",
        "string1 = \"listen\"\n",
        "string2 = \"silent\"\n",
        "\n",
        "if are_anagrams(string1, string2):\n",
        "    print(f\"'{string1}' and '{string2}' are anagrams.\")\n",
        "else:\n",
        "    print(f\"'{string1}' and '{string2}' are not anagrams.\")\n"
      ],
      "metadata": {
        "id": "B71yxaKddI_L",
        "outputId": "c59fc060-ca55-4637-d6b3-88ad844b0dd3",
        "colab": {
          "base_uri": "https://localhost:8080/"
        }
      },
      "id": "B71yxaKddI_L",
      "execution_count": 22,
      "outputs": [
        {
          "output_type": "stream",
          "name": "stdout",
          "text": [
            "'listen' and 'silent' are anagrams.\n"
          ]
        }
      ]
    },
    {
      "cell_type": "code",
      "source": [
        "# 42. Encode a string using a Caesar cipher.\n",
        "def caesar_cipher_encode(input_string, shift):\n",
        "    encoded_string = \"\"\n",
        "\n",
        "    for char in input_string:\n",
        "        if char.isalpha():\n",
        "            # Determine the character set (uppercase or lowercase) and the base character\n",
        "            if char.islower():\n",
        "                base_char = 'a'\n",
        "                char_set_size = 26\n",
        "            else:\n",
        "                base_char = 'A'\n",
        "                char_set_size = 26\n",
        "\n",
        "            # Calculate the new character position after the shift\n",
        "            shifted_char = chr(((ord(char) - ord(base_char) + shift) % char_set_size) + ord(base_char))\n",
        "\n",
        "            encoded_string += shifted_char\n",
        "        else:\n",
        "            # Preserve non-alphabetical characters as is\n",
        "            encoded_string += char\n",
        "\n",
        "    return encoded_string\n",
        "\n",
        "# Example usage:\n",
        "input_string = \"Hello, World!\"\n",
        "shift_amount = 3\n",
        "encoded_string = caesar_cipher_encode(input_string, shift_amount)\n",
        "print(f\"Original: {input_string}\")\n",
        "print(f\"Encoded:   {encoded_string}\")\n"
      ],
      "metadata": {
        "id": "c8x-oA19dI8J",
        "outputId": "0619f0e0-ac33-42ac-c116-75b1e294609a",
        "colab": {
          "base_uri": "https://localhost:8080/"
        }
      },
      "id": "c8x-oA19dI8J",
      "execution_count": 23,
      "outputs": [
        {
          "output_type": "stream",
          "name": "stdout",
          "text": [
            "Original: Hello, World!\n",
            "Encoded:   Khoor, Zruog!\n"
          ]
        }
      ]
    },
    {
      "cell_type": "code",
      "source": [
        "# 43. Decode a Caesar cipher encoded string.\n",
        "def caesar_cipher_decode(encoded_string, shift):\n",
        "    decoded_string = \"\"\n",
        "\n",
        "    for char in encoded_string:\n",
        "        if char.isalpha():\n",
        "            # Determine the character set (uppercase or lowercase) and the base character\n",
        "            if char.islower():\n",
        "                base_char = 'a'\n",
        "                char_set_size = 26\n",
        "            else:\n",
        "                base_char = 'A'\n",
        "                char_set_size = 26\n",
        "\n",
        "            # Calculate the original character position before the shift\n",
        "            original_char = chr(((ord(char) - ord(base_char) - shift) % char_set_size) + ord(base_char))\n",
        "\n",
        "            decoded_string += original_char\n",
        "        else:\n",
        "            # Preserve non-alphabetical characters as is\n",
        "            decoded_string += char\n",
        "\n",
        "    return decoded_string\n",
        "\n",
        "# Example usage:\n",
        "encoded_string = \"Khoor, Zruog!\"\n",
        "shift_amount = 3\n",
        "decoded_string = caesar_cipher_decode(encoded_string, shift_amount)\n",
        "print(f\"Encoded:   {encoded_string}\")\n",
        "print(f\"Decoded:   {decoded_string}\")\n"
      ],
      "metadata": {
        "id": "GIP9aC7XdI4n",
        "outputId": "6a9b727b-57c4-4ea9-b077-58d546e84c84",
        "colab": {
          "base_uri": "https://localhost:8080/"
        }
      },
      "id": "GIP9aC7XdI4n",
      "execution_count": 24,
      "outputs": [
        {
          "output_type": "stream",
          "name": "stdout",
          "text": [
            "Encoded:   Khoor, Zruog!\n",
            "Decoded:   Hello, World!\n"
          ]
        }
      ]
    },
    {
      "cell_type": "code",
      "source": [
        "# 44. Find the most frequent word in a string.\n",
        "def most_frequent_word(input_string):\n",
        "    words = input_string.split()\n",
        "\n",
        "    word_freq = {}\n",
        "    for word in words:\n",
        "        cleaned_word = word.strip('.,!?').lower()\n",
        "        if cleaned_word in word_freq:\n",
        "            word_freq[cleaned_word] += 1\n",
        "        else:\n",
        "            word_freq[cleaned_word] = 1\n",
        "    most_frequent = max(word_freq, key=word_freq.get)\n",
        "    return most_frequent\n",
        "\n",
        "# Example usage:\n",
        "input_string = \"This is a test. This is only a test. Testing, one, two, three.\"\n",
        "result = most_frequent_word(input_string)\n",
        "print(f\"The most frequent word is: '{result}'\")\n"
      ],
      "metadata": {
        "id": "RnYyuyKmi7EG",
        "outputId": "737fef1e-04ac-4837-dcb0-b5f734a5bb30",
        "colab": {
          "base_uri": "https://localhost:8080/"
        }
      },
      "id": "RnYyuyKmi7EG",
      "execution_count": 25,
      "outputs": [
        {
          "output_type": "stream",
          "name": "stdout",
          "text": [
            "The most frequent word is: 'this'\n"
          ]
        }
      ]
    },
    {
      "cell_type": "code",
      "source": [
        "# 45. Find all unique words in a string.\n",
        "import re\n",
        "\n",
        "def unique_words(input_string):\n",
        "  l=[]\n",
        "  words = input_string.split()\n",
        "  for i in words:\n",
        "    l.append(i)\n",
        "  return set(l)\n",
        "unique_words(\"This is a test. This is only a test. Testing, one, two, three.\")\n",
        "\n"
      ],
      "metadata": {
        "id": "OVoYYYrbcjH4",
        "colab": {
          "base_uri": "https://localhost:8080/"
        },
        "outputId": "d504e98f-dd5a-420f-f397-34a4b4d7b937"
      },
      "id": "OVoYYYrbcjH4",
      "execution_count": 31,
      "outputs": [
        {
          "output_type": "execute_result",
          "data": {
            "text/plain": [
              "{'Testing,', 'This', 'a', 'is', 'one,', 'only', 'test.', 'three.', 'two,'}"
            ]
          },
          "metadata": {},
          "execution_count": 31
        }
      ]
    },
    {
      "cell_type": "code",
      "source": [
        "# 46. Count the number of syllables in a string\n",
        "import re\n",
        "\n",
        "def count_syllables(input_string):\n",
        "    # Remove non-alphanumeric characters and convert to lowercase\n",
        "    cleaned_string = re.sub(r'[^a-zA-Z ]', '', input_string).lower()\n",
        "\n",
        "    # Split the cleaned string into words\n",
        "    words = cleaned_string.split()\n",
        "\n",
        "    syllable_count = 0\n",
        "\n",
        "    for word in words:\n",
        "        vowels = \"aeiouy\"  # English vowels\n",
        "\n",
        "        # Count consecutive vowel sequences as one syllable\n",
        "        in_vowel_sequence = False\n",
        "\n",
        "        for char in word:\n",
        "            if char in vowels:\n",
        "                if not in_vowel_sequence:\n",
        "                    syllable_count += 1\n",
        "                in_vowel_sequence = True\n",
        "            else:\n",
        "                in_vowel_sequence = False\n",
        "\n",
        "    return syllable_count\n",
        "\n",
        "# Example usage:\n",
        "input_string = \"Hello, World! This is a test sentence.\"\n",
        "syllables = count_syllables(input_string)\n",
        "print(f\"Number of syllables: {syllables}\")\n"
      ],
      "metadata": {
        "id": "C4jCKtrkcjD0",
        "colab": {
          "base_uri": "https://localhost:8080/"
        },
        "outputId": "4e366c23-063d-4356-a567-4eea76eb1f03"
      },
      "id": "C4jCKtrkcjD0",
      "execution_count": 32,
      "outputs": [
        {
          "output_type": "stream",
          "name": "stdout",
          "text": [
            "Number of syllables: 10\n"
          ]
        }
      ]
    },
    {
      "cell_type": "code",
      "source": [
        "# 47. Check if a string contains any special characters.\n",
        "def str_spe_check(string):\n",
        "  l=[]\n",
        "  for i in string:\n",
        "    if i in \"!@#$%^&*()_+{}\\[\\]:;<>,.?~\\\\/\":\n",
        "      l.append(i)\n",
        "  if len(l) ==0:\n",
        "    return \"string doesn't contain any special characters\"\n",
        "  elif len(l)>0:\n",
        "    return \"string contain special characters\"\n",
        "\n",
        "str_spe_check(\"Aneesha@314\")\n",
        "\n"
      ],
      "metadata": {
        "id": "GIrj4kmRci_7",
        "colab": {
          "base_uri": "https://localhost:8080/",
          "height": 36
        },
        "outputId": "dca4480b-e20d-4625-ce5f-17fbc20eab3a"
      },
      "id": "GIrj4kmRci_7",
      "execution_count": 3,
      "outputs": [
        {
          "output_type": "execute_result",
          "data": {
            "text/plain": [
              "'string contain special characters'"
            ],
            "application/vnd.google.colaboratory.intrinsic+json": {
              "type": "string"
            }
          },
          "metadata": {},
          "execution_count": 3
        }
      ]
    },
    {
      "cell_type": "code",
      "source": [
        "#48. Remove the nth word from a string.\n",
        "def remove_word(string,position):\n",
        "  words = string.split()\n",
        "  if position<0 or position>len(string):\n",
        "    return \"invalid removal of word\"\n",
        "  else:\n",
        "    removed_word = words.pop(position-1)\n",
        "    modified_string = \" \".join(words)\n",
        "    return modified_string\n",
        "remove_word(\"suma anusha abbireddy\",3)\n",
        "\n"
      ],
      "metadata": {
        "id": "aEhDxioDci7y",
        "colab": {
          "base_uri": "https://localhost:8080/",
          "height": 36
        },
        "outputId": "518e45da-a966-4bbf-bc4a-f84e0f8fc1a0"
      },
      "id": "aEhDxioDci7y",
      "execution_count": 6,
      "outputs": [
        {
          "output_type": "execute_result",
          "data": {
            "text/plain": [
              "'suma anusha'"
            ],
            "application/vnd.google.colaboratory.intrinsic+json": {
              "type": "string"
            }
          },
          "metadata": {},
          "execution_count": 6
        }
      ]
    },
    {
      "cell_type": "code",
      "source": [
        "# 49. Insert a word at the nth position in a string.\n",
        "def insert_word(string,word,position):\n",
        "  if position<0 or position>len(string):\n",
        "    return \"invalid insertion of word\"\n",
        "  else:\n",
        "    modified_string = string[:position]+word+string[position:]\n",
        "    return modified_string\n",
        "\n",
        "insert_word(\"Suma anusha  abbireddy\",\"reddy\",12)\n",
        "\n",
        "\n",
        "\n"
      ],
      "metadata": {
        "id": "8CTMVXDbci3j",
        "colab": {
          "base_uri": "https://localhost:8080/",
          "height": 36
        },
        "outputId": "d91d0b96-bb20-4b0a-9a86-a16040d0ebf6"
      },
      "id": "8CTMVXDbci3j",
      "execution_count": 3,
      "outputs": [
        {
          "output_type": "execute_result",
          "data": {
            "text/plain": [
              "'Suma anusha reddy abbireddy'"
            ],
            "application/vnd.google.colaboratory.intrinsic+json": {
              "type": "string"
            }
          },
          "metadata": {},
          "execution_count": 3
        }
      ]
    },
    {
      "cell_type": "code",
      "execution_count": null,
      "metadata": {
        "id": "WNp6TJ9hN5XP",
        "colab": {
          "base_uri": "https://localhost:8080/"
        },
        "outputId": "a66e427d-3e77-48e2-c033-6514a5cd2811"
      },
      "outputs": [
        {
          "output_type": "execute_result",
          "data": {
            "text/plain": [
              "[[' Name', 'Age', 'Location'],\n",
              " [' John', '30', 'New York '],\n",
              " [' Alice', '25', 'Los Angeles'],\n",
              " [' Bob', '35', 'Chicago']]"
            ]
          },
          "metadata": {},
          "execution_count": 6
        }
      ],
      "source": [
        "# 50. Convert a CSV string to a list of lists.\n",
        "s = \"\"\" Name,Age,Location\\n John,30,New York \\n Alice,25,Los Angeles\\n Bob,35,Chicago\"\"\"\n",
        "\n",
        "lines = s.split('\\n')\n",
        "result = []\n",
        "for i in lines:\n",
        "  fields = i.split(',')\n",
        "  result.append(fields)\n",
        "result"
      ],
      "id": "WNp6TJ9hN5XP"
    },
    {
      "cell_type": "code",
      "execution_count": null,
      "metadata": {
        "id": "KwiUtXZoN4pN"
      },
      "outputs": [],
      "source": [],
      "id": "KwiUtXZoN4pN"
    },
    {
      "cell_type": "code",
      "execution_count": null,
      "metadata": {
        "id": "qSsXO1WCN4mv"
      },
      "outputs": [],
      "source": [],
      "id": "qSsXO1WCN4mv"
    },
    {
      "cell_type": "markdown",
      "metadata": {
        "id": "53eea117"
      },
      "source": [
        "# List Based Practice Problem :"
      ],
      "id": "53eea117"
    },
    {
      "cell_type": "markdown",
      "metadata": {
        "id": "0da7114f"
      },
      "source": [
        "1. Create a list with integers from 1 to 10.\n",
        "2. Find the length of a list without using the `len()` function.\n",
        "3. Append an element to the end of a list.\n",
        "4. Insert an element at a specific index in a list.\n",
        "5. Remove an element from a list by its value.\n",
        "6. Remove an element from a list by its index.\n",
        "7. Check if an element exists in a list.\n",
        "8. Find the index of the first occurrence of an element in a list.\n",
        "9. Count the occurrences of an element in a list.\n",
        "10. Reverse the order of elements in a list.\n",
        "Full Stack Data Science Pro\n",
        "11. Sort a list in ascending order.\n",
        "12. Sort a list in descending order.\n",
        "13. Create a list of even numbers from 1 to 20.\n",
        "14. Create a list of odd numbers from 1 to 20.\n",
        "15. Find the sum of all elements in a list.\n",
        "16. Find the maximum value in a list.\n",
        "17. Find the minimum value in a list.\n",
        "18. Create a list of squares of numbers from 1 to 10.\n",
        "19. Create a list of random numbers.\n",
        "20. Remove duplicates from a list.\n",
        "21. Find the common elements between two lists.\n",
        "22. Find the difference between two lists.\n",
        "23. Merge two lists.\n",
        "24. Multiply all elements in a list by 2.\n",
        "25. Filter out all even numbers from a list.\n",
        "Full Stack Data Science Pro\n",
        "26. Convert a list of strings to a list of integers.\n",
        "27. Convert a list of integers to a list of strings.\n",
        "28. Flatten a nested list.\n",
        "29. Create a list of the first 10 Fibonacci numbers.\n",
        "30. Check if a list is sorted.\n",
        "31. Rotate a list to the left by `n` positions.\n",
        "32. Rotate a list to the right by `n` positions.\n",
        "33. Create a list of prime numbers up to 50.\n",
        "34. Split a list into chunks of size `n`.\n",
        "35. Find the second largest number in a list.\n",
        "36. Replace every element in a list with its square.\n",
        "37. Convert a list to a dictionary where list elements become keys and their\n",
        "indices become values.\n",
        "38. Shuffle the elements of a list randomly.\n",
        "39. Create a list of the first 10 factorial numbers.\n",
        "Full Stack Data Science Pro\n",
        "40. Check if two lists have at least one element in common.\n",
        "41. Remove all elements from a list.\n",
        "42. Replace negative numbers in a list with 0.\n",
        "43. Convert a string into a list of words.\n",
        "44. Convert a list of words into a string.\n",
        "45. Create a list of the first `n` powers of 2.\n",
        "46. Find the longest string in a list of strings.\n",
        "47. Find the shortest string in a list of strings\n",
        "48. Create a list of the first `n` triangular numbers.\n",
        "49. Check if a list contains another list as a subsequence.\n",
        "50. Swap two elements in a list by their indice"
      ],
      "id": "0da7114f"
    },
    {
      "cell_type": "code",
      "execution_count": null,
      "metadata": {
        "id": "6cc22b9f",
        "outputId": "6f279ec1-78ab-4cc9-c3d1-0ca25c8581d7"
      },
      "outputs": [
        {
          "data": {
            "text/plain": [
              "list"
            ]
          },
          "execution_count": 26,
          "metadata": {},
          "output_type": "execute_result"
        }
      ],
      "source": [
        "# 1\n",
        "\n",
        "l = [1,2,3,4,5,6,7,8,9,10,1,1,1,5,6,7,76909,5,3,2,8,9,0,1,2,3,0,54,2,32,232,12,12,12,4,55467,887,6]\n",
        "type(l)"
      ],
      "id": "6cc22b9f"
    },
    {
      "cell_type": "code",
      "execution_count": null,
      "metadata": {
        "id": "90606376",
        "outputId": "3ee075bb-e743-4ab1-c66f-7589356dabe1",
        "scrolled": false
      },
      "outputs": [
        {
          "name": "stdout",
          "output_type": "stream",
          "text": [
            "Length of list l without using len() fun is  6\n"
          ]
        }
      ],
      "source": [
        "# 2 (useful in case distinct elemets in list)\n",
        "\n",
        "li = [1,2,3,4,5,9]\n",
        "# gives index position of last element adding 1 to it gives length of list\n",
        "l0 = li.index(9)+1\n",
        "\n",
        "print(\"Length of list l without using len() fun is \" ,l0)\n"
      ],
      "id": "90606376"
    },
    {
      "cell_type": "code",
      "execution_count": null,
      "metadata": {
        "id": "6d2c4d81",
        "outputId": "4159f9a9-c383-444b-f660-dbb9756822f0"
      },
      "outputs": [
        {
          "data": {
            "text/plain": [
              "38"
            ]
          },
          "execution_count": 34,
          "metadata": {},
          "output_type": "execute_result"
        }
      ],
      "source": [
        "# 2\n",
        "\n",
        "count = 0\n",
        "for i in l:\n",
        "    count+=1\n",
        "count"
      ],
      "id": "6d2c4d81"
    },
    {
      "cell_type": "code",
      "execution_count": null,
      "metadata": {
        "id": "c9d0e4f8",
        "outputId": "219f6f6a-7d53-4491-e67d-a7b8ebae46b7"
      },
      "outputs": [
        {
          "data": {
            "text/plain": [
              "[1,\n",
              " 2,\n",
              " 3,\n",
              " 4,\n",
              " 5,\n",
              " 6,\n",
              " 7,\n",
              " 8,\n",
              " 9,\n",
              " 10,\n",
              " 1,\n",
              " 1,\n",
              " 1,\n",
              " 5,\n",
              " 6,\n",
              " 7,\n",
              " 76909,\n",
              " 5,\n",
              " 3,\n",
              " 2,\n",
              " 8,\n",
              " 9,\n",
              " 0,\n",
              " 1,\n",
              " 2,\n",
              " 3,\n",
              " 0,\n",
              " 54,\n",
              " 2,\n",
              " 32,\n",
              " 232,\n",
              " 12,\n",
              " 12,\n",
              " 12,\n",
              " 4,\n",
              " 55467,\n",
              " 887,\n",
              " 6,\n",
              " 11]"
            ]
          },
          "execution_count": 35,
          "metadata": {},
          "output_type": "execute_result"
        }
      ],
      "source": [
        "# 3\n",
        "\n",
        "l.append(11)\n",
        "l"
      ],
      "id": "c9d0e4f8"
    },
    {
      "cell_type": "code",
      "execution_count": null,
      "metadata": {
        "id": "f75c7ea1"
      },
      "outputs": [],
      "source": [
        "# 4\n",
        "l.insert(0,13)"
      ],
      "id": "f75c7ea1"
    },
    {
      "cell_type": "code",
      "execution_count": null,
      "metadata": {
        "id": "e687d3a3",
        "outputId": "82da0d65-acda-47a6-e5aa-4f009ece4f64"
      },
      "outputs": [
        {
          "data": {
            "text/plain": [
              "[13,\n",
              " 1,\n",
              " 2,\n",
              " 3,\n",
              " 4,\n",
              " 5,\n",
              " 6,\n",
              " 7,\n",
              " 8,\n",
              " 9,\n",
              " 10,\n",
              " 1,\n",
              " 1,\n",
              " 1,\n",
              " 5,\n",
              " 6,\n",
              " 7,\n",
              " 76909,\n",
              " 5,\n",
              " 3,\n",
              " 2,\n",
              " 8,\n",
              " 9,\n",
              " 0,\n",
              " 1,\n",
              " 2,\n",
              " 3,\n",
              " 0,\n",
              " 54,\n",
              " 2,\n",
              " 32,\n",
              " 232,\n",
              " 12,\n",
              " 12,\n",
              " 12,\n",
              " 4,\n",
              " 55467,\n",
              " 887,\n",
              " 6,\n",
              " 11]"
            ]
          },
          "execution_count": 37,
          "metadata": {},
          "output_type": "execute_result"
        }
      ],
      "source": [
        "l"
      ],
      "id": "e687d3a3"
    },
    {
      "cell_type": "code",
      "execution_count": null,
      "metadata": {
        "id": "d10441b9",
        "outputId": "0b5aa671-dd18-4325-8078-7f413af8c43e"
      },
      "outputs": [
        {
          "data": {
            "text/plain": [
              "[1,\n",
              " 2,\n",
              " 3,\n",
              " 4,\n",
              " 5,\n",
              " 6,\n",
              " 7,\n",
              " 8,\n",
              " 9,\n",
              " 10,\n",
              " 1,\n",
              " 1,\n",
              " 1,\n",
              " 5,\n",
              " 6,\n",
              " 7,\n",
              " 76909,\n",
              " 5,\n",
              " 3,\n",
              " 2,\n",
              " 8,\n",
              " 9,\n",
              " 0,\n",
              " 1,\n",
              " 2,\n",
              " 3,\n",
              " 0,\n",
              " 54,\n",
              " 2,\n",
              " 32,\n",
              " 232,\n",
              " 12,\n",
              " 12,\n",
              " 12,\n",
              " 4,\n",
              " 55467,\n",
              " 887,\n",
              " 6,\n",
              " 11]"
            ]
          },
          "execution_count": 38,
          "metadata": {},
          "output_type": "execute_result"
        }
      ],
      "source": [
        "# 5\n",
        "l.remove(13)\n",
        "l"
      ],
      "id": "d10441b9"
    },
    {
      "cell_type": "code",
      "execution_count": null,
      "metadata": {
        "id": "9ac349a1",
        "outputId": "1f0eaf5e-3b77-4bf4-bbdb-5db8b45198ae",
        "scrolled": true
      },
      "outputs": [
        {
          "data": {
            "text/plain": [
              "[2,\n",
              " 3,\n",
              " 4,\n",
              " 5,\n",
              " 6,\n",
              " 7,\n",
              " 8,\n",
              " 9,\n",
              " 10,\n",
              " 1,\n",
              " 1,\n",
              " 1,\n",
              " 5,\n",
              " 6,\n",
              " 7,\n",
              " 76909,\n",
              " 5,\n",
              " 3,\n",
              " 2,\n",
              " 8,\n",
              " 9,\n",
              " 0,\n",
              " 1,\n",
              " 2,\n",
              " 3,\n",
              " 0,\n",
              " 54,\n",
              " 2,\n",
              " 32,\n",
              " 232,\n",
              " 12,\n",
              " 12,\n",
              " 12,\n",
              " 4,\n",
              " 55467,\n",
              " 887,\n",
              " 6,\n",
              " 11]"
            ]
          },
          "execution_count": 39,
          "metadata": {},
          "output_type": "execute_result"
        }
      ],
      "source": [
        "# 6\n",
        "l.remove(l[0])\n",
        "l"
      ],
      "id": "9ac349a1"
    },
    {
      "cell_type": "code",
      "execution_count": null,
      "metadata": {
        "id": "3e33db48",
        "outputId": "c0426d97-362f-4602-adc3-a9640546e41b"
      },
      "outputs": [
        {
          "data": {
            "text/plain": [
              "True"
            ]
          },
          "execution_count": 42,
          "metadata": {},
          "output_type": "execute_result"
        }
      ],
      "source": [
        "# 7\n",
        "\n",
        "3 in l"
      ],
      "id": "3e33db48"
    },
    {
      "cell_type": "code",
      "execution_count": null,
      "metadata": {
        "id": "c8edea00",
        "outputId": "2fe2bd3e-f20f-47f2-af0f-f31413b798d5"
      },
      "outputs": [
        {
          "data": {
            "text/plain": [
              "2"
            ]
          },
          "execution_count": 43,
          "metadata": {},
          "output_type": "execute_result"
        }
      ],
      "source": [
        "# 8\n",
        "\n",
        "l.index(4)"
      ],
      "id": "c8edea00"
    },
    {
      "cell_type": "code",
      "execution_count": null,
      "metadata": {
        "id": "bd5bf10b",
        "outputId": "412b939e-0342-4cc9-91df-d6da1de9e276"
      },
      "outputs": [
        {
          "data": {
            "text/plain": [
              "4"
            ]
          },
          "execution_count": 44,
          "metadata": {},
          "output_type": "execute_result"
        }
      ],
      "source": [
        "# 9\n",
        "\n",
        "# counting occurences of element 2\n",
        "\n",
        "l.count(2)"
      ],
      "id": "bd5bf10b"
    },
    {
      "cell_type": "code",
      "execution_count": null,
      "metadata": {
        "colab": {
          "base_uri": "https://localhost:8080/"
        },
        "id": "b88fccb1",
        "outputId": "382e91a1-b40e-41a8-d382-ac07b5793928"
      },
      "outputs": [
        {
          "data": {
            "text/plain": [
              "[7, 6, 5, 4, 3, 2, 1]"
            ]
          },
          "execution_count": 35,
          "metadata": {},
          "output_type": "execute_result"
        }
      ],
      "source": [
        "# 10\n",
        "\n",
        "l = [1,2,3,4,5,6,7]\n",
        "l[::-1]"
      ],
      "id": "b88fccb1"
    },
    {
      "cell_type": "code",
      "execution_count": null,
      "metadata": {
        "colab": {
          "base_uri": "https://localhost:8080/"
        },
        "id": "bDIUZSL9UC7U",
        "outputId": "de1119c1-7408-4b6e-af13-188e0f8684cf"
      },
      "outputs": [
        {
          "data": {
            "text/plain": [
              "[1, 4, 6, 12, 21, 43, 89]"
            ]
          },
          "execution_count": 37,
          "metadata": {},
          "output_type": "execute_result"
        }
      ],
      "source": [
        "#11. Sort a list in ascending order.\n",
        "l = [12,43,1,6,4,21,89]\n",
        "l.sort()\n",
        "l"
      ],
      "id": "bDIUZSL9UC7U"
    },
    {
      "cell_type": "code",
      "execution_count": null,
      "metadata": {
        "colab": {
          "base_uri": "https://localhost:8080/"
        },
        "id": "P29KXOpeUGh4",
        "outputId": "d0184523-8942-46e7-9fec-267c5a2324e1"
      },
      "outputs": [
        {
          "data": {
            "text/plain": [
              "[89, 43, 21, 12, 6, 4, 1]"
            ]
          },
          "execution_count": 39,
          "metadata": {},
          "output_type": "execute_result"
        }
      ],
      "source": [
        "# 12. Sort a list in descending order\n",
        "l = [12,43,1,6,4,21,89]\n",
        "l.sort()\n",
        "l[::-1]"
      ],
      "id": "P29KXOpeUGh4"
    },
    {
      "cell_type": "code",
      "execution_count": null,
      "metadata": {
        "colab": {
          "base_uri": "https://localhost:8080/"
        },
        "id": "ezavS9IQUGeg",
        "outputId": "54ef319a-95f8-4d12-ec82-36016033c276"
      },
      "outputs": [
        {
          "data": {
            "text/plain": [
              "[2, 4, 6, 8, 10, 12, 14, 16, 18, 20]"
            ]
          },
          "execution_count": 41,
          "metadata": {},
          "output_type": "execute_result"
        }
      ],
      "source": [
        "# 13. Create a list of even numbers from 1 to 20.\n",
        "l=[]\n",
        "for i in range(1,21):\n",
        "  if i%2==0:\n",
        "    l.append(i)\n",
        "l"
      ],
      "id": "ezavS9IQUGeg"
    },
    {
      "cell_type": "code",
      "execution_count": null,
      "metadata": {
        "colab": {
          "base_uri": "https://localhost:8080/"
        },
        "id": "lHf3zFbWUGa4",
        "outputId": "fe909e8e-6889-4354-db28-e0b523ba20c8"
      },
      "outputs": [
        {
          "data": {
            "text/plain": [
              "[1, 3, 5, 7, 9, 11, 13, 15, 17, 19]"
            ]
          },
          "execution_count": 42,
          "metadata": {},
          "output_type": "execute_result"
        }
      ],
      "source": [
        "# 14. Create a list of odd numbers from 1 to 20.\n",
        "l=[]\n",
        "for i in range(1,21):\n",
        "  if i%2!=0:\n",
        "    l.append(i)\n",
        "l"
      ],
      "id": "lHf3zFbWUGa4"
    },
    {
      "cell_type": "code",
      "execution_count": null,
      "metadata": {
        "colab": {
          "base_uri": "https://localhost:8080/"
        },
        "id": "tKIhOfOFUGXd",
        "outputId": "a2da9755-4763-4057-8598-6e32477994dd"
      },
      "outputs": [
        {
          "data": {
            "text/plain": [
              "45"
            ]
          },
          "execution_count": 43,
          "metadata": {},
          "output_type": "execute_result"
        }
      ],
      "source": [
        "# 15. Find the sum of all elements in a list.\n",
        "l =[1,2,3,4,5,6,7,8,9]\n",
        "sum(l)"
      ],
      "id": "tKIhOfOFUGXd"
    },
    {
      "cell_type": "code",
      "execution_count": null,
      "metadata": {
        "colab": {
          "base_uri": "https://localhost:8080/"
        },
        "id": "yTmXpH-WUGT5",
        "outputId": "c8b0980a-28f7-4949-edc4-84e0f5866244"
      },
      "outputs": [
        {
          "data": {
            "text/plain": [
              "9"
            ]
          },
          "execution_count": 44,
          "metadata": {},
          "output_type": "execute_result"
        }
      ],
      "source": [
        "# 16. Find the maximum value in a list.\n",
        "max(l)"
      ],
      "id": "yTmXpH-WUGT5"
    },
    {
      "cell_type": "code",
      "execution_count": null,
      "metadata": {
        "colab": {
          "base_uri": "https://localhost:8080/"
        },
        "id": "A9I0RXG8UGQR",
        "outputId": "739e39a4-4d0f-465e-f911-4c500fc93935"
      },
      "outputs": [
        {
          "data": {
            "text/plain": [
              "1"
            ]
          },
          "execution_count": 45,
          "metadata": {},
          "output_type": "execute_result"
        }
      ],
      "source": [
        "#17. Find the minimum value in a list.\n",
        "min(l)"
      ],
      "id": "A9I0RXG8UGQR"
    },
    {
      "cell_type": "code",
      "execution_count": null,
      "metadata": {
        "colab": {
          "base_uri": "https://localhost:8080/"
        },
        "id": "QGTCCwi5UGMl",
        "outputId": "2ed1acc6-666d-4200-8c45-3c477e1d5755"
      },
      "outputs": [
        {
          "name": "stdout",
          "output_type": "stream",
          "text": [
            "1 4 9 16 25 36 49 64 81 100 "
          ]
        }
      ],
      "source": [
        "# 18. Create a list of squares of numbers from 1 to 10.\n",
        "for i in range(1,11):\n",
        "  print(i**2,end =\" \")"
      ],
      "id": "QGTCCwi5UGMl"
    },
    {
      "cell_type": "code",
      "execution_count": null,
      "metadata": {
        "colab": {
          "base_uri": "https://localhost:8080/"
        },
        "id": "TdeRBO7sUGI_",
        "outputId": "6ea3765f-52a7-416c-c485-2016237bcd41"
      },
      "outputs": [
        {
          "data": {
            "text/plain": [
              "[5, 10, 94, 7, 100, 2, 6, 91]"
            ]
          },
          "execution_count": 50,
          "metadata": {},
          "output_type": "execute_result"
        }
      ],
      "source": [
        "# 19. Create a list of random numbers.\n",
        "import random\n",
        "random.sample([1,2,4,5,6,7,8,9,10,91,92,93,94,100],8)"
      ],
      "id": "TdeRBO7sUGI_"
    },
    {
      "cell_type": "code",
      "execution_count": null,
      "metadata": {
        "id": "UU8b5GNhUFA6"
      },
      "outputs": [],
      "source": [],
      "id": "UU8b5GNhUFA6"
    },
    {
      "cell_type": "code",
      "execution_count": null,
      "metadata": {
        "id": "f214eef3",
        "outputId": "510bc44b-97d5-4262-ea93-0321f9809d12"
      },
      "outputs": [
        {
          "data": {
            "text/plain": [
              "[0, 1, 2, 3, 4, 7, 8, 9]"
            ]
          },
          "execution_count": 22,
          "metadata": {},
          "output_type": "execute_result"
        }
      ],
      "source": [
        "# 20\n",
        "\n",
        "l1 = [1,2,2,3,0,0,9,7,8,8,4,2]\n",
        "l2 = set(l1)\n",
        "list(l2)"
      ],
      "id": "f214eef3"
    },
    {
      "cell_type": "code",
      "execution_count": null,
      "metadata": {
        "colab": {
          "base_uri": "https://localhost:8080/"
        },
        "id": "iXg8NwEyk_Mc",
        "outputId": "44bc22b1-686c-48cd-8a69-055e875b3cf7"
      },
      "outputs": [
        {
          "data": {
            "text/plain": [
              "{1, 2, 5, 6}"
            ]
          },
          "execution_count": 60,
          "metadata": {},
          "output_type": "execute_result"
        }
      ],
      "source": [
        "# 21. Find the common elements between two lists.\n",
        "l = [1,2,4,5,6,7,8,9,10]\n",
        "l1 = [1,2,3,5,6,21]\n",
        "#k = set(l)\n",
        "#j = set(l1)\n",
        "k.intersection(j)\n"
      ],
      "id": "iXg8NwEyk_Mc"
    },
    {
      "cell_type": "code",
      "execution_count": null,
      "metadata": {
        "colab": {
          "base_uri": "https://localhost:8080/"
        },
        "id": "oUZyTWUjlAal",
        "outputId": "b2984996-e683-430d-a94c-1f7e9191e9a0"
      },
      "outputs": [
        {
          "name": "stdout",
          "output_type": "stream",
          "text": [
            "list l is [1, 2, 4, 5, 6, 7, 8, 9, 10]\n",
            "list l1 is  [1, 2, 3, 5, 6, 21]\n"
          ]
        },
        {
          "data": {
            "text/plain": [
              "[4, 7, 8, 9, 10]"
            ]
          },
          "execution_count": 64,
          "metadata": {},
          "output_type": "execute_result"
        }
      ],
      "source": [
        "# 22. Find the difference between two lists.\n",
        "print(\"list l is\",l)\n",
        "print(\"list l1 is \",l1)\n",
        "k = [i for i in l if i not in l1]\n",
        "k"
      ],
      "id": "oUZyTWUjlAal"
    },
    {
      "cell_type": "code",
      "execution_count": null,
      "metadata": {
        "colab": {
          "base_uri": "https://localhost:8080/"
        },
        "id": "DgUuSZoJlAV5",
        "outputId": "f6f81442-86d6-4133-ea15-093a83ded10d"
      },
      "outputs": [
        {
          "data": {
            "text/plain": [
              "{4, 7, 8, 9, 10}"
            ]
          },
          "execution_count": 67,
          "metadata": {},
          "output_type": "execute_result"
        }
      ],
      "source": [
        "g=set(l)\n",
        "h = set(l1)\n",
        "set(g - h)"
      ],
      "id": "DgUuSZoJlAV5"
    },
    {
      "cell_type": "code",
      "execution_count": null,
      "metadata": {
        "colab": {
          "base_uri": "https://localhost:8080/"
        },
        "id": "CXrsHg-dlARf",
        "outputId": "a9ed7797-de14-4ecd-8c7e-4eab43ff4567"
      },
      "outputs": [
        {
          "data": {
            "text/plain": [
              "[5, 6, 7, 8, 9, 1, 2, 3, 4]"
            ]
          },
          "execution_count": 68,
          "metadata": {},
          "output_type": "execute_result"
        }
      ],
      "source": [
        "# 23. Merge two lists.\n",
        "l = [1,2,3,4]\n",
        "k = [5,6,7,8,9]\n",
        "for i in l:\n",
        "  k.append(i)\n",
        "\n",
        "k"
      ],
      "id": "CXrsHg-dlARf"
    },
    {
      "cell_type": "code",
      "execution_count": null,
      "metadata": {
        "colab": {
          "base_uri": "https://localhost:8080/"
        },
        "id": "_1MaqD2ClAOS",
        "outputId": "7b2ef47a-67b2-480a-c8f7-301c6d4d40af"
      },
      "outputs": [
        {
          "name": "stdout",
          "output_type": "stream",
          "text": [
            "2\n",
            "4\n",
            "6\n",
            "8\n",
            "10\n",
            "12\n"
          ]
        }
      ],
      "source": [
        "# 24. Multiply all elements in a list by 2.\n",
        "l = [1,2,3,4,5,6]\n",
        "for i in l:\n",
        "  print(i*2,)"
      ],
      "id": "_1MaqD2ClAOS"
    },
    {
      "cell_type": "code",
      "execution_count": null,
      "metadata": {
        "colab": {
          "base_uri": "https://localhost:8080/"
        },
        "id": "2L8MWz4xlALM",
        "outputId": "76045ab7-9d6e-4eb9-96fa-d9b6c864d499"
      },
      "outputs": [
        {
          "name": "stdout",
          "output_type": "stream",
          "text": [
            "2 4 6 8 10 "
          ]
        }
      ],
      "source": [
        "# 25. Filter out all even numbers from a list.\n",
        "l = [1,2,3,4,5,6,7,8,9,10]\n",
        "for i in l:\n",
        "  if i%2==0:\n",
        "    print(i,end=\" \")\n"
      ],
      "id": "2L8MWz4xlALM"
    },
    {
      "cell_type": "code",
      "execution_count": null,
      "metadata": {
        "colab": {
          "base_uri": "https://localhost:8080/"
        },
        "id": "b694049b",
        "outputId": "6f07255b-58d4-4f93-f78a-471dcef2dbf4"
      },
      "outputs": [
        {
          "data": {
            "text/plain": [
              "[1, 2, 3, 4]"
            ]
          },
          "execution_count": 77,
          "metadata": {},
          "output_type": "execute_result"
        }
      ],
      "source": [
        "# 26. Convert a list of strings to a list of integers.\n",
        "l= [\"1\",\"2\",\"3\",\"4\"]\n",
        "l1=[]\n",
        "for i in l:\n",
        "  l1.append(int(i))\n",
        "l1\n",
        "\n",
        "\n"
      ],
      "id": "b694049b"
    },
    {
      "cell_type": "code",
      "execution_count": null,
      "metadata": {
        "colab": {
          "base_uri": "https://localhost:8080/"
        },
        "id": "2299fa87",
        "outputId": "2c40950a-a07f-4a43-9b88-97b2e99193f2",
        "scrolled": true
      },
      "outputs": [
        {
          "data": {
            "text/plain": [
              "['1', '2', '3', '4']"
            ]
          },
          "execution_count": 78,
          "metadata": {},
          "output_type": "execute_result"
        }
      ],
      "source": [
        "l# 27. Convert a list of integers to a list of strings.\n",
        "l= [1,2,3,4]\n",
        "l1=[]\n",
        "for i in l:\n",
        "  l1.append(str(i))\n",
        "l1"
      ],
      "id": "2299fa87"
    },
    {
      "cell_type": "code",
      "execution_count": null,
      "metadata": {
        "id": "b58ec1c0"
      },
      "outputs": [],
      "source": [
        "l2 = [1,90.5,5,6,7,3,2,3,5]\n",
        "\n",
        "l3 = [3,5,6,9]\n",
        "\n",
        "l2.append(l3)"
      ],
      "id": "b58ec1c0"
    },
    {
      "cell_type": "code",
      "execution_count": null,
      "metadata": {
        "colab": {
          "base_uri": "https://localhost:8080/"
        },
        "id": "983171cb",
        "outputId": "5ba0bb51-2269-4a58-aa09-87aab40646c2"
      },
      "outputs": [
        {
          "data": {
            "text/plain": [
              "[1, 2, 4, 1, 2, 45, 9, 8, 4, 1, 2, 4]"
            ]
          },
          "execution_count": 81,
          "metadata": {},
          "output_type": "execute_result"
        }
      ],
      "source": [
        "# 28. Flatten a nested list\n",
        "l1 =[]\n",
        "def flat_list(l):\n",
        "  for i in l:\n",
        "    if isinstance(i,list):\n",
        "      flat_list(i)\n",
        "    else:\n",
        "      l1.append(i)\n",
        "  return l1\n",
        "flat_list([1,2,4,[1,2,45],9,8,4,[1,2,4]])"
      ],
      "id": "983171cb"
    },
    {
      "cell_type": "code",
      "execution_count": null,
      "metadata": {
        "colab": {
          "base_uri": "https://localhost:8080/"
        },
        "id": "2a2ff077",
        "outputId": "0dbdfbd9-46b5-4995-d984-6a521eb05607"
      },
      "outputs": [
        {
          "name": "stdout",
          "output_type": "stream",
          "text": [
            "0 1\n",
            "1 2 3 5 8 13 21 34 "
          ]
        }
      ],
      "source": [
        "# 29. Create a list of the first 10 Fibonacci numbers.\n",
        "a,b = 0,1\n",
        "print(a,b)\n",
        "n = 10\n",
        "for i in range(3,11):\n",
        "  c=a+b\n",
        "  print(c,end=\" \")\n",
        "  a,b=b,c"
      ],
      "id": "2a2ff077"
    },
    {
      "cell_type": "code",
      "execution_count": null,
      "metadata": {
        "colab": {
          "base_uri": "https://localhost:8080/"
        },
        "id": "1849a03c",
        "outputId": "3d305438-bde4-4588-cd00-6d2d2bd2ab35"
      },
      "outputs": [
        {
          "data": {
            "text/plain": [
              "False"
            ]
          },
          "execution_count": 3,
          "metadata": {},
          "output_type": "execute_result"
        }
      ],
      "source": [
        "# 30. Check if a list is sorted.\n",
        "l = [1,2,21,5,6,4]\n",
        "\n",
        "def sorting(l):\n",
        "  for i in l:\n",
        "    if i>i+1:\n",
        "      return True\n",
        "    else:\n",
        "      return False\n",
        "\n",
        "sorting([1,2,21,5,6,4])"
      ],
      "id": "1849a03c"
    },
    {
      "cell_type": "code",
      "execution_count": null,
      "metadata": {
        "colab": {
          "base_uri": "https://localhost:8080/"
        },
        "id": "d3ac9d87",
        "outputId": "935f44d1-34a4-4752-fccc-c3e8bce4a209"
      },
      "outputs": [
        {
          "name": "stdout",
          "output_type": "stream",
          "text": [
            "enter no of positions to rotate list to left:4\n"
          ]
        },
        {
          "data": {
            "text/plain": [
              "[5, 6, 7, 8, 9, 10, 1, 2, 3, 4]"
            ]
          },
          "execution_count": 6,
          "metadata": {},
          "output_type": "execute_result"
        }
      ],
      "source": [
        "# 31. Rotate a list to the left by `n` positions.\n",
        "l = [1,2,3,4,5,6,7,8,9,10]\n",
        "n = int(input(\"enter no of positions to rotate list to left:\"))\n",
        "for i in range(1,n+1):\n",
        "  l.append(i)\n",
        "  l.remove(i)\n",
        "l"
      ],
      "id": "d3ac9d87"
    },
    {
      "cell_type": "code",
      "execution_count": null,
      "metadata": {
        "colab": {
          "base_uri": "https://localhost:8080/"
        },
        "id": "jq7NAWWKwXVz",
        "outputId": "1216ea30-b3bc-4543-b57a-69ed886d0bf7"
      },
      "outputs": [
        {
          "data": {
            "text/plain": [
              "[9, 10, 1, 2, 3, 4, 5, 6, 7, 8]"
            ]
          },
          "execution_count": 7,
          "metadata": {},
          "output_type": "execute_result"
        }
      ],
      "source": [
        "l[4:] + l[:4]"
      ],
      "id": "jq7NAWWKwXVz"
    },
    {
      "cell_type": "code",
      "execution_count": null,
      "metadata": {
        "colab": {
          "base_uri": "https://localhost:8080/"
        },
        "id": "sor6-dlaHS5Z",
        "outputId": "a9e3d1aa-86e6-479c-aa5c-26f1cee721bf"
      },
      "outputs": [
        {
          "name": "stdout",
          "output_type": "stream",
          "text": [
            "enter no of positions to rotate list to right:2\n"
          ]
        },
        {
          "data": {
            "text/plain": [
              "[9, 10, 3, 4, 5, 6, 7, 8, 9, 10]"
            ]
          },
          "execution_count": 14,
          "metadata": {},
          "output_type": "execute_result"
        }
      ],
      "source": [
        "# 32. Rotate a list to the right by `n` positions.\n",
        "l=[1,2,3,4,5,6,7,8,9,10]\n",
        "n = int(input(\"enter no of positions to rotate list to right:\"))\n",
        "l[-n:]+l[n:]"
      ],
      "id": "sor6-dlaHS5Z"
    },
    {
      "cell_type": "code",
      "execution_count": null,
      "metadata": {
        "colab": {
          "base_uri": "https://localhost:8080/"
        },
        "id": "sfBqxv2NHqrK",
        "outputId": "66b10b10-429b-4ee0-fe3f-8ff1dbc89295"
      },
      "outputs": [
        {
          "data": {
            "text/plain": [
              "[2, 3, 5, 7, 11, 13, 17, 19, 23, 29, 31, 37, 41, 43, 47]"
            ]
          },
          "execution_count": 26,
          "metadata": {},
          "output_type": "execute_result"
        }
      ],
      "source": [
        "# 33. Create a list of prime numbers up to 50.\n",
        "l=[2]\n",
        "for i in range(3,51):\n",
        "  is_prime = True\n",
        "  for j in range(2,i):\n",
        "    if i%j==0:\n",
        "      is_prime = False\n",
        "      break\n",
        "      l.append(i)\n",
        "  if is_prime == True:\n",
        "        l.append(i)\n",
        "l\n"
      ],
      "id": "sfBqxv2NHqrK"
    },
    {
      "cell_type": "code",
      "execution_count": null,
      "metadata": {
        "colab": {
          "base_uri": "https://localhost:8080/"
        },
        "id": "CnEU607CJmJP",
        "outputId": "c5580dc0-5062-40bd-dfd9-5324ae79222f"
      },
      "outputs": [
        {
          "output_type": "stream",
          "name": "stdout",
          "text": [
            "[[1, 2, 3], [4, 5, 6], [7, 8, 9], [10]]\n"
          ]
        }
      ],
      "source": [
        "# 34. Split a list into chunks of size `n`.\n",
        "def split_list_into_chunks(lst, n):\n",
        "    for i in range(0, len(lst), n):\n",
        "        yield lst[i:i + n]\n",
        "\n",
        "# Example list\n",
        "my_list = [1, 2, 3, 4, 5, 6, 7, 8, 9, 10]\n",
        "\n",
        "# Specify the chunk size\n",
        "chunk_size = 3\n",
        "\n",
        "# Split the list into chunks\n",
        "chunks = list(split_list_into_chunks(my_list, chunk_size))\n",
        "\n",
        "print(chunks)\n"
      ],
      "id": "CnEU607CJmJP"
    },
    {
      "cell_type": "code",
      "execution_count": null,
      "metadata": {
        "id": "ju-VfQ9zLbvK"
      },
      "outputs": [],
      "source": [
        "# 35. Find the second largest number in a list.\n",
        "l = [1,2,3,4,5,6,7,8,9,10]\n",
        "k = max(l)\n"
      ],
      "id": "ju-VfQ9zLbvK"
    },
    {
      "cell_type": "code",
      "execution_count": null,
      "metadata": {
        "colab": {
          "base_uri": "https://localhost:8080/"
        },
        "id": "IclDay4dPzgt",
        "outputId": "05a51713-0827-4d41-e56d-e335c1d380c1"
      },
      "outputs": [
        {
          "data": {
            "text/plain": [
              "[1, 4, 9, 16, 25, 36, 49, 64, 81, 100]"
            ]
          },
          "execution_count": 11,
          "metadata": {},
          "output_type": "execute_result"
        }
      ],
      "source": [
        "# 36. Replace every element in a list with its square.\n",
        "l = [1,2,3,4,5,6,7,8,9,10]\n",
        "for i in range(len(l)+1):\n",
        "  l[i-1]=i**2\n",
        "l"
      ],
      "id": "IclDay4dPzgt"
    },
    {
      "cell_type": "code",
      "execution_count": null,
      "metadata": {
        "colab": {
          "base_uri": "https://localhost:8080/"
        },
        "id": "MrAP3wO6h16D",
        "outputId": "100bf886-ccd7-40a2-a9ea-9d649b73b87d"
      },
      "outputs": [
        {
          "output_type": "stream",
          "name": "stdout",
          "text": [
            "{'apple': 0, 'banana': 1, 'cherry': 2, 'date': 3}\n"
          ]
        }
      ],
      "source": [
        "# 37. Convert a list to a dictionary where list elements become keys and their indices become values.\n",
        "my_list = ['apple', 'banana', 'cherry', 'date']\n",
        "\n",
        "# Using a dictionary comprehension\n",
        "my_dict = {element: index for index, element in enumerate(my_list)}\n",
        "\n",
        "print(my_dict)"
      ],
      "id": "MrAP3wO6h16D"
    },
    {
      "cell_type": "code",
      "source": [],
      "metadata": {
        "id": "-jfJVzYDPdxe"
      },
      "id": "-jfJVzYDPdxe",
      "execution_count": null,
      "outputs": []
    },
    {
      "cell_type": "code",
      "execution_count": null,
      "metadata": {
        "colab": {
          "base_uri": "https://localhost:8080/"
        },
        "id": "Dto0R83ckB4G",
        "outputId": "7b173a1a-bd70-4f8d-daf2-3a31fdf0a4ae"
      },
      "outputs": [
        {
          "data": {
            "text/plain": [
              "[3, 7, 1, 5, 4, 8, 2, 9, 6]"
            ]
          },
          "execution_count": 17,
          "metadata": {},
          "output_type": "execute_result"
        }
      ],
      "source": [
        "# 38. Shuffle the elements of a list randomly.\n",
        "l = [1,2,3,4,5,6,7,8,9]\n",
        "import random\n",
        "random.shuffle(l)\n",
        "l"
      ],
      "id": "Dto0R83ckB4G"
    },
    {
      "cell_type": "code",
      "execution_count": null,
      "metadata": {
        "colab": {
          "base_uri": "https://localhost:8080/"
        },
        "id": "yACwe4ojkvne",
        "outputId": "5b268eca-7a01-43e8-a846-3150a8154091"
      },
      "outputs": [
        {
          "name": "stdout",
          "output_type": "stream",
          "text": [
            "Factorial of 1 is 1\n",
            "Factorial of 2 is 2\n",
            "Factorial of 3 is 6\n",
            "Factorial of 4 is 24\n",
            "Factorial of 5 is 120\n",
            "Factorial of 6 is 720\n",
            "Factorial of 7 is 5040\n",
            "Factorial of 8 is 40320\n",
            "Factorial of 9 is 362880\n",
            "Factorial of 10 is 3628800\n"
          ]
        }
      ],
      "source": [
        "# 39. Create a list of the first 10 factorial numbers.\n",
        "def factorial(n):\n",
        "    result = 1\n",
        "    for i in range(1, n + 1):\n",
        "        result *= i\n",
        "    return result\n",
        "\n",
        "for i in range(1, 11):\n",
        "    print(f\"Factorial of {i} is {factorial(i)}\")\n"
      ],
      "id": "yACwe4ojkvne"
    },
    {
      "cell_type": "code",
      "execution_count": null,
      "metadata": {
        "colab": {
          "base_uri": "https://localhost:8080/"
        },
        "id": "6XWNAL_ilJTI",
        "outputId": "7716a43a-85ed-4ae5-b93a-e5529a9cef1e"
      },
      "outputs": [
        {
          "name": "stdout",
          "output_type": "stream",
          "text": [
            "list two lists have at least one element in common\n"
          ]
        }
      ],
      "source": [
        "# 40. Check if two lists have at least one element in common.\n",
        "l = [1,2,3,4,5,6,7,8]\n",
        "l1 = [1,3,6,9,10,11,12]\n",
        "l2=[]\n",
        "for i in l:\n",
        "  if i in l1:\n",
        "    l2.append(i)\n",
        "if len(l2)>=1:\n",
        "  print(\"list two lists have at least one element in common\")\n",
        "else:\n",
        "  print(\"two lists doesn't have at least one element in common\")"
      ],
      "id": "6XWNAL_ilJTI"
    },
    {
      "cell_type": "code",
      "execution_count": null,
      "metadata": {
        "colab": {
          "base_uri": "https://localhost:8080/"
        },
        "id": "hwxRjubn3EB2",
        "outputId": "52529098-888d-4541-f68b-2fd094d3dcdd"
      },
      "outputs": [
        {
          "data": {
            "text/plain": [
              "[]"
            ]
          },
          "execution_count": 4,
          "metadata": {},
          "output_type": "execute_result"
        }
      ],
      "source": [
        "# 41. Remove all elements from a list.\n",
        "l=[1,2,3,5,6,7]\n",
        "l.clear()\n",
        "l"
      ],
      "id": "hwxRjubn3EB2"
    },
    {
      "cell_type": "code",
      "execution_count": null,
      "metadata": {
        "colab": {
          "base_uri": "https://localhost:8080/"
        },
        "id": "hzW9ppsy3K3V",
        "outputId": "b071efc6-6b9f-4807-f5e4-dcf90a18cd24"
      },
      "outputs": [
        {
          "data": {
            "text/plain": [
              "[0, 0, 0, 4, 5, 6, 0, 0]"
            ]
          },
          "execution_count": 14,
          "metadata": {},
          "output_type": "execute_result"
        }
      ],
      "source": [
        "# 42. Replace negative numbers in a list with 0.\n",
        "l = [-1,-2,-3,4,5,6,-8,-8]\n",
        "for i in range(1,len(l)+1):\n",
        "  if l[i-1]<0:\n",
        "    l[i-1]=0\n",
        "l\n"
      ],
      "id": "hzW9ppsy3K3V"
    },
    {
      "cell_type": "code",
      "execution_count": null,
      "metadata": {
        "colab": {
          "base_uri": "https://localhost:8080/"
        },
        "id": "5wp6hrDo4J6a",
        "outputId": "aec8d265-ebf0-4ebf-945a-bfa3fc66f3d9"
      },
      "outputs": [
        {
          "data": {
            "text/plain": [
              "['suma', 'anusha', 'abbireddy']"
            ]
          },
          "execution_count": 15,
          "metadata": {},
          "output_type": "execute_result"
        }
      ],
      "source": [
        "# 43. Convert a string into a list of words.\n",
        "s = \"suma anusha abbireddy\"\n",
        "l = s.split()\n",
        "l\n"
      ],
      "id": "5wp6hrDo4J6a"
    },
    {
      "cell_type": "code",
      "execution_count": null,
      "metadata": {
        "colab": {
          "base_uri": "https://localhost:8080/",
          "height": 36
        },
        "id": "4NHzDYhk54R_",
        "outputId": "08f20a72-5b18-44b5-ed23-af888c142d52"
      },
      "outputs": [
        {
          "data": {
            "application/vnd.google.colaboratory.intrinsic+json": {
              "type": "string"
            },
            "text/plain": [
              "'suma anusha abbireddy'"
            ]
          },
          "execution_count": 19,
          "metadata": {},
          "output_type": "execute_result"
        }
      ],
      "source": [
        "# 44. Convert a list of words into a string.\n",
        "l = ['suma', 'anusha', 'abbireddy']\n",
        "s = l[0]+\" \"+l[1]+\" \"+l[2]\n",
        "s\n"
      ],
      "id": "4NHzDYhk54R_"
    },
    {
      "cell_type": "code",
      "execution_count": null,
      "metadata": {
        "colab": {
          "base_uri": "https://localhost:8080/"
        },
        "id": "JsZ9so2_6AoG",
        "outputId": "7ea9295f-f418-44c4-8c5d-a4187352b9f5"
      },
      "outputs": [
        {
          "name": "stdout",
          "output_type": "stream",
          "text": [
            "8\n"
          ]
        },
        {
          "data": {
            "text/plain": [
              "[2, 4, 8, 16, 32, 64, 128, 256]"
            ]
          },
          "execution_count": 21,
          "metadata": {},
          "output_type": "execute_result"
        }
      ],
      "source": [
        "# 45. Create a list of the first `n` powers of 2.\n",
        "n=int(input())\n",
        "l=[]\n",
        "for i in range(1,n+1):\n",
        "  l.append(2**(i))\n",
        "l\n",
        "\n"
      ],
      "id": "JsZ9so2_6AoG"
    },
    {
      "cell_type": "code",
      "execution_count": null,
      "metadata": {
        "colab": {
          "base_uri": "https://localhost:8080/",
          "height": 36
        },
        "id": "QAgcumGOHAYs",
        "outputId": "cdc0b32d-8562-4d51-d6a1-6fcb0ca87427"
      },
      "outputs": [
        {
          "data": {
            "application/vnd.google.colaboratory.intrinsic+json": {
              "type": "string"
            },
            "text/plain": [
              "'abbireddy'"
            ]
          },
          "execution_count": 30,
          "metadata": {},
          "output_type": "execute_result"
        }
      ],
      "source": [
        "# 46. Find the longest string in a list of strings.\n",
        "\n",
        "l = [\"suma\",\"anusha\",\"abbireddy\"]\n",
        "l1=[]\n",
        "for i in l:\n",
        "  l1.append(len(i))\n",
        "d = dict(zip(l,l1))\n",
        "max_str = max(d, key=lambda k: d[k])\n",
        "max_str\n",
        "\n"
      ],
      "id": "QAgcumGOHAYs"
    },
    {
      "cell_type": "code",
      "execution_count": null,
      "metadata": {
        "colab": {
          "base_uri": "https://localhost:8080/",
          "height": 36
        },
        "id": "mM2tZpCqHNGu",
        "outputId": "08720c4d-d980-4224-ba0f-53adb35746eb"
      },
      "outputs": [
        {
          "data": {
            "application/vnd.google.colaboratory.intrinsic+json": {
              "type": "string"
            },
            "text/plain": [
              "'suma'"
            ]
          },
          "execution_count": 31,
          "metadata": {},
          "output_type": "execute_result"
        }
      ],
      "source": [
        "# 47. Find the shortest string in a list of strings.\n",
        "l = [\"suma\",\"anusha\",\"abbireddy\"]\n",
        "l1=[]\n",
        "for i in l:\n",
        "  l1.append(len(i))\n",
        "d = dict(zip(l,l1))\n",
        "min_str = min(d, key=lambda k: d[k])\n",
        "min_str"
      ],
      "id": "mM2tZpCqHNGu"
    },
    {
      "cell_type": "code",
      "execution_count": null,
      "metadata": {
        "colab": {
          "base_uri": "https://localhost:8080/"
        },
        "id": "khDNTKqVIBXG",
        "outputId": "a61325b1-2591-4a1b-bbd2-70e040aea721"
      },
      "outputs": [
        {
          "name": "stdout",
          "output_type": "stream",
          "text": [
            "[1, 3, 6, 10, 15, 21, 28, 36, 45, 55]\n"
          ]
        }
      ],
      "source": [
        "# 48. Create a list of the first `n` triangular numbers.\n",
        "def generate_triangular_numbers(n):\n",
        "    triangular_numbers = []\n",
        "    total = 0\n",
        "\n",
        "    for i in range(1, n + 1):\n",
        "        total += i\n",
        "        triangular_numbers.append(total)\n",
        "\n",
        "    return triangular_numbers\n",
        "\n",
        "\n"
      ],
      "id": "khDNTKqVIBXG"
    },
    {
      "cell_type": "code",
      "execution_count": null,
      "metadata": {
        "colab": {
          "base_uri": "https://localhost:8080/"
        },
        "id": "sCDotQmuzvMy",
        "outputId": "3e9d611f-0b5e-4e5d-c5ef-2aac6a8d4f87"
      },
      "outputs": [
        {
          "data": {
            "text/plain": [
              "[1, 3, 6, 10, 15]"
            ]
          },
          "execution_count": 7,
          "metadata": {},
          "output_type": "execute_result"
        }
      ],
      "source": [
        "t=0\n",
        "s=[]\n",
        "for i in range(1,6):\n",
        "  t+=i\n",
        "  s.append(t)\n",
        "s\n",
        "\n"
      ],
      "id": "sCDotQmuzvMy"
    },
    {
      "cell_type": "code",
      "execution_count": null,
      "metadata": {
        "colab": {
          "base_uri": "https://localhost:8080/"
        },
        "id": "Ppqqwb620RB7",
        "outputId": "bc74d084-3d4f-4a61-a19d-0df813890d53"
      },
      "outputs": [
        {
          "data": {
            "text/plain": [
              "False"
            ]
          },
          "execution_count": 8,
          "metadata": {},
          "output_type": "execute_result"
        }
      ],
      "source": [
        "# 49. Check if a list contains another list as a subsequence.\n",
        "l = [1,2,4,3,5,6,7,8]\n",
        "l2=[3,4]\n",
        "for i in l2:\n"
      ],
      "id": "Ppqqwb620RB7"
    },
    {
      "cell_type": "code",
      "execution_count": null,
      "metadata": {
        "id": "yL9Uf4al0rvm",
        "colab": {
          "base_uri": "https://localhost:8080/"
        },
        "outputId": "da4c1f51-86ca-482f-f269-5daf9e4243e7"
      },
      "outputs": [
        {
          "output_type": "execute_result",
          "data": {
            "text/plain": [
              "[1, 3, 2, 4, 5, 6, 7, 8, 9, 10]"
            ]
          },
          "metadata": {},
          "execution_count": 25
        }
      ],
      "source": [
        "# 50. Swap two elements in a list by their indices.\n",
        "\n",
        "l = [1,2,3,4,5,6,7,8,9,10]\n",
        "l[2],l[1] = l[1],l[2]\n",
        "l"
      ],
      "id": "yL9Uf4al0rvm"
    },
    {
      "cell_type": "code",
      "execution_count": null,
      "metadata": {
        "id": "o-TjBBD_z2Ca"
      },
      "outputs": [],
      "source": [
        "# Tuple Based Practice Problem :\n"
      ],
      "id": "o-TjBBD_z2Ca"
    },
    {
      "cell_type": "code",
      "execution_count": null,
      "metadata": {
        "colab": {
          "base_uri": "https://localhost:8080/"
        },
        "id": "VSX-FKEIz89H",
        "outputId": "8c695542-2e3d-42c8-b31b-8065c99c1543"
      },
      "outputs": [
        {
          "name": "stdout",
          "output_type": "stream",
          "text": [
            "(1, 2, 3, 4, 5)\n",
            "<class 'tuple'>\n"
          ]
        }
      ],
      "source": [
        "# 1. Create a tuple with integers from 1 to 5.\n",
        "t = (1,2,3,4,5)\n",
        "print(t)\n",
        "print(type(t))"
      ],
      "id": "VSX-FKEIz89H"
    },
    {
      "cell_type": "code",
      "execution_count": null,
      "metadata": {
        "colab": {
          "base_uri": "https://localhost:8080/"
        },
        "id": "Rcorb4Stz-gF",
        "outputId": "3a040134-a253-4895-c9a0-7280569a4ec7"
      },
      "outputs": [
        {
          "data": {
            "text/plain": [
              "3"
            ]
          },
          "execution_count": 7,
          "metadata": {},
          "output_type": "execute_result"
        }
      ],
      "source": [
        "# 2. Access the third element of a tuple.\n",
        "t = (1,2,3,4,5,6,7,8)\n",
        "t[2]"
      ],
      "id": "Rcorb4Stz-gF"
    },
    {
      "cell_type": "code",
      "execution_count": null,
      "metadata": {
        "colab": {
          "base_uri": "https://localhost:8080/"
        },
        "id": "c4ENGRypz-cm",
        "outputId": "6860d33c-13ca-4db2-a542-41cf422afa39"
      },
      "outputs": [
        {
          "data": {
            "text/plain": [
              "7"
            ]
          },
          "execution_count": 8,
          "metadata": {},
          "output_type": "execute_result"
        }
      ],
      "source": [
        "# 3. Find the length of a tuple without using the `len()` function.\n",
        "t = (1,2,3,4,5,6,7)\n",
        "length = 0\n",
        "for i in  t:\n",
        "  length+=1\n",
        "length"
      ],
      "id": "c4ENGRypz-cm"
    },
    {
      "cell_type": "code",
      "execution_count": null,
      "metadata": {
        "colab": {
          "base_uri": "https://localhost:8080/"
        },
        "id": "2bZyeapZz-W9",
        "outputId": "b3b55c59-52c3-4df7-be5d-b3e87886495a"
      },
      "outputs": [
        {
          "name": "stdout",
          "output_type": "stream",
          "text": [
            "enter element to count occurrences1\n"
          ]
        },
        {
          "data": {
            "text/plain": [
              "2"
            ]
          },
          "execution_count": 12,
          "metadata": {},
          "output_type": "execute_result"
        }
      ],
      "source": [
        "# 4. Count the occurrences of an element in a tuple.\n",
        "g = int(input(\"enter element to count occurrences\"))\n",
        "t = (1,1,2,3,4,5,6,7)\n",
        "t.count(g)"
      ],
      "id": "2bZyeapZz-W9"
    },
    {
      "cell_type": "code",
      "execution_count": null,
      "metadata": {
        "colab": {
          "base_uri": "https://localhost:8080/"
        },
        "id": "MXvd0wEbz-SX",
        "outputId": "c02da9ea-9f6f-46c9-ce45-fe65cfdff933"
      },
      "outputs": [
        {
          "data": {
            "text/plain": [
              "0"
            ]
          },
          "execution_count": 22,
          "metadata": {},
          "output_type": "execute_result"
        }
      ],
      "source": [
        "# 5. Find the index of the first occurrence of an element in a tuple.\n",
        "t = (1,0,1,2,2,3,4,5)\n",
        "t[1]"
      ],
      "id": "MXvd0wEbz-SX"
    },
    {
      "cell_type": "code",
      "execution_count": null,
      "metadata": {
        "colab": {
          "base_uri": "https://localhost:8080/"
        },
        "id": "RkGRI9Xez-Od",
        "outputId": "bef64ec7-64c9-474e-a9d5-43da1ee1942c"
      },
      "outputs": [
        {
          "data": {
            "text/plain": [
              "True"
            ]
          },
          "execution_count": 13,
          "metadata": {},
          "output_type": "execute_result"
        }
      ],
      "source": [
        "# 6. Check if an element exists in a tuple.\n",
        "t = (1,2,3,4,5,6,7,8)\n",
        "5 in t"
      ],
      "id": "RkGRI9Xez-Od"
    },
    {
      "cell_type": "code",
      "execution_count": null,
      "metadata": {
        "colab": {
          "base_uri": "https://localhost:8080/"
        },
        "id": "boihiINmz-Kb",
        "outputId": "98770aa7-4d78-4d13-a431-8528c5b6d7cc"
      },
      "outputs": [
        {
          "data": {
            "text/plain": [
              "[1, 2, 3]"
            ]
          },
          "execution_count": 17,
          "metadata": {},
          "output_type": "execute_result"
        }
      ],
      "source": [
        "# 7. Convert a tuple to a list.\n",
        "t = (1,2,3)\n",
        "g = list(t)\n",
        "g"
      ],
      "id": "boihiINmz-Kb"
    },
    {
      "cell_type": "code",
      "execution_count": null,
      "metadata": {
        "colab": {
          "base_uri": "https://localhost:8080/"
        },
        "id": "fLhWngcgz-Dr",
        "outputId": "9c6e26c4-801a-4fa7-e3d5-dcb8e8c925ca"
      },
      "outputs": [
        {
          "name": "stdout",
          "output_type": "stream",
          "text": [
            "g: [1, 2, 3]\n"
          ]
        },
        {
          "data": {
            "text/plain": [
              "(1, 2, 3)"
            ]
          },
          "execution_count": 20,
          "metadata": {},
          "output_type": "execute_result"
        }
      ],
      "source": [
        "# 8. Convert a list to a tuple.\n",
        "print(\"g:\",g)\n",
        "k = tuple(g)\n",
        "k"
      ],
      "id": "fLhWngcgz-Dr"
    },
    {
      "cell_type": "code",
      "execution_count": null,
      "metadata": {
        "colab": {
          "base_uri": "https://localhost:8080/"
        },
        "id": "5-jQZJHv2G4d",
        "outputId": "f4a41631-a42b-4f44-c1f4-f09ef06eb91b"
      },
      "outputs": [
        {
          "name": "stdout",
          "output_type": "stream",
          "text": [
            "1 2 3\n"
          ]
        }
      ],
      "source": [
        "# 9. Unpack the elements of a tuple into variables.\n",
        "l =(1,2,3)\n",
        "a,b,c =l\n",
        "print(a,b,c)"
      ],
      "id": "5-jQZJHv2G4d"
    },
    {
      "cell_type": "code",
      "execution_count": null,
      "metadata": {
        "colab": {
          "base_uri": "https://localhost:8080/"
        },
        "id": "VODFeksH3c5O",
        "outputId": "5f5ef130-5471-49e4-ce14-1ad08d96dd1f"
      },
      "outputs": [
        {
          "data": {
            "text/plain": [
              "(2, 4, 6, 8, 10)"
            ]
          },
          "execution_count": 28,
          "metadata": {},
          "output_type": "execute_result"
        }
      ],
      "source": [
        "# 10. Create a tuple of even numbers from 1 to 10.\n",
        "l=[]\n",
        "for i in range(1,11):\n",
        "  if i%2==0:\n",
        "    l.append(i)\n",
        "tuple(l)\n"
      ],
      "id": "VODFeksH3c5O"
    },
    {
      "cell_type": "code",
      "execution_count": null,
      "metadata": {
        "colab": {
          "base_uri": "https://localhost:8080/"
        },
        "id": "HMEVSQb34g7O",
        "outputId": "df335700-ed95-4e55-8371-dcb09e912458"
      },
      "outputs": [
        {
          "data": {
            "text/plain": [
              "(1, 3, 5, 7, 9)"
            ]
          },
          "execution_count": 29,
          "metadata": {},
          "output_type": "execute_result"
        }
      ],
      "source": [
        "# 11. Create a tuple of odd numbers from 1 to 10.\n",
        "l=[]\n",
        "for i in range(1,11):\n",
        "  if i%2!=0:\n",
        "    l.append(i)\n",
        "tuple(l)"
      ],
      "id": "HMEVSQb34g7O"
    },
    {
      "cell_type": "code",
      "execution_count": null,
      "metadata": {
        "colab": {
          "base_uri": "https://localhost:8080/"
        },
        "id": "5XER1_zB41iU",
        "outputId": "4ddb1a00-38f6-40d5-b3b0-98237c2d4083"
      },
      "outputs": [
        {
          "data": {
            "text/plain": [
              "(1, 2, 3, 21, 23, 45)"
            ]
          },
          "execution_count": 30,
          "metadata": {},
          "output_type": "execute_result"
        }
      ],
      "source": [
        "# 12. Concatenate two tuples.\n",
        "t = (1,2,3)\n",
        "t1 = (21,23,45)\n",
        "t+t1"
      ],
      "id": "5XER1_zB41iU"
    },
    {
      "cell_type": "code",
      "execution_count": null,
      "metadata": {
        "colab": {
          "base_uri": "https://localhost:8080/"
        },
        "id": "oIicNpqH4-aO",
        "outputId": "ac53235a-1861-4497-81f8-ace112dab1dc"
      },
      "outputs": [
        {
          "data": {
            "text/plain": [
              "(1, 2, 3, 4, 1, 2, 3, 4, 1, 2, 3, 4)"
            ]
          },
          "execution_count": 31,
          "metadata": {},
          "output_type": "execute_result"
        }
      ],
      "source": [
        "# 13. Repeat a tuple three times.\n",
        "t = (1,2,3,4)\n",
        "t*3"
      ],
      "id": "oIicNpqH4-aO"
    },
    {
      "cell_type": "code",
      "execution_count": null,
      "metadata": {
        "colab": {
          "base_uri": "https://localhost:8080/"
        },
        "id": "PblHl3Hj5EPW",
        "outputId": "dd5b2984-df0a-4468-b444-5583b062f537"
      },
      "outputs": [
        {
          "name": "stdout",
          "output_type": "stream",
          "text": [
            "not empty tuple\n"
          ]
        }
      ],
      "source": [
        "# 14. Check if a tuple is empty.\n",
        "t0 =()\n",
        "\n",
        "t=(1,2,3)\n",
        "if t!=t:\n",
        "  print(\"empty tuple\")\n",
        "else:\n",
        "  print(\"not empty tuple\")\n"
      ],
      "id": "PblHl3Hj5EPW"
    },
    {
      "cell_type": "code",
      "execution_count": null,
      "metadata": {
        "colab": {
          "base_uri": "https://localhost:8080/"
        },
        "id": "Yfb1IPbm5cRI",
        "outputId": "cda7c8e0-28f5-40e2-f99a-363e2c03545e"
      },
      "outputs": [
        {
          "data": {
            "text/plain": [
              "tuple"
            ]
          },
          "execution_count": 35,
          "metadata": {},
          "output_type": "execute_result"
        }
      ],
      "source": [
        "# 15. Create a nested tuple.\n",
        "n = (1,2,3,(1,2),(9,8))\n",
        "type(n)"
      ],
      "id": "Yfb1IPbm5cRI"
    },
    {
      "cell_type": "code",
      "execution_count": null,
      "metadata": {
        "colab": {
          "base_uri": "https://localhost:8080/"
        },
        "id": "oWooI-8K6uTw",
        "outputId": "d06283ab-cb35-404e-b9cf-6d54aa560bca"
      },
      "outputs": [
        {
          "data": {
            "text/plain": [
              "1"
            ]
          },
          "execution_count": 37,
          "metadata": {},
          "output_type": "execute_result"
        }
      ],
      "source": [
        "# 16. Access the first element of a nested tuple.\n",
        "n = ((1,2,3),(1,2),(9,8))\n",
        "n[0][0]"
      ],
      "id": "oWooI-8K6uTw"
    },
    {
      "cell_type": "code",
      "execution_count": null,
      "metadata": {
        "colab": {
          "base_uri": "https://localhost:8080/"
        },
        "id": "ABu1CQZV69G6",
        "outputId": "2a733427-6d2d-4008-ede8-780932349769"
      },
      "outputs": [
        {
          "data": {
            "text/plain": [
              "tuple"
            ]
          },
          "execution_count": 40,
          "metadata": {},
          "output_type": "execute_result"
        }
      ],
      "source": [
        "# 17. Create a tuple with a single element.\n",
        "t=(1,)\n",
        "type(t)"
      ],
      "id": "ABu1CQZV69G6"
    },
    {
      "cell_type": "code",
      "execution_count": null,
      "metadata": {
        "colab": {
          "base_uri": "https://localhost:8080/"
        },
        "id": "fhcsW3cM6_Ms",
        "outputId": "dddf440b-726b-4e40-9fd4-3e7fab05d054"
      },
      "outputs": [
        {
          "data": {
            "text/plain": [
              "False"
            ]
          },
          "execution_count": 43,
          "metadata": {},
          "output_type": "execute_result"
        }
      ],
      "source": [
        "# 18. Compare two tuples.\n",
        "t = (1,2,3)\n",
        "t1 = (4,2,1,3)\n",
        "t ==t1"
      ],
      "id": "fhcsW3cM6_Ms"
    },
    {
      "cell_type": "code",
      "execution_count": null,
      "metadata": {
        "colab": {
          "base_uri": "https://localhost:8080/"
        },
        "id": "eGepPnSe6_JF",
        "outputId": "2cce0775-3c26-4d4c-f073-9274e614e9a1"
      },
      "outputs": [
        {
          "output_type": "stream",
          "name": "stdout",
          "text": [
            "name 't' is not defined\n"
          ]
        }
      ],
      "source": [
        "# 19. Delete a tuple.\n",
        "try:\n",
        "  t = (1,2,4)\n",
        "  del t\n",
        "  print(t)\n",
        "except Exception as e:\n",
        "  print(e)"
      ],
      "id": "eGepPnSe6_JF"
    },
    {
      "cell_type": "code",
      "execution_count": null,
      "metadata": {
        "colab": {
          "base_uri": "https://localhost:8080/"
        },
        "id": "WYK3gFET6_Eo",
        "outputId": "288c1799-b67e-4fec-9a3f-dd263d30a89c"
      },
      "outputs": [
        {
          "data": {
            "text/plain": [
              "(3, 5, 6, 7, 8, 9)"
            ]
          },
          "execution_count": 46,
          "metadata": {},
          "output_type": "execute_result"
        }
      ],
      "source": [
        "# 20. Slice a tuple.\n",
        "\n",
        "t = (1,2,3,5,6,7,8,9)\n",
        "t[2:]"
      ],
      "id": "WYK3gFET6_Eo"
    },
    {
      "cell_type": "code",
      "execution_count": null,
      "metadata": {
        "colab": {
          "base_uri": "https://localhost:8080/"
        },
        "id": "7Ttsj8VS6_Am",
        "outputId": "0555747b-c7ab-41d7-f9f1-3b040058d874"
      },
      "outputs": [
        {
          "data": {
            "text/plain": [
              "6"
            ]
          },
          "execution_count": 47,
          "metadata": {},
          "output_type": "execute_result"
        }
      ],
      "source": [
        "# 21. Find the maximum value in a tuple.\n",
        "t = (1,2,3,4,6)\n",
        "max(t)"
      ],
      "id": "7Ttsj8VS6_Am"
    },
    {
      "cell_type": "code",
      "execution_count": null,
      "metadata": {
        "colab": {
          "base_uri": "https://localhost:8080/"
        },
        "id": "ocGhph-T6-85",
        "outputId": "ec4f61fd-927b-46f9-aa97-9fc64c7a2994"
      },
      "outputs": [
        {
          "data": {
            "text/plain": [
              "1"
            ]
          },
          "execution_count": 48,
          "metadata": {},
          "output_type": "execute_result"
        }
      ],
      "source": [
        "# 22. Find the minimum value in a tuple.\n",
        "t = (1,2,3,4,5)\n",
        "min(t)"
      ],
      "id": "ocGhph-T6-85"
    },
    {
      "cell_type": "code",
      "execution_count": null,
      "metadata": {
        "colab": {
          "base_uri": "https://localhost:8080/"
        },
        "id": "AcnsSAfz6-5E",
        "outputId": "a6c6b7eb-27df-455f-f438-37e3cf4b5be0"
      },
      "outputs": [
        {
          "name": "stdout",
          "output_type": "stream",
          "text": [
            "('s', 'u', 'm', 'a', ' ', 'a', 'n', 'u', 's', 'h', 'a', ' ', 'r', 'e', 'd', 'd', 'y') "
          ]
        }
      ],
      "source": [
        "# 23. Convert a string to a tuple of characters\n",
        "s = \"suma anusha reddy\"\n",
        "l=[]\n",
        "for i in s:\n",
        "  l.append(i)\n",
        "print(tuple(l),end=\" \")"
      ],
      "id": "AcnsSAfz6-5E"
    },
    {
      "cell_type": "code",
      "execution_count": null,
      "metadata": {
        "colab": {
          "base_uri": "https://localhost:8080/",
          "height": 36
        },
        "id": "wEXrHXrB6-1U",
        "outputId": "463e4ca5-b703-497d-e4ee-c99859771df5"
      },
      "outputs": [
        {
          "data": {
            "application/vnd.google.colaboratory.intrinsic+json": {
              "type": "string"
            },
            "text/plain": [
              "' suma anusha reddy'"
            ]
          },
          "execution_count": 56,
          "metadata": {},
          "output_type": "execute_result"
        }
      ],
      "source": [
        "# 24. Convert a tuple of characters to a string.\n",
        "t = ('s', 'u', 'm', 'a', ' ', 'a', 'n', 'u', 's', 'h', 'a', ' ', 'r', 'e', 'd', 'd', 'y')\n",
        "s = \"\"\n",
        "for i in t:\n",
        "  s+=i\n",
        "s"
      ],
      "id": "wEXrHXrB6-1U"
    },
    {
      "cell_type": "code",
      "execution_count": null,
      "metadata": {
        "colab": {
          "base_uri": "https://localhost:8080/"
        },
        "id": "cv7vlPCf6-xj",
        "outputId": "a9efb8cd-f934-40b0-cb1c-c32c970188f1"
      },
      "outputs": [
        {
          "data": {
            "text/plain": [
              "tuple"
            ]
          },
          "execution_count": 58,
          "metadata": {},
          "output_type": "execute_result"
        }
      ],
      "source": [
        "# 25. Create a tuple from multiple data types.\n",
        "t = (1,2,\"suma\",5+6j,5.6)\n",
        "type(t)"
      ],
      "id": "cv7vlPCf6-xj"
    },
    {
      "cell_type": "code",
      "execution_count": null,
      "metadata": {
        "colab": {
          "base_uri": "https://localhost:8080/"
        },
        "id": "5EMlxCIE6-t3",
        "outputId": "4ceeaec6-3eb4-424c-f159-83bc1c99e1ea"
      },
      "outputs": [
        {
          "name": "stdout",
          "output_type": "stream",
          "text": [
            "not identical\n"
          ]
        }
      ],
      "source": [
        "# 26. Check if two tuples are identical.\n",
        "\n",
        "t1 = (1,2,3)\n",
        "t2 = (1,2,3,4)\n",
        "if t1==t2:\n",
        "  print(\"identical\")\n",
        "else:\n",
        "  print(\"not identical\")"
      ],
      "id": "5EMlxCIE6-t3"
    },
    {
      "cell_type": "code",
      "execution_count": null,
      "metadata": {
        "colab": {
          "base_uri": "https://localhost:8080/"
        },
        "id": "AzFu-wB_6-nN",
        "outputId": "8e91f2af-8af9-40c0-ea3f-df872e5a26b6"
      },
      "outputs": [
        {
          "name": "stdout",
          "output_type": "stream",
          "text": [
            "asc order (1, 2, 3, 3, 4, 5, 7, 8, 9, 30, 32, 121)\n",
            "desc order (121, 32, 30, 9, 8, 7, 5, 4, 3, 3, 2, 1)\n"
          ]
        }
      ],
      "source": [
        "# 27. Sort the elements of a tuple.\n",
        "t = (1,2,3,4,5,32,121,7,8,30,9,3,)\n",
        "a = list(t)\n",
        "a.sort()\n",
        "print(\"asc order\",tuple(a))\n",
        "a.sort(reverse = True)\n",
        "print(\"desc order\",tuple(a))"
      ],
      "id": "AzFu-wB_6-nN"
    },
    {
      "cell_type": "code",
      "execution_count": null,
      "metadata": {
        "colab": {
          "base_uri": "https://localhost:8080/"
        },
        "id": "_n8mbWLe6-j3",
        "outputId": "c3de93a0-7b55-4697-c6b9-9d0b0449be92"
      },
      "outputs": [
        {
          "data": {
            "text/plain": [
              "('1', '2', '3', '4', '5', '6')"
            ]
          },
          "execution_count": 73,
          "metadata": {},
          "output_type": "execute_result"
        }
      ],
      "source": [
        "# 28. Convert a tuple of integers to a tuple of strings\n",
        "t = (1,2,3,4,5,6)\n",
        "k = list(t)\n",
        "b=[]\n",
        "for i in k:\n",
        "  b.append(str(i))\n",
        "tuple(b)"
      ],
      "id": "_n8mbWLe6-j3"
    },
    {
      "cell_type": "code",
      "execution_count": null,
      "metadata": {
        "colab": {
          "base_uri": "https://localhost:8080/"
        },
        "id": "23D699c36-gk",
        "outputId": "8332303d-c876-4b7c-f99c-daa70e7d8d29"
      },
      "outputs": [
        {
          "data": {
            "text/plain": [
              "(1, 2, 3, 4, 5, 6)"
            ]
          },
          "execution_count": 74,
          "metadata": {},
          "output_type": "execute_result"
        }
      ],
      "source": [
        "# 29. Convert a tuple of strings to a tuple of integers.\n",
        "t = ('1', '2', '3', '4', '5', '6')\n",
        "k = list(t)\n",
        "b=[]\n",
        "for i in k:\n",
        "  b.append(int(i))\n",
        "tuple(b)\n"
      ],
      "id": "23D699c36-gk"
    },
    {
      "cell_type": "code",
      "execution_count": null,
      "metadata": {
        "colab": {
          "base_uri": "https://localhost:8080/"
        },
        "id": "Gs_SKM8H6-dP",
        "outputId": "aaf0ae9b-9788-490c-f0c2-059d39631646"
      },
      "outputs": [
        {
          "data": {
            "text/plain": [
              "(1, 2, 4, 'suma', 5.8)"
            ]
          },
          "execution_count": 75,
          "metadata": {},
          "output_type": "execute_result"
        }
      ],
      "source": [
        "# 30. Merge two tuples.\n",
        "t = (1,2,4)\n",
        "t1 = (\"suma\",5.8)\n",
        "t+t1"
      ],
      "id": "Gs_SKM8H6-dP"
    },
    {
      "cell_type": "code",
      "execution_count": null,
      "metadata": {
        "colab": {
          "base_uri": "https://localhost:8080/"
        },
        "id": "Ecitb1hE6-Zx",
        "outputId": "44d4107c-2eda-4e91-e247-bf503151d38c"
      },
      "outputs": [
        {
          "data": {
            "text/plain": [
              "(1, 2, 1, 2, 3, 1, 32, 11)"
            ]
          },
          "execution_count": 81,
          "metadata": {},
          "output_type": "execute_result"
        }
      ],
      "source": [
        "# 31. Flatten a nested tuple.\n",
        "l=[]\n",
        "def flat_nes_tuple(t):\n",
        "  for i in t:\n",
        "    if isinstance(i,tuple):\n",
        "      flat_nes_tuple(i)\n",
        "    else:\n",
        "      l.append(i)\n",
        "  return tuple(l)\n",
        "flat_nes_tuple((1,2,(1,2,3),1,32,11))\n",
        "\n"
      ],
      "id": "Ecitb1hE6-Zx"
    },
    {
      "cell_type": "code",
      "execution_count": null,
      "metadata": {
        "colab": {
          "base_uri": "https://localhost:8080/"
        },
        "id": "CRInuX5k6-Vm",
        "outputId": "1cffd695-b7f0-4908-df69-db5c1f7313fd"
      },
      "outputs": [
        {
          "data": {
            "text/plain": [
              "(2, 3, 5, 7, 11)"
            ]
          },
          "execution_count": 8,
          "metadata": {},
          "output_type": "execute_result"
        }
      ],
      "source": [
        "# 32. Create a tuple of the first 5 prime numbers.\n",
        "l=[2]\n",
        "n=123\n",
        "for i in range(3,n):\n",
        "  is_prime = True\n",
        "  for j in range(2,i):\n",
        "    if i%j==0:\n",
        "      is_prime = False\n",
        "      break\n",
        "      l.append(i)\n",
        "  if is_prime == True:\n",
        "        l.append(i)\n",
        "  if len(l)==5:\n",
        "    break\n",
        "tuple(l)\n"
      ],
      "id": "CRInuX5k6-Vm"
    },
    {
      "cell_type": "code",
      "execution_count": null,
      "metadata": {
        "colab": {
          "base_uri": "https://localhost:8080/"
        },
        "id": "w2hJkz1o6-QP",
        "outputId": "0f6b27ea-38ec-4c9f-b390-75fdc7cf0d50"
      },
      "outputs": [
        {
          "name": "stdout",
          "output_type": "stream",
          "text": [
            "not palindrome\n"
          ]
        }
      ],
      "source": [
        "# 33. Check if a tuple is a palindrome\n",
        "t=(1,2,1,4)\n",
        "k = t[::-1]\n",
        "if t==k:\n",
        "  print(\"palindrome\")\n",
        "else:\n",
        "  print(\"not palindrome\")"
      ],
      "id": "w2hJkz1o6-QP"
    },
    {
      "cell_type": "code",
      "execution_count": null,
      "metadata": {
        "colab": {
          "base_uri": "https://localhost:8080/"
        },
        "id": "y3MI4WNT6-M0",
        "outputId": "85090e0a-0a57-44eb-d164-b28100019b36"
      },
      "outputs": [
        {
          "data": {
            "text/plain": [
              "(1, 4, 9, 16, 25)"
            ]
          },
          "execution_count": 15,
          "metadata": {},
          "output_type": "execute_result"
        }
      ],
      "source": [
        "# 34. Create a tuple of squares of numbers from 1 to 5.\n",
        "t = (1,2,3,4,5,)\n",
        "l=[]\n",
        "for i in t:\n",
        "  l.append(i**2)\n",
        "tuple(l)\n",
        "\n"
      ],
      "id": "y3MI4WNT6-M0"
    },
    {
      "cell_type": "code",
      "execution_count": null,
      "metadata": {
        "colab": {
          "base_uri": "https://localhost:8080/"
        },
        "id": "lS5RO8NY6-Jo",
        "outputId": "c801ac7b-d0c8-4e0d-8e85-950ca66306dc"
      },
      "outputs": [
        {
          "name": "stdout",
          "output_type": "stream",
          "text": [
            "2\n",
            "4\n",
            "6\n",
            "8\n",
            "10\n"
          ]
        }
      ],
      "source": [
        "# 35. Filter out all even numbers from a tuple.\n",
        "\n",
        "t = (1,2,4,3,5,6,7,8,9,10)\n",
        "for i in t:\n",
        "  if i%2==0:\n",
        "    print(i)"
      ],
      "id": "lS5RO8NY6-Jo"
    },
    {
      "cell_type": "code",
      "execution_count": null,
      "metadata": {
        "colab": {
          "base_uri": "https://localhost:8080/"
        },
        "id": "ldCd2H4v6-Fr",
        "outputId": "8f2763eb-6684-4157-9505-cf6625223333"
      },
      "outputs": [
        {
          "data": {
            "text/plain": [
              "(2, 4, 6, 8, 10)"
            ]
          },
          "execution_count": 19,
          "metadata": {},
          "output_type": "execute_result"
        }
      ],
      "source": [
        "t = (1,2,4,3,5,6,7,8,9,10)\n",
        "tuple(filter(lambda a: a%2==0,t))"
      ],
      "id": "ldCd2H4v6-Fr"
    },
    {
      "cell_type": "code",
      "execution_count": null,
      "metadata": {
        "colab": {
          "base_uri": "https://localhost:8080/"
        },
        "id": "6lKY8hOg6-CY",
        "outputId": "b866060f-32f1-4203-bdbe-eca183d7662b"
      },
      "outputs": [
        {
          "data": {
            "text/plain": [
              "(93, 12, 105)"
            ]
          },
          "execution_count": 22,
          "metadata": {},
          "output_type": "execute_result"
        }
      ],
      "source": [
        "# 37. Create a tuple of random numbers.\n",
        "\n",
        "import random\n",
        "tuple(random.sample(range(1,123),3))"
      ],
      "id": "6lKY8hOg6-CY"
    },
    {
      "cell_type": "code",
      "execution_count": null,
      "metadata": {
        "colab": {
          "base_uri": "https://localhost:8080/"
        },
        "id": "6Cj2eVjo69-9",
        "outputId": "1ce207f6-675b-4797-c82d-1ddf1beefc93"
      },
      "outputs": [
        {
          "data": {
            "text/plain": [
              "False"
            ]
          },
          "execution_count": 23,
          "metadata": {},
          "output_type": "execute_result"
        }
      ],
      "source": [
        "# 38. Check if a tuple is sorted.\n",
        "l = (1,2,21,5,6,4)\n",
        "\n",
        "def sorting(l):\n",
        "  for i in l:\n",
        "    if i>i+1:\n",
        "      return True\n",
        "    else:\n",
        "      return False\n",
        "\n",
        "sorting((1,2,21,5,6,4))"
      ],
      "id": "6Cj2eVjo69-9"
    },
    {
      "cell_type": "code",
      "execution_count": null,
      "metadata": {
        "colab": {
          "base_uri": "https://localhost:8080/"
        },
        "id": "l2jEcQlD697J",
        "outputId": "cb4dbb21-bfbc-4808-e9ae-4257aa8ef094"
      },
      "outputs": [
        {
          "name": "stdout",
          "output_type": "stream",
          "text": [
            "2\n"
          ]
        },
        {
          "data": {
            "text/plain": [
              "(4, 3, 5, 6, 1, 2)"
            ]
          },
          "execution_count": 24,
          "metadata": {},
          "output_type": "execute_result"
        }
      ],
      "source": [
        "# 39. Rotate a tuple to the left by `n` positions.\n",
        "n=int(input())\n",
        "t = (1,2,4,3,5,6)\n",
        "t[n:]+t[:n]"
      ],
      "id": "l2jEcQlD697J"
    },
    {
      "cell_type": "code",
      "execution_count": null,
      "metadata": {
        "colab": {
          "base_uri": "https://localhost:8080/"
        },
        "id": "IdrIVMqY6937",
        "outputId": "c72c256c-aa0a-4450-8532-9bfc0ae7676a"
      },
      "outputs": [
        {
          "name": "stdout",
          "output_type": "stream",
          "text": [
            "2\n"
          ]
        },
        {
          "data": {
            "text/plain": [
              "(5, 6, 4, 3, 5, 6)"
            ]
          },
          "execution_count": 31,
          "metadata": {},
          "output_type": "execute_result"
        }
      ],
      "source": [
        "#40. Rotate a tuple to the right by `n` positions.\n",
        "n=int(input())\n",
        "t = (1,2,4,3,5,6)\n",
        "t[-n:]+t[n:]"
      ],
      "id": "IdrIVMqY6937"
    },
    {
      "cell_type": "code",
      "execution_count": null,
      "metadata": {
        "colab": {
          "base_uri": "https://localhost:8080/"
        },
        "id": "6lN5Rii1690v",
        "outputId": "5ecc7907-ac0b-49b9-a799-e37c3efab767"
      },
      "outputs": [
        {
          "data": {
            "text/plain": [
              "(0, 1, 1, 2, 3)"
            ]
          },
          "execution_count": 35,
          "metadata": {},
          "output_type": "execute_result"
        }
      ],
      "source": [
        "# 41. Create a tuple of the first 5 Fibonacci numbers.\n",
        "a,b = 0,1\n",
        "l1 =[0,1]\n",
        "n = 10\n",
        "for i in range(1,4):\n",
        "  c=a+b\n",
        "  l1.append(c)\n",
        "  a,b=b,c\n",
        "tuple(l1)"
      ],
      "id": "6lN5Rii1690v"
    },
    {
      "cell_type": "code",
      "execution_count": null,
      "metadata": {
        "colab": {
          "base_uri": "https://localhost:8080/"
        },
        "id": "6WVTMJqd69xT",
        "outputId": "ab2f47a1-5134-4ea8-d3f0-5eb41b983c15"
      },
      "outputs": [
        {
          "name": "stdout",
          "output_type": "stream",
          "text": [
            "enter list of strings:suma anusha abbireddy reddy\n"
          ]
        },
        {
          "data": {
            "text/plain": [
              "('suma', 'anusha', 'abbireddy', 'reddy')"
            ]
          },
          "execution_count": 36,
          "metadata": {},
          "output_type": "execute_result"
        }
      ],
      "source": [
        "# 42. Create a tuple from user input\n",
        "t = input(\"enter list of strings:\")\n",
        "k = t.split()\n",
        "tuple(k)\n"
      ],
      "id": "6WVTMJqd69xT"
    },
    {
      "cell_type": "code",
      "execution_count": null,
      "metadata": {
        "colab": {
          "base_uri": "https://localhost:8080/"
        },
        "id": "IwU3XCi469td",
        "outputId": "af9a6e80-09d4-46ed-c1d8-8d8216ac645f"
      },
      "outputs": [
        {
          "name": "stdout",
          "output_type": "stream",
          "text": [
            "enter index of first element to swap:2\n",
            "enter index of second element to swap:3\n"
          ]
        },
        {
          "data": {
            "text/plain": [
              "(1, 2, 4, 3, 5, 6)"
            ]
          },
          "execution_count": 38,
          "metadata": {},
          "output_type": "execute_result"
        }
      ],
      "source": [
        "# 43. Swap two elements in a tuple.\n",
        "n1 = int(input(\"enter index of first element to swap:\"))\n",
        "n2 = int(input(\"enter index of second element to swap:\"))\n",
        "t = (1,2,3,4,5,6)\n",
        "l = list(t)\n",
        "l[n1],l[n2] = l[n2],l[n1]\n",
        "tuple(l)"
      ],
      "id": "IwU3XCi469td"
    },
    {
      "cell_type": "code",
      "execution_count": null,
      "metadata": {
        "colab": {
          "base_uri": "https://localhost:8080/"
        },
        "id": "ubm2smuh69qS",
        "outputId": "bce68f7b-b341-4e8c-ec11-7f67d0d59815"
      },
      "outputs": [
        {
          "data": {
            "text/plain": [
              "(6, 5, 4, 3, 2, 1)"
            ]
          },
          "execution_count": 39,
          "metadata": {},
          "output_type": "execute_result"
        }
      ],
      "source": [
        "# 44. Reverse the elements of a tuple.\n",
        "\n",
        "t = (1,2,3,4,5,6)\n",
        "k = list(t)\n",
        "tuple(k[::-1])"
      ],
      "id": "ubm2smuh69qS"
    },
    {
      "cell_type": "code",
      "execution_count": null,
      "metadata": {
        "colab": {
          "base_uri": "https://localhost:8080/"
        },
        "id": "YGuMKIOebM_M",
        "outputId": "151fb045-54d6-4ef3-9516-f6ef58b6833d"
      },
      "outputs": [
        {
          "name": "stdout",
          "output_type": "stream",
          "text": [
            "8\n"
          ]
        },
        {
          "data": {
            "text/plain": [
              "(2, 4, 8, 16, 32, 64, 128, 256)"
            ]
          },
          "execution_count": 41,
          "metadata": {},
          "output_type": "execute_result"
        }
      ],
      "source": [
        "# 45. Create a tuple of the first `n` powers of 2.\n",
        "n=int(input())\n",
        "l=[]\n",
        "for i in range(1,n+1):\n",
        "  l.append(2**(i))\n",
        "tuple(l)"
      ],
      "id": "YGuMKIOebM_M"
    },
    {
      "cell_type": "code",
      "execution_count": null,
      "metadata": {
        "colab": {
          "base_uri": "https://localhost:8080/",
          "height": 36
        },
        "id": "7mgW2mJHbfNi",
        "outputId": "2c59de76-ee8a-40ca-aa73-5cb8c15aff42"
      },
      "outputs": [
        {
          "data": {
            "application/vnd.google.colaboratory.intrinsic+json": {
              "type": "string"
            },
            "text/plain": [
              "'abbireddy'"
            ]
          },
          "execution_count": 42,
          "metadata": {},
          "output_type": "execute_result"
        }
      ],
      "source": [
        "# 46. Find the longest string in a tuple of strings.\n",
        "l = (\"suma\",\"anusha\",\"abbireddy\")\n",
        "l1=[]\n",
        "for i in l:\n",
        "  l1.append(len(i))\n",
        "d = dict(zip(l,l1))\n",
        "max_str = max(d, key=lambda k: d[k])\n",
        "max_str"
      ],
      "id": "7mgW2mJHbfNi"
    },
    {
      "cell_type": "code",
      "execution_count": null,
      "metadata": {
        "colab": {
          "base_uri": "https://localhost:8080/",
          "height": 36
        },
        "id": "-G_pJ550byf9",
        "outputId": "5a248327-cc8c-40ac-affe-2766213f688b"
      },
      "outputs": [
        {
          "data": {
            "application/vnd.google.colaboratory.intrinsic+json": {
              "type": "string"
            },
            "text/plain": [
              "'suma'"
            ]
          },
          "execution_count": 43,
          "metadata": {},
          "output_type": "execute_result"
        }
      ],
      "source": [
        "# 47. Find the shortest string in a tuple of strings.\n",
        "l = (\"suma\",\"anusha\",\"abbireddy\")\n",
        "l1=[]\n",
        "for i in l:\n",
        "  l1.append(len(i))\n",
        "d = dict(zip(l,l1))\n",
        "min_str = min(d, key=lambda k: d[k])\n",
        "min_str"
      ],
      "id": "-G_pJ550byf9"
    },
    {
      "cell_type": "code",
      "execution_count": null,
      "metadata": {
        "colab": {
          "base_uri": "https://localhost:8080/"
        },
        "id": "P2QwPZTQb0Tv",
        "outputId": "7ddb57a2-0e90-4983-8463-e56362acaa5e"
      },
      "outputs": [
        {
          "data": {
            "text/plain": [
              "(1, 3, 6, 10, 15)"
            ]
          },
          "execution_count": 45,
          "metadata": {},
          "output_type": "execute_result"
        }
      ],
      "source": [
        "# 48. Create a tuple of the first `n` triangular numbers.\n",
        "def generate_triangular_numbers(n):\n",
        "    triangular_numbers = []\n",
        "    total = 0\n",
        "\n",
        "    for i in range(1, n + 1):\n",
        "        total += i\n",
        "        triangular_numbers.append(total)\n",
        "\n",
        "    return tuple(triangular_numbers)\n",
        "generate_triangular_numbers(5)"
      ],
      "id": "P2QwPZTQb0Tv"
    },
    {
      "cell_type": "code",
      "execution_count": null,
      "metadata": {
        "colab": {
          "base_uri": "https://localhost:8080/"
        },
        "id": "bUhUw3X7b0QR",
        "outputId": "cf261b0d-dd6f-4d73-e498-2190a2bed222"
      },
      "outputs": [
        {
          "output_type": "execute_result",
          "data": {
            "text/plain": [
              "True"
            ]
          },
          "metadata": {},
          "execution_count": 23
        }
      ],
      "source": [
        "# 49. Check if a tuple contains another tuple as a subsequence.\n",
        "\n",
        "larger_tuple = set((1, 2, 3, 4, 5, 6, 7))\n",
        "smaller_tuple = set((3, 4, 5))\n",
        "\n",
        "smaller_tuple.issubset(larger_tuple)\n",
        "\n",
        "\n"
      ],
      "id": "bUhUw3X7b0QR"
    },
    {
      "cell_type": "code",
      "execution_count": null,
      "metadata": {
        "colab": {
          "base_uri": "https://localhost:8080/"
        },
        "id": "o8t6m2nbb0Mh",
        "outputId": "11835183-d69e-4139-cee0-4fb675a5b568"
      },
      "outputs": [
        {
          "data": {
            "text/plain": [
              "(1, 0, 1, 0, 1, 0, 1, 0, 1, 0)"
            ]
          },
          "execution_count": 48,
          "metadata": {},
          "output_type": "execute_result"
        }
      ],
      "source": [
        "# 50. Create a tuple of alternating 1s and 0s of length `n\n",
        "n = 10  #\n",
        "alternating_tuple = tuple(1 if i % 2 == 0 else 0 for i in range(n))\n",
        "alternating_tuple"
      ],
      "id": "o8t6m2nbb0Mh"
    },
    {
      "cell_type": "code",
      "execution_count": null,
      "metadata": {
        "id": "6MNbLC_fb0JM"
      },
      "outputs": [],
      "source": [],
      "id": "6MNbLC_fb0JM"
    },
    {
      "cell_type": "code",
      "execution_count": null,
      "metadata": {
        "colab": {
          "base_uri": "https://localhost:8080/"
        },
        "id": "ojxhX2qtb0Gp",
        "outputId": "5d214673-577d-45b1-de71-e8fe7eb116f6"
      },
      "outputs": [
        {
          "data": {
            "text/plain": [
              "set"
            ]
          },
          "execution_count": 49,
          "metadata": {},
          "output_type": "execute_result"
        }
      ],
      "source": [
        "# 1. Create a set with integers from 1 to 5.\n",
        "s = {1,2,3,4,5}\n",
        "type(s)"
      ],
      "id": "ojxhX2qtb0Gp"
    },
    {
      "cell_type": "code",
      "execution_count": null,
      "metadata": {
        "colab": {
          "base_uri": "https://localhost:8080/"
        },
        "id": "TnCT3CkKb0Dj",
        "outputId": "cccfeeb4-6ea4-488b-db00-9ac1d9985794"
      },
      "outputs": [
        {
          "data": {
            "text/plain": [
              "{1, 2, 3, 4, 5, 'suma'}"
            ]
          },
          "execution_count": 51,
          "metadata": {},
          "output_type": "execute_result"
        }
      ],
      "source": [
        "# 2. Add an element to a set.\n",
        "s.add(\"suma\")\n",
        "s"
      ],
      "id": "TnCT3CkKb0Dj"
    },
    {
      "cell_type": "code",
      "execution_count": null,
      "metadata": {
        "colab": {
          "base_uri": "https://localhost:8080/"
        },
        "id": "dcDTWy8Ibz-S",
        "outputId": "7ca3dc75-b326-4a1e-cd51-f55510a20508"
      },
      "outputs": [
        {
          "data": {
            "text/plain": [
              "{2, 3, 4}"
            ]
          },
          "execution_count": 53,
          "metadata": {},
          "output_type": "execute_result"
        }
      ],
      "source": [
        "# 3. Remove an element from a set.\n",
        "a = {1,2,3,4}\n",
        "a.discard(1)\n",
        "a"
      ],
      "id": "dcDTWy8Ibz-S"
    },
    {
      "cell_type": "code",
      "execution_count": null,
      "metadata": {
        "colab": {
          "base_uri": "https://localhost:8080/"
        },
        "id": "CraYkxewbz7K",
        "outputId": "555886c6-ea47-489c-ddce-38215fc52929"
      },
      "outputs": [
        {
          "data": {
            "text/plain": [
              "False"
            ]
          },
          "execution_count": 54,
          "metadata": {},
          "output_type": "execute_result"
        }
      ],
      "source": [
        "# 4. Check if an element exists in a set.\n",
        "t=(1,2,3)\n",
        "5 in t"
      ],
      "id": "CraYkxewbz7K"
    },
    {
      "cell_type": "code",
      "execution_count": null,
      "metadata": {
        "colab": {
          "base_uri": "https://localhost:8080/"
        },
        "id": "9lK8R2Fibz33",
        "outputId": "9be3f6f8-9c6c-432d-bfa9-896619e5090a"
      },
      "outputs": [
        {
          "data": {
            "text/plain": [
              "7"
            ]
          },
          "execution_count": 55,
          "metadata": {},
          "output_type": "execute_result"
        }
      ],
      "source": [
        "# 5. Find the length of a set without using the `len()` function.\n",
        "t = {1,2,3,4,5,6,7}\n",
        "length = 0\n",
        "for i in  t:\n",
        "  length+=1\n",
        "length"
      ],
      "id": "9lK8R2Fibz33"
    },
    {
      "cell_type": "code",
      "execution_count": null,
      "metadata": {
        "colab": {
          "base_uri": "https://localhost:8080/"
        },
        "id": "Jq3mxwPSbz0z",
        "outputId": "1b925a9e-5e51-45c5-e0bc-151edcab30de"
      },
      "outputs": [
        {
          "data": {
            "text/plain": [
              "set()"
            ]
          },
          "execution_count": 57,
          "metadata": {},
          "output_type": "execute_result"
        }
      ],
      "source": [
        "# 6. Clear all elements from a set.\n",
        "t={1,2,34,4}\n",
        "t.clear()\n",
        "t"
      ],
      "id": "Jq3mxwPSbz0z"
    },
    {
      "cell_type": "code",
      "execution_count": null,
      "metadata": {
        "colab": {
          "base_uri": "https://localhost:8080/"
        },
        "id": "-uaOg3O4bzxw",
        "outputId": "9127fe1a-282e-4938-ddcb-5f74bebbf4d6"
      },
      "outputs": [
        {
          "data": {
            "text/plain": [
              "{2, 4, 6, 8, 10}"
            ]
          },
          "execution_count": 58,
          "metadata": {},
          "output_type": "execute_result"
        }
      ],
      "source": [
        "# 7. Create a set of even numbers from 1 to 10.\n",
        "l=[]\n",
        "for i in range(1,11):\n",
        "  if i%2==0:\n",
        "    l.append(i)\n",
        "set(l)"
      ],
      "id": "-uaOg3O4bzxw"
    },
    {
      "cell_type": "code",
      "execution_count": null,
      "metadata": {
        "colab": {
          "base_uri": "https://localhost:8080/"
        },
        "id": "_5K_yrCBbzu8",
        "outputId": "acb95d06-c735-4082-d083-eb1c11a80022"
      },
      "outputs": [
        {
          "data": {
            "text/plain": [
              "{1, 3, 5, 7, 9}"
            ]
          },
          "execution_count": 59,
          "metadata": {},
          "output_type": "execute_result"
        }
      ],
      "source": [
        "# 8. Create a set of odd numbers from 1 to 10.\n",
        "l=[]\n",
        "for i in range(1,11):\n",
        "  if i%2!=0:\n",
        "    l.append(i)\n",
        "set(l)"
      ],
      "id": "_5K_yrCBbzu8"
    },
    {
      "cell_type": "code",
      "execution_count": null,
      "metadata": {
        "colab": {
          "base_uri": "https://localhost:8080/"
        },
        "id": "gsM4Rg_qbzsF",
        "outputId": "036879d0-0bad-45eb-85b2-9b12f43c939a"
      },
      "outputs": [
        {
          "data": {
            "text/plain": [
              "{1, 2, 3, 4, 5, 6, 7}"
            ]
          },
          "execution_count": 61,
          "metadata": {},
          "output_type": "execute_result"
        }
      ],
      "source": [
        "# 9. Find the union of two sets.\n",
        "s = {1,2,3}\n",
        "s1 = {4,5,6,7}\n",
        "s.union(s1)"
      ],
      "id": "gsM4Rg_qbzsF"
    },
    {
      "cell_type": "code",
      "execution_count": null,
      "metadata": {
        "colab": {
          "base_uri": "https://localhost:8080/"
        },
        "id": "nRLcH9rqbzo4",
        "outputId": "c26036f5-403e-4b1d-e226-f495c7ab1862"
      },
      "outputs": [
        {
          "data": {
            "text/plain": [
              "set()"
            ]
          },
          "execution_count": 63,
          "metadata": {},
          "output_type": "execute_result"
        }
      ],
      "source": [
        "# 10. Find the intersection of two sets.\n",
        "s = {1,2,3}\n",
        "s1 = {4,5,6,7}\n",
        "s.intersection(s1)"
      ],
      "id": "nRLcH9rqbzo4"
    },
    {
      "cell_type": "code",
      "execution_count": null,
      "metadata": {
        "colab": {
          "base_uri": "https://localhost:8080/"
        },
        "id": "3v6p1E7_bzlz",
        "outputId": "a86066e1-2b11-42a3-99c0-78a84366aec2"
      },
      "outputs": [
        {
          "data": {
            "text/plain": [
              "{1, 2, 3}"
            ]
          },
          "execution_count": 65,
          "metadata": {},
          "output_type": "execute_result"
        }
      ],
      "source": [
        "# 11. Find the difference between two sets.\n",
        "s = {1,2,3}\n",
        "s1 = {4,5,6,7}\n",
        "s.difference(s1)"
      ],
      "id": "3v6p1E7_bzlz"
    },
    {
      "cell_type": "code",
      "execution_count": null,
      "metadata": {
        "colab": {
          "base_uri": "https://localhost:8080/"
        },
        "id": "bUxixwI5bzjJ",
        "outputId": "11c7a11a-6be5-4632-fea9-59ed1d229fa2"
      },
      "outputs": [
        {
          "data": {
            "text/plain": [
              "True"
            ]
          },
          "execution_count": 66,
          "metadata": {},
          "output_type": "execute_result"
        }
      ],
      "source": [
        "# 12. Check if a set is a subset of another set.\n",
        "s = {1,2,3}\n",
        "s1={1,2,4,3,32,12,9,0}\n",
        "s.issubset(s1)"
      ],
      "id": "bUxixwI5bzjJ"
    },
    {
      "cell_type": "code",
      "execution_count": null,
      "metadata": {
        "colab": {
          "base_uri": "https://localhost:8080/"
        },
        "id": "kRAS1YOAbzgX",
        "outputId": "4da51286-1bbd-432e-b68e-14d376c8e0e9"
      },
      "outputs": [
        {
          "data": {
            "text/plain": [
              "False"
            ]
          },
          "execution_count": 67,
          "metadata": {},
          "output_type": "execute_result"
        }
      ],
      "source": [
        "# 13. Check if a set is a superset of another set.\n",
        "s = {1,2,3}\n",
        "s1={1,2,4,3,32,12,9,0}\n",
        "s.issuperset(s1)"
      ],
      "id": "kRAS1YOAbzgX"
    },
    {
      "cell_type": "code",
      "execution_count": null,
      "metadata": {
        "colab": {
          "base_uri": "https://localhost:8080/"
        },
        "id": "4n8yksncbzd1",
        "outputId": "40d1b995-ae13-488b-fd6b-587f96c8b6c7"
      },
      "outputs": [
        {
          "data": {
            "text/plain": [
              "True"
            ]
          },
          "execution_count": 68,
          "metadata": {},
          "output_type": "execute_result"
        }
      ],
      "source": [
        "s1.issuperset(s1)"
      ],
      "id": "4n8yksncbzd1"
    },
    {
      "cell_type": "code",
      "execution_count": null,
      "metadata": {
        "colab": {
          "base_uri": "https://localhost:8080/"
        },
        "id": "Q84JKe--bza7",
        "outputId": "4394ca63-01c4-4d5b-8456-4630c1b48986"
      },
      "outputs": [
        {
          "data": {
            "text/plain": [
              "{1, 2, 3, 4, 5, 6, 7, 8, 9, 10}"
            ]
          },
          "execution_count": 70,
          "metadata": {},
          "output_type": "execute_result"
        }
      ],
      "source": [
        "# 14. Create a set from a list\n",
        "l =[1,2,3,4,5,6,7,8,9,10]\n",
        "set(l)"
      ],
      "id": "Q84JKe--bza7"
    },
    {
      "cell_type": "code",
      "execution_count": null,
      "metadata": {
        "colab": {
          "base_uri": "https://localhost:8080/"
        },
        "id": "8aWtKCA4bzWp",
        "outputId": "cd0fa146-9c51-45b4-8a9e-d914aa961422"
      },
      "outputs": [
        {
          "data": {
            "text/plain": [
              "[1, 2, 3, 4, 5, 6, 7, 8, 9, 10]"
            ]
          },
          "execution_count": 71,
          "metadata": {},
          "output_type": "execute_result"
        }
      ],
      "source": [
        "# 15. Convert a set to a list\n",
        "list(l)"
      ],
      "id": "8aWtKCA4bzWp"
    },
    {
      "cell_type": "code",
      "execution_count": null,
      "metadata": {
        "colab": {
          "base_uri": "https://localhost:8080/"
        },
        "id": "4RGEAnZRbzTY",
        "outputId": "bd53b7e8-d738-49e5-ff85-f62410a6a37c"
      },
      "outputs": [
        {
          "output_type": "execute_result",
          "data": {
            "text/plain": [
              "{1, 3, 4, 5, 6, 7, 8, 9, 10}"
            ]
          },
          "metadata": {},
          "execution_count": 5
        }
      ],
      "source": [
        "# 16. Remove a random element from a set.\n",
        "import random\n",
        "s = {1,2,3,4,5,6,7,8,9,10}\n",
        "l = list(s)\n",
        "r = random.choice(l)\n",
        "l.remove(r)\n",
        "set(l)"
      ],
      "id": "4RGEAnZRbzTY"
    },
    {
      "cell_type": "code",
      "source": [
        "# 17. Pop an element from a set\n",
        "s = {1,2,3,4,5,6,7,8,9,10}\n",
        "s.pop()\n",
        "s"
      ],
      "metadata": {
        "colab": {
          "base_uri": "https://localhost:8080/"
        },
        "id": "T1mhAVawKPCF",
        "outputId": "78d0b1b0-cbc5-4c1f-df89-c46abb276509"
      },
      "id": "T1mhAVawKPCF",
      "execution_count": null,
      "outputs": [
        {
          "output_type": "execute_result",
          "data": {
            "text/plain": [
              "{2, 3, 4, 5, 6, 7, 8, 9, 10}"
            ]
          },
          "metadata": {},
          "execution_count": 7
        }
      ]
    },
    {
      "cell_type": "code",
      "source": [
        "# 18. Check if two sets have no elements in common.\n",
        "s1 = {1,2,3,4,5,6,7,8,9}\n",
        "s={0,11,12,13,}\n",
        "s.isdisjoint(s1)"
      ],
      "metadata": {
        "colab": {
          "base_uri": "https://localhost:8080/"
        },
        "id": "rUaj1Ir4K4yq",
        "outputId": "50c1179b-51da-45bd-f7ac-bb8868ae938d"
      },
      "id": "rUaj1Ir4K4yq",
      "execution_count": null,
      "outputs": [
        {
          "output_type": "execute_result",
          "data": {
            "text/plain": [
              "True"
            ]
          },
          "metadata": {},
          "execution_count": 12
        }
      ]
    },
    {
      "cell_type": "code",
      "source": [
        "# 19. Find the symmetric difference between two sets.\n",
        "\n",
        "# represents the set of elements that are in either of the two sets but not in their intersection\n",
        "\n",
        "set1 = {1, 2, 3, 4}\n",
        "set2 = {3, 4, 5, 6}\n",
        "\n",
        "symmetric_diff = set1.symmetric_difference(set2)\n",
        "# or\n",
        "# symmetric_diff = set1 ^ set2\n",
        "\n",
        "print(symmetric_diff)\n"
      ],
      "metadata": {
        "colab": {
          "base_uri": "https://localhost:8080/"
        },
        "id": "UO_HPWkuLgVj",
        "outputId": "4218fb1e-c653-49c2-8e32-9a3d60ab53d4"
      },
      "id": "UO_HPWkuLgVj",
      "execution_count": null,
      "outputs": [
        {
          "output_type": "stream",
          "name": "stdout",
          "text": [
            "{1, 2, 5, 6}\n"
          ]
        }
      ]
    },
    {
      "cell_type": "code",
      "source": [
        "# 20. Update a set with elements from another set.\n",
        "\n",
        "\n",
        "set1 = {1, 2, 3}\n",
        "set2 = {3, 4, 5}\n",
        "\n",
        "# Update set1 with elements from set2 using the update() method\n",
        "set1.update(set2)\n",
        "\n",
        "# or\n",
        "# set1 |= set2\n",
        "\n",
        "# Print the updated set1\n",
        "print(set1)\n"
      ],
      "metadata": {
        "colab": {
          "base_uri": "https://localhost:8080/"
        },
        "id": "eWQcwa_vMiKb",
        "outputId": "97c0f7dd-aa9a-456e-90e4-970ee56d192f"
      },
      "id": "eWQcwa_vMiKb",
      "execution_count": null,
      "outputs": [
        {
          "output_type": "stream",
          "name": "stdout",
          "text": [
            "{1, 2, 3, 4, 5}\n"
          ]
        }
      ]
    },
    {
      "cell_type": "code",
      "source": [
        "# 21. Create a set of the first 5 prime numbers.\n",
        "l=[2]\n",
        "n=123\n",
        "for i in range(3,n):\n",
        "  is_prime = True\n",
        "  for j in range(2,i):\n",
        "    if i%j==0:\n",
        "      is_prime = False\n",
        "      break\n",
        "      l.append(i)\n",
        "  if is_prime == True:\n",
        "        l.append(i)\n",
        "  if len(l)==5:\n",
        "    break\n",
        "set(l)"
      ],
      "metadata": {
        "colab": {
          "base_uri": "https://localhost:8080/"
        },
        "id": "grRxRcgoMkX2",
        "outputId": "d006407a-66ab-4c0d-b6a0-f81f74fdf7c5"
      },
      "id": "grRxRcgoMkX2",
      "execution_count": null,
      "outputs": [
        {
          "output_type": "execute_result",
          "data": {
            "text/plain": [
              "{2, 3, 5, 7, 11}"
            ]
          },
          "metadata": {},
          "execution_count": 17
        }
      ]
    },
    {
      "cell_type": "code",
      "source": [
        "# 22. Check if two sets are identical.\n",
        "s = {1,2,4}\n",
        "s1 = {1,2,4}\n",
        "if s==s1:\n",
        "  print(\"identical\")\n",
        "else:\n",
        "  print(\"not identical\")"
      ],
      "metadata": {
        "colab": {
          "base_uri": "https://localhost:8080/"
        },
        "id": "ihznEpgOMkUT",
        "outputId": "b65f37d3-1611-42b3-e5a2-1ad2027aab8a"
      },
      "id": "ihznEpgOMkUT",
      "execution_count": null,
      "outputs": [
        {
          "output_type": "stream",
          "name": "stdout",
          "text": [
            "identical\n"
          ]
        }
      ]
    },
    {
      "cell_type": "code",
      "source": [
        "# 23. Create a frozen set.\n",
        "\n",
        "# frozen set is an immutable version of a set, which means that once it's created, you cannot modify its elements (add or remove elements).\n",
        "s={1,2,3,4,5,6}\n",
        "k = frozenset(s)\n",
        "k"
      ],
      "metadata": {
        "colab": {
          "base_uri": "https://localhost:8080/"
        },
        "id": "OA7-GSTsMkRW",
        "outputId": "162574e1-186b-4e42-90da-1f5a3ec2aada"
      },
      "id": "OA7-GSTsMkRW",
      "execution_count": null,
      "outputs": [
        {
          "output_type": "execute_result",
          "data": {
            "text/plain": [
              "frozenset({1, 2, 3, 4, 5, 6})"
            ]
          },
          "metadata": {},
          "execution_count": 20
        }
      ]
    },
    {
      "cell_type": "code",
      "source": [
        "# 24. Check if a set is disjoint with another set.\n",
        "s = {1,2,4}\n",
        "s1 = {1,2,4}\n",
        "s.isdisjoint(s1)"
      ],
      "metadata": {
        "colab": {
          "base_uri": "https://localhost:8080/"
        },
        "id": "OqYmRqvSMkN-",
        "outputId": "d9dee8ad-ccf3-4793-8cf0-f0f5e9e0588b"
      },
      "id": "OqYmRqvSMkN-",
      "execution_count": null,
      "outputs": [
        {
          "output_type": "execute_result",
          "data": {
            "text/plain": [
              "False"
            ]
          },
          "metadata": {},
          "execution_count": 21
        }
      ]
    },
    {
      "cell_type": "code",
      "source": [
        "# 25. Create a set of squares of numbers from 1 to 5.\n",
        "s = {1,2,3,4,5}\n",
        "l=[]\n",
        "for i in s:\n",
        "  l.append(i**2)\n",
        "set(l)"
      ],
      "metadata": {
        "colab": {
          "base_uri": "https://localhost:8080/"
        },
        "id": "8ulKfLLpMkKx",
        "outputId": "7eee8830-3e3b-4112-863d-bef60f233817"
      },
      "id": "8ulKfLLpMkKx",
      "execution_count": null,
      "outputs": [
        {
          "output_type": "execute_result",
          "data": {
            "text/plain": [
              "{1, 4, 9, 16, 25}"
            ]
          },
          "metadata": {},
          "execution_count": 22
        }
      ]
    },
    {
      "cell_type": "code",
      "source": [
        "# 26. Filter out all even numbers from a set.\n",
        "s = {1,2,3,4,5,6,7,8,9,10}\n",
        "even_set = set(filter(lambda a:a%2==0,s))\n",
        "even_set"
      ],
      "metadata": {
        "colab": {
          "base_uri": "https://localhost:8080/"
        },
        "id": "l04EZimgMkHe",
        "outputId": "46bd90a7-0edb-4efa-fde5-5e4a18b072cc"
      },
      "id": "l04EZimgMkHe",
      "execution_count": null,
      "outputs": [
        {
          "output_type": "execute_result",
          "data": {
            "text/plain": [
              "{2, 4, 6, 8, 10}"
            ]
          },
          "metadata": {},
          "execution_count": 25
        }
      ]
    },
    {
      "cell_type": "code",
      "source": [
        "# 27. Multiply all elements in a set by 2.\n",
        "s = {1,2,3,4,5,6}\n",
        "l=[]\n",
        "for i in s:\n",
        "  l.append(i*2)\n",
        "set(l)"
      ],
      "metadata": {
        "colab": {
          "base_uri": "https://localhost:8080/"
        },
        "id": "Y77vGbWmMkEj",
        "outputId": "3f75589f-3bb6-4df5-e74c-05bd31ea4049"
      },
      "id": "Y77vGbWmMkEj",
      "execution_count": null,
      "outputs": [
        {
          "output_type": "execute_result",
          "data": {
            "text/plain": [
              "{2, 4, 6, 8, 10, 12}"
            ]
          },
          "metadata": {},
          "execution_count": 26
        }
      ]
    },
    {
      "cell_type": "code",
      "source": [
        "# 28. Create a set of random numbers.\n",
        "import random\n",
        "set(random.sample(range(1,123),3))"
      ],
      "metadata": {
        "colab": {
          "base_uri": "https://localhost:8080/"
        },
        "id": "vtOH8D-pMkBT",
        "outputId": "ca3ba85d-ec20-429c-a9ba-e2fd62402b20"
      },
      "id": "vtOH8D-pMkBT",
      "execution_count": null,
      "outputs": [
        {
          "output_type": "execute_result",
          "data": {
            "text/plain": [
              "{1, 59, 100}"
            ]
          },
          "metadata": {},
          "execution_count": 27
        }
      ]
    },
    {
      "cell_type": "code",
      "source": [
        "# 29. Check if a set is empty.\n",
        "s = {}\n",
        "if len(s)==0:\n",
        "  print(\"empty set\")\n",
        "else:\n",
        "  print(\"not empty set\")"
      ],
      "metadata": {
        "colab": {
          "base_uri": "https://localhost:8080/"
        },
        "id": "0DwTPO5aMj-U",
        "outputId": "a1465edf-66c7-4116-f2a1-70b585cd455e"
      },
      "id": "0DwTPO5aMj-U",
      "execution_count": null,
      "outputs": [
        {
          "output_type": "stream",
          "name": "stdout",
          "text": [
            "empty set\n"
          ]
        }
      ]
    },
    {
      "cell_type": "code",
      "source": [
        "# 30. Create a nested set (hint: use frozenset).\n",
        "# Create some frozenset objects\n",
        "nested_set1 = frozenset({1, 2, 3})\n",
        "nested_set2 = frozenset({4, 5, 6})\n",
        "\n",
        "# Create a set that contains the frozenset objects\n",
        "outer_set = {nested_set1, nested_set2}\n",
        "\n",
        "# Print the nested set\n",
        "print(outer_set)\n"
      ],
      "metadata": {
        "colab": {
          "base_uri": "https://localhost:8080/"
        },
        "id": "S02ESMtrMj7H",
        "outputId": "876a77b1-d8e4-4fa3-cb1b-628297afcf5d"
      },
      "id": "S02ESMtrMj7H",
      "execution_count": null,
      "outputs": [
        {
          "output_type": "stream",
          "name": "stdout",
          "text": [
            "{frozenset({1, 2, 3}), frozenset({4, 5, 6})}\n"
          ]
        }
      ]
    },
    {
      "cell_type": "code",
      "source": [
        "# 31. Remove an element from a set using the discard method.\n",
        "\n",
        "s={1,2,3,4,5,6}\n",
        "s.discard(1)\n",
        "s"
      ],
      "metadata": {
        "colab": {
          "base_uri": "https://localhost:8080/"
        },
        "id": "006GK8e_Mj4E",
        "outputId": "1dc4f731-e800-4662-8eb3-9bc9a5ec58a8"
      },
      "id": "006GK8e_Mj4E",
      "execution_count": null,
      "outputs": [
        {
          "output_type": "execute_result",
          "data": {
            "text/plain": [
              "{2, 3, 4, 5, 6}"
            ]
          },
          "metadata": {},
          "execution_count": 34
        }
      ]
    },
    {
      "cell_type": "code",
      "source": [
        "# 32. Compare two sets\n",
        "t = {1,2,3}\n",
        "t1 = {4,2,1,3}\n",
        "t ==t1"
      ],
      "metadata": {
        "colab": {
          "base_uri": "https://localhost:8080/"
        },
        "id": "uvV4lygxMjzG",
        "outputId": "50a85237-4cd6-45f8-e9e9-f96ebf4595ac"
      },
      "id": "uvV4lygxMjzG",
      "execution_count": null,
      "outputs": [
        {
          "output_type": "execute_result",
          "data": {
            "text/plain": [
              "False"
            ]
          },
          "metadata": {},
          "execution_count": 35
        }
      ]
    },
    {
      "cell_type": "code",
      "source": [
        "# 33. Create a set from a string.\n",
        "\n",
        "s = \"suma anusha abbireddy\"\n",
        "l=[]\n",
        "k = s.split()\n",
        "for i in k:\n",
        "  l.append(i)\n",
        "set(l)"
      ],
      "metadata": {
        "colab": {
          "base_uri": "https://localhost:8080/"
        },
        "id": "AXg27KSiMjwU",
        "outputId": "d8fc47d3-1780-4cf2-ac1b-f9c186f3e322"
      },
      "id": "AXg27KSiMjwU",
      "execution_count": null,
      "outputs": [
        {
          "output_type": "execute_result",
          "data": {
            "text/plain": [
              "{'abbireddy', 'anusha', 'suma'}"
            ]
          },
          "metadata": {},
          "execution_count": 38
        }
      ]
    },
    {
      "cell_type": "code",
      "source": [
        "\n",
        "# 34. Convert a set of strings to a set of integers.\n",
        "t = {'1','2','3','4','5','6'}\n",
        "k = list(t)\n",
        "b=[]\n",
        "for i in k:\n",
        "  b.append(int(i))\n",
        "set(b)"
      ],
      "metadata": {
        "colab": {
          "base_uri": "https://localhost:8080/"
        },
        "id": "kU7nZx38Mjs1",
        "outputId": "fe9fc677-3164-42df-91ab-620a7d71904f"
      },
      "id": "kU7nZx38Mjs1",
      "execution_count": null,
      "outputs": [
        {
          "output_type": "execute_result",
          "data": {
            "text/plain": [
              "{1, 2, 3, 4, 5, 6}"
            ]
          },
          "metadata": {},
          "execution_count": 40
        }
      ]
    },
    {
      "cell_type": "code",
      "source": [
        "# 35. Convert a set of integers to a set of strings.\n",
        "t ={1,2,3,4,5,6}\n",
        "k = list(t)\n",
        "b=[]\n",
        "for i in k:\n",
        "  b.append(str(i))\n",
        "set(b)"
      ],
      "metadata": {
        "colab": {
          "base_uri": "https://localhost:8080/"
        },
        "id": "gZmbvLaYMjpw",
        "outputId": "1c7e678d-839b-4d7f-ade8-17b7aace8e25"
      },
      "id": "gZmbvLaYMjpw",
      "execution_count": null,
      "outputs": [
        {
          "output_type": "execute_result",
          "data": {
            "text/plain": [
              "{'1', '2', '3', '4', '5', '6'}"
            ]
          },
          "metadata": {},
          "execution_count": 41
        }
      ]
    },
    {
      "cell_type": "code",
      "source": [
        "# 36. Create a set from a tuple.\n",
        "t = (1,2,4)\n",
        "set(t)"
      ],
      "metadata": {
        "colab": {
          "base_uri": "https://localhost:8080/"
        },
        "id": "62RlWbOnMjmi",
        "outputId": "8b077b18-2fb9-4f8a-cee9-7ece110bb4d0"
      },
      "id": "62RlWbOnMjmi",
      "execution_count": null,
      "outputs": [
        {
          "output_type": "execute_result",
          "data": {
            "text/plain": [
              "{1, 2, 4}"
            ]
          },
          "metadata": {},
          "execution_count": 42
        }
      ]
    },
    {
      "cell_type": "code",
      "source": [
        "# 37. Convert a set to a tuple.\n",
        "t = (1,2,4)\n",
        "set(t)"
      ],
      "metadata": {
        "colab": {
          "base_uri": "https://localhost:8080/"
        },
        "id": "RQwntjW5Mjjr",
        "outputId": "5169868d-4a3d-47b5-e2d5-159f99f9b76c"
      },
      "id": "RQwntjW5Mjjr",
      "execution_count": null,
      "outputs": [
        {
          "output_type": "execute_result",
          "data": {
            "text/plain": [
              "{1, 2, 4}"
            ]
          },
          "metadata": {},
          "execution_count": 43
        }
      ]
    },
    {
      "cell_type": "code",
      "source": [
        "# 38. Find the maximum value in a set.\n",
        "\n",
        "s = {1,2,3,4,5}\n",
        "max(s)"
      ],
      "metadata": {
        "colab": {
          "base_uri": "https://localhost:8080/"
        },
        "id": "tpAgcf1ZMjgb",
        "outputId": "95c7b69a-d2b5-4989-c568-e5f3d409aba7"
      },
      "id": "tpAgcf1ZMjgb",
      "execution_count": null,
      "outputs": [
        {
          "output_type": "execute_result",
          "data": {
            "text/plain": [
              "5"
            ]
          },
          "metadata": {},
          "execution_count": 45
        }
      ]
    },
    {
      "cell_type": "code",
      "source": [
        "# 39. Find the minimum value in a set.\n",
        "s = {1,0,-9}\n",
        "min(s)"
      ],
      "metadata": {
        "colab": {
          "base_uri": "https://localhost:8080/"
        },
        "id": "7PA8QM4TMjdj",
        "outputId": "3e47e782-2991-4796-cd34-4f96929bd3ba"
      },
      "id": "7PA8QM4TMjdj",
      "execution_count": null,
      "outputs": [
        {
          "output_type": "execute_result",
          "data": {
            "text/plain": [
              "-9"
            ]
          },
          "metadata": {},
          "execution_count": 46
        }
      ]
    },
    {
      "cell_type": "code",
      "source": [
        "# 40. Create a set from user input.\n",
        "s = \"suma anusha abbireddy\"\n",
        "k = s.split()\n",
        "set(k)"
      ],
      "metadata": {
        "colab": {
          "base_uri": "https://localhost:8080/"
        },
        "id": "21w0UfcpMjaR",
        "outputId": "a21fce7f-cd8a-4039-b540-47c3698e6540"
      },
      "id": "21w0UfcpMjaR",
      "execution_count": null,
      "outputs": [
        {
          "output_type": "execute_result",
          "data": {
            "text/plain": [
              "{'abbireddy', 'anusha', 'suma'}"
            ]
          },
          "metadata": {},
          "execution_count": 47
        }
      ]
    },
    {
      "cell_type": "code",
      "source": [
        "# 41. Check if the intersection of two sets is empty.\n",
        "s = {1,2,3,4}\n",
        "s1 = {0,32,11,12}\n",
        "k = s.intersection(s1)\n",
        "if len(k) ==0:\n",
        "  print(\" intersection of two sets is empty\")\n",
        "else:\n",
        "  print(\" intersection of two sets is not empty\")"
      ],
      "metadata": {
        "colab": {
          "base_uri": "https://localhost:8080/"
        },
        "id": "dTBvkNV1MjWp",
        "outputId": "0c3f89c6-2746-41c8-f118-63dc8ae892cb"
      },
      "id": "dTBvkNV1MjWp",
      "execution_count": null,
      "outputs": [
        {
          "output_type": "stream",
          "name": "stdout",
          "text": [
            " intersection of two sets is empty\n"
          ]
        }
      ]
    },
    {
      "cell_type": "code",
      "source": [
        "# 42. Create a set of the first 5 Fibonacci numbers.\n",
        "a,b = 0,1\n",
        "l1 =[0,1]\n",
        "n = 10\n",
        "for i in range(1,n):\n",
        "  c=a+b\n",
        "  l1.append(c)\n",
        "  a,b=b,c\n",
        "set(l1)"
      ],
      "metadata": {
        "colab": {
          "base_uri": "https://localhost:8080/"
        },
        "id": "TeUEE6wEMjSr",
        "outputId": "dbc8bd42-a3be-421d-a0ac-fa02af29d62a"
      },
      "id": "TeUEE6wEMjSr",
      "execution_count": null,
      "outputs": [
        {
          "output_type": "execute_result",
          "data": {
            "text/plain": [
              "{0, 1, 2, 3, 5, 8, 13, 21, 34, 55}"
            ]
          },
          "metadata": {},
          "execution_count": 51
        }
      ]
    },
    {
      "cell_type": "code",
      "source": [
        "# 43. Remove duplicates from a list using sets.\n",
        "l = [11,1,1,2,3,4,4]\n",
        "set(l)"
      ],
      "metadata": {
        "colab": {
          "base_uri": "https://localhost:8080/"
        },
        "id": "lmMlUJLtMjP2",
        "outputId": "1ab835f5-b624-4a8d-d5c1-67ba44c5b689"
      },
      "id": "lmMlUJLtMjP2",
      "execution_count": null,
      "outputs": [
        {
          "output_type": "execute_result",
          "data": {
            "text/plain": [
              "{1, 2, 3, 4, 11}"
            ]
          },
          "metadata": {},
          "execution_count": 52
        }
      ]
    },
    {
      "cell_type": "code",
      "source": [
        "# 44. Check if two sets have the same elements, regardless of their count.\n",
        "s = {1, 2, 4, 5, 11}\n",
        "s1 = {1, 2, 4, 5, 6, 7, 8}\n",
        "\n",
        "elements_found = True\n",
        "\n",
        "for element in s:\n",
        "    if element not in s1:\n",
        "        elements_found = False\n",
        "        break\n",
        "\n",
        "if elements_found:\n",
        "    print(\"The two sets have the same elements, regardless of their count.\")\n",
        "else:\n",
        "    print(\"The two sets don't have the same elements, regardless of their count.\")\n",
        "\n"
      ],
      "metadata": {
        "id": "LemTitAwMjMj",
        "colab": {
          "base_uri": "https://localhost:8080/"
        },
        "outputId": "386de91a-4ce0-46e3-ec85-db808304fd53"
      },
      "id": "LemTitAwMjMj",
      "execution_count": null,
      "outputs": [
        {
          "output_type": "stream",
          "name": "stdout",
          "text": [
            "The two sets don't have the same elements, regardless of their count.\n"
          ]
        }
      ]
    },
    {
      "cell_type": "code",
      "source": [
        "# 45. Create a set of the first `n` powers of 2.\n",
        "n=int(input())\n",
        "l=[]\n",
        "for i in range(1,n+1):\n",
        "  l.append(2**(i))\n",
        "set(l)"
      ],
      "metadata": {
        "id": "lgRM_P86MjJg",
        "colab": {
          "base_uri": "https://localhost:8080/"
        },
        "outputId": "8448c5e1-f9a5-4015-86bc-00e780f89a1d"
      },
      "id": "lgRM_P86MjJg",
      "execution_count": null,
      "outputs": [
        {
          "name": "stdout",
          "output_type": "stream",
          "text": [
            "7\n"
          ]
        },
        {
          "output_type": "execute_result",
          "data": {
            "text/plain": [
              "{2, 4, 8, 16, 32, 64, 128}"
            ]
          },
          "metadata": {},
          "execution_count": 8
        }
      ]
    },
    {
      "cell_type": "code",
      "source": [
        "# 46. Find the common elements between a set and a list.\n",
        "s = {1,2,4,5,6}\n",
        "s1 = [1,2,3,4,5]\n",
        "l2=[]\n",
        "for i in s:\n",
        "  if i in s1:\n",
        "    l2.append(i)\n",
        "set(l2)"
      ],
      "metadata": {
        "id": "1Ar10Rc8MjGG",
        "colab": {
          "base_uri": "https://localhost:8080/"
        },
        "outputId": "7539b99c-538d-459e-8591-5c8df7c74dae"
      },
      "id": "1Ar10Rc8MjGG",
      "execution_count": null,
      "outputs": [
        {
          "output_type": "execute_result",
          "data": {
            "text/plain": [
              "{1, 2, 4, 5}"
            ]
          },
          "metadata": {},
          "execution_count": 9
        }
      ]
    },
    {
      "cell_type": "code",
      "source": [
        "# 47. Create a set of the first `n` triangular numbers.\n",
        "\n",
        "def generate_triangular_numbers(n):\n",
        "    triangular_numbers = []\n",
        "    total = 0\n",
        "\n",
        "    for i in range(1, n + 1):\n",
        "        total += i\n",
        "        triangular_numbers.append(total)\n",
        "\n",
        "    return tuple(triangular_numbers)\n",
        "k = generate_triangular_numbers(5)\n",
        "set(k)"
      ],
      "metadata": {
        "id": "kUWH5hB9MjCr",
        "colab": {
          "base_uri": "https://localhost:8080/"
        },
        "outputId": "4984ee6a-0ee8-410f-c253-fe30a9f462af"
      },
      "id": "kUWH5hB9MjCr",
      "execution_count": null,
      "outputs": [
        {
          "output_type": "execute_result",
          "data": {
            "text/plain": [
              "{1, 3, 6, 10, 15}"
            ]
          },
          "metadata": {},
          "execution_count": 10
        }
      ]
    },
    {
      "cell_type": "code",
      "source": [
        "# 48. Check if a set contains another set as a subset.\n",
        "\n",
        "# Define the sets\n",
        "set1 = {1, 2, 3, 4, 5}\n",
        "set2 = {2, 3}\n",
        "set3 = {6, 7}\n",
        "\n",
        "# Check if set2 is a subset of set1\n",
        "is_subset = set2.issubset(set1)\n",
        "\n",
        "if is_subset:\n",
        "    print(\"set2 is a subset of set1.\")\n",
        "else:\n",
        "    print(\"set2 is not a subset of set1.\")\n",
        "\n",
        "\n",
        "# Check if set3 is a subset of set1\n",
        "is_subset = set3.issubset(set1)\n",
        "\n",
        "if is_subset:\n",
        "    print(\"set3 is a subset of set1.\")\n",
        "else:\n",
        "    print(\"set3 is not a subset of set1.\")\n",
        "\n"
      ],
      "metadata": {
        "id": "LlSh1Y5pMi_P",
        "colab": {
          "base_uri": "https://localhost:8080/"
        },
        "outputId": "ec05fb51-5672-4099-ff8d-5724a062600e"
      },
      "id": "LlSh1Y5pMi_P",
      "execution_count": null,
      "outputs": [
        {
          "output_type": "stream",
          "name": "stdout",
          "text": [
            "set2 is a subset of set1.\n",
            "set3 is not a subset of set1.\n"
          ]
        }
      ]
    },
    {
      "cell_type": "code",
      "source": [
        "# 49. Create a set of alternating 1s and 0s of length `n`.\n",
        "n = 10\n",
        "alternating_set = set(1 if i % 2 == 0 else 0 for i in range(n))\n",
        "alternating_set\n"
      ],
      "metadata": {
        "id": "JsRM1u9TMi71",
        "colab": {
          "base_uri": "https://localhost:8080/"
        },
        "outputId": "df74fb6a-26ac-4970-ce4b-6080fd707d02"
      },
      "id": "JsRM1u9TMi71",
      "execution_count": null,
      "outputs": [
        {
          "output_type": "execute_result",
          "data": {
            "text/plain": [
              "{0, 1}"
            ]
          },
          "metadata": {},
          "execution_count": 18
        }
      ]
    },
    {
      "cell_type": "code",
      "source": [
        "# 50. Merge multiple sets into one.\n",
        "set1 = {1, 2, 3}\n",
        "set2 = {3, 4, 5}\n",
        "set3 = {5, 6, 7}\n",
        "\n",
        "\n",
        "merged_set = set1.union(set2, set3)\n",
        "\n",
        "print(merged_set)\n"
      ],
      "metadata": {
        "colab": {
          "base_uri": "https://localhost:8080/"
        },
        "id": "KQxYUTsFHokA",
        "outputId": "c38e39fa-d42a-4c03-f70a-25a00d679335"
      },
      "id": "KQxYUTsFHokA",
      "execution_count": null,
      "outputs": [
        {
          "output_type": "stream",
          "name": "stdout",
          "text": [
            "{1, 2, 3, 4, 5, 6, 7}\n"
          ]
        }
      ]
    },
    {
      "cell_type": "code",
      "source": [
        "merged = set1 | set2 | set3\n",
        "merged"
      ],
      "metadata": {
        "colab": {
          "base_uri": "https://localhost:8080/"
        },
        "id": "d7jojyGTItlH",
        "outputId": "5c105e2f-0566-434e-a218-41fdcd7e12c7"
      },
      "id": "d7jojyGTItlH",
      "execution_count": null,
      "outputs": [
        {
          "output_type": "execute_result",
          "data": {
            "text/plain": [
              "{1, 2, 3, 4, 5, 6, 7}"
            ]
          },
          "metadata": {},
          "execution_count": 14
        }
      ]
    },
    {
      "cell_type": "code",
      "source": [],
      "metadata": {
        "id": "P0nNmTejI3eM"
      },
      "id": "P0nNmTejI3eM",
      "execution_count": null,
      "outputs": []
    }
  ],
  "metadata": {
    "colab": {
      "provenance": []
    },
    "kernelspec": {
      "display_name": "Python 3 (ipykernel)",
      "language": "python",
      "name": "python3"
    },
    "language_info": {
      "codemirror_mode": {
        "name": "ipython",
        "version": 3
      },
      "file_extension": ".py",
      "mimetype": "text/x-python",
      "name": "python",
      "nbconvert_exporter": "python",
      "pygments_lexer": "ipython3",
      "version": "3.9.7"
    }
  },
  "nbformat": 4,
  "nbformat_minor": 5
}