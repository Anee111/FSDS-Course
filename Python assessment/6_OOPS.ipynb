{
 "cells": [
  {
   "cell_type": "code",
   "execution_count": 1,
   "metadata": {
    "colab": {
     "base_uri": "https://localhost:8080/"
    },
    "id": "EbsWrZoanwNL",
    "outputId": "3efef129-bf20-44d6-8d6a-bceaf3135597"
   },
   "outputs": [
    {
     "name": "stdout",
     "output_type": "stream",
     "text": [
      "Account Holder: 40251612556\n",
      "Account Number : meenakshi kootha\n",
      " Balance : 0.0\n",
      "Deposited $92000 into 40251612556's account. New balance: $92000.0\n",
      "you have withdrawn 34900 from 40251612556\n",
      "now balance in your account is 57100.0\n",
      "balance is  57100.0\n"
     ]
    }
   ],
   "source": [
    "# Problem 1: Bank Account Create a class representing a bank account with attributes like account number, account holder name, and balance. Implement methods to deposit and withdraw money from the account.\n",
    "class bank_account:\n",
    "\n",
    "    def __init__(self,acc_no,acc_holder_name,acc_balance =0.0):\n",
    "        self.account_number = acc_no\n",
    "        self.account_holder_name = acc_holder_name\n",
    "        self.account_balance = acc_balance\n",
    "\n",
    "    def acc_deposit(self,deposit_amo):\n",
    "        if deposit_amo>0:\n",
    "            self.account_balance+=deposit_amo\n",
    "            print(f\"Deposited ${deposit_amo} into {self.account_holder_name}'s account. New balance: ${self.account_balance}\")\n",
    "        else:\n",
    "            print(\"invalid amount entered\")\n",
    "\n",
    "    def acc_withdraw(self,withdraw_Amo):\n",
    "        if 0<withdraw_Amo<=self.account_balance:\n",
    "            self.account_balance  = self.account_balance -  withdraw_Amo\n",
    "            print(f\"you have withdrawn {withdraw_Amo} from {self.account_holder_name}\")\n",
    "            print(\"now balance in your account is\", self.account_balance)\n",
    "\n",
    "        else:\n",
    "            print(\"invalid amount\")\n",
    "\n",
    "    def get_balance(self):\n",
    "        print(\"balance is \",self.account_balance)\n",
    "\n",
    "    def __str__(self):\n",
    "        return f\"Account Holder: {self.account_holder_name}\\nAccount Number : {self.account_number}\\n Balance : {self.account_balance}\"\n",
    "\n",
    "obj_bank = bank_account(\"meenakshi kootha\",40251612556)\n",
    "print(obj_bank)\n",
    "obj_bank.acc_deposit(92000)\n",
    "obj_bank.acc_withdraw(34900)\n",
    "obj_bank.get_balance()\n",
    "\n"
   ]
  },
  {
   "cell_type": "code",
   "execution_count": 2,
   "metadata": {
    "colab": {
     "base_uri": "https://localhost:8080/"
    },
    "id": "nhjuIDvdn2mJ",
    "outputId": "8ad6f1b9-a9d3-435b-fabc-4a0777caae6a"
   },
   "outputs": [
    {
     "name": "stdout",
     "output_type": "stream",
     "text": [
      "Employee_ID:7895\n",
      " Employee_Name:meenakshi chowdary\n",
      " Employee_salary:750000\n",
      "yearly bonus is 37500.0\n"
     ]
    }
   ],
   "source": [
    "# Problem 2: Employee Management Create a class representing an employee with attributes like employee ID, name, and salary. Implement methods to calculate the yearly bonus and display employee details.\n",
    "\n",
    "class employee_management:\n",
    "\n",
    "    def __init__(self,employ_id,name,salary):\n",
    "        self.employee_id = employ_id\n",
    "        self.employee_name = name\n",
    "        self.employee_salary = salary\n",
    "\n",
    "    def year_bonus(self):\n",
    "        bonus = (5/100)*self.employee_salary\n",
    "        print(\"yearly bonus is\", bonus)\n",
    "\n",
    "\n",
    "    def __str__(self):\n",
    "        return f\"Employee_ID:{self.employee_id}\\n Employee_Name:{self.employee_name}\\n Employee_salary:{self.employee_salary}\"\n",
    "\n",
    "obj_emp = employee_management(\"7895\",\"meenakshi chowdary\",750000)\n",
    "print(obj_emp)\n",
    "obj_emp.year_bonus()\n"
   ]
  },
  {
   "cell_type": "code",
   "execution_count": 3,
   "metadata": {
    "colab": {
     "base_uri": "https://localhost:8080/"
    },
    "id": "pGnt5WBBnxqO",
    "outputId": "047ada23-adcf-41b8-fd77-a36ffe0890d3"
   },
   "outputs": [
    {
     "name": "stdout",
     "output_type": "stream",
     "text": [
      "cost of the vehicle rented is 5000\n",
      "you have returned 2 vehicles\n",
      " no of vehicles at present are 97\n"
     ]
    }
   ],
   "source": [
    "# Problem 3: Vehicle Rental Create a class representing a vehicle rental system. Implement methods to rent a vehicle, return a vehicle, and display available vehicles.\n",
    "\n",
    "\n",
    "class renatal_vehicle:\n",
    "\n",
    "  def __init__(self,ava_veh = 100):\n",
    "    self.available_vehicles = ava_veh\n",
    "\n",
    "  def rent_vehicle(self,no_vehicles):\n",
    "    if self.available_vehicles <=0:\n",
    "      print(\"no vehicles to give for rent\")\n",
    "    else:\n",
    "      print(\"cost of the vehicle rented is\", no_vehicles*1000)\n",
    "      self.available_vehicles = self.available_vehicles - no_vehicles\n",
    "\n",
    "  def return_vehicle(self,no_re_vehicles):\n",
    "    print(\"you have returned\", no_re_vehicles,\"vehicles\")\n",
    "    self.available_vehicles = self.available_vehicles + no_re_vehicles\n",
    "    print(\" no of vehicles at present are\", self.available_vehicles)\n",
    "\n",
    "obj_ren_veh = renatal_vehicle()\n",
    "obj_ren_veh.rent_vehicle(5)\n",
    "obj_ren_veh.return_vehicle(2)\n",
    "\n"
   ]
  },
  {
   "cell_type": "code",
   "execution_count": 4,
   "metadata": {
    "colab": {
     "base_uri": "https://localhost:8080/"
    },
    "id": "3J1yNpxlnxm-",
    "outputId": "a9c75f7d-ecba-4c31-9e9a-5c9fa1b944ab"
   },
   "outputs": [
    {
     "name": "stdout",
     "output_type": "stream",
     "text": [
      "Book The Great Gatsby by F. Scott Fitzgerald borrowed successfully.\n"
     ]
    }
   ],
   "source": [
    "# Problem 4: Library Catalog Create classes representing a library and a book. Implement methods to add books to the library, borrow books, and display available books.\n",
    "\n",
    "class Book:\n",
    "    def __init__(self, book_id, title, author, is_available=True):\n",
    "        self.book_id = book_id\n",
    "        self.title = title\n",
    "        self.author = author\n",
    "        self.is_available = is_available\n",
    "\n",
    "class Library:\n",
    "    def __init__(self):\n",
    "        self.books = []\n",
    "\n",
    "    def add_book(self, book_id, title, author):\n",
    "        book = Book(book_id, title, author)\n",
    "        self.books.append(book)\n",
    "\n",
    "    def borrow_book(self, book_id):\n",
    "        for book in self.books:\n",
    "            if book.book_id == book_id and book.is_available:\n",
    "                book.is_available = False\n",
    "                return f\"Book {book.title} by {book.author} borrowed successfully.\"\n",
    "        return f\"Book {book_id} not available for borrowing.\"\n",
    "\n",
    "    def return_book(self, book_id):\n",
    "        for book in self.books:\n",
    "            if book.book_id == book_id and not book.is_available:\n",
    "                book.is_available = True\n",
    "                return f\"Book {book.title} by {book.author} returned successfully.\"\n",
    "        return f\"Book {book_id} cannot be returned or is not found.\"\n",
    "\n",
    "    def display_available_books(self):\n",
    "        available_books = [book for book in self.books if book.is_available]\n",
    "        if available_books:\n",
    "            print(\"Available Books:\")\n",
    "            for book in available_books:\n",
    "                print(f\"ID: {book.book_id}, Title: {book.title}, Author: {book.author}\")\n",
    "        else:\n",
    "            print(\"No books are currently available.\")\n",
    "\n",
    "# Example usage:\n",
    "library = Library()\n",
    "\n",
    "library.add_book(\"B001\", \"The Great Gatsby\", \"F. Scott Fitzgerald\")\n",
    "library.add_book(\"B002\", \"To Kill a Mockingbird\", \"Harper Lee\")\n",
    "library.add_book(\"B003\", \"1984\", \"George Orwell\")\n",
    "\n",
    "print(library.borrow_book(\"B001\"))\n",
    "\n",
    "\n"
   ]
  },
  {
   "cell_type": "code",
   "execution_count": 5,
   "metadata": {
    "id": "ux_fqJydnxkW"
   },
   "outputs": [
    {
     "data": {
      "text/plain": [
       "'chair (10 units)'"
      ]
     },
     "execution_count": 5,
     "metadata": {},
     "output_type": "execute_result"
    }
   ],
   "source": [
    "# Problem 5: Product Inventory Create classes representing a product and an inventory system. Implement methods to add products to the inventory, update product quantity, and display available products.\n",
    "\n",
    "class Product:\n",
    "    def __init__(self, product_id, name, quantity):\n",
    "        self.product_id = product_id\n",
    "        self.name = name\n",
    "        self.quantity = quantity\n",
    "        self.is_available = True\n",
    "\n",
    "class ProductsInventory:\n",
    "    def __init__(self):\n",
    "        self.add_sold_products = []\n",
    "\n",
    "    def add_product(self, product_id, name, quantity):\n",
    "        product = Product(product_id, name, quantity)\n",
    "        self.add_sold_products.append(product)\n",
    "\n",
    "    def sold_product(self, product_id, name, quantity):\n",
    "        for product in self.add_sold_products:\n",
    "            if product.product_id == product_id and product.is_available:\n",
    "                if product.quantity >= quantity:\n",
    "                    product.is_available = False\n",
    "                    product.quantity -= quantity\n",
    "                    return f\"Product {product.name} ({quantity} units) sold to the customer.\"\n",
    "                else:\n",
    "                    return f\"Not enough quantity of {product.name} available.\"\n",
    "        return f\"Product {name} is out of stock.\"\n",
    "    \n",
    "    def available_products(self):\n",
    "        available = [product for product in self.add_sold_products if product.is_available]\n",
    "        if available:\n",
    "            return \"\\n\".join([f\"{product.name} ({product.quantity} units)\" for product in available])\n",
    "        else:\n",
    "            return \"No available products in the inventory.\"\n",
    "\n",
    "\n",
    "inventory = ProductsInventory()\n",
    "inventory.add_product(1, \"table\", 5)\n",
    "inventory.add_product(2,\"chair\", 10)\n",
    "inventory.sold_product(1, \"table\", 3)\n",
    "\n",
    "inventory.available_products()\n",
    "\n",
    "\n"
   ]
  },
  {
   "cell_type": "code",
   "execution_count": 6,
   "metadata": {
    "id": "hvkIDJ6gnxd1"
   },
   "outputs": [],
   "source": [
    "# Problem 6: Shape Calculation Create a class representing a shape with attributes like length, width, and height. \n",
    "#             Implement methods to calculate the area and perimeter of the shape."
   ]
  },
  {
   "cell_type": "code",
   "execution_count": 7,
   "metadata": {},
   "outputs": [
    {
     "name": "stdout",
     "output_type": "stream",
     "text": [
      "16\n"
     ]
    }
   ],
   "source": [
    "class shape_calculation:\n",
    "    \n",
    "    def __init__(self,shape_name,length,width,height):\n",
    "        self.shape_name =shape_name\n",
    "        self.length = length\n",
    "        self.width = width\n",
    "        self.height = height\n",
    "    \n",
    "    def area_shape(self):\n",
    "        if (self.shape_name).lower() == \"square\":\n",
    "            print(self.length*self.width)\n",
    "        elif self.shape_name == \"rectangle\":\n",
    "            print(self.length * self.width)\n",
    "    \n",
    "    def perimeter_shape(Self):\n",
    "        if (self.shape_name).lower() == \"square\":\n",
    "            print(4*self.length)\n",
    "        elif self.shape_name == \"rectangle\":\n",
    "            print(2*(self.length+self.width))\n",
    "            \n",
    "\n",
    "shape_obj = shape_calculation(\"SQUARE\",4,4,0)\n",
    "\n",
    "shape_obj.area_shape()"
   ]
  },
  {
   "cell_type": "code",
   "execution_count": 8,
   "metadata": {},
   "outputs": [
    {
     "data": {
      "text/plain": [
       "('area of rectangle is', 6)"
      ]
     },
     "execution_count": 8,
     "metadata": {},
     "output_type": "execute_result"
    }
   ],
   "source": [
    "class shape:\n",
    "    \n",
    "    def __init__(self,length =0,width=0,height=0):\n",
    "        self.length = length\n",
    "        self.width = width\n",
    "        self.height = height\n",
    "        \n",
    "class rectangle(shape):\n",
    "    \n",
    "    def area_rectangle(self):\n",
    "        return \"area of rectangle is\", self.length*self.width\n",
    "    \n",
    "    def peri_Rectangle(self):\n",
    "        return \"perimeter of rectangle is\", 2*(self.length_self.width)\n",
    "    \n",
    "class square(shape):\n",
    "    \n",
    "    def area_square(self):\n",
    "        return \"area of square is\", self.length * self.length\n",
    "    \n",
    "    def peri_square(self):\n",
    "        return \"perimeter of square is\", 4*(self.length)\n",
    "    \n",
    "\n",
    "rect = rectangle(2,3)\n",
    "rect.area_rectangle()"
   ]
  },
  {
   "cell_type": "code",
   "execution_count": 9,
   "metadata": {},
   "outputs": [],
   "source": [
    "# Problem 7: Student Management Create a class representing a student with attributes like student ID, name, and grades.\n",
    "#             Implement methods to calculate the average grade and display student details."
   ]
  },
  {
   "cell_type": "code",
   "execution_count": 10,
   "metadata": {},
   "outputs": [
    {
     "name": "stdout",
     "output_type": "stream",
     "text": [
      "Ganga's average grade is 78.75\n",
      "Suma's average grade is 69.0\n",
      "\n",
      "\n",
      "Ganga's details are:\n",
      "Student ID: 45\n",
      "Name: Ganga\n",
      "Grades: 100, 64, 86, 65\n",
      "Average Grade: 78.75\n",
      "\n",
      "\n",
      "Suma's details are:\n",
      "Student ID: 44\n",
      "Name: suma\n",
      "Grades: 98, 64, 36, 78\n",
      "Average Grade: 69.0\n"
     ]
    }
   ],
   "source": [
    "class student:\n",
    "    \n",
    "    def __init__(self,stu_id,name):\n",
    "        self.id = stu_id\n",
    "        self.name = name\n",
    "        self.grades =[]\n",
    "            \n",
    "    def add_grade(self,grade):\n",
    "        self.grades.append(grade)\n",
    "        \n",
    "    \n",
    "    def avg_grade(self):\n",
    "        if len(self.grades) ==0:\n",
    "            return 0\n",
    "        else:\n",
    "            return sum(self.grades)/len(self.grades)\n",
    "        \n",
    "    def student_details(self):\n",
    "        details = \"Student ID: {}\\nName: {}\\nGrades: {}\\nAverage Grade: {}\".format(\n",
    "            self.id, self.name, \", \".join(map(str, self.grades)), self.avg_grade()\n",
    "        )\n",
    "        return details\n",
    "    \n",
    "ganga = student(45,\"Ganga\")\n",
    "ganga.add_grade(100)\n",
    "ganga.add_grade(64)\n",
    "ganga.add_grade(86)\n",
    "ganga.add_grade(65)\n",
    "\n",
    "suma = student(44,\"suma\")\n",
    "suma.add_grade(98)\n",
    "suma.add_grade(64)\n",
    "suma.add_grade(36)\n",
    "suma.add_grade(78)\n",
    "\n",
    "a = ganga.avg_grade()\n",
    "b = suma.avg_grade()\n",
    "\n",
    "print(\"Ganga's average grade is\", a)\n",
    "print(\"Suma's average grade is\", b)\n",
    "print(\"\\n\")\n",
    "print(\"Ganga's details are:\")\n",
    "print(ganga.student_details())\n",
    "print(\"\\n\")\n",
    "print(\"Suma's details are:\")\n",
    "print(suma.student_details())\n"
   ]
  },
  {
   "cell_type": "code",
   "execution_count": 11,
   "metadata": {},
   "outputs": [],
   "source": [
    "#Problem 8: Email Management Create a class representing an email with attributes like sender, recipient, and subject. \n",
    "#           Implement methods to send an email and display email details."
   ]
  },
  {
   "cell_type": "code",
   "execution_count": 12,
   "metadata": {},
   "outputs": [
    {
     "name": "stdout",
     "output_type": "stream",
     "text": [
      "Email sent from john@example.com to alice@example.com with the subject 'Meeting Agenda'\n"
     ]
    }
   ],
   "source": [
    "class email:\n",
    "    \n",
    "    def __init__(self,sender,recipient,subject):\n",
    "        self.sender = sender\n",
    "        self.recipient = recipient\n",
    "        self.subject = subject\n",
    "        message =\"\"\n",
    "        \n",
    "        \n",
    "    def send_mail(self,message):\n",
    "        self.message = message\n",
    "        print(f\"Email sent from {self.sender} to {self.recipient} with the subject '{self.subject}'\")\n",
    "        \n",
    "    def display_email_details(self):\n",
    "        print(\"Sender:\", self.sender)\n",
    "        print(\"Recipient:\", self.recipient)\n",
    "        print(\"Subject:\", self.subject)\n",
    "        if self.message:\n",
    "            print(\"Message:\", self.message)\n",
    "        else:\n",
    "            print(\"No message content.\")\n",
    "\n",
    "# Usage\n",
    "email1 = email(\"john@example.com\", \"alice@example.com\", \"Meeting Agenda\")\n",
    "email1.send_mail(\"Hello Alice, please find the attached agenda for our meeting.\")"
   ]
  },
  {
   "cell_type": "code",
   "execution_count": 13,
   "metadata": {
    "scrolled": true
   },
   "outputs": [
    {
     "name": "stdout",
     "output_type": "stream",
     "text": [
      "Sender: john@example.com\n",
      "Recipient: alice@example.com\n",
      "Subject: Meeting Agenda\n",
      "Message: Hello Alice, please find the attached agenda for our meeting.\n"
     ]
    }
   ],
   "source": [
    "email1.display_email_details()"
   ]
  },
  {
   "cell_type": "code",
   "execution_count": 14,
   "metadata": {},
   "outputs": [],
   "source": [
    "#Problem 9:Social Media Profile Create a class representing a social media profile with attributes like username and posts. \n",
    "#            Implement methods to add posts, display posts, and search for posts by keyword."
   ]
  },
  {
   "cell_type": "code",
   "execution_count": 15,
   "metadata": {},
   "outputs": [
    {
     "name": "stdout",
     "output_type": "stream",
     "text": [
      "post added to Aneesha314 \n",
      "post added to Aneesha314 \n",
      "post added to Aneesha314 \n",
      "post added to Aneesha314 \n",
      "post added to Aneesha314 \n"
     ]
    }
   ],
   "source": [
    "class instagram:\n",
    "    \n",
    "    def __init__(self,user_name):\n",
    "        self.username = user_name\n",
    "        self.posts =[]\n",
    "        \n",
    "    def add_posts(self,post):\n",
    "        self.posts.append(post)\n",
    "        print(\"post added to {} \".format(self.username))\n",
    "        \n",
    "    def display_posts(self):\n",
    "        if not self.posts:\n",
    "            return f\"{self.username} has no posts\"\n",
    "        else:\n",
    "            print(f\"{self.username} posts\")\n",
    "            for i,j in enumerate(self.posts,1):\n",
    "                print(f\"{i},{j}\")\n",
    "    def search_posts(self,keyword):\n",
    "        search_result = [i for i in self.posts if keyword in i]\n",
    "        if not search_result:\n",
    "            print(f\"no search results with {keyword} in {self.username} posts\")\n",
    "        else:\n",
    "            return search_result\n",
    "        \n",
    "\n",
    "                \n",
    "insta = instagram(\"Aneesha314\")\n",
    "insta.add_posts(\"I am in bengaluru\")\n",
    "insta.add_posts(\"reached hotel\")\n",
    "insta.add_posts(\"met friend\")\n",
    "insta.add_posts(\"stayed in resort\")\n",
    "insta.add_posts(\"swimming\")\n",
    "\n",
    "\n",
    "    \n",
    "        "
   ]
  },
  {
   "cell_type": "code",
   "execution_count": 16,
   "metadata": {},
   "outputs": [
    {
     "data": {
      "text/plain": [
       "['I am in bengaluru', 'stayed in resort', 'swimming']"
      ]
     },
     "execution_count": 16,
     "metadata": {},
     "output_type": "execute_result"
    }
   ],
   "source": [
    "insta.search_posts(\"in\")"
   ]
  },
  {
   "cell_type": "code",
   "execution_count": 17,
   "metadata": {},
   "outputs": [
    {
     "name": "stdout",
     "output_type": "stream",
     "text": [
      "Aneesha314 posts\n",
      "1,I am in bengaluru\n",
      "2,reached hotel\n",
      "3,met friend\n",
      "4,stayed in resort\n",
      "5,swimming\n"
     ]
    }
   ],
   "source": [
    "insta.display_posts()"
   ]
  },
  {
   "cell_type": "code",
   "execution_count": 18,
   "metadata": {},
   "outputs": [],
   "source": [
    "# Problem 10: To Do List Create a class representing a ToDo list with attributes like tasks and due dates. \n",
    "#              Implement methods to add tasks, mark tasks as completed, and display pending tasks."
   ]
  },
  {
   "cell_type": "code",
   "execution_count": 19,
   "metadata": {},
   "outputs": [
    {
     "name": "stdout",
     "output_type": "stream",
     "text": [
      " Task : homework , due date : 2023-08-21 00:00:00\n",
      " Task : outing , due date : 2023-09-23 00:00:00\n",
      " Task : project , due date : 2023-10-30 00:00:00\n",
      " Task : painting , due date : 2023-12-26 00:00:00\n"
     ]
    }
   ],
   "source": [
    "from datetime import datetime\n",
    "class to_do_list:\n",
    "    \n",
    "    def __init__(self):\n",
    "        self.tasks ={}\n",
    "        self.completed_task =[]\n",
    "    \n",
    "    def add_task(self,task,due_date):\n",
    "        self.tasks[task] = due_date\n",
    "        print(f\" Task : {task} , due date : {due_date}\")\n",
    "    \n",
    "    def mark_completed_tasks(self,done_task):\n",
    "        if done_task in self.tasks:\n",
    "            self.completed_task.append(done_task)\n",
    "            del self.tasks[done_task]\n",
    "        else:\n",
    "            print(f\"{done_task} not found in tasks\")\n",
    "        \n",
    "    \n",
    "    def pending_tasks(self):\n",
    "        if not self.tasks:\n",
    "            print(\"no pending tasks\")\n",
    "        else:\n",
    "            print(\"pending tasks are \")\n",
    "            for i, j in self.tasks.items():\n",
    "                print(i,j)\n",
    "\n",
    "todo = to_do_list()\n",
    "\n",
    "todo.add_task(\"homework\",datetime(2023, 8, 21))\n",
    "todo.add_task(\"outing\",datetime(2023, 9, 23))\n",
    "todo.add_task(\"project\",datetime(2023, 10, 30))\n",
    "todo.add_task(\"painting\",datetime(2023, 12, 26))\n",
    "\n",
    "\n",
    "\n",
    "        \n",
    "    "
   ]
  },
  {
   "cell_type": "code",
   "execution_count": 20,
   "metadata": {
    "scrolled": true
   },
   "outputs": [],
   "source": [
    "todo.mark_completed_tasks(\"painting\")"
   ]
  },
  {
   "cell_type": "code",
   "execution_count": 82,
   "metadata": {},
   "outputs": [
    {
     "name": "stdout",
     "output_type": "stream",
     "text": [
      "pending tasks are \n",
      "homework 2023-08-21 00:00:00\n",
      "outing 2023-09-23 00:00:00\n",
      "project 2023-10-30 00:00:00\n"
     ]
    }
   ],
   "source": [
    "todo.pending_tasks()"
   ]
  },
  {
   "cell_type": "code",
   "execution_count": null,
   "metadata": {},
   "outputs": [],
   "source": []
  }
 ],
 "metadata": {
  "colab": {
   "provenance": []
  },
  "kernelspec": {
   "display_name": "Python 3 (ipykernel)",
   "language": "python",
   "name": "python3"
  },
  "language_info": {
   "codemirror_mode": {
    "name": "ipython",
    "version": 3
   },
   "file_extension": ".py",
   "mimetype": "text/x-python",
   "name": "python",
   "nbconvert_exporter": "python",
   "pygments_lexer": "ipython3",
   "version": "3.9.13"
  }
 },
 "nbformat": 4,
 "nbformat_minor": 1
}
