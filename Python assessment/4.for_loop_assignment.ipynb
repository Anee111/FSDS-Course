{
 "cells": [
  {
   "cell_type": "code",
   "execution_count": null,
   "metadata": {
    "colab": {
     "base_uri": "https://localhost:8080/"
    },
    "id": "3SviXkMK_3x6",
    "outputId": "c7f0ca72-6839-44af-cf3f-c29480199f2e"
   },
   "outputs": [
    {
     "name": "stdout",
     "output_type": "stream",
     "text": [
      "1 2 3 4 5 6 7 8 9 10 "
     ]
    }
   ],
   "source": [
    "# 1. Write a Python program to print the numbers from 1 to 10 using a `for` loop.\n",
    "\n",
    "for i in range(1,11):\n",
    "  print(i,end=\" \")"
   ]
  },
  {
   "cell_type": "code",
   "execution_count": null,
   "metadata": {
    "colab": {
     "base_uri": "https://localhost:8080/"
    },
    "id": "BM49lgCwAIxP",
    "outputId": "6e524643-2e99-4bf5-9129-cecf7f6a259a"
   },
   "outputs": [
    {
     "data": {
      "text/plain": [
       "20"
      ]
     },
     "execution_count": 2,
     "metadata": {},
     "output_type": "execute_result"
    }
   ],
   "source": [
    "# 2. Create a program that calculates the sum of all numbers in a list using a `for` loop\n",
    "sum=0\n",
    "l = [1,2,4,5,8]\n",
    "for i in l:\n",
    "  sum+=i\n",
    "sum\n"
   ]
  },
  {
   "cell_type": "code",
   "execution_count": null,
   "metadata": {
    "colab": {
     "base_uri": "https://localhost:8080/"
    },
    "id": "UwIrntESAeVX",
    "outputId": "1f921d0b-7ee0-4ed1-cc26-0c1d158b40ae"
   },
   "outputs": [
    {
     "name": "stdout",
     "output_type": "stream",
     "text": [
      "a m u s "
     ]
    }
   ],
   "source": [
    "# 3. Write a program to print the characters of a string in reverse order using a `for` loop.\n",
    "\n",
    "s=\"suma\"\n",
    "\n",
    "for i in range(1,len(s)+1):\n",
    "  print(s[-i],end =\" \")\n",
    "\n"
   ]
  },
  {
   "cell_type": "code",
   "execution_count": null,
   "metadata": {
    "colab": {
     "base_uri": "https://localhost:8080/"
    },
    "id": "_3oe1VEzTg7Q",
    "outputId": "56c0e9fa-7c64-4981-d81e-b3030494f6c3"
   },
   "outputs": [
    {
     "name": "stdout",
     "output_type": "stream",
     "text": [
      "Enter number: 5\n"
     ]
    },
    {
     "data": {
      "text/plain": [
       "120"
      ]
     },
     "execution_count": 8,
     "metadata": {},
     "output_type": "execute_result"
    }
   ],
   "source": [
    "# 4. Develop a program that finds the factorial of a given number using a `for` loop\n",
    "mul =1\n",
    "num = int(input(\"Enter number: \"))\n",
    "for i in range(1,num+1):\n",
    "  mul*=i\n",
    "mul\n"
   ]
  },
  {
   "cell_type": "code",
   "execution_count": null,
   "metadata": {
    "colab": {
     "base_uri": "https://localhost:8080/"
    },
    "id": "c1mXsNoZUTTp",
    "outputId": "64495500-8a9e-46c2-8e88-0253fb44b0f8"
   },
   "outputs": [
    {
     "name": "stdout",
     "output_type": "stream",
     "text": [
      "enter number: 13\n",
      "13*1=13\n",
      "13*2=26\n",
      "13*3=39\n",
      "13*4=52\n",
      "13*5=65\n",
      "13*6=78\n",
      "13*7=91\n",
      "13*8=104\n",
      "13*9=117\n",
      "13*10=130\n",
      "13*11=143\n",
      "13*12=156\n",
      "\n"
     ]
    }
   ],
   "source": [
    "#  Create a program to print the multiplication table of a given number using a `for` loop\n",
    "\n",
    "n = int(input(\"enter number: \"))\n",
    "for i in range(1,13):\n",
    "\n",
    "  print(\"{}*{}={}\".format(n,i,n*i))\n",
    "print()"
   ]
  },
  {
   "cell_type": "code",
   "execution_count": null,
   "metadata": {
    "colab": {
     "base_uri": "https://localhost:8080/"
    },
    "id": "4fhWvLFLZ-XS",
    "outputId": "8b114e05-51d1-4859-d2ea-9ba98b08793d"
   },
   "outputs": [
    {
     "name": "stdout",
     "output_type": "stream",
     "text": [
      "no.of even numbers in list  10\n",
      "no.of odd numbers in list 10\n"
     ]
    }
   ],
   "source": [
    "# 6. Write a program that counts the number of even and odd numbers in a list using a `for` loop.\n",
    "even=0\n",
    "odd=0\n",
    "l = [1,2,3,4,5,6,7,8,9,10,11,12,13,14,15,16,17,18,19,20]\n",
    "for i in l:\n",
    "  if i%2==0:\n",
    "    even+=1\n",
    "  else:\n",
    "    odd+=1\n",
    "print(\"no.of even numbers in list \",even)\n",
    "print(\"no.of odd numbers in list\",odd)"
   ]
  },
  {
   "cell_type": "code",
   "execution_count": null,
   "metadata": {
    "colab": {
     "base_uri": "https://localhost:8080/"
    },
    "id": "5Uqt8ZVSbJLb",
    "outputId": "b40821cf-622b-48fa-b52a-06a6264729a6"
   },
   "outputs": [
    {
     "name": "stdout",
     "output_type": "stream",
     "text": [
      "square of 1 is 1\n",
      "square of 2 is 4\n",
      "square of 3 is 9\n",
      "square of 4 is 16\n",
      "square of 5 is 25\n",
      "\n"
     ]
    }
   ],
   "source": [
    "# 7. Develop a program that prints the squares of numbers from 1 to 5 using a `for` loop.\n",
    "\n",
    "for i in range(1,6):\n",
    "  print(\"square of {} is {}\".format(i,i*i))\n",
    "print()"
   ]
  },
  {
   "cell_type": "code",
   "execution_count": null,
   "metadata": {
    "colab": {
     "base_uri": "https://localhost:8080/"
    },
    "id": "s08T3BG3cDX3",
    "outputId": "9bc04c3f-7fa0-4618-973f-60fe32a7a80b"
   },
   "outputs": [
    {
     "data": {
      "text/plain": [
       "14"
      ]
     },
     "execution_count": 14,
     "metadata": {},
     "output_type": "execute_result"
    }
   ],
   "source": [
    "# 8. Create a program to find the length of a string without using the `len()` function.\n",
    "count=0\n",
    "k = \"suma abbireddy\"\n",
    "for i in k:\n",
    "  count+=1\n",
    "count\n"
   ]
  },
  {
   "cell_type": "code",
   "execution_count": null,
   "metadata": {
    "colab": {
     "base_uri": "https://localhost:8080/"
    },
    "id": "yfdjh7RdcWNp",
    "outputId": "5bdb1d88-1293-48f7-9640-064fccc97031"
   },
   "outputs": [
    {
     "name": "stdout",
     "output_type": "stream",
     "text": [
      "average of list of numbers is 5.5\n"
     ]
    }
   ],
   "source": [
    "# 9. Write a program that calculates the average of a list of numbers using a `for` loop.\n",
    "count=0\n",
    "l = [1,2,3,4,5,6,7,8,9,10]\n",
    "for i in l:\n",
    "  count+=i\n",
    "print(\"average of list of numbers is\",count/len(l))"
   ]
  },
  {
   "cell_type": "code",
   "execution_count": null,
   "metadata": {
    "colab": {
     "base_uri": "https://localhost:8080/"
    },
    "id": "_re9GvPNcu7T",
    "outputId": "fb445585-f7db-485c-deaf-826a1a44041b"
   },
   "outputs": [
    {
     "name": "stdout",
     "output_type": "stream",
     "text": [
      "enter n to print first n fibonacci numbers: 10\n"
     ]
    },
    {
     "data": {
      "text/plain": [
       "[0, 1, 1, 2, 3, 5, 8, 13, 21, 34]"
      ]
     },
     "execution_count": 17,
     "metadata": {},
     "output_type": "execute_result"
    }
   ],
   "source": [
    "# 10. Develop a program that prints the first `n` Fibonacci numbers using a `for` loop.\n",
    "l =[0,1]\n",
    "a,b =0,1\n",
    "n = int(input(\"enter n to print first n fibonacci numbers: \"))\n",
    "for i in range(3,n+1):\n",
    "  c = a+b\n",
    "  l.append(c)\n",
    "  a,b = b,c\n",
    "l"
   ]
  },
  {
   "cell_type": "code",
   "execution_count": null,
   "metadata": {
    "colab": {
     "base_uri": "https://localhost:8080/"
    },
    "id": "o8Kc2uOFdo7i",
    "outputId": "2a919743-efc7-4f3a-b6a0-86b0f0f11e4e"
   },
   "outputs": [
    {
     "name": "stdout",
     "output_type": "stream",
     "text": [
      "list contains duplicates\n",
      "list doesn't contain duplicates\n"
     ]
    }
   ],
   "source": [
    "# 11. Write a program to check if a given list contains any duplicates using a `for` loop.\n",
    "def list_dupli(l):\n",
    "    if len(l) == len(set(l)):\n",
    "      print(\"list doesn't contain duplicates\")\n",
    "    else:\n",
    "      print(\"list contains duplicates\")\n",
    "result1 = list_dupli([1,2,2,2,5])\n",
    "\n",
    "result2 = list_dupli([1,2,3,4,5,6,7,8,9,11])\n",
    "\n"
   ]
  },
  {
   "cell_type": "code",
   "execution_count": null,
   "metadata": {
    "colab": {
     "base_uri": "https://localhost:8080/"
    },
    "id": "3HteIHUS_GUw",
    "outputId": "34434284-33ad-4df8-ca4d-2c5e76c8acb2"
   },
   "outputs": [
    {
     "name": "stdout",
     "output_type": "stream",
     "text": [
      "2 3 5 7 11 "
     ]
    }
   ],
   "source": [
    "# 12. Create a program that prints the prime numbers in a given range using a `for` loop\n",
    "\n",
    "\n",
    "def is_prime(num):\n",
    "    if num < 2:\n",
    "        return False\n",
    "    for i in range(2, int((num)**(1/2)) + 1):\n",
    "        if num % i == 0:\n",
    "            return False\n",
    "    return True\n",
    "\n",
    "def prime_no(start_num, end_num):\n",
    "    for i in range(start_num, end_num + 1):\n",
    "        if is_prime(i):\n",
    "            print(i,end = \" \")\n",
    "\n",
    "prime_no(1, 12)\n",
    "\n",
    "\n",
    "\n"
   ]
  },
  {
   "cell_type": "code",
   "execution_count": null,
   "metadata": {
    "colab": {
     "base_uri": "https://localhost:8080/"
    },
    "id": "ZGHNq65G_NdP",
    "outputId": "9e24c5a9-27bd-435e-8958-48d0b32bf8e0"
   },
   "outputs": [
    {
     "name": "stdout",
     "output_type": "stream",
     "text": [
      "enter string: suma anusha abbireddy\n",
      "vowels in given word suma anusha abbireddy are: 8\n"
     ]
    }
   ],
   "source": [
    "# 13. Develop a program that counts the number of vowels in a string using a `for` loop\n",
    "word = input(\"enter string: \")\n",
    "vowel_count=0\n",
    "vowel=\"aeiouAEIOU\"\n",
    "for i in word:\n",
    "  if i in vowel:\n",
    "    vowel_count+=1\n",
    "print(\"vowels in given word\",word,\"are:\",vowel_count)\n"
   ]
  },
  {
   "cell_type": "code",
   "execution_count": null,
   "metadata": {
    "colab": {
     "base_uri": "https://localhost:8080/"
    },
    "id": "Y0lOuX0Y_wia",
    "outputId": "722847f0-266e-4ced-d986-189fa01ff297"
   },
   "outputs": [
    {
     "name": "stdout",
     "output_type": "stream",
     "text": [
      "9\n"
     ]
    }
   ],
   "source": [
    "# 14. Write a program to find the maximum element in a 2D list using a nested `for` loop.\n",
    "matrix = [\n",
    "    [1, 2, 3],\n",
    "    [4, 5, 6],\n",
    "    [7, 8, 9]\n",
    "]\n",
    "\n",
    "l=[]\n",
    "for i in matrix:\n",
    "  for j in range(i[0],i[len(i)-1]+1):\n",
    "    l.append(j)\n",
    "print(max(l))\n"
   ]
  },
  {
   "cell_type": "code",
   "execution_count": null,
   "metadata": {
    "colab": {
     "base_uri": "https://localhost:8080/",
     "height": 70
    },
    "id": "ueeiNEW5Ar6M",
    "outputId": "3423b3be-9d42-4b74-9fde-e84665efd26a"
   },
   "outputs": [
    {
     "name": "stdout",
     "output_type": "stream",
     "text": [
      "enter number to remove:2\n"
     ]
    },
    {
     "data": {
      "application/vnd.google.colaboratory.intrinsic+json": {
       "type": "string"
      },
      "text/plain": [
       "'Index Shift: As elements are removed, the indices of the remaining elements in the list can change. \\nThis can cause the loop to skip elements or revisit elements that have already been processed.'"
      ]
     },
     "execution_count": 48,
     "metadata": {},
     "output_type": "execute_result"
    }
   ],
   "source": [
    "# 15. Create a program that removes all occurrences of a specific element from a list using a `for` loop.\n",
    "l = [1,2,2,2,3,4,5,6,6,7,8,9,10,10]\n",
    "n = int(input(\"enter number to remove:\" ))\n",
    "for i in l:\n",
    "  if i ==n:\n",
    "    l.remove(i)\n",
    "l\n",
    "\n",
    "''' Modifying a list while iterating through it using a for loop can lead\n",
    "to unexpected behavior or errors due to the changing structure of the list. Here's why this can happen:'''\n",
    "\n",
    "'''Changing List Size: When you remove an element from the list inside the loop using l.remove(i),\n",
    " the size of the list decreases. However, the loop continues to iterate over the original list size, which can result\n",
    "  in skipping elements or not processing all elements correctly.'''\n",
    "\n",
    "'''Index Shift: As elements are removed, the indices of the remaining elements in the list can change.\n",
    "This can cause the loop to skip elements or revisit elements that have already been processed.'''\n"
   ]
  },
  {
   "cell_type": "code",
   "execution_count": null,
   "metadata": {
    "colab": {
     "base_uri": "https://localhost:8080/"
    },
    "id": "Nzm7X3qTDnDF",
    "outputId": "a40c25da-f64a-47a8-f7a2-cb6495ec9f6c"
   },
   "outputs": [
    {
     "name": "stdout",
     "output_type": "stream",
     "text": [
      "Enter number to remove: 2\n",
      "[1, 3, 4, 5, 6, 6, 7, 8, 9, 10, 10]\n"
     ]
    }
   ],
   "source": [
    "l = [1, 2, 2, 2, 3, 4, 5, 6, 6, 7, 8, 9, 10, 10]\n",
    "n = int(input(\"Enter number to remove: \"))\n",
    "\n",
    "# Create a new list with elements excluding the specified number n\n",
    "new_list = [x for x in l if x != n]\n",
    "\n",
    "print(new_list)\n"
   ]
  },
  {
   "cell_type": "code",
   "execution_count": null,
   "metadata": {
    "colab": {
     "base_uri": "https://localhost:8080/"
    },
    "id": "Ww1aDpX5A_LA",
    "outputId": "b8fca6b6-af66-49fb-8bb6-66b9d1bfcabe"
   },
   "outputs": [
    {
     "name": "stdout",
     "output_type": "stream",
     "text": [
      "1*1=1\n",
      "1*2=2\n",
      "1*3=3\n",
      "1*4=4\n",
      "1*5=5\n",
      "1*6=6\n",
      "1*7=7\n",
      "1*8=8\n",
      "1*9=9\n",
      "1*10=10\n",
      "1*11=11\n",
      "1*12=12\n",
      "2*1=2\n",
      "2*2=4\n",
      "2*3=6\n",
      "2*4=8\n",
      "2*5=10\n",
      "2*6=12\n",
      "2*7=14\n",
      "2*8=16\n",
      "2*9=18\n",
      "2*10=20\n",
      "2*11=22\n",
      "2*12=24\n",
      "3*1=3\n",
      "3*2=6\n",
      "3*3=9\n",
      "3*4=12\n",
      "3*5=15\n",
      "3*6=18\n",
      "3*7=21\n",
      "3*8=24\n",
      "3*9=27\n",
      "3*10=30\n",
      "3*11=33\n",
      "3*12=36\n",
      "4*1=4\n",
      "4*2=8\n",
      "4*3=12\n",
      "4*4=16\n",
      "4*5=20\n",
      "4*6=24\n",
      "4*7=28\n",
      "4*8=32\n",
      "4*9=36\n",
      "4*10=40\n",
      "4*11=44\n",
      "4*12=48\n",
      "5*1=5\n",
      "5*2=10\n",
      "5*3=15\n",
      "5*4=20\n",
      "5*5=25\n",
      "5*6=30\n",
      "5*7=35\n",
      "5*8=40\n",
      "5*9=45\n",
      "5*10=50\n",
      "5*11=55\n",
      "5*12=60\n",
      " \n"
     ]
    }
   ],
   "source": [
    "# 16. Develop a program that generates a multiplication table for numbers from 1 to 5 using a nested `for` loop.\n",
    "\n",
    "for i in range(1,6):\n",
    "  for j in range(1,13):\n",
    "    print(\"{}*{}={}\".format(i,j,i*j))\n",
    "print(\" \")"
   ]
  },
  {
   "cell_type": "code",
   "execution_count": null,
   "metadata": {
    "colab": {
     "base_uri": "https://localhost:8080/"
    },
    "id": "DG7RcDNhICBU",
    "outputId": "d2c6d48e-0d53-4c59-b439-0a06988f30d4"
   },
   "outputs": [
    {
     "name": "stdout",
     "output_type": "stream",
     "text": [
      "celcius temp for faherenheit 12.3 is -10.944444444444445 degree celcius\n",
      "celcius temp for faherenheit 98.6 is 37.0 degree celcius\n",
      "celcius temp for faherenheit 78 is 25.555555555555557 degree celcius\n",
      "celcius temp for faherenheit 45.7 is 7.611111111111113 degree celcius\n",
      "celcius temp for faherenheit 23.4 is -4.777777777777779 degree celcius\n"
     ]
    }
   ],
   "source": [
    "\n",
    "# 17. Write a program that converts a list of Fahrenheit temperatures to Celsius using a `for` loop\n",
    "fah = [12.3,98.6,78,45.7,23.4]\n",
    "for i in fah:\n",
    "  c= 5/9 *(i-32)\n",
    "  print(\"celcius temp for faherenheit {} is {} degree celcius\".format(i,c))\n"
   ]
  },
  {
   "cell_type": "code",
   "execution_count": null,
   "metadata": {
    "colab": {
     "base_uri": "https://localhost:8080/"
    },
    "id": "cdLxhTxwIWm-",
    "outputId": "69f22ea3-890b-413b-ea1b-b3546fc56e58"
   },
   "outputs": [
    {
     "name": "stdout",
     "output_type": "stream",
     "text": [
      "common elements are\n",
      "1\n",
      "2\n",
      "4\n"
     ]
    }
   ],
   "source": [
    "# 18. Create a program to print the common elements from two lists using a `for` loop\n",
    "print(\"common elements are\")\n",
    "l = [1,2,3,4,5,6]\n",
    "k = [1,2,4,9,0,23,45]\n",
    "for i in l:\n",
    "  if i in k:\n",
    "    print(i)"
   ]
  },
  {
   "cell_type": "code",
   "execution_count": null,
   "metadata": {
    "colab": {
     "base_uri": "https://localhost:8080/"
    },
    "id": "gl5ZVUOYJ9Sb",
    "outputId": "334288d0-4621-46b4-d620-b4d6115c35d7"
   },
   "outputs": [
    {
     "name": "stdout",
     "output_type": "stream",
     "text": [
      "* \n",
      "* * \n",
      "* * * \n",
      "* * * * \n",
      "* * * * * \n",
      "* * * * * * \n",
      "* * * * * * * \n"
     ]
    }
   ],
   "source": [
    "# 19. Develop a program that prints the pattern of right-angled triangles using a `for` loop. Use ‘*’ to draw the pattern\n",
    "\n",
    "for i in range(1,8):\n",
    "  for j in range(i):\n",
    "    print(\"*\",end=\" \")\n",
    "  print()"
   ]
  },
  {
   "cell_type": "code",
   "execution_count": null,
   "metadata": {
    "colab": {
     "base_uri": "https://localhost:8080/"
    },
    "id": "t2z0XNbqKiK5",
    "outputId": "5a6dc0f0-cc18-44d2-a556-93da19ab2df6"
   },
   "outputs": [
    {
     "name": "stdout",
     "output_type": "stream",
     "text": [
      "enter first number12\n",
      "enter second number24\n",
      "12\n"
     ]
    }
   ],
   "source": [
    "# 20. Write a program to find the greatest common divisor (GCD) of two numbers using a `for` loop.\n",
    "n1 = int(input(\"enter first number\"))\n",
    "n2 = int(input(\"enter second number\"))\n",
    "l=[]\n",
    "for i in range(1,n1+n2):\n",
    "  if n1%i ==0 and n2%i==0:\n",
    "    l.append(i)\n",
    "print(max(l))\n"
   ]
  },
  {
   "cell_type": "code",
   "execution_count": null,
   "metadata": {
    "colab": {
     "base_uri": "https://localhost:8080/"
    },
    "id": "6k2rusXGKyc-",
    "outputId": "dd938a87-0016-436c-c379-2f7c650eca22"
   },
   "outputs": [
    {
     "data": {
      "text/plain": [
       "55"
      ]
     },
     "execution_count": 61,
     "metadata": {},
     "output_type": "execute_result"
    }
   ],
   "source": [
    "8# 21. Create a program that calculates the sum of the digits of numbers in a list using a list comprehension\n",
    "l = [1,2,4,3,5,6,7,8,9,10]\n",
    "count=0\n",
    "sum = [count:=count+i  for i in l ]\n",
    "sum[-1]"
   ]
  },
  {
   "cell_type": "code",
   "execution_count": null,
   "metadata": {
    "colab": {
     "base_uri": "https://localhost:8080/"
    },
    "id": "t66QBqBJLI4L",
    "outputId": "bccdbe06-fa80-4d78-fe2e-8e3cceb8de0d"
   },
   "outputs": [
    {
     "name": "stdout",
     "output_type": "stream",
     "text": [
      "enter number: 4\n",
      "1\n",
      "2\n"
     ]
    }
   ],
   "source": [
    "# 22. Write a program to find the prime factors of a given number using a `for` loop and list comprehension\n",
    "num = int(input(\"enter number: \"))\n",
    "for i in range(1,num):\n",
    "  if num%i==0:\n",
    "    print(i)"
   ]
  },
  {
   "cell_type": "code",
   "execution_count": null,
   "metadata": {
    "colab": {
     "base_uri": "https://localhost:8080/"
    },
    "id": "vuUCgMzzRVpx",
    "outputId": "4d2ba818-98c3-4430-afca-74056967f810"
   },
   "outputs": [
    {
     "name": "stdout",
     "output_type": "stream",
     "text": [
      "enter number:4\n",
      "prime factors of 4 are [1, 2]\n"
     ]
    }
   ],
   "source": [
    "num = int(input(\"enter number:\"))\n",
    "x = [i for i in range(1,num) if num%i==0]\n",
    "print(\"prime factors of {} are {}\".format(num,x))"
   ]
  },
  {
   "cell_type": "code",
   "execution_count": null,
   "metadata": {
    "colab": {
     "base_uri": "https://localhost:8080/"
    },
    "id": "-EYx9UFlRq3N",
    "outputId": "2417716a-74c4-4a2b-e93f-ec4b10a5b372"
   },
   "outputs": [
    {
     "data": {
      "text/plain": [
       "[1, 2, 3, 4, 5, 6, 9]"
      ]
     },
     "execution_count": 69,
     "metadata": {},
     "output_type": "execute_result"
    }
   ],
   "source": [
    "# 23. Develop a program that extracts unique elements from a list and stores them in a new list using a list comprehension.\n",
    "l = [1,2,3,2,2,3,4,5,6,9,9]\n",
    "l1 =[]\n",
    "for i in l:\n",
    "  if i not in l1:\n",
    "    l1.append(i)\n",
    "l1\n",
    "\n"
   ]
  },
  {
   "cell_type": "code",
   "execution_count": null,
   "metadata": {
    "colab": {
     "base_uri": "https://localhost:8080/"
    },
    "id": "dRkcEZfZSulo",
    "outputId": "42c872b5-598c-4adf-883a-9365963570c2"
   },
   "outputs": [
    {
     "name": "stdout",
     "output_type": "stream",
     "text": [
      "11 22 33 44 55 66 77 88 99 101 111 121 131 141 151 161 171 181 191 202 212 222 232 242 "
     ]
    }
   ],
   "source": [
    "# 24. Create a program that generates a list of all palindromic numbers up to a specified limit using a list comprehension.\n",
    "\n",
    "for i in range(11,250):\n",
    "  if str(i) ==str(i)[::-1]:\n",
    "    print(i,end = \" \")"
   ]
  },
  {
   "cell_type": "code",
   "execution_count": null,
   "metadata": {
    "colab": {
     "base_uri": "https://localhost:8080/"
    },
    "id": "jcR63a1mTdJN",
    "outputId": "c0dfa740-ffc8-4369-f060-e2e25626d35f"
   },
   "outputs": [
    {
     "name": "stdout",
     "output_type": "stream",
     "text": [
      "[11, 22, 33, 44, 55, 66, 77, 88, 99, 101, 111, 121, 131, 141, 151, 161, 171, 181, 191, 202, 212, 222, 232, 242] "
     ]
    }
   ],
   "source": [
    " x = [i for i in range(11,250) if str(i)==str(i)[::-1]]\n",
    " print(x,end=\" \")"
   ]
  },
  {
   "cell_type": "code",
   "execution_count": null,
   "metadata": {
    "colab": {
     "base_uri": "https://localhost:8080/"
    },
    "id": "qS9EtH_AT-st",
    "outputId": "c56c8357-7d55-4315-f6b8-2dd4a6cf30df"
   },
   "outputs": [
    {
     "name": "stdout",
     "output_type": "stream",
     "text": [
      "[1, 2, 3, 4, 5, 6, 7, 8]\n"
     ]
    }
   ],
   "source": [
    "# 25. Write a program to flatten a nested list using list comprehension\n",
    "\n",
    "def flatten_list(nested_list):\n",
    "    # Use list comprehension to flatten the nested list\n",
    "    flat_list = [item for i in nested_list for item in i]\n",
    "    return flat_list\n",
    "\n",
    "# Example usage:\n",
    "nested_list = [[1, 2, 3], [4, 5], [6, 7, 8]]\n",
    "flattened = flatten_list(nested_list)\n",
    "print(flattened)\n",
    "\n",
    "\n",
    "\n"
   ]
  },
  {
   "cell_type": "code",
   "execution_count": null,
   "metadata": {
    "colab": {
     "base_uri": "https://localhost:8080/"
    },
    "id": "wYrDK5mIbO5h",
    "outputId": "02c27040-832e-4430-e9de-b88c6175c017"
   },
   "outputs": [
    {
     "name": "stdout",
     "output_type": "stream",
     "text": [
      "[1, 2, 3, 4, 5, 6, 7, 8]\n"
     ]
    }
   ],
   "source": [
    "from itertools import chain\n",
    "\n",
    "nested_list = [[1, 2, 3], [4, 5], [6, 7, 8]]\n",
    "\n",
    "flattened_list = list(chain(*nested_list))\n",
    "\n",
    "print(flattened_list)\n"
   ]
  },
  {
   "cell_type": "code",
   "execution_count": null,
   "metadata": {
    "colab": {
     "base_uri": "https://localhost:8080/"
    },
    "id": "BCgfqRDDcTnW",
    "outputId": "16a9a066-0f0a-4517-caad-9d804438c737"
   },
   "outputs": [
    {
     "name": "stdout",
     "output_type": "stream",
     "text": [
      "30 25\n"
     ]
    }
   ],
   "source": [
    "# 26. Develop a program that computes the sum of even and odd numbers in a list separately using list comprehension.\n",
    "even_count=0\n",
    "odd_count=0\n",
    "l = [1,2,3,4,5,6,7,8,9,10]\n",
    "for i in l:\n",
    "  if i%2==0:\n",
    "    even_count+=i\n",
    "  else:\n",
    "    odd_count+=i\n",
    "print(even_count,odd_count)\n"
   ]
  },
  {
   "cell_type": "code",
   "execution_count": null,
   "metadata": {
    "colab": {
     "base_uri": "https://localhost:8080/"
    },
    "id": "dDuz7OyceGsJ",
    "outputId": "06f9549c-63a2-4c75-88ac-4fc415cbd89c"
   },
   "outputs": [
    {
     "data": {
      "text/plain": [
       "[1, 9, 25, 49, 81]"
      ]
     },
     "execution_count": 53,
     "metadata": {},
     "output_type": "execute_result"
    }
   ],
   "source": [
    "# 27. Create a program that generates a list of squares of odd numbers between 1 and 10 using list comprehension.\n",
    "\n",
    "x = [i**2 for i in range(1,11) if i%2!=0]\n",
    "x"
   ]
  },
  {
   "cell_type": "code",
   "execution_count": null,
   "metadata": {
    "colab": {
     "base_uri": "https://localhost:8080/"
    },
    "id": "4t0KSBJzetig",
    "outputId": "e05fb16d-5c14-4cb6-fa62-edb8b25d5261"
   },
   "outputs": [
    {
     "name": "stdout",
     "output_type": "stream",
     "text": [
      "{'a': 1, 'b': 2, 'c': 3}\n"
     ]
    }
   ],
   "source": [
    "# 28. Write a program that combines two lists into a dictionary using list comprehension\n",
    "keys = ['a', 'b', 'c']\n",
    "values = [1, 2, 3]\n",
    "\n",
    "# Use list comprehension to create a dictionary from the two lists\n",
    "combined_dict = {key: value for key, value in zip(keys, values)}\n",
    "\n",
    "print(combined_dict)\n",
    "\n"
   ]
  },
  {
   "cell_type": "code",
   "execution_count": null,
   "metadata": {
    "colab": {
     "base_uri": "https://localhost:8080/"
    },
    "id": "HoSdpdzYtdkv",
    "outputId": "9b547a2e-dc51-4983-9a16-dd7ffd1c4c9e"
   },
   "outputs": [
    {
     "name": "stdout",
     "output_type": "stream",
     "text": [
      "enter string: suma\n"
     ]
    },
    {
     "data": {
      "text/plain": [
       "['u', 'a']"
      ]
     },
     "execution_count": 1,
     "metadata": {},
     "output_type": "execute_result"
    }
   ],
   "source": [
    "# 29. Develop a program that extracts the vowels from a string and stores them in a list using list comprehension.\n",
    "l=[]\n",
    "word = input(\"enter string: \")\n",
    "for i in word:\n",
    "  if i in \"AEIOUaeiou\":\n",
    "    l.append(i)\n",
    "l\n"
   ]
  },
  {
   "cell_type": "code",
   "execution_count": null,
   "metadata": {
    "colab": {
     "base_uri": "https://localhost:8080/"
    },
    "id": "4umjq28ZuIAR",
    "outputId": "6c3d4650-120f-44a4-909d-5f9c2a23da1c"
   },
   "outputs": [
    {
     "data": {
      "text/plain": [
       "['u', 'a', 'a', 'u', 'a']"
      ]
     },
     "execution_count": 4,
     "metadata": {},
     "output_type": "execute_result"
    }
   ],
   "source": [
    "\n",
    "x = [i for i in \"suma anusha\" if i in \"aeiouAEIOU\"]\n",
    "x"
   ]
  },
  {
   "cell_type": "code",
   "execution_count": null,
   "metadata": {
    "colab": {
     "base_uri": "https://localhost:8080/"
    },
    "id": "VQ1J6RiRum_V",
    "outputId": "20e02603-b6ee-434e-d9ff-657667a85703"
   },
   "outputs": [
    {
     "data": {
      "text/plain": [
       "[1, 2, 3, 4, 5]"
      ]
     },
     "execution_count": 8,
     "metadata": {},
     "output_type": "execute_result"
    }
   ],
   "source": [
    "# 30. Create a program that removes all non-numeric characters from a list of strings using list comprehension.\n",
    "\n",
    "l=[\"s\",\"t\",1,2,3,4,5,\"t\",\"r\",\"4\"]\n",
    "x = [i for i in l if type(i) is not str]\n",
    "x"
   ]
  },
  {
   "cell_type": "code",
   "execution_count": null,
   "metadata": {
    "colab": {
     "base_uri": "https://localhost:8080/"
    },
    "id": "_4zSScmNvfOk",
    "outputId": "5b09568d-2e91-415e-dcdc-b3cf356f5abc"
   },
   "outputs": [
    {
     "name": "stdout",
     "output_type": "stream",
     "text": [
      "[2, 3, 5, 7, 11, 13, 17, 19, 23, 29]\n"
     ]
    }
   ],
   "source": [
    "# 31. Write a program to generate a list of prime numbers using the Sieve of Eratosthenes algorithm and list comprehension.\n",
    "def sieve_of_eratosthenes(limit):\n",
    "    primes = []\n",
    "    is_prime = [True] * (limit + 1)\n",
    "\n",
    "    for p in range(2, int(limit**0.5) + 1):\n",
    "        if is_prime[p]:\n",
    "            for i in range(p * p, limit + 1, p):\n",
    "                is_prime[i] = False\n",
    "\n",
    "    for p in range(2, limit + 1):\n",
    "        if is_prime[p]:\n",
    "            primes.append(p)\n",
    "\n",
    "    return primes\n",
    "\n",
    "\n",
    "limit = 30\n",
    "prime_numbers = sieve_of_eratosthenes(limit)\n",
    "print(prime_numbers)\n"
   ]
  },
  {
   "cell_type": "code",
   "execution_count": 10,
   "metadata": {
    "id": "lrPvnjjZMI8d"
   },
   "outputs": [
    {
     "name": "stdout",
     "output_type": "stream",
     "text": [
      "enter limit:10\n"
     ]
    },
    {
     "data": {
      "text/plain": [
       "[(3, 4, 5), (4, 3, 5), (6, 8, 10), (8, 6, 10)]"
      ]
     },
     "execution_count": 10,
     "metadata": {},
     "output_type": "execute_result"
    }
   ],
   "source": [
    "# 32. Create a program that generates a list of all Pythagorean triplets up to a specified limit using list comprehension\n",
    "limit= int(input(\"enter limit:\"))\n",
    "a = [(a,b,c) for a in range(1,limit+1) for b in range(1,limit+1) for c in range(1,limit+1) if a**2 + b**2 == c**2]\n",
    "a"
   ]
  },
  {
   "cell_type": "code",
   "execution_count": 8,
   "metadata": {},
   "outputs": [
    {
     "data": {
      "text/plain": [
       "[(1, 's'),\n",
       " (1, 'u'),\n",
       " (1, 'm'),\n",
       " (1, 'a'),\n",
       " (1, 'r'),\n",
       " (2, 's'),\n",
       " (2, 'u'),\n",
       " (2, 'm'),\n",
       " (2, 'a'),\n",
       " (2, 'r'),\n",
       " (3, 's'),\n",
       " (3, 'u'),\n",
       " (3, 'm'),\n",
       " (3, 'a'),\n",
       " (3, 'r'),\n",
       " (4, 's'),\n",
       " (4, 'u'),\n",
       " (4, 'm'),\n",
       " (4, 'a'),\n",
       " (4, 'r'),\n",
       " (5, 's'),\n",
       " (5, 'u'),\n",
       " (5, 'm'),\n",
       " (5, 'a'),\n",
       " (5, 'r'),\n",
       " (7, 's'),\n",
       " (7, 'u'),\n",
       " (7, 'm'),\n",
       " (7, 'a'),\n",
       " (7, 'r')]"
      ]
     },
     "execution_count": 8,
     "metadata": {},
     "output_type": "execute_result"
    }
   ],
   "source": [
    "# 33. Develop a program that generates a list of all possible combinations of two lists using list comprehension.\n",
    "\n",
    "l = [1,2,3,4,5,7]\n",
    "l1 = [\"s\",\"u\",\"m\",\"a\",\"r\"]\n",
    "\n",
    "a = [(i,j) for i in l for j in l1]\n",
    "a\n",
    "        "
   ]
  },
  {
   "cell_type": "code",
   "execution_count": 59,
   "metadata": {
    "scrolled": true
   },
   "outputs": [
    {
     "data": {
      "text/plain": [
       "(3.857142857142857, 4, [6])"
      ]
     },
     "execution_count": 59,
     "metadata": {},
     "output_type": "execute_result"
    }
   ],
   "source": [
    "# 34. Write a program that calculates the mean, median, and mode of a list of numbers using list comprehension.\n",
    "\n",
    "def avgs(l):\n",
    "    l.sort()\n",
    "    mean = sum(l)/len(l)\n",
    "    if len(l)%2!=0:\n",
    "        median = l[len(l)//2]\n",
    "    else:\n",
    "        median = (l[len(l)//2] +l[(len(l)//2) - 1]) /2\n",
    "    counts ={}\n",
    "    for item in l:\n",
    "        if item in counts:\n",
    "            counts[item] += 1\n",
    "        else:\n",
    "            counts[item] = 1\n",
    "\n",
    "    max_count = max(counts.values())\n",
    "    mode = [item for item, count in counts.items() if count == max_count]\n",
    "    \n",
    "    return mean,median,mode\n",
    "\n",
    "\n",
    "\n",
    "\n",
    "                \n",
    "        \n",
    "avgs([1,2,3,4,5,6,6])"
   ]
  },
  {
   "cell_type": "code",
   "execution_count": 5,
   "metadata": {},
   "outputs": [
    {
     "name": "stdout",
     "output_type": "stream",
     "text": [
      "Enter the number of rows for Pascal's Triangle: 10\n",
      "              1               \n",
      "             1 1              \n",
      "            1 2 1             \n",
      "           1 3 3 1            \n",
      "          1 4 6 4 1           \n",
      "        1 5 10 10 5 1         \n",
      "       1 6 15 20 15 6 1       \n",
      "     1 7 21 35 35 21 7 1      \n",
      "    1 8 28 56 70 56 28 8 1    \n",
      " 1 9 36 84 126 126 84 36 9 1  \n"
     ]
    }
   ],
   "source": [
    "# 35. Create a program that generates Pascal's triangle up to a specified number of rows using list comprehension.\n",
    "\n",
    "def generate_pascals_triangle(num_rows):\n",
    "    if num_rows <= 0:\n",
    "        return []\n",
    "\n",
    "    triangle = [[1]]\n",
    "    while len(triangle) < num_rows:\n",
    "        previous_row = triangle[-1]\n",
    "        next_row = [1] + [previous_row[i] + previous_row[i + 1] for i in range(len(previous_row) - 1)] + [1]\n",
    "        triangle.append(next_row)\n",
    "\n",
    "    return triangle\n",
    "\n",
    "# Input: Number of rows\n",
    "num_rows = int(input(\"Enter the number of rows for Pascal's Triangle: \"))\n",
    "\n",
    "pascals_triangle = generate_pascals_triangle(num_rows)\n",
    "\n",
    "# Display Pascal's Triangle\n",
    "for row in pascals_triangle:\n",
    "    print(\" \".join(map(str, row)).center(num_rows * 3))\n",
    "\n"
   ]
  },
  {
   "cell_type": "code",
   "execution_count": 25,
   "metadata": {},
   "outputs": [
    {
     "name": "stdout",
     "output_type": "stream",
     "text": [
      "The sum of the digits of 1! is 1\n",
      "The sum of the digits of 2! is 2\n",
      "The sum of the digits of 3! is 6\n",
      "The sum of the digits of 4! is 6\n",
      "The sum of the digits of 5! is 3\n"
     ]
    }
   ],
   "source": [
    "# 36. Develop a program that calculates the sum of the digits of a factorial of numbers from 1 to 5 using list comprehension.\n",
    "\n",
    "def factorial(n):\n",
    "    if n == 0 or n == 1:\n",
    "        return 1\n",
    "    else:\n",
    "        return n * factorial(n - 1)\n",
    "\n",
    "def sum_of_digits(number):\n",
    "    return sum(int(digit) for digit in str(number))\n",
    "\n",
    "\n",
    "factorials = [factorial(n) for n in range(1, 6)]\n",
    "digit_sums = [sum_of_digits(factorial) for factorial in factorials]\n",
    "\n",
    "for n, digit_sum in zip(range(1, 6), digit_sums):\n",
    "    print(f\"The sum of the digits of {n}! is {digit_sum}\")\n",
    "    "
   ]
  },
  {
   "cell_type": "code",
   "execution_count": null,
   "metadata": {},
   "outputs": [],
   "source": [
    "sum_of_fac_digits = [sum(for j in range(1,i+1)) for i in range(1,6)]"
   ]
  },
  {
   "cell_type": "code",
   "execution_count": 19,
   "metadata": {},
   "outputs": [
    {
     "name": "stdout",
     "output_type": "stream",
     "text": [
      "The longest word in the sentence is: sentence\n"
     ]
    }
   ],
   "source": [
    "# 37. Write a program that finds the longest word in a sentence using list comprehension.\n",
    "def find_longest_word(sentence):\n",
    "    words = sentence.split()  # Split the sentence into words\n",
    "    longest_word = max(words, key=len)\n",
    "    return longest_word\n",
    "\n",
    "\n",
    "sentence = \"This is a sample sentence with some long words\"\n",
    "longest_word = find_longest_word(sentence)\n",
    "print(f\"The longest word in the sentence is: {longest_word}\")\n"
   ]
  },
  {
   "cell_type": "code",
   "execution_count": 4,
   "metadata": {
    "scrolled": false
   },
   "outputs": [
    {
     "data": {
      "text/plain": [
       "['abbireddy']"
      ]
     },
     "execution_count": 4,
     "metadata": {},
     "output_type": "execute_result"
    }
   ],
   "source": [
    "s=\"suma anusha abbireddy\"\n",
    "a = [max(s.split(), key=len)]\n",
    "a"
   ]
  },
  {
   "cell_type": "code",
   "execution_count": 11,
   "metadata": {},
   "outputs": [
    {
     "name": "stdout",
     "output_type": "stream",
     "text": [
      "['aeio', 'aneesha']\n"
     ]
    }
   ],
   "source": [
    "'''38. Create a program that filters a list of strings to include only those with more than three vowels using list \n",
    "comprehension.'''\n",
    "\n",
    "def str_filter(lst):\n",
    "    return [s for s in lst if sum(1 for char in s if char in \"aeiouAEIOU\") > 3]\n",
    "\n",
    "filtered_strings = str_filter([\"aeio\", \"suma\", \"aneesha\"])\n",
    "print(filtered_strings)\n"
   ]
  },
  {
   "cell_type": "code",
   "execution_count": 10,
   "metadata": {},
   "outputs": [
    {
     "data": {
      "text/plain": [
       "['aeio', 'aneesha']"
      ]
     },
     "execution_count": 10,
     "metadata": {},
     "output_type": "execute_result"
    }
   ],
   "source": [
    "def str_filter(l):\n",
    "    r =[]\n",
    "    for i in l:\n",
    "        k=[]\n",
    "        for j in i:\n",
    "            if j in \"aeiouAEIOU\":\n",
    "                k.append(j)\n",
    "        if len(k)>3:\n",
    "            r.append(i)\n",
    "    return r\n",
    "str_filter([\"aeio\",\"suma\",\"aneesha\"])  "
   ]
  },
  {
   "cell_type": "code",
   "execution_count": null,
   "metadata": {},
   "outputs": [],
   "source": []
  },
  {
   "cell_type": "code",
   "execution_count": null,
   "metadata": {},
   "outputs": [],
   "source": [
    "str_filter = [r.appendfor j in i if j in \"aeiouAEIOU\"for i in [\"aeio\",\"suma\",\"aneesha\"]]"
   ]
  },
  {
   "cell_type": "code",
   "execution_count": 15,
   "metadata": {
    "colab": {
     "base_uri": "https://localhost:8080/",
     "height": 210
    },
    "id": "ZgUr7monwkeK",
    "outputId": "d9584ef9-3879-4d8a-d789-72b841fe5cf4",
    "scrolled": true
   },
   "outputs": [
    {
     "name": "stdout",
     "output_type": "stream",
     "text": [
      "The sum of the digits of numbers from 1 to 1000 is: 13501\n"
     ]
    }
   ],
   "source": [
    "# 39. Develop a program that calculates the sum of the digits of numbers from 1 to 1000 using list comprehension.\n",
    "\n",
    "\n",
    "digit_sums = [sum(int(digit) for digit in str(number)) for number in range(1, 1001)]\n",
    "total_sum = sum(digit_sums)\n",
    "\n",
    "print(\"The sum of the digits of numbers from 1 to 1000 is:\", total_sum)\n",
    "\n",
    "\n"
   ]
  },
  {
   "cell_type": "code",
   "execution_count": 5,
   "metadata": {
    "id": "AIxaHIn2w8-0",
    "scrolled": true
   },
   "outputs": [],
   "source": [
    "# 40. Write a program that generates a list of prime palindromic numbers using list comprehension\n",
    "\n",
    "prime_palindromicc = [x for x in range(2, 500)\n",
    "if all(x % y != 0  for y in range(2, x)) and str(x) ==str(x)[::-1]]\n",
    "                "
   ]
  },
  {
   "cell_type": "code",
   "execution_count": 6,
   "metadata": {},
   "outputs": [
    {
     "data": {
      "text/plain": [
       "[2, 3, 5, 7, 11, 101, 131, 151, 181, 191, 313, 353, 373, 383]"
      ]
     },
     "execution_count": 6,
     "metadata": {},
     "output_type": "execute_result"
    }
   ],
   "source": [
    "prime_palindromicc"
   ]
  },
  {
   "cell_type": "code",
   "execution_count": null,
   "metadata": {},
   "outputs": [],
   "source": []
  }
 ],
 "metadata": {
  "colab": {
   "provenance": []
  },
  "kernelspec": {
   "display_name": "Python 3 (ipykernel)",
   "language": "python",
   "name": "python3"
  },
  "language_info": {
   "codemirror_mode": {
    "name": "ipython",
    "version": 3
   },
   "file_extension": ".py",
   "mimetype": "text/x-python",
   "name": "python",
   "nbconvert_exporter": "python",
   "pygments_lexer": "ipython3",
   "version": "3.9.13"
  }
 },
 "nbformat": 4,
 "nbformat_minor": 1
}
