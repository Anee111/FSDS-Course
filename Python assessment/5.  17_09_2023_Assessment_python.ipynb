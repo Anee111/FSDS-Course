{
 "cells": [
  {
   "cell_type": "markdown",
   "id": "54c98b28",
   "metadata": {
    "id": "54c98b28"
   },
   "source": [
    "#### For Loop :-\n",
    "1. Write a Python program to print numbers from 1 to 10 using a for loop.\n",
    "2. Explain the difference between a for loop and a while loop in Python.\n",
    "3. Write a Python program to calculate the sum of all numbers from 1 to 100 using a for loop.\n",
    "4. How do you iterate through a list using a for loop in Python?\n",
    "5. Write a Python program to find the product of all elements in a list using a for loop.\n",
    "6. Create a Python program that prints all even numbers from 1 to 20 using a for loop.\n",
    "7. Write a Python program that calculates the factorial of a number using a for loop.\n",
    "8. How can you iterate through the characters of a string using a for loop in Python?\n",
    "9. Write a Python program to find the largest number in a list using a for loop.\n",
    "10. Create a Python program that prints the Fibonacci sequence up to a specified limit using a for\n",
    "loop.\n",
    "11. Write a Python program to count the number of vowels in a given string using a for loop.\n",
    "12. Create a Python program that generates a multiplication table for a given number using a for\n",
    "loop.\n",
    "13. Write a Python program to reverse a list using a for loop.\n",
    "14. Write a Python program to find the common elements between two lists using a for loop.\n",
    "15. Explain how to use a for loop to iterate through the keys and values of a dictionary in Python.\n",
    "16. Write a Python program to find the GCD (Greatest Common Divisor) of two numbers using a for\n",
    "loop.\n",
    "17. Create a Python program that checks if a string is a palindrome using a for loop.\n",
    "18. Write a Python program to remove duplicates from a list using a for loop.\n",
    "19. Create a Python program that counts the number of words in a sentence using a for loop.\n",
    "20. Write a Python program to find the sum of all odd numbers from 1 to 50 using a for loop.\n",
    "21. Write a Python program that checks if a given year is a leap year using a for loop.\n",
    "22. Create a Python program that calculates the square root of a number using a for loop.\n",
    "23. Write a Python program to find the LCM (Least Common Multiple) of two numbers using a for\n",
    "loop.\n"
   ]
  },
  {
   "cell_type": "code",
   "execution_count": null,
   "id": "5fc6b0db",
   "metadata": {
    "id": "5fc6b0db",
    "outputId": "cf42df87-434a-4d05-f6bc-9774a89a44de"
   },
   "outputs": [
    {
     "name": "stdout",
     "output_type": "stream",
     "text": [
      "1 2 3 4 5 6 7 8 9 10 "
     ]
    }
   ],
   "source": [
    "# 1\n",
    "for i in range(1,11):\n",
    "    print(i,end = \" \")"
   ]
  },
  {
   "cell_type": "code",
   "execution_count": null,
   "id": "9upqbcJYrIwn",
   "metadata": {
    "id": "9upqbcJYrIwn"
   },
   "outputs": [],
   "source": [
    "# 2. Explain the difference between a for loop and a while loop in Python.\n",
    "''' for loop -----we use for loop when no.of iterations are known\n",
    "           ----- it does not execute first time whether condition is true or false\n",
    "   while loop ---- where as we use while loop when no.of iterations are not known\n",
    "                   it  execute first time whether condition is true or false"
   ]
  },
  {
   "cell_type": "code",
   "execution_count": null,
   "id": "9d0f9ae1",
   "metadata": {
    "id": "9d0f9ae1",
    "outputId": "af0d262f-b829-4007-8ac4-a3903836018b"
   },
   "outputs": [
    {
     "data": {
      "text/plain": [
       "5050"
      ]
     },
     "execution_count": 2,
     "metadata": {},
     "output_type": "execute_result"
    }
   ],
   "source": [
    "# 3\n",
    "count = 0\n",
    "for i in range(1,101):\n",
    "    count+=i\n",
    "count"
   ]
  },
  {
   "cell_type": "code",
   "execution_count": null,
   "id": "vZWOBOLOZxn7",
   "metadata": {
    "id": "vZWOBOLOZxn7"
   },
   "outputs": [],
   "source": [
    "# 4. How do you iterate through a list using a for loop in Python?\n",
    "l = [1,2,3,4,5,6,7]\n",
    "for i in l:\n",
    "  print(i)"
   ]
  },
  {
   "cell_type": "code",
   "execution_count": null,
   "id": "ffccd7f7",
   "metadata": {
    "id": "ffccd7f7",
    "outputId": "0bd3e014-5a9a-4f51-8cd7-ba782204c932"
   },
   "outputs": [
    {
     "data": {
      "text/plain": [
       "3628800"
      ]
     },
     "execution_count": 6,
     "metadata": {},
     "output_type": "execute_result"
    }
   ],
   "source": [
    "# 5\n",
    "l = [1,2,3,4,5,6,7,8,9,10]\n",
    "product =1\n",
    "for i in l:\n",
    "    product*=i\n",
    "product\n"
   ]
  },
  {
   "cell_type": "code",
   "execution_count": null,
   "id": "af567d6c",
   "metadata": {
    "id": "af567d6c",
    "outputId": "254115e3-5d74-4e90-c444-0e212bc929b6"
   },
   "outputs": [
    {
     "name": "stdout",
     "output_type": "stream",
     "text": [
      "2 4 6 8 10 12 14 16 18 20 "
     ]
    }
   ],
   "source": [
    "# 6\n",
    "\n",
    "for i in range(1,21):\n",
    "    if i%2==0:\n",
    "        print(i,end=\" \")\n"
   ]
  },
  {
   "cell_type": "code",
   "execution_count": null,
   "id": "fd57bc08",
   "metadata": {
    "id": "fd57bc08",
    "outputId": "2c3f0a33-0f36-49be-e662-b2c95c3e7b12"
   },
   "outputs": [
    {
     "name": "stdout",
     "output_type": "stream",
     "text": [
      "enter number: 8\n"
     ]
    },
    {
     "data": {
      "text/plain": [
       "40320"
      ]
     },
     "execution_count": 9,
     "metadata": {},
     "output_type": "execute_result"
    }
   ],
   "source": [
    "# 7\n",
    "prod = 1\n",
    "n = int(input(\"enter number: \"))\n",
    "for i in range(1,n+1):\n",
    "    prod*=i\n",
    "prod\n"
   ]
  },
  {
   "cell_type": "code",
   "execution_count": null,
   "id": "CePj2tbKaVLP",
   "metadata": {
    "colab": {
     "base_uri": "https://localhost:8080/"
    },
    "id": "CePj2tbKaVLP",
    "outputId": "a0ed2a7c-4671-43c8-f528-9468dea943bb"
   },
   "outputs": [
    {
     "name": "stdout",
     "output_type": "stream",
     "text": [
      "s\n",
      "u\n",
      "m\n",
      "a\n",
      " \n",
      "a\n",
      "n\n",
      "u\n",
      "s\n",
      "h\n",
      "a\n"
     ]
    }
   ],
   "source": [
    "# 8. How can you iterate through the characters of a string using a for loop in Python?\n",
    "s = \"suma anusha\"\n",
    "for i in s:\n",
    "  print(i)"
   ]
  },
  {
   "cell_type": "code",
   "execution_count": null,
   "id": "f7d1f015",
   "metadata": {
    "colab": {
     "base_uri": "https://localhost:8080/"
    },
    "id": "f7d1f015",
    "outputId": "d8183c8c-cf5e-4ce5-cedf-e2a34e585423"
   },
   "outputs": [
    {
     "data": {
      "text/plain": [
       "10"
      ]
     },
     "execution_count": 3,
     "metadata": {},
     "output_type": "execute_result"
    }
   ],
   "source": [
    "# 9. Write a Python program to find the largest number in a list using a for loop.\n",
    "\n",
    "l = [1,2,3,4,5,6,7,8,9,10]\n",
    "large = l[0]\n",
    "for i in l:\n",
    "  if i>large:\n",
    "    large = i\n",
    "large"
   ]
  },
  {
   "cell_type": "code",
   "execution_count": null,
   "id": "aVxVl3RkdABY",
   "metadata": {
    "colab": {
     "base_uri": "https://localhost:8080/"
    },
    "id": "aVxVl3RkdABY",
    "outputId": "3c35c2e6-e70f-45ab-d079-4aa5afefb8b8"
   },
   "outputs": [
    {
     "name": "stdout",
     "output_type": "stream",
     "text": [
      "enter no of series of fibbonacci series to get: 10\n",
      "0\n",
      "1\n",
      "1\n",
      "2\n",
      "3\n",
      "5\n",
      "8\n",
      "13\n",
      "21\n",
      "34\n"
     ]
    }
   ],
   "source": [
    "# 10. Create a Python program that prints the Fibonacci sequence up to a specified limit using a for loop.\n",
    "n = int(input(\"enter no of series of fibbonacci series to get: \"))\n",
    "a,b=0,1\n",
    "print(a)\n",
    "print(b)\n",
    "for i in range(3,n+1):\n",
    "  c = a+b\n",
    "  print(c)\n",
    "  a,b=b,c\n",
    "\n",
    "\n"
   ]
  },
  {
   "cell_type": "code",
   "execution_count": null,
   "id": "l7Ypg2vOesLA",
   "metadata": {
    "colab": {
     "base_uri": "https://localhost:8080/"
    },
    "id": "l7Ypg2vOesLA",
    "outputId": "362e67b5-9df6-43ed-c23b-e94ac00900db"
   },
   "outputs": [
    {
     "data": {
      "text/plain": [
       "5"
      ]
     },
     "execution_count": 9,
     "metadata": {},
     "output_type": "execute_result"
    }
   ],
   "source": [
    "# 11. Write a Python program to count the number of vowels in a given string using a for loop.\n",
    "s = \"suma anusha\"\n",
    "vowel_count = 0\n",
    "for i in s:\n",
    "  if i in \"AEIOUaeiou\":\n",
    "    vowel_count+=1\n",
    "vowel_count"
   ]
  },
  {
   "cell_type": "code",
   "execution_count": null,
   "id": "ApZRKhSifCbV",
   "metadata": {
    "colab": {
     "base_uri": "https://localhost:8080/"
    },
    "id": "ApZRKhSifCbV",
    "outputId": "75bb289f-71dc-4d16-f1bd-e3b3ba8f0aff"
   },
   "outputs": [
    {
     "name": "stdout",
     "output_type": "stream",
     "text": [
      "enter multiplication table number20\n",
      "20*1=20\n",
      "20*2=40\n",
      "20*3=60\n",
      "20*4=80\n",
      "20*5=100\n",
      "20*6=120\n",
      "20*7=140\n",
      "20*8=160\n",
      "20*9=180\n",
      "20*10=200\n",
      "20*11=220\n",
      "20*12=240\n",
      "20*13=260\n",
      "20*14=280\n",
      "20*15=300\n",
      "20*16=320\n",
      "20*17=340\n",
      "20*18=360\n",
      "20*19=380\n",
      "20*20=400\n"
     ]
    }
   ],
   "source": [
    "# 12. Create a Python program that generates a multiplication table for a given number using a for loop.\n",
    "\n",
    "n = int(input(\"enter multiplication table number\"))\n",
    "for i in range(1,21):\n",
    "  print(f\"{n}*{i}={n*i}\")"
   ]
  },
  {
   "cell_type": "code",
   "execution_count": null,
   "id": "d0d3721b",
   "metadata": {
    "id": "d0d3721b"
   },
   "outputs": [],
   "source": [
    "# 13. Write a Python program to reverse a list using a for loop\n",
    "l = [1,2,3,4,5,6]\n",
    "for i in l:\n",
    "    a.append(i)\n"
   ]
  },
  {
   "cell_type": "code",
   "execution_count": null,
   "id": "14484647",
   "metadata": {
    "id": "14484647",
    "outputId": "10c73cb3-0747-452d-fead-cee8fab6aea6"
   },
   "outputs": [
    {
     "name": "stdout",
     "output_type": "stream",
     "text": [
      "1 1 2 4 5 "
     ]
    }
   ],
   "source": [
    "# 14. Write a Python program to find the common elements between two lists using a for loop.\n",
    "l1 = [1,1,2,3,4,5,6,7]\n",
    "l2 = [1,2,4,8,9,5]\n",
    "for i in l1:\n",
    "    if i in l2:\n",
    "        print(i,end = \" \")"
   ]
  },
  {
   "cell_type": "code",
   "execution_count": null,
   "id": "0a203d61",
   "metadata": {
    "colab": {
     "base_uri": "https://localhost:8080/"
    },
    "id": "0a203d61",
    "outputId": "ba52f662-1442-47f3-ed2f-1136551a622a"
   },
   "outputs": [
    {
     "name": "stdout",
     "output_type": "stream",
     "text": [
      "Key: name, Value: Alice\n",
      "Key: age, Value: 30\n",
      "Key: city, Value: New York\n"
     ]
    }
   ],
   "source": [
    "# 15. Explain how to use a for loop to iterate through the keys and values of a dictionary in Python.\n",
    "my_dict = {'name': 'Alice', 'age': 30, 'city': 'New York'}\n",
    "\n",
    "for k, v in my_dict.items():\n",
    "    print(f'Key: {k}, Value: {v}')\n"
   ]
  },
  {
   "cell_type": "code",
   "execution_count": null,
   "id": "0fe96b13",
   "metadata": {
    "colab": {
     "base_uri": "https://localhost:8080/"
    },
    "id": "0fe96b13",
    "outputId": "0d67dcd7-cd21-4cf7-ec9d-2e8d7a629684"
   },
   "outputs": [
    {
     "name": "stdout",
     "output_type": "stream",
     "text": [
      "enter first number:12\n",
      "enter second number: 5\n",
      "greatest common divisor of 12 5 is 1\n"
     ]
    }
   ],
   "source": [
    "#16. Write a Python program to find the GCD (Greatest Common Divisor) of two numbers using a forloop.\n",
    "n1 = int(input((\"enter first number:\")))\n",
    "n2 = int(input((\"enter second number: \")))\n",
    "l = []\n",
    "for i in range(1,min(n1+1,n2+1)):\n",
    "  if n1%i==0 and n2%i ==0:\n",
    "    l.append(i)\n",
    "\n",
    "print(\"greatest common divisor of\",n1,n2,\"is\",max(l))\n",
    "\n"
   ]
  },
  {
   "cell_type": "code",
   "execution_count": null,
   "id": "c8b03d20",
   "metadata": {
    "id": "c8b03d20"
   },
   "outputs": [],
   "source": [
    "\n",
    "def gcd(a,b):\n",
    "  l=[]\n",
    "  for i in range(1,min(a+1,b+1)):\n",
    "    if a%i==0 and b%i ==0:\n",
    "      l.append(i)\n",
    "  return max(l)\n",
    "\n"
   ]
  },
  {
   "cell_type": "code",
   "execution_count": null,
   "id": "185fb379",
   "metadata": {
    "colab": {
     "base_uri": "https://localhost:8080/"
    },
    "id": "185fb379",
    "outputId": "1a474ba7-1bf2-444f-8cda-f3e00ff52544"
   },
   "outputs": [
    {
     "data": {
      "text/plain": [
       "1"
      ]
     },
     "execution_count": 40,
     "metadata": {},
     "output_type": "execute_result"
    }
   ],
   "source": [
    "gcd(12,5)"
   ]
  },
  {
   "cell_type": "code",
   "execution_count": null,
   "id": "06c626cf",
   "metadata": {
    "colab": {
     "base_uri": "https://localhost:8080/"
    },
    "id": "06c626cf",
    "outputId": "896c0414-13fa-4cb3-ca6f-3bf94922fab4"
   },
   "outputs": [
    {
     "data": {
      "text/plain": [
       "6"
      ]
     },
     "execution_count": 41,
     "metadata": {},
     "output_type": "execute_result"
    }
   ],
   "source": [
    "gcd(12,6)"
   ]
  },
  {
   "cell_type": "code",
   "execution_count": null,
   "id": "b65671b3",
   "metadata": {
    "colab": {
     "base_uri": "https://localhost:8080/"
    },
    "id": "b65671b3",
    "outputId": "465ab365-4f11-4916-951f-65263c68b5be"
   },
   "outputs": [
    {
     "name": "stdout",
     "output_type": "stream",
     "text": [
      "not palindrome\n"
     ]
    }
   ],
   "source": [
    "# 17. Create a Python program that checks if a string is a palindrome using a for loop.\n",
    "s = \"suma\"\n",
    "k1 = list(s)\n",
    "k2 =[]\n",
    "for i in s:\n",
    "  k2.insert(0,i)\n",
    "if k1 ==k2:\n",
    "  print(\"palindrome\")\n",
    "else:\n",
    "  print(\"not palindrome\")\n",
    "\n"
   ]
  },
  {
   "cell_type": "code",
   "execution_count": null,
   "id": "c905101d",
   "metadata": {
    "colab": {
     "base_uri": "https://localhost:8080/"
    },
    "id": "c905101d",
    "outputId": "ece917a0-ff6e-48b9-b666-9d86c593658c"
   },
   "outputs": [
    {
     "data": {
      "text/plain": [
       "[1, 2, 3, 4, 8, 9, 12, 89]"
      ]
     },
     "execution_count": 49,
     "metadata": {},
     "output_type": "execute_result"
    }
   ],
   "source": [
    "# 18. Write a Python program to remove duplicates from a list using a for loop.\n",
    "l = [1,1,2,3,3,4,8,8,12,12,9,12,12,89]\n",
    "k = set(l)\n",
    "r = list(k)\n",
    "r\n"
   ]
  },
  {
   "cell_type": "code",
   "execution_count": null,
   "id": "qeIeiey3giWJ",
   "metadata": {
    "colab": {
     "base_uri": "https://localhost:8080/"
    },
    "id": "qeIeiey3giWJ",
    "outputId": "625c8710-76e0-4297-82bb-adf8a2e2e530"
   },
   "outputs": [
    {
     "name": "stdout",
     "output_type": "stream",
     "text": [
      "enter sentence:suma anusha\n"
     ]
    },
    {
     "data": {
      "text/plain": [
       "2"
      ]
     },
     "execution_count": 53,
     "metadata": {},
     "output_type": "execute_result"
    }
   ],
   "source": [
    "# 19. Create a Python program that counts the number of words in a sentence using a for loop.\n",
    "sen = input(\"enter sentence:\")\n",
    "len(sen.split())\n"
   ]
  },
  {
   "cell_type": "code",
   "execution_count": null,
   "id": "H2zsHJ1RgiS6",
   "metadata": {
    "colab": {
     "base_uri": "https://localhost:8080/"
    },
    "id": "H2zsHJ1RgiS6",
    "outputId": "e5b48b31-c04c-4d40-ffae-ff6d51ef136d"
   },
   "outputs": [
    {
     "name": "stdout",
     "output_type": "stream",
     "text": [
      "enter sentence:suma anusha abbireddy\n"
     ]
    },
    {
     "data": {
      "text/plain": [
       "3"
      ]
     },
     "execution_count": 54,
     "metadata": {},
     "output_type": "execute_result"
    }
   ],
   "source": [
    "sen = input(\"enter sentence:\")\n",
    "k = sen.split()\n",
    "count = 0\n",
    "for i in k:\n",
    "  count+=1\n",
    "count"
   ]
  },
  {
   "cell_type": "code",
   "execution_count": null,
   "id": "p18FC07BgiP4",
   "metadata": {
    "colab": {
     "base_uri": "https://localhost:8080/"
    },
    "id": "p18FC07BgiP4",
    "outputId": "bc45e168-7132-42ca-e9a0-d440ec4054ad"
   },
   "outputs": [
    {
     "data": {
      "text/plain": [
       "625"
      ]
     },
     "execution_count": 57,
     "metadata": {},
     "output_type": "execute_result"
    }
   ],
   "source": [
    "## 20. Write a Python program to find the sum of all odd numbers from 1 to 50 using a for loop.\n",
    "count=0\n",
    "for i in range(1,51):\n",
    "  if i%2!=0:\n",
    "    count+=i\n",
    "count"
   ]
  },
  {
   "cell_type": "code",
   "execution_count": null,
   "id": "mSYIuzrpgiMm",
   "metadata": {
    "colab": {
     "base_uri": "https://localhost:8080/"
    },
    "id": "mSYIuzrpgiMm",
    "outputId": "9fc14eaa-433e-47d1-cf0e-b1cdac0d889e"
   },
   "outputs": [
    {
     "name": "stdout",
     "output_type": "stream",
     "text": [
      "Enter a year: 2024\n",
      "2024 is a leap year\n"
     ]
    }
   ],
   "source": [
    "# 21. Write a Python program that checks if a given year is a leap year using a for loop.\n",
    "''' You don't typically need a for loop to check if a year is a leap year in Python. A leap year can be determined using a simple conditional statement.'''\n",
    "# Input a year from the user\n",
    "year = int(input(\"Enter a year: \"))\n",
    "\n",
    "# Check if it's a leap year\n",
    "if (year % 4 == 0 and year % 100 != 0) or (year % 400 == 0):\n",
    "    print(year, \"is a leap year\")\n",
    "else:\n",
    "    print(year, \"is not a leap year\")\n",
    "\n"
   ]
  },
  {
   "cell_type": "code",
   "execution_count": null,
   "id": "wWgcIy7YgiJ8",
   "metadata": {
    "colab": {
     "base_uri": "https://localhost:8080/"
    },
    "id": "wWgcIy7YgiJ8",
    "outputId": "90a809d0-a3a0-456b-ad74-6fcb8004e5b3"
   },
   "outputs": [
    {
     "name": "stdout",
     "output_type": "stream",
     "text": [
      "enter number:5\n"
     ]
    },
    {
     "data": {
      "text/plain": [
       "2.23606797749979"
      ]
     },
     "execution_count": 62,
     "metadata": {},
     "output_type": "execute_result"
    }
   ],
   "source": [
    "# 22. Create a Python program that calculates the square root of a number using a for loop.\n",
    "''' You don't typically need a for loop to calculate sq root of number, it can be determined using a simple statement.'''\n",
    "n = int(input(\"enter number:\"))\n",
    "sq_root = (n)**(1/2)\n",
    "sq_root"
   ]
  },
  {
   "cell_type": "code",
   "execution_count": null,
   "id": "uL1FSA_QgiHC",
   "metadata": {
    "colab": {
     "base_uri": "https://localhost:8080/"
    },
    "id": "uL1FSA_QgiHC",
    "outputId": "3510cf11-ebd7-406f-ac25-860728e2b5ea"
   },
   "outputs": [
    {
     "name": "stdout",
     "output_type": "stream",
     "text": [
      "enter n1 number :102\n",
      "enter n2 number :1002\n",
      "17034\n"
     ]
    }
   ],
   "source": [
    "# 23. Write a Python program to find the LCM (Least Common Multiple) of two numbers using a for loop.\n",
    "n1 = int(input(\"enter n1 number :\"))\n",
    "n2 = int(input(\"enter n2 number :\"))\n",
    "l1= []\n",
    "l2 = []\n",
    "l3 = []\n",
    "for i in range(1, n1*n2):\n",
    "  l1.append(n1*i)\n",
    "  l2.append(n2*i)\n",
    "for k in l1:\n",
    "  if k in l2:\n",
    "    l3.append(k)\n",
    "print(min(l3))"
   ]
  },
  {
   "cell_type": "code",
   "execution_count": null,
   "id": "LoaowQNjgiEe",
   "metadata": {
    "id": "LoaowQNjgiEe"
   },
   "outputs": [],
   "source": []
  },
  {
   "cell_type": "code",
   "execution_count": null,
   "id": "08tY_Pw8giBR",
   "metadata": {
    "id": "08tY_Pw8giBR"
   },
   "outputs": [],
   "source": []
  },
  {
   "cell_type": "markdown",
   "id": "eafc8456",
   "metadata": {
    "id": "mVGbe5Vjgh-d"
   },
   "source": [
    "### If else :"
   ]
  },
  {
   "cell_type": "code",
   "execution_count": null,
   "id": "LcbBMA2_gh7c",
   "metadata": {
    "colab": {
     "base_uri": "https://localhost:8080/"
    },
    "id": "LcbBMA2_gh7c",
    "outputId": "50aa3661-dc3e-4287-9727-9cbf51588cde"
   },
   "outputs": [
    {
     "name": "stdout",
     "output_type": "stream",
     "text": [
      "enter number to check34\n",
      "positive\n"
     ]
    }
   ],
   "source": [
    "# 1. Write a Python program to check if a number is positive, negative, or zero using an if-else statement.\n",
    "n = int(input(\"enter number to check\"))\n",
    "if n>0:\n",
    "  print(\"positive\")\n",
    "elif n==0:\n",
    "  print(\"zero\")\n",
    "else:\n",
    "  print(\"negative\")"
   ]
  },
  {
   "cell_type": "code",
   "execution_count": null,
   "id": "Y87A06r8gh5B",
   "metadata": {
    "colab": {
     "base_uri": "https://localhost:8080/"
    },
    "id": "Y87A06r8gh5B",
    "outputId": "f1e49298-3ad9-4dbc-dfcc-e1e60b77e95e"
   },
   "outputs": [
    {
     "name": "stdout",
     "output_type": "stream",
     "text": [
      "enter number to check24\n",
      "even\n"
     ]
    }
   ],
   "source": [
    "# 2. Create a Python program that checks if a given number is even or odd using an if-else statement.\n",
    "n = int(input(\"enter number to check\"))\n",
    "if n%2==0:\n",
    "  print(\"even\")\n",
    "else:\n",
    "  print(\"odd\")"
   ]
  },
  {
   "cell_type": "code",
   "execution_count": 1,
   "id": "dPOva1g2gh20",
   "metadata": {
    "id": "dPOva1g2gh20"
   },
   "outputs": [
    {
     "name": "stdout",
     "output_type": "stream",
     "text": [
      "You are an adult.\n"
     ]
    }
   ],
   "source": [
    "# 3. How can you use nested if-else statements in Python, and provide an example\n",
    "\n",
    "'''Nested if-else statements in Python are used when you need to check multiple conditions in a hierarchical manner.'''\n",
    "\n",
    "# example : program that check even number and it is also divisible by 5.\n",
    "\n",
    "# Nested if-else statements to determine a person's age category\n",
    "age = 25\n",
    "\n",
    "if age < 18:\n",
    "    print(\"You are a minor.\")\n",
    "else:\n",
    "    if age < 65:\n",
    "        print(\"You are an adult.\")\n",
    "    else:\n",
    "        print(\"You are a senior citizen.\")\n",
    "\n"
   ]
  },
  {
   "cell_type": "code",
   "execution_count": null,
   "id": "C8IDF6tDghxw",
   "metadata": {
    "colab": {
     "base_uri": "https://localhost:8080/"
    },
    "id": "C8IDF6tDghxw",
    "outputId": "c68e0727-faef-40e6-aafe-2237a3f267d2"
   },
   "outputs": [
    {
     "name": "stdout",
     "output_type": "stream",
     "text": [
      "enter number : 3\n",
      "enter number : 4\n",
      "enter number : 4\n",
      " y and z are equal\n"
     ]
    }
   ],
   "source": [
    "# 4. Write a Python program to determine the largest of three numbers using if-else.\n",
    "x = int(input(\"enter number : \"))\n",
    "y = int(input(\"enter number : \"))\n",
    "z = int(input(\"enter number : \"))\n",
    "if x>=y and x>=z:\n",
    "  if x==y==z:\n",
    "    print(\"x,y,z, are equal\")\n",
    "  elif x==y:\n",
    "    print(\" x and y are equal\")\n",
    "  elif x==z:\n",
    "    print(\"x and z are equal\")\n",
    "  else:\n",
    "    print(\"a is big\")\n",
    "elif y>=z:\n",
    "  if y==z:\n",
    "    print(\" y and z are equal\")\n",
    "  else:\n",
    "    print(\" y is big\")\n",
    "else:\n",
    "  print(\"z is big\")"
   ]
  },
  {
   "cell_type": "code",
   "execution_count": null,
   "id": "B3M0MyQJghul",
   "metadata": {
    "colab": {
     "base_uri": "https://localhost:8080/"
    },
    "id": "B3M0MyQJghul",
    "outputId": "4082ef03-b74c-4cb5-9689-70d8e69247c1"
   },
   "outputs": [
    {
     "name": "stdout",
     "output_type": "stream",
     "text": [
      "enter number to check:-8\n",
      "8\n"
     ]
    }
   ],
   "source": [
    "# 5. Write a Python program that calculates the absolute value of a number using if-else.\n",
    "n = int(input(\"enter number to check:\"))\n",
    "if n>=0:\n",
    "  print(n)\n",
    "else:\n",
    "  print(-n)"
   ]
  },
  {
   "cell_type": "code",
   "execution_count": null,
   "id": "rroroWXtghrY",
   "metadata": {
    "colab": {
     "base_uri": "https://localhost:8080/"
    },
    "id": "rroroWXtghrY",
    "outputId": "1af5ee9f-c4bf-4760-c08d-4d1e61891d54"
   },
   "outputs": [
    {
     "name": "stdout",
     "output_type": "stream",
     "text": [
      "enter character:B\n",
      "consonant\n"
     ]
    }
   ],
   "source": [
    "# 6. Create a Python program that checks if a given character is a vowel or consonant using if-else.\n",
    "c = input(\"enter character:\")\n",
    "if c in \"AEIOUaeiou\":\n",
    "  print(\"vowel\")\n",
    "else:\n",
    "  print(\"consonant\")"
   ]
  },
  {
   "cell_type": "code",
   "execution_count": null,
   "id": "mjCUMLQKghor",
   "metadata": {
    "colab": {
     "base_uri": "https://localhost:8080/"
    },
    "id": "mjCUMLQKghor",
    "outputId": "bb56c298-9edb-49f8-8d9d-6d6031fe4276"
   },
   "outputs": [
    {
     "name": "stdout",
     "output_type": "stream",
     "text": [
      "enter age:18\n",
      "eligible to vote\n"
     ]
    }
   ],
   "source": [
    "# 7. Write a Python program to determine if a user is eligible to vote based on their age using if-else.\n",
    "age = int(input(\"enter age:\"))\n",
    "if age>=18:\n",
    "  print(\"eligible to vote\")\n",
    "else:\n",
    "  print(\"not eligible to vote\")"
   ]
  },
  {
   "cell_type": "code",
   "execution_count": 3,
   "id": "L13BgZDEghl1",
   "metadata": {
    "id": "L13BgZDEghl1"
   },
   "outputs": [
    {
     "name": "stdout",
     "output_type": "stream",
     "text": [
      "enter purchase amount:1000\n",
      "discount 100.0\n"
     ]
    }
   ],
   "source": [
    "# 8. Create a Python program that calculates the discount amount based on the purchase amount using if-else.\n",
    "\n",
    "\n",
    "n = float(input(\"enter purchase amount:\"))\n",
    "\n",
    "if 0<n<=5000:\n",
    "    print(\"discount\",n*(10/100))\n",
    "elif 5000<n<=10000:\n",
    "    print(\"discount\", n*(20/100))\n",
    "elif n>10000:\n",
    "    print(\"disocunt\",n*(25/100))\n",
    "else:\n",
    "    print(\"entered invalid purchase amount\")\n",
    "    "
   ]
  },
  {
   "cell_type": "code",
   "execution_count": null,
   "id": "EZq1tIOughjM",
   "metadata": {
    "colab": {
     "base_uri": "https://localhost:8080/"
    },
    "id": "EZq1tIOughjM",
    "outputId": "637f059e-7cd5-40b8-ed38-be60c519195e"
   },
   "outputs": [
    {
     "name": "stdout",
     "output_type": "stream",
     "text": [
      "enter number to check:10\n",
      "within specified range\n"
     ]
    }
   ],
   "source": [
    "# 9. Write a Python program to check if a number is within a specified range using if-else\n",
    "n = int(input(\"enter number to check:\"))\n",
    "if n in range(1,12):\n",
    "  print(\"within specified range\")\n",
    "else:\n",
    "  print(\"not within specified range\")"
   ]
  },
  {
   "cell_type": "code",
   "execution_count": null,
   "id": "xP_vlpAwghhN",
   "metadata": {
    "colab": {
     "base_uri": "https://localhost:8080/"
    },
    "id": "xP_vlpAwghhN",
    "outputId": "3c9302d8-e739-43c3-f09e-150ba775d690"
   },
   "outputs": [
    {
     "name": "stdout",
     "output_type": "stream",
     "text": [
      "enter score:72\n",
      "Grade C\n"
     ]
    }
   ],
   "source": [
    "#  10. Create a Python program that determines the grade of a student based on their score using if-else.\n",
    "s = int(input(\"enter score:\"))\n",
    "if s>=90:\n",
    "  print(\"Grade A\")\n",
    "elif 80<=s<90:\n",
    "  print(\"Grade B\")\n",
    "elif 70<=s<80:\n",
    "  print(\"Grade C\")\n",
    "elif 60<=s<50:\n",
    "  print(\"Grade D\")\n",
    "elif 50<=s<40:\n",
    "  print(\"Grade E\")\n",
    "else:\n",
    "  print(\"Fail\")"
   ]
  },
  {
   "cell_type": "code",
   "execution_count": null,
   "id": "DMwOyNsvghed",
   "metadata": {
    "colab": {
     "base_uri": "https://localhost:8080/"
    },
    "id": "DMwOyNsvghed",
    "outputId": "41f3eeb5-be75-4e53-f466-7e43d0036aca"
   },
   "outputs": [
    {
     "name": "stdout",
     "output_type": "stream",
     "text": [
      "enter string:\n",
      "empty string\n"
     ]
    }
   ],
   "source": [
    "# 11. Write a Python program to check if a string is empty or not using if-else.\n",
    "s = input(\"enter string:\")\n",
    "if s ==\"\":\n",
    "  print(\"empty string\")\n",
    "else:\n",
    "  print(\"not empty string\")"
   ]
  },
  {
   "cell_type": "code",
   "execution_count": null,
   "id": "38aD9zzIghbG",
   "metadata": {
    "colab": {
     "base_uri": "https://localhost:8080/"
    },
    "id": "38aD9zzIghbG",
    "outputId": "8b9dae6a-a3eb-41fc-a17a-1019b63e2c39"
   },
   "outputs": [
    {
     "name": "stdout",
     "output_type": "stream",
     "text": [
      "enter first side of tri : 3\n",
      "enter second side of tri: 3\n",
      "enter third side of tri : 3\n",
      "triangle is equilateral\n"
     ]
    }
   ],
   "source": [
    "# 12. Create a Python program that identifies the type of a triangle (e.g., equilateral, isosceles, or scalene) based on input values using if-else.\n",
    "x = int(input(\"enter first side of tri : \"))\n",
    "y = int(input(\"enter second side of tri: \"))\n",
    "z = int(input(\"enter third side of tri : \"))\n",
    "if x==y==z:\n",
    "  print(\"triangle is equilateral\")\n",
    "elif x==y or x==z or y==z:\n",
    "  print(\"triangle is isosceles\")\n",
    "else:\n",
    "  print(\"triangle is scalene\")"
   ]
  },
  {
   "cell_type": "code",
   "execution_count": null,
   "id": "KL_XbkemRcUb",
   "metadata": {
    "colab": {
     "base_uri": "https://localhost:8080/"
    },
    "id": "KL_XbkemRcUb",
    "outputId": "4d0e44c3-ca9b-4843-f626-b956ead2007a"
   },
   "outputs": [
    {
     "name": "stdout",
     "output_type": "stream",
     "text": [
      "enter week number to find day of week:3\n",
      "wednesday\n"
     ]
    }
   ],
   "source": [
    "# 13. Write a Python program to determine the day of the week based on a user-provided number using if-else.\n",
    "x = int(input((\"enter week number to find day of week:\")))\n",
    "if x==1 or x%7==1:\n",
    "  print(\"monday\")\n",
    "elif x==2 or x%7==2:\n",
    "  print(\"tuesday\")\n",
    "elif x==3 or x%7==3:\n",
    "  print(\"wednesday\")\n",
    "elif x==4 or x%7==4:\n",
    "  print(\"Thursday\")\n",
    "elif x==5 or x%7==5:\n",
    "  print(\"Friday\")\n",
    "elif x==6 or x%7==6:\n",
    "  print(\"Saturday\")\n",
    "elif x==7 or x%7==0:\n",
    "  print(\"sunday\")"
   ]
  },
  {
   "cell_type": "code",
   "execution_count": null,
   "id": "uuLY9ccDRbq5",
   "metadata": {
    "colab": {
     "base_uri": "https://localhost:8080/"
    },
    "id": "uuLY9ccDRbq5",
    "outputId": "68608f2a-0324-403c-df86-a5601cd825d6"
   },
   "outputs": [
    {
     "name": "stdout",
     "output_type": "stream",
     "text": [
      "Enter a year: 2022\n",
      "2022 is not a leap year and not evenly divisible by 400.\n"
     ]
    }
   ],
   "source": [
    "# 14. Create a Python program that checks if a given year is a leap year using both if-else and a function.\n",
    "year = int(input(\"Enter a year: \"))\n",
    "\n",
    "# Check if it's a leap year\n",
    "if (year % 4 == 0 and year % 100 != 0) and (year % 400 == 0):\n",
    "    print(f\"{year} is a leap year and evenly divisible by 400.\")\n",
    "else:\n",
    "    print(f\"{year} is not a leap year and not evenly divisible by 400.\")\n"
   ]
  },
  {
   "cell_type": "code",
   "execution_count": 4,
   "id": "yOWGMnwTRa6w",
   "metadata": {
    "id": "yOWGMnwTRa6w"
   },
   "outputs": [
    {
     "data": {
      "text/plain": [
       "'The assert statement in Python is used for debugging purposes to check if a given condition is True. \\nIf the condition is False, it raises an AssertionError exception, allowing you to catch and debug issues in your code. \\nYou can use the assert statement within if-else blocks or anywhere in your code to add debugging checks.'"
      ]
     },
     "execution_count": 4,
     "metadata": {},
     "output_type": "execute_result"
    }
   ],
   "source": [
    "# 15. How do you use the \"assert\" statement in Python to add debugging checks within if-else blocks?\n",
    "\n",
    "'''The assert statement in Python is used for debugging purposes to check if a given condition is True. \n",
    "If the condition is False, it raises an AssertionError exception, allowing you to catch and debug issues in your code. \n",
    "You can use the assert statement within if-else blocks or anywhere in your code to add debugging checks.'''\n",
    "\n"
   ]
  },
  {
   "cell_type": "code",
   "execution_count": null,
   "id": "Z4VRYKVYRa30",
   "metadata": {
    "colab": {
     "base_uri": "https://localhost:8080/"
    },
    "id": "Z4VRYKVYRa30",
    "outputId": "6e9841a2-e06d-4c1a-c26f-8a4ccfae5fad"
   },
   "outputs": [
    {
     "name": "stdout",
     "output_type": "stream",
     "text": [
      "enter age:61\n",
      "eligible\n"
     ]
    }
   ],
   "source": [
    "# 16. Create a Python program that determines the eligibility of a person for a senior citizen discount based on age using if-else\n",
    "age = int(input(\"enter age:\"))\n",
    "if age>=60:\n",
    "  print(\"eligible\")\n",
    "else:\n",
    "  print(\"not eligible\")"
   ]
  },
  {
   "cell_type": "code",
   "execution_count": null,
   "id": "TKkwTMcqRa0f",
   "metadata": {
    "colab": {
     "base_uri": "https://localhost:8080/"
    },
    "id": "TKkwTMcqRa0f",
    "outputId": "a9efc651-9be6-419b-9313-a078adfb10c3"
   },
   "outputs": [
    {
     "name": "stdout",
     "output_type": "stream",
     "text": [
      "enter character:A\n",
      "uppercase character\n"
     ]
    }
   ],
   "source": [
    "#17. Write a Python program to categorize a given character as uppercase, lowercase, or neither using if-else.\n",
    "c = input(\"enter character:\")\n",
    "if c.islower():\n",
    "  print(\"lowercase character\")\n",
    "elif c.isupper():\n",
    "  print(\"uppercase character\")\n",
    "else:\n",
    "  print(\"neither upper nor lower\")"
   ]
  },
  {
   "cell_type": "code",
   "execution_count": null,
   "id": "DBjfQyhjRaxR",
   "metadata": {
    "colab": {
     "base_uri": "https://localhost:8080/"
    },
    "id": "DBjfQyhjRaxR",
    "outputId": "bf74deab-1be6-4141-c1f2-735f466eef6e"
   },
   "outputs": [
    {
     "name": "stdout",
     "output_type": "stream",
     "text": [
      "Enter coefficient a: 3\n",
      "Enter coefficient b: 2\n",
      "Enter coefficient c: 4\n",
      "The roots are complex: -0.3333333333333333 + 1.1055415967851332i and -0.3333333333333333 - 1.1055415967851332i\n"
     ]
    }
   ],
   "source": [
    "# 18. Write a Python program to determine the roots of a quadratic equation using if-else.\n",
    "a = float(input(\"Enter coefficient a: \"))\n",
    "b = float(input(\"Enter coefficient b: \"))\n",
    "c = float(input(\"Enter coefficient c: \"))\n",
    "\n",
    "# Calculate the discriminant\n",
    "discriminant = b**2 - 4*a*c\n",
    "\n",
    "# Check if the discriminant is positive, negative, or zero\n",
    "if discriminant > 0:\n",
    "    # Two real and distinct roots\n",
    "    root1 = (-b + (discriminant ** 0.5)) / (2*a)\n",
    "    root2 = (-b - (discriminant ** 0.5)) / (2*a)\n",
    "    print(f\"The roots are real and distinct: {root1} and {root2}\")\n",
    "elif discriminant == 0:\n",
    "    # One real root (repeated)\n",
    "    root = -b / (2*a)\n",
    "    print(f\"The root is real and repeated: {root}\")\n",
    "else:\n",
    "    # Complex roots\n",
    "    real_part = -b / (2*a)\n",
    "    imaginary_part = (abs(discriminant) ** 0.5) / (2*a)\n",
    "    print(f\"The roots are complex: {real_part} + {imaginary_part}i and {real_part} - {imaginary_part}i\")\n",
    "\n"
   ]
  },
  {
   "cell_type": "code",
   "execution_count": null,
   "id": "8UOGIQcURauI",
   "metadata": {
    "colab": {
     "base_uri": "https://localhost:8080/"
    },
    "id": "8UOGIQcURauI",
    "outputId": "06b2af84-7c0b-4a9d-f0db-78993e6bfc63"
   },
   "outputs": [
    {
     "name": "stdout",
     "output_type": "stream",
     "text": [
      "enter year2000\n",
      "centuary year\n"
     ]
    }
   ],
   "source": [
    "# 19. Create a Python program that checks if a given year is a century year or not using if-else.\n",
    "n = int(input(\"enter year\"))\n",
    "if n%100==0:\n",
    "  print(\"centuary year\")\n",
    "else:\n",
    "  print(\"not centuary year\")"
   ]
  },
  {
   "cell_type": "code",
   "execution_count": null,
   "id": "iowyUmNiRarK",
   "metadata": {
    "colab": {
     "base_uri": "https://localhost:8080/"
    },
    "id": "iowyUmNiRarK",
    "outputId": "b2cc21e1-395a-41b1-b46a-946789a5dcc4"
   },
   "outputs": [
    {
     "name": "stdout",
     "output_type": "stream",
     "text": [
      "enter number: 256\n",
      "16 is the perfect square of  256\n"
     ]
    }
   ],
   "source": [
    "# 20. Write a Python program to determine if a given number is a perfect square using if-else.\n",
    "n = int(input(\"enter number: \"))\n",
    "l =[]\n",
    "for i in range(1,n+1):\n",
    "  if n%i==0:\n",
    "    l.append(i)\n",
    "for i in l:\n",
    "  if n == i*i:\n",
    "    print(i, \"is the perfect square of \", n)\n"
   ]
  },
  {
   "cell_type": "code",
   "execution_count": null,
   "id": "eEb6f7cSRan4",
   "metadata": {
    "id": "eEb6f7cSRan4"
   },
   "outputs": [],
   "source": [
    "# 21. Explain the purpose of the \"continue\" and \"break\" statements within if-else loops.\n",
    "''' Continue :  1.Continue is also a loop control statement just like the break statement. continue statement is opposite to that of the break statement,\n",
    "                   instead of terminating the loop, it forces to execute the next iteration of the loop. As the name suggests the continue statement\n",
    "                  forces the loop to continue or execute the next iteration. When the continue statement is executed in the\n",
    "                   loop, the code inside the loop following the continue statement will be skipped and the next iteration of the loop will begin.\n",
    "    Break    :  1. break statement terminate the loop from which it is present after the control passes to next statements that are present after break if available.'''"
   ]
  },
  {
   "cell_type": "code",
   "execution_count": null,
   "id": "zbZt3N8YRalL",
   "metadata": {
    "colab": {
     "base_uri": "https://localhost:8080/"
    },
    "id": "zbZt3N8YRalL",
    "outputId": "00848bab-910a-43af-8bc6-970fb20b983f"
   },
   "outputs": [
    {
     "name": "stdout",
     "output_type": "stream",
     "text": [
      "enter height in meteres :5.2\n",
      "enter weight in kilograms : 59\n",
      "your bmi is 2.1819526627218933\n",
      "You are underweight.\n"
     ]
    }
   ],
   "source": [
    "\n",
    "# 22. Create a Python program that calculates the BMI (Body Mass Index) of a person based on their weight and height using if-else\n",
    "height = float(input(\"enter height in meteres :\"))\n",
    "weight = int(input(\"enter weight in kilograms : \"))\n",
    "\n",
    "bmi = (weight / height**2)\n",
    "print(\"your bmi is {}\". format(bmi))\n",
    "\n",
    "if bmi < 18.5:\n",
    "    print(\"You are underweight.\")\n",
    "elif 18.5 <= bmi < 24.9:\n",
    "    print(\"You have a normal weight.\")\n",
    "elif 25 <= bmi < 29.9:\n",
    "    print(\"You are overweight.\")\n",
    "else:\n",
    "    print(\"You are obese.\")"
   ]
  },
  {
   "cell_type": "code",
   "execution_count": null,
   "id": "Id12LKP1RaiI",
   "metadata": {
    "colab": {
     "base_uri": "https://localhost:8080/"
    },
    "id": "Id12LKP1RaiI",
    "outputId": "0f62c6e0-e5f4-47e4-aed2-6a0e653601fb"
   },
   "outputs": [
    {
     "data": {
      "text/plain": [
       "[2, 4, 6, 8, 10]"
      ]
     },
     "execution_count": 8,
     "metadata": {},
     "output_type": "execute_result"
    }
   ],
   "source": [
    "# 23. How can you use the \"filter()\" function with if-else statements to filter elements from a list?\n",
    "def fil(x):\n",
    "  if x%2==0:\n",
    "    return x\n",
    "\n",
    "l=[1,2,4,5,3,6,7,8,9,10]\n",
    "list(filter(fil,l))"
   ]
  },
  {
   "cell_type": "code",
   "execution_count": null,
   "id": "_dNrqi-dRaen",
   "metadata": {
    "colab": {
     "base_uri": "https://localhost:8080/"
    },
    "id": "_dNrqi-dRaen",
    "outputId": "5c27e689-041d-4520-dc43-7b91dc244445"
   },
   "outputs": [
    {
     "name": "stdout",
     "output_type": "stream",
     "text": [
      "enter number :25\n",
      "25 is not prime number\n"
     ]
    }
   ],
   "source": [
    "# 24. Write a Python program to determine if a given number is prime or not using if-else.\n",
    "n = int(input(\"enter number :\"))\n",
    "l =[]\n",
    "for i in range(2,n):\n",
    "  if n%i==0:\n",
    "    l.append(i)\n",
    "if l==[]:\n",
    "  print(n,\"is prime number\")\n",
    "else:\n",
    "  print(n,\"is not prime number\")"
   ]
  },
  {
   "cell_type": "markdown",
   "id": "4e826661",
   "metadata": {
    "id": "707oNtdrRaa6"
   },
   "source": [
    "### MAP"
   ]
  },
  {
   "cell_type": "code",
   "execution_count": null,
   "id": "K9Iv3KXmRaXy",
   "metadata": {
    "colab": {
     "base_uri": "https://localhost:8080/"
    },
    "id": "K9Iv3KXmRaXy",
    "outputId": "a37fa65e-4349-4210-b3d9-e1494ce97597"
   },
   "outputs": [
    {
     "data": {
      "text/plain": [
       "[None, 2, 4, None, None, 6, None, 8, None, 10]"
      ]
     },
     "execution_count": 20,
     "metadata": {},
     "output_type": "execute_result"
    }
   ],
   "source": [
    "# 1. Explain the purpose of the `map()` function in Python and provide an example of how it can be\n",
    "# used to apply a function to each element of an iterable.\n",
    "\n",
    "''' map() function ...takes two arguments 1.function and 2. iterable item ----so it maps function to each and every item in iterable object'''\n",
    "\n",
    "#example\n",
    "\n",
    "l = [1,2,4,3,5,6,7,8,9,10]\n",
    "list(map(lambda x: x if x%2==0 else None ,l))"
   ]
  },
  {
   "cell_type": "code",
   "execution_count": null,
   "id": "AVBaB70gRaUl",
   "metadata": {
    "colab": {
     "base_uri": "https://localhost:8080/"
    },
    "id": "AVBaB70gRaUl",
    "outputId": "2b410a54-a72f-406b-c8bf-962df87ac155"
   },
   "outputs": [
    {
     "data": {
      "text/plain": [
       "[1, 4, 9, 16, 25, 36, 49, 64, 81, 100]"
      ]
     },
     "execution_count": 16,
     "metadata": {},
     "output_type": "execute_result"
    }
   ],
   "source": [
    "# 2. Write a Python program that uses the `map()` function to square each element of a list of numbers.\n",
    "\n",
    "l = [1,2,3,4,5,6,7,8,9,10]\n",
    "list(map(lambda a : a**2,l))"
   ]
  },
  {
   "cell_type": "code",
   "execution_count": null,
   "id": "CPc1CnIkRaRg",
   "metadata": {
    "colab": {
     "base_uri": "https://localhost:8080/"
    },
    "id": "CPc1CnIkRaRg",
    "outputId": "5cbeacad-765e-44da-8aa0-a76edbcd7d51"
   },
   "outputs": [
    {
     "name": "stdout",
     "output_type": "stream",
     "text": [
      "[3, 4, 5, 6, 7, 8, 9, 10, 11, 12]\n"
     ]
    },
    {
     "data": {
      "text/plain": [
       "[3, 4, 5, 6, 7, 8, 9, 10, 11, 12]"
      ]
     },
     "execution_count": 22,
     "metadata": {},
     "output_type": "execute_result"
    }
   ],
   "source": [
    "# 3. How does the `map()` function differ from a list comprehension in Python, and when would you choose one over the other?\n",
    "\n",
    "''' map() : map(function,iterable)\n",
    "    list comprehension : [output | collection | condition]\n",
    "    1.  are both used to apply a function to each element of an iterable (e.g., a list) and create a new iterable based on the results.\n",
    "    2. map you often need to convert output using list(). List comprehension: It directly creates a new list.'''\n",
    "\n",
    "# same program for map() and list comprehension\n",
    "\n",
    "# map\n",
    "l = [1,2,3,4,5,6,7,8,9,10]\n",
    "print(list(map(lambda a : a+2 , l)))\n",
    "\n",
    "# list comprehension\n",
    "l = [1,2,3,4,5,6,7,8,9,10]\n",
    "[i+2 for i in l ]\n"
   ]
  },
  {
   "cell_type": "code",
   "execution_count": null,
   "id": "Ta7Gi6tHRaOX",
   "metadata": {
    "colab": {
     "base_uri": "https://localhost:8080/"
    },
    "id": "Ta7Gi6tHRaOX",
    "outputId": "34740d58-c500-4a1f-8631-99a80e73c98a"
   },
   "outputs": [
    {
     "data": {
      "text/plain": [
       "['SUMA', 'ANUSHA', 'REDDY', 'ABBIREDDY']"
      ]
     },
     "execution_count": 23,
     "metadata": {},
     "output_type": "execute_result"
    }
   ],
   "source": [
    "# 4. Create a Python program that uses the `map()` function to convert a list of names to uppercase.\n",
    "l = [\"suma\",\"anusha\",\"reddy\",\"abbireddy\"]\n",
    "list(map(lambda x: x.upper(),l))"
   ]
  },
  {
   "cell_type": "code",
   "execution_count": null,
   "id": "mqDIN-ynRaKh",
   "metadata": {
    "colab": {
     "base_uri": "https://localhost:8080/"
    },
    "id": "mqDIN-ynRaKh",
    "outputId": "40c522a4-353f-4972-ef90-ec21821e7dab"
   },
   "outputs": [
    {
     "data": {
      "text/plain": [
       "[4, 6, 5, 9]"
      ]
     },
     "execution_count": 24,
     "metadata": {},
     "output_type": "execute_result"
    }
   ],
   "source": [
    "# 5. Write a Python program that uses the `map()` function to calculate the length of each word in a list of strings.\n",
    "l = [\"suma\",\"anusha\",\"reddy\",\"abbireddy\"]\n",
    "list(map(lambda a : len(a),l))"
   ]
  },
  {
   "cell_type": "code",
   "execution_count": 8,
   "id": "VQymD1iURaHP",
   "metadata": {
    "id": "VQymD1iURaHP"
   },
   "outputs": [
    {
     "data": {
      "text/plain": [
       "[28, 32, 36, 40]"
      ]
     },
     "execution_count": 8,
     "metadata": {},
     "output_type": "execute_result"
    }
   ],
   "source": [
    "# 6. How can you use the `map()` function to apply a custom function to elements of multiple lists simultaneously in Python?\n",
    "\n",
    "def custom_function(x,y,z,t):\n",
    "    return x+y+z+t\n",
    "\n",
    "l1 =[1,2,3,4]\n",
    "l2 = [5,6,7,8]\n",
    "l3 = [9,10,11,12]\n",
    "l4 = [13,14,15,16]\n",
    "\n",
    "result = list(map(custom_function, l1,l2,l3,l4))\n",
    "result"
   ]
  },
  {
   "cell_type": "code",
   "execution_count": null,
   "id": "mfp7AKU0RaDq",
   "metadata": {
    "colab": {
     "base_uri": "https://localhost:8080/"
    },
    "id": "mfp7AKU0RaDq",
    "outputId": "7e37cb5c-b845-45ab-cf6a-b0594fa35c98"
   },
   "outputs": [
    {
     "data": {
      "text/plain": [
       "[96.8, 93.2, 82.4, 41.0, 87.80000000000001, 208.4, 149.0]"
      ]
     },
     "execution_count": 25,
     "metadata": {},
     "output_type": "execute_result"
    }
   ],
   "source": [
    "# 7. Create a Python program that uses `map()` to convert a list of temperatures from Celsius to Fahrenheit.\n",
    "c = [36,34,28,5,31,98,65]\n",
    "list(map(lambda c: (c*(9/5)+32),c ))"
   ]
  },
  {
   "cell_type": "code",
   "execution_count": null,
   "id": "wQBCRwGvRaAG",
   "metadata": {
    "colab": {
     "base_uri": "https://localhost:8080/"
    },
    "id": "wQBCRwGvRaAG",
    "outputId": "0f2f553a-645e-43e9-8f63-28f4efe0bc1b"
   },
   "outputs": [
    {
     "data": {
      "text/plain": [
       "[31, 3, 4, 10, 46]"
      ]
     },
     "execution_count": 26,
     "metadata": {},
     "output_type": "execute_result"
    }
   ],
   "source": [
    "# 8. Write a Python program that uses the `map()` function to round each element of a list of floating-point numbers to the nearest integer.\n",
    "l =[31.2,2.56,4.45,9.8,45.7]\n",
    "list(map(lambda x:round(x),l))"
   ]
  },
  {
   "cell_type": "code",
   "execution_count": null,
   "id": "ChyBtqp4RZ1c",
   "metadata": {
    "id": "ChyBtqp4RZ1c"
   },
   "outputs": [],
   "source": []
  },
  {
   "cell_type": "markdown",
   "id": "57039f8f",
   "metadata": {
    "id": "Mw_h8FpqrgQd"
   },
   "source": [
    "### REDUCE"
   ]
  },
  {
   "cell_type": "code",
   "execution_count": null,
   "id": "5GShwYjcrjDp",
   "metadata": {
    "colab": {
     "base_uri": "https://localhost:8080/"
    },
    "id": "5GShwYjcrjDp",
    "outputId": "939d3499-9f1c-45e0-b930-8a0829911073"
   },
   "outputs": [
    {
     "data": {
      "text/plain": [
       "120"
      ]
     },
     "execution_count": 30,
     "metadata": {},
     "output_type": "execute_result"
    }
   ],
   "source": [
    "# 1. What is the `reduce()` function in Python, and what module should you import to use it? Providean example of its basic usage\n",
    "\n",
    "''' Reduce() function basically  takes two arguments: a function and an iterable.\n",
    "      It applies the function cumulatively to the items in the iterable, reducing the iterable to a single accumulated result.'''\n",
    "\n",
    "# importing reduce\n",
    "from functools import reduce\n",
    "\n",
    "# example (factorial of a number)\n",
    "n= 5\n",
    "reduce(lambda a,b:a*b,range(1,n+1))"
   ]
  },
  {
   "cell_type": "code",
   "execution_count": null,
   "id": "QDsyyUFFri_s",
   "metadata": {
    "colab": {
     "base_uri": "https://localhost:8080/"
    },
    "id": "QDsyyUFFri_s",
    "outputId": "59c7d012-1d98-4a2f-840f-42af9e03d1d7"
   },
   "outputs": [
    {
     "data": {
      "text/plain": [
       "120"
      ]
     },
     "execution_count": 32,
     "metadata": {},
     "output_type": "execute_result"
    }
   ],
   "source": [
    "# 2. Write a Python program that uses the `reduce()` function to find the product of all elements in a list.\n",
    "l = [1,2,3,4,5]\n",
    "reduce(lambda a,b:a*b,l)"
   ]
  },
  {
   "cell_type": "code",
   "execution_count": null,
   "id": "b2rYzqSari7-",
   "metadata": {
    "colab": {
     "base_uri": "https://localhost:8080/"
    },
    "id": "b2rYzqSari7-",
    "outputId": "20749b71-4e6b-4a02-cd7b-bcea0d3ddc50"
   },
   "outputs": [
    {
     "data": {
      "text/plain": [
       "10"
      ]
     },
     "execution_count": 33,
     "metadata": {},
     "output_type": "execute_result"
    }
   ],
   "source": [
    "# 3. Create a Python program that uses `reduce()` to find the maximum element in a list of numbers\n",
    "l = [1,2,3,4,5,6,7,8,9,10]\n",
    "reduce(lambda a,b: a if a>b else b, l )"
   ]
  },
  {
   "cell_type": "code",
   "execution_count": null,
   "id": "f3VtDOWUri1T",
   "metadata": {
    "colab": {
     "base_uri": "https://localhost:8080/",
     "height": 36
    },
    "id": "f3VtDOWUri1T",
    "outputId": "9268d15b-d5a7-478a-bf2a-96d3eb44efd5"
   },
   "outputs": [
    {
     "data": {
      "application/vnd.google.colaboratory.intrinsic+json": {
       "type": "string"
      },
      "text/plain": [
       "'sumaanusha'"
      ]
     },
     "execution_count": 35,
     "metadata": {},
     "output_type": "execute_result"
    }
   ],
   "source": [
    "# 4. How can you use the `reduce()` function to concatenate a list of strings into a single string?\n",
    "l = [\"suma\",\"anusha\"]\n",
    "reduce(lambda a,b : a+b ,l)"
   ]
  },
  {
   "cell_type": "code",
   "execution_count": null,
   "id": "JVJEK_zBrixr",
   "metadata": {
    "colab": {
     "base_uri": "https://localhost:8080/"
    },
    "id": "JVJEK_zBrixr",
    "outputId": "d8aa5d64-1983-45da-9572-3d76963721e5"
   },
   "outputs": [
    {
     "data": {
      "text/plain": [
       "120"
      ]
     },
     "execution_count": 36,
     "metadata": {},
     "output_type": "execute_result"
    }
   ],
   "source": [
    "# 5. Write a Python program that calculates the factorial of a number using the `reduce()` function.\n",
    "n= 5\n",
    "reduce(lambda a,b:a*b,range(1,n+1))"
   ]
  },
  {
   "cell_type": "code",
   "execution_count": null,
   "id": "UAZAHOcGritV",
   "metadata": {
    "colab": {
     "base_uri": "https://localhost:8080/"
    },
    "id": "UAZAHOcGritV",
    "outputId": "e7019a51-e5f8-40e0-874d-1355ad2fb852"
   },
   "outputs": [
    {
     "data": {
      "text/plain": [
       "1"
      ]
     },
     "execution_count": 40,
     "metadata": {},
     "output_type": "execute_result"
    }
   ],
   "source": [
    "\n",
    "# 6. Create a Python program that uses `reduce()` to find the GCD (Greatest Common Divisor) of a list\n",
    "# of numbers.\n",
    "def gcd(a,b):\n",
    "  l=[]\n",
    "  for i in range(1,min(a+1,b+1)):\n",
    "    if a%i==0 and b%i ==0:\n",
    "      l.append(i)\n",
    "  return max(l)\n",
    "l =[1,2,3,4,5,6,7,8,9,10]\n",
    "reduce(gcd,l)"
   ]
  },
  {
   "cell_type": "code",
   "execution_count": null,
   "id": "l9K78HHXripd",
   "metadata": {
    "colab": {
     "base_uri": "https://localhost:8080/"
    },
    "id": "l9K78HHXripd",
    "outputId": "917c85cb-0093-4ad3-f4ea-d5beb2519941"
   },
   "outputs": [
    {
     "name": "stdout",
     "output_type": "stream",
     "text": [
      "enter number: 12345678910\n"
     ]
    },
    {
     "data": {
      "text/plain": [
       "46"
      ]
     },
     "execution_count": 45,
     "metadata": {},
     "output_type": "execute_result"
    }
   ],
   "source": [
    "# 7. Write a Python program that uses the `reduce()` function to find the sum of the digits of a given number\n",
    "n = int(input((\"enter number: \")))\n",
    "reduce(lambda a,b:int(a)+int(b),str(n))"
   ]
  },
  {
   "cell_type": "code",
   "execution_count": null,
   "id": "b75xMoWgrilZ",
   "metadata": {
    "id": "b75xMoWgrilZ"
   },
   "outputs": [],
   "source": []
  },
  {
   "cell_type": "markdown",
   "id": "1a86c533",
   "metadata": {
    "id": "gjux8ttRrihT"
   },
   "source": [
    "### FILTER\n"
   ]
  },
  {
   "cell_type": "code",
   "execution_count": 1,
   "id": "tqG3KW7YridF",
   "metadata": {
    "id": "tqG3KW7YridF"
   },
   "outputs": [
    {
     "data": {
      "text/plain": [
       "[2, 4, 6, 8, 10]"
      ]
     },
     "execution_count": 1,
     "metadata": {},
     "output_type": "execute_result"
    }
   ],
   "source": [
    "# 1. Explain the purpose of the `filter()` function in Python and provide an example of how it can be\n",
    "# used to filter elements from an iterable.\n",
    "\n",
    "''' filter(function,iterable) filters the elements in a iterable elements with the condition given in function'''\n",
    "\n",
    "# Ex\n",
    "\n",
    "l=[1,2,3,4,5,6,7,8,9,10]\n",
    "list(filter(lambda a:a%2==0,l))"
   ]
  },
  {
   "cell_type": "code",
   "execution_count": 2,
   "id": "H2ejtcAYriZg",
   "metadata": {
    "colab": {
     "base_uri": "https://localhost:8080/"
    },
    "id": "H2ejtcAYriZg",
    "outputId": "83c29de2-2884-4401-c951-50cb9ad6ea04"
   },
   "outputs": [
    {
     "data": {
      "text/plain": [
       "[2, 4, 6, 8, 10]"
      ]
     },
     "execution_count": 2,
     "metadata": {},
     "output_type": "execute_result"
    }
   ],
   "source": [
    "# 2. Write a Python program that uses the `filter()` function to select even numbers from a list of integers\n",
    "l=[1,2,3,4,5,6,7,8,9,10]\n",
    "list(filter(lambda a:a%2==0,l))"
   ]
  },
  {
   "cell_type": "code",
   "execution_count": 3,
   "id": "fZePtcIXriWS",
   "metadata": {
    "colab": {
     "base_uri": "https://localhost:8080/"
    },
    "id": "fZePtcIXriWS",
    "outputId": "f4cd3367-f7ed-4187-b7b9-d9f1ea9d4979"
   },
   "outputs": [
    {
     "data": {
      "text/plain": [
       "['suma']"
      ]
     },
     "execution_count": 3,
     "metadata": {},
     "output_type": "execute_result"
    }
   ],
   "source": [
    "# 3. Create a Python program that uses the `filter()` function to select names that start with a specific letter from a list of strings.\n",
    "l = [\"suma\",\"anusha\",\"reddy\"]\n",
    "list(filter(lambda a: a[0]==\"s\",l))"
   ]
  },
  {
   "cell_type": "code",
   "execution_count": 10,
   "id": "CheKPxDsriS3",
   "metadata": {
    "id": "CheKPxDsriS3",
    "scrolled": false
   },
   "outputs": [
    {
     "data": {
      "text/plain": [
       "[2, 3, 5, 7]"
      ]
     },
     "execution_count": 10,
     "metadata": {},
     "output_type": "execute_result"
    }
   ],
   "source": [
    "# 4. Write a Python program that uses the `filter()` function to select prime numbers from a list of integers.\n",
    "l = [1,2,3,4,5,6,7,8,9,10]\n",
    "k = lambda n: n > 1 and all(n % i != 0 for i in range(2, int(n**0.5) + 1))\n",
    "list(filter(k,l))\n"
   ]
  },
  {
   "cell_type": "code",
   "execution_count": 14,
   "id": "ARIGjWtCriPc",
   "metadata": {
    "id": "ARIGjWtCriPc",
    "scrolled": true
   },
   "outputs": [
    {
     "data": {
      "text/plain": [
       "[1, 2, 'Suma', 'reddy', 3, 5]"
      ]
     },
     "execution_count": 14,
     "metadata": {},
     "output_type": "execute_result"
    }
   ],
   "source": [
    "# 5. How can you use the `filter()` function to remove None values from a list in Python\n",
    "\n",
    "l = [1,2,None,\"Suma\",\"reddy\",None,None,3,5,None]\n",
    "\n",
    "list(filter(lambda a:  a!=None,l))"
   ]
  },
  {
   "cell_type": "code",
   "execution_count": 17,
   "id": "c2lOlgugriMD",
   "metadata": {
    "id": "c2lOlgugriMD"
   },
   "outputs": [
    {
     "data": {
      "text/plain": [
       "['anusha', 'abbireddy', 'reddy', 'subhi', 'ganges', 'meerareddy']"
      ]
     },
     "execution_count": 17,
     "metadata": {},
     "output_type": "execute_result"
    }
   ],
   "source": [
    "# 6. Create a Python program that uses `filter()` to select words longer than a certain length from a list of strings\n",
    "\n",
    "l = [\"suma\",\"anusha\",\"abbireddy\",\"reddy\",\"subhi\",\"ganges\",\"meerareddy\",\"chay\",\"rani\"]\n",
    "\n",
    "def filter_func(i):\n",
    "    return len(i)>=5\n",
    "    \n",
    "list(filter(filter_func,l ))"
   ]
  },
  {
   "cell_type": "code",
   "execution_count": 19,
   "id": "fbEjjCEdriIx",
   "metadata": {
    "colab": {
     "base_uri": "https://localhost:8080/"
    },
    "id": "fbEjjCEdriIx",
    "outputId": "557734f9-1e19-4d85-d3d8-12419b354111"
   },
   "outputs": [
    {
     "data": {
      "text/plain": [
       "[67, 54, 32, 21]"
      ]
     },
     "execution_count": 19,
     "metadata": {},
     "output_type": "execute_result"
    }
   ],
   "source": [
    "# 7. Write a Python program that uses the `filter()` function to select elements greater than a\n",
    "#specified threshold from a list of values.\n",
    "l = [1,2,67,54,32,12,21]\n",
    "\n",
    "def custom_fun(a):\n",
    "    return a>20\n",
    "list(filter(custom_fun,l))"
   ]
  },
  {
   "cell_type": "code",
   "execution_count": null,
   "id": "l7spvPZbriFg",
   "metadata": {
    "id": "l7spvPZbriFg"
   },
   "outputs": [],
   "source": []
  },
  {
   "cell_type": "markdown",
   "id": "7175ca13",
   "metadata": {
    "id": "M8L1ayiCriB6"
   },
   "source": [
    "### RECURSION"
   ]
  },
  {
   "cell_type": "code",
   "execution_count": null,
   "id": "rNpBz-l_rh99",
   "metadata": {
    "id": "rNpBz-l_rh99"
   },
   "outputs": [],
   "source": [
    "# 1. Explain the concept of recursion in Python. How does it differ from iteration?\n",
    "''' recursion is a technique in which a function calls itself to solve a problem'''\n",
    "\n",
    "'''Iteration is a technique that uses loops (such as for and while loops) to repeatedly execute a set of statements.'''\n",
    "\n",
    "''' Recursion uses a function calling itself to solve a problem,while iteration uses loops to repeat a set of statements.'''"
   ]
  },
  {
   "cell_type": "code",
   "execution_count": null,
   "id": "nBhyMe1xrh5p",
   "metadata": {
    "colab": {
     "base_uri": "https://localhost:8080/"
    },
    "id": "nBhyMe1xrh5p",
    "outputId": "0773faa7-f864-4aad-80f1-082a0b51cc72"
   },
   "outputs": [
    {
     "data": {
      "text/plain": [
       "362880"
      ]
     },
     "execution_count": 7,
     "metadata": {},
     "output_type": "execute_result"
    }
   ],
   "source": [
    "# 2. Write a Python program to calculate the factorial of a number using recursion.\n",
    "\n",
    "def fact(n):\n",
    "  if n==1:\n",
    "    return 1\n",
    "  elif n<1:\n",
    "    return \"enter positive number\"\n",
    "  else:\n",
    "    return n*fact(n-1)\n",
    "fact(9)"
   ]
  },
  {
   "cell_type": "code",
   "execution_count": 32,
   "id": "3k59oVTzrh1b",
   "metadata": {
    "colab": {
     "base_uri": "https://localhost:8080/"
    },
    "id": "3k59oVTzrh1b",
    "outputId": "241eb434-4a3b-4fa8-dedf-0cef55ecd278"
   },
   "outputs": [
    {
     "data": {
      "text/plain": [
       "3"
      ]
     },
     "execution_count": 32,
     "metadata": {},
     "output_type": "execute_result"
    }
   ],
   "source": [
    "# 3. Create a recursive Python function to find the nth Fibonacci number\n",
    "def fib(n):\n",
    "    if n ==1:\n",
    "        return 0\n",
    "    elif n==2:\n",
    "        return 1\n",
    "    else:\n",
    "        return fib(n-1) + fib(n-2)\n",
    "fib(5)"
   ]
  },
  {
   "cell_type": "code",
   "execution_count": 37,
   "id": "gYeIxsDKrhwf",
   "metadata": {
    "id": "gYeIxsDKrhwf"
   },
   "outputs": [
    {
     "data": {
      "text/plain": [
       "12"
      ]
     },
     "execution_count": 37,
     "metadata": {},
     "output_type": "execute_result"
    }
   ],
   "source": [
    "# 4. Write a recursive Python function to calculate the sum of all elements in a list.\n",
    "\n",
    "def sum_of_ele(l):\n",
    "    if not l:\n",
    "        return 0\n",
    "    else:\n",
    "        return l[0]+ sum_of_ele(l[1:])\n",
    "sum_of_ele([1,2,4,5])"
   ]
  },
  {
   "cell_type": "code",
   "execution_count": null,
   "id": "9IgqWPNvrhrZ",
   "metadata": {
    "id": "9IgqWPNvrhrZ"
   },
   "outputs": [],
   "source": [
    "# 5. How can you prevent a recursive function from running indefinitely, causing a stack overflow error?\n",
    "\n",
    "''' By creating base case in function followed by recursice function'''"
   ]
  },
  {
   "cell_type": "code",
   "execution_count": 41,
   "id": "xJn8XtfHrhm8",
   "metadata": {
    "id": "xJn8XtfHrhm8"
   },
   "outputs": [
    {
     "data": {
      "text/plain": [
       "25"
      ]
     },
     "execution_count": 41,
     "metadata": {},
     "output_type": "execute_result"
    }
   ],
   "source": [
    "# 6. Create a recursive Python function to find the greatest common divisor (GCD) of two numbersusing the Euclidean algorithm\n",
    "\n",
    "def gcd(a,b):\n",
    "    if b==0:\n",
    "        return a\n",
    "    else:\n",
    "        return gcd(a,b-1)\n",
    "    \n",
    "gcd(25,50)"
   ]
  },
  {
   "cell_type": "code",
   "execution_count": 45,
   "id": "c8we1TETrhRO",
   "metadata": {
    "id": "c8we1TETrhRO"
   },
   "outputs": [
    {
     "data": {
      "text/plain": [
       "'amus'"
      ]
     },
     "execution_count": 45,
     "metadata": {},
     "output_type": "execute_result"
    }
   ],
   "source": [
    "# 7. Write a recursive Python function to reverse a string.\n",
    "\n",
    "def str_reverse(s):\n",
    "    if not s:\n",
    "        return \"\"\n",
    "    else:\n",
    "        return s[-1] + str_reverse(s[:-1])\n",
    "\n",
    "str_reverse(\"suma\")"
   ]
  },
  {
   "cell_type": "code",
   "execution_count": 49,
   "id": "f86fae87",
   "metadata": {},
   "outputs": [
    {
     "data": {
      "text/plain": [
       "512"
      ]
     },
     "execution_count": 49,
     "metadata": {},
     "output_type": "execute_result"
    }
   ],
   "source": [
    "# 8. Create a recursive Python function to calculate the power of a number (x^n).\n",
    "\n",
    "def power(x,n):\n",
    "    if n==0:\n",
    "        return 1\n",
    "    else:\n",
    "        return x * power(x,n-1)\n",
    "\n",
    "power(2,9)\n",
    "        "
   ]
  },
  {
   "cell_type": "code",
   "execution_count": 13,
   "id": "b548bf97",
   "metadata": {},
   "outputs": [
    {
     "data": {
      "text/plain": [
       "['suma',\n",
       " 'suam',\n",
       " 'smua',\n",
       " 'smau',\n",
       " 'saum',\n",
       " 'samu',\n",
       " 'usma',\n",
       " 'usam',\n",
       " 'umsa',\n",
       " 'umas',\n",
       " 'uasm',\n",
       " 'uams',\n",
       " 'msua',\n",
       " 'msau',\n",
       " 'musa',\n",
       " 'muas',\n",
       " 'masu',\n",
       " 'maus',\n",
       " 'asum',\n",
       " 'asmu',\n",
       " 'ausm',\n",
       " 'aums',\n",
       " 'amsu',\n",
       " 'amus']"
      ]
     },
     "execution_count": 13,
     "metadata": {},
     "output_type": "execute_result"
    }
   ],
   "source": [
    "# 9. Write a recursive Python function to find all permutations of a given string.\n",
    "\n",
    "def find_permutations_recursive(s):\n",
    "    if len(s) == 1:\n",
    "        return [s]\n",
    "\n",
    "    permutations = []\n",
    "    for i in range(len(s)):\n",
    "        first_char = s[i]\n",
    "        remaining_chars = s[:i] + s[i+1:]\n",
    "\n",
    "        # Recursively generate permutations of the remaining characters\n",
    "        remaining_permutations = find_permutations_recursive(remaining_chars)\n",
    "\n",
    "        # Combine the first character with the permutations of the remaining characters\n",
    "        for perm in remaining_permutations:\n",
    "            permutations.append(first_char + perm)\n",
    "\n",
    "    return permutations\n",
    "\n",
    "\n",
    "\n",
    "find_permutations_recursive(\"suma\")"
   ]
  },
  {
   "cell_type": "code",
   "execution_count": 50,
   "id": "01651970",
   "metadata": {},
   "outputs": [
    {
     "name": "stdout",
     "output_type": "stream",
     "text": [
      "True\n",
      "False\n"
     ]
    }
   ],
   "source": [
    "# 10. Write a recursive Python function to check if a string is a palindrome.\n",
    "\n",
    "def is_palindrome(s):\n",
    "    if len(s) <= 1:\n",
    "        return True\n",
    "    if s[0] != s[-1]:\n",
    "        return False\n",
    "    return is_palindrome(s[1:-1])\n",
    "\n",
    "\n",
    "print(is_palindrome(\"racecar\"))  \n",
    "print(is_palindrome(\"hello\"))   \n",
    "\n",
    "        "
   ]
  },
  {
   "cell_type": "code",
   "execution_count": 20,
   "id": "35e2cd65",
   "metadata": {},
   "outputs": [
    {
     "name": "stdout",
     "output_type": "stream",
     "text": [
      "[1, 2]\n",
      "[1, 3]\n",
      "[2, 3]\n"
     ]
    }
   ],
   "source": [
    "# 11. Create a recursive Python function to generate all possible combinations of a list of elements.\n",
    "\n",
    "def generate_combinations_recursive(elements, r):\n",
    "    if r == 0:\n",
    "        return [[]]  \n",
    "    if len(elements) == 0:\n",
    "        return []  \n",
    "\n",
    "    first, rest = elements[0], elements[1:]\n",
    "\n",
    "    \n",
    "    combinations_with_first = [[first] + combo for combo in generate_combinations_recursive(rest, r - 1)]\n",
    "    combinations_without_first = generate_combinations_recursive(rest, r)\n",
    "\n",
    "   \n",
    "    return combinations_with_first + combinations_without_first\n",
    "\n",
    "input_elements = [1, 2, 3]\n",
    "r = 2  # Change 'r' to control the length of combinations\n",
    "result = generate_combinations_recursive(input_elements, r)\n",
    "for combination in result:\n",
    "    print(combination)\n"
   ]
  },
  {
   "cell_type": "code",
   "execution_count": null,
   "id": "82dbb297",
   "metadata": {},
   "outputs": [],
   "source": []
  },
  {
   "cell_type": "markdown",
   "id": "64916b7f",
   "metadata": {},
   "source": [
    "### Basics of Functions:"
   ]
  },
  {
   "cell_type": "code",
   "execution_count": null,
   "id": "9b530315",
   "metadata": {},
   "outputs": [],
   "source": [
    "# 1. What is a function in Python, and why is it used?\n",
    "\n",
    "''' A function in Python is a reusable block of code that performs a specific task or set of tasks. \n",
    "functions are main used for code reusuability\n",
    "functions are:\n",
    "1.user defined functions\n",
    "2.inbuilt functions\n",
    "3.recursive functions\n",
    "4.lambda functions'''\n"
   ]
  },
  {
   "cell_type": "code",
   "execution_count": 54,
   "id": "4b723108",
   "metadata": {},
   "outputs": [
    {
     "data": {
      "text/plain": [
       "[3, 4, 6, 7]"
      ]
     },
     "execution_count": 54,
     "metadata": {},
     "output_type": "execute_result"
    }
   ],
   "source": [
    "# 2. How do you define a function in Python? Provide an example.\n",
    "''' we define a function using the def keyword followed by the function name, a pair of parentheses for parameters (if any), a colon, and the function body.\n",
    "\n",
    "syntax:\n",
    "\n",
    "def func_name(parameters):\n",
    "    function body   '''\n",
    "\n",
    "def add_2(l):\n",
    "    l1=[]\n",
    "    for i in l:\n",
    "        l1.append(i+2)\n",
    "    return l1\n",
    "    \n",
    "add_2([1,2,4,5])"
   ]
  },
  {
   "cell_type": "code",
   "execution_count": null,
   "id": "f23c6b55",
   "metadata": {},
   "outputs": [],
   "source": [
    "# 3. Explain the difference between a function definition and a function call\n",
    "\n",
    "'''Function definition is where you define the name of the function, \n",
    "its parameters (if any), and the sequence of statements to be executed \n",
    "It is like blueprint or template for a function.\n",
    "\n",
    "Function call : It is the actual invocation or execution of a defined function.\n",
    "It is where we use the function by providing arguments (if required) \n",
    "and triggering the execution of the code within the function definition.'''"
   ]
  },
  {
   "cell_type": "code",
   "execution_count": 55,
   "id": "a703840b",
   "metadata": {},
   "outputs": [
    {
     "data": {
      "text/plain": [
       "6"
      ]
     },
     "execution_count": 55,
     "metadata": {},
     "output_type": "execute_result"
    }
   ],
   "source": [
    "# 4. Write a Python program that defines a function to calculate the sum of two numbers and then calls the function.\n",
    "\n",
    "def sum_of_two(a,b):\n",
    "    return a+b\n",
    "\n",
    "sum_of_two(2,4)\n"
   ]
  },
  {
   "cell_type": "code",
   "execution_count": null,
   "id": "5ef0360e",
   "metadata": {},
   "outputs": [],
   "source": [
    "# 5. What is a function signature, and what information does it typically include?\n",
    "\n",
    "'''A function signature, also known as a function prototype or function header, \n",
    "is a fundamental part of a function's declaration that provides information about the function's interface and usage.\n",
    "\n",
    "It contains:\n",
    "function name\n",
    "return type\n",
    "parameters/arguments\n",
    "\n",
    "function signature is \n",
    "\n",
    "def calculate_area(length, width):\n",
    "\n",
    "function name:calculate_area\n",
    "parameters: length,width '''\n",
    "\n"
   ]
  },
  {
   "cell_type": "code",
   "execution_count": 56,
   "id": "6416f671",
   "metadata": {},
   "outputs": [
    {
     "data": {
      "text/plain": [
       "18"
      ]
     },
     "execution_count": 56,
     "metadata": {},
     "output_type": "execute_result"
    }
   ],
   "source": [
    "# 6. Create a Python function that takes two arguments and returns their product.\n",
    "\n",
    "def prod(a,b):\n",
    "    return a*b\n",
    "\n",
    "prod(3,6)"
   ]
  },
  {
   "cell_type": "markdown",
   "id": "9062f264",
   "metadata": {},
   "source": [
    "#### Function Parameters and Arguments:\n"
   ]
  },
  {
   "cell_type": "code",
   "execution_count": null,
   "id": "30c36352",
   "metadata": {},
   "outputs": [],
   "source": [
    "# 1. Explain the concepts of formal parameters and actual arguments in Python functions.\n",
    "\n",
    "'''input variables or values that a function expects  are formal parameters\n",
    "formal parameters are part of function definition\n",
    "\n",
    "and the values or expressions that are provided when the function is called actual arguments\n",
    "actual arguments are part of function call'''"
   ]
  },
  {
   "cell_type": "code",
   "execution_count": 57,
   "id": "153cc3a0",
   "metadata": {},
   "outputs": [
    {
     "name": "stdout",
     "output_type": "stream",
     "text": [
      "Hello, Alice! You are 30 years old.\n"
     ]
    }
   ],
   "source": [
    "# 3. How do you use keyword arguments in Python function calls? Provide an example?\n",
    "\n",
    "'''Keyword arguments are a way to pass arguments to a Python function by explicitly specifying the parameter names along \n",
    "with their values in the function call.\n",
    "\n",
    "Here's how to use keyword arguments in Python function calls:\n",
    "\n",
    "Function Definition: Define a function with named parameters.\n",
    "\n",
    "Function Call: In the function call, specify the parameter names and\n",
    "their corresponding values, using the format parameter_name=value.'''\n",
    "\n",
    "# ex\n",
    "\n",
    "def greet(name, age):\n",
    "    print(f\"Hello, {name}! You are {age} years old.\")\n",
    "\n",
    "# Using keyword arguments in the function call\n",
    "greet(name=\"Alice\", age=30)\n",
    "\n",
    "\n"
   ]
  },
  {
   "cell_type": "code",
   "execution_count": 58,
   "id": "ec61804a",
   "metadata": {},
   "outputs": [
    {
     "data": {
      "text/plain": [
       "15"
      ]
     },
     "execution_count": 58,
     "metadata": {},
     "output_type": "execute_result"
    }
   ],
   "source": [
    "# 4. Create a Python function that accepts a variable number of arguments and calculates their sum\n",
    "def add_sum(*v):\n",
    "    s =0\n",
    "    for i in v:\n",
    "        s+=i\n",
    "    return s\n",
    "\n",
    "add_sum(1,2,3,4,5)"
   ]
  },
  {
   "cell_type": "code",
   "execution_count": null,
   "id": "eb06782a",
   "metadata": {},
   "outputs": [],
   "source": [
    "# 5. What is the purpose of the `*args` and `**kwargs` syntax in function parameter lists?\n",
    "\n",
    "'''*args (Arbitrary Positional Arguments):\n",
    "\n",
    "The *args syntax allows a function to accept a variable number of positional arguments.\n",
    "The term \"args\" is a convention, but we can choose any name we like.\n",
    "When we use *args in a function definition, it collects all positional arguments that are passed to the function as a tuple.\n",
    "\n",
    "\n",
    "**kwargs (Arbitrary Keyword Arguments):\n",
    "\n",
    "The **kwargs syntax allows a function to accept a variable number of keyword arguments.\n",
    "The term \"kwargs\" is a convention, but like with *args, you can choose any name for the keyword arguments.\n",
    "When you use **kwargs in a function definition, it collects all keyword arguments and their values as a dictionary.'''"
   ]
  },
  {
   "cell_type": "markdown",
   "id": "062a8081",
   "metadata": {},
   "source": [
    "#### Return Values and Scoping:\n"
   ]
  },
  {
   "cell_type": "code",
   "execution_count": 60,
   "id": "f431a5bd",
   "metadata": {},
   "outputs": [
    {
     "data": {
      "text/plain": [
       "5"
      ]
     },
     "execution_count": 60,
     "metadata": {},
     "output_type": "execute_result"
    }
   ],
   "source": [
    "# 1. Describe the role of the `return` statement in Python functions and provide examples.\n",
    "'''The return statement in Python functions is used to \n",
    "specify what value the function should send back as its result to the caller.'''\n",
    "\n",
    "# Ex:\n",
    "\n",
    "def add(a,b):\n",
    "    return a+b\n",
    "\n",
    "add(2,3)"
   ]
  },
  {
   "cell_type": "code",
   "execution_count": null,
   "id": "76af95ff",
   "metadata": {},
   "outputs": [],
   "source": [
    "# 2. Explain the concept of variable scope in Python, including local and global variables.\n",
    "\n",
    "'''\n",
    "Variable scope in Python refers to the region or context in which a variable is recognized, accessed, and can be used. \n",
    "Python has two primary types of variable scope:  local and global.\n",
    "\n",
    "ocal Scope:\n",
    "\n",
    "Variables defined within a function have local scope. They are accessible only within the function where they are defined.\n",
    "Local variables are created when the function is called and destroyed when the function exits, \n",
    "making them temporary and isolated from the rest of the program.\n",
    "Attempting to access a local variable outside of the function in which it is defined will result in an error.\n",
    "\n",
    "Global Scope:\n",
    "\n",
    "Variables defined outside of any function have global scope. They can be accessed from any part of the program, \n",
    "both inside and outside functions.\n",
    "Global variables are created when the program starts and exist throughout the program's execution.\n",
    "While global variables can be accessed from within functions, modifying them within a function\n",
    "(without explicitly specifying the variable as global) creates a new local variable with the same name.'''"
   ]
  },
  {
   "cell_type": "code",
   "execution_count": 62,
   "id": "be1ba37f",
   "metadata": {},
   "outputs": [
    {
     "data": {
      "text/plain": [
       "10"
      ]
     },
     "execution_count": 62,
     "metadata": {},
     "output_type": "execute_result"
    }
   ],
   "source": [
    "# 3. Write a Python program that demonstrates the use of global variables within functions\n",
    "\n",
    "s = 0\n",
    "def sum(l):\n",
    "    for i in l:\n",
    "        global s\n",
    "        s+=i\n",
    "    return s\n",
    "\n",
    "sum([1,2,3,4])"
   ]
  },
  {
   "cell_type": "code",
   "execution_count": 63,
   "id": "29acb673",
   "metadata": {},
   "outputs": [
    {
     "data": {
      "text/plain": [
       "120"
      ]
     },
     "execution_count": 63,
     "metadata": {},
     "output_type": "execute_result"
    }
   ],
   "source": [
    "# 4. Create a Python function that calculates the factorial of a number and returns it.\n",
    "\n",
    "def fact(n):\n",
    "    rod=1\n",
    "    for i in range(1,n+1):\n",
    "        rod*=i\n",
    "    return rod\n",
    "\n",
    "fact(5)\n",
    "        \n",
    "        "
   ]
  },
  {
   "cell_type": "code",
   "execution_count": null,
   "id": "790aa17b",
   "metadata": {},
   "outputs": [],
   "source": [
    "# 5. How can you access variables defined outside a function from within the function?\n",
    "\n",
    "'''\n",
    "In Python, you can access variables defined outside a function from within the function by referencing those \n",
    "variables directly. Variables defined outside of functions have global scope,\n",
    "meaning they are accesible from any part of the program, including inside functions. \n",
    "\n",
    "ways to access:\n",
    "\n",
    "1. Accessing Global Variables Directly:\n",
    "2.Modifying Global Variables from Within a Function'''"
   ]
  },
  {
   "cell_type": "code",
   "execution_count": null,
   "id": "343aabc4",
   "metadata": {},
   "outputs": [],
   "source": []
  },
  {
   "cell_type": "markdown",
   "id": "76b7b8a6",
   "metadata": {},
   "source": [
    "### Lambda Functions and Higher-Order Functions"
   ]
  },
  {
   "cell_type": "code",
   "execution_count": null,
   "id": "4589219d",
   "metadata": {},
   "outputs": [],
   "source": [
    "# 1. What are lambda functions in Python, and when are they typically used?\n",
    "\n",
    "''' lambda functions are one of the type of functions and they  are typically used for short, simple operations\n",
    "that can be defined in a single line of code.\n",
    "\n",
    " Lambda functions are defined using the lambda keyword, \n",
    " followed by the function's input parameters and an expression that specifies the operation to perform.\n",
    "\n",
    "syntax:\n",
    "lambda arguments: expression'''\n",
    "\n"
   ]
  },
  {
   "cell_type": "code",
   "execution_count": 67,
   "id": "41a943be",
   "metadata": {},
   "outputs": [
    {
     "name": "stdout",
     "output_type": "stream",
     "text": [
      "(1, 'apple')\n",
      "(3, 'banana')\n",
      "(2, 'cherry')\n",
      "(4, 'date')\n"
     ]
    }
   ],
   "source": [
    "# 2. Write a Python program that uses lambda functions to sort a list of tuples based on the second element.\n",
    "\n",
    "data = [(1, 'apple'), (3, 'banana'), (2, 'cherry'), (4, 'date')]\n",
    "\n",
    "sorted_data = sorted(data, key=lambda x: x[1])\n",
    "\n",
    "\n",
    "for item in sorted_data:\n",
    "    print(item)\n"
   ]
  },
  {
   "cell_type": "code",
   "execution_count": 7,
   "id": "15dff43c",
   "metadata": {},
   "outputs": [
    {
     "name": "stdout",
     "output_type": "stream",
     "text": [
      "Result of addition: 8\n",
      "Result of subtraction: 6\n",
      "Result of multiplication: 24\n"
     ]
    }
   ],
   "source": [
    "# 3. Explain the concept of higher-order functions in Python, and provide an example.\n",
    "\n",
    "'''\n",
    "\n",
    "Higher-order functions are a concept in functional programming where functions can be treated as first-class citizens,\n",
    "allowing them to be passed as arguments to other functions, returned as values from other functions, or assigned to \n",
    "variables. In Python, functions are first-class citizens, which means Python supports higher-order functions.\n",
    "\n",
    "This concept allows you to write more flexible and modular code by passing functions as arguments or returning them from \n",
    "other functions.\n",
    "'''\n",
    "\n",
    "\n",
    "def apply_operation(operation, x, y):\n",
    "    return operation(x, y)\n",
    "\n",
    "# Define some functions that can be used as operations\n",
    "def add(a, b):\n",
    "    return a + b\n",
    "\n",
    "def subtract(a, b):\n",
    "    return a - b\n",
    "\n",
    "def multiply(a, b):\n",
    "    return a * b\n",
    "\n",
    "# Using apply_operation with different functions\n",
    "result1 = apply_operation(add, 5, 3)\n",
    "result2 = apply_operation(subtract, 8, 2)\n",
    "result3 = apply_operation(multiply, 4, 6)\n",
    "\n",
    "print(\"Result of addition:\", result1)  # Output: Result of addition: 8\n",
    "print(\"Result of subtraction:\", result2)  # Output: Result of subtraction: 6\n",
    "print(\"Result of multiplication:\", result3)  # Output: Result of multiplication: 24\n",
    "\n"
   ]
  },
  {
   "cell_type": "code",
   "execution_count": 3,
   "id": "c7e19916",
   "metadata": {},
   "outputs": [
    {
     "data": {
      "text/plain": [
       "[1, 4, 9, 16, 25, 36, 49, 64, 81, 100]"
      ]
     },
     "execution_count": 3,
     "metadata": {},
     "output_type": "execute_result"
    }
   ],
   "source": [
    "# 4. Create a Python function that takes a list of numbers and a function as arguments, applying the\n",
    "#          function to each element in the list.\n",
    "\n",
    "def num(l, func):\n",
    "    l1=[]\n",
    "    for i in l:\n",
    "        l1.append(func(i))\n",
    "    return l1\n",
    "\n",
    "def square(x):\n",
    "    return x**2\n",
    "    \n",
    "\n",
    "num([1,2,3,4,5,6,7,8,9,10],square)\n",
    "        "
   ]
  },
  {
   "cell_type": "markdown",
   "id": "0db46d67",
   "metadata": {},
   "source": [
    "## Built in functions"
   ]
  },
  {
   "cell_type": "code",
   "execution_count": null,
   "id": "ff141fc2",
   "metadata": {},
   "outputs": [],
   "source": [
    "# 1. Describe the role of built-in functions like `len()`, `max()`, and `min()` in Python\n",
    "\n",
    "'''\n",
    "len() used to find length(no of elements) of an iterable such as the string,list, tuple ,dictionary or set \n",
    "\n",
    "max() used to find highest value in given set of elements\n",
    "\n",
    "min() used to find lowest value in given set of elements '''"
   ]
  },
  {
   "cell_type": "code",
   "execution_count": 5,
   "id": "22869e54",
   "metadata": {},
   "outputs": [
    {
     "data": {
      "text/plain": [
       "['SUMA', 'REDDY', 'ANUSHA', 'ABBIREDDY']"
      ]
     },
     "execution_count": 5,
     "metadata": {},
     "output_type": "execute_result"
    }
   ],
   "source": [
    "# 2. Write a Python program that uses the `map()` function to apply a function to each element of a list.\n",
    "\n",
    "def upper(x):\n",
    "    return x.upper()\n",
    "    \n",
    "    \n",
    "l=[\"suma\",\"reddy\",\"anusha\",\"abbireddy\"]\n",
    "list(map(upper,l))\n",
    "    "
   ]
  },
  {
   "cell_type": "code",
   "execution_count": null,
   "id": "57dbdef6",
   "metadata": {},
   "outputs": [],
   "source": [
    "# 3. How does the `filter()` function work in Python, and when would you use it?\n",
    "\n",
    "'''\n",
    "filter() is used to filter the elements on iterable based on a function\n",
    "\n",
    "The filter() function takes two arguments:\n",
    "\n",
    "A function that defines the filtering condition. This function should return True for elements that \n",
    "should be included in the output and False for elements that should be excluded.\n",
    "An iterable containing the elements to be filtered.\n",
    "The filter() function applies the filtering condition function to each element in the iterable.\n",
    "\n",
    "It returns an iterator containing only the elements for which the filtering function returned True."
   ]
  },
  {
   "cell_type": "code",
   "execution_count": 6,
   "id": "b5b4403a",
   "metadata": {},
   "outputs": [
    {
     "data": {
      "text/plain": [
       "3628800"
      ]
     },
     "execution_count": 6,
     "metadata": {},
     "output_type": "execute_result"
    }
   ],
   "source": [
    "# 4. Create a Python program that uses the `reduce()` function to find the product of all elements in a list.\n",
    "\n",
    "l = [1,2,3,4,5,6,7,8,9,10]\n",
    "\n",
    "from functools import reduce\n",
    "\n",
    "def prod(a,b):\n",
    "    return a*b\n",
    "\n",
    "reduce(prod,l)"
   ]
  },
  {
   "cell_type": "markdown",
   "id": "cd1f5870",
   "metadata": {},
   "source": [
    "### Function Documentation and Best Practices:"
   ]
  },
  {
   "cell_type": "code",
   "execution_count": null,
   "id": "cf380c12",
   "metadata": {},
   "outputs": [],
   "source": [
    "# 1. Explain the purpose of docstrings in Python functions and how to write them\n",
    "\n",
    "'''\n",
    "\n",
    "In Python, a docstring is a string literal that is used to document a module, function, class, \n",
    "or method. Docstrings serve the purpose of providing human-readable documentation for your code. \n",
    "They are particularly helpful for understanding the purpose, usage, and behavior of functions and classes, \n",
    "and they make it easier for others (and yourself) to work with your code. Properly documented code is not only more \n",
    "understandable but also more maintainable.\n",
    "\n",
    "Here's how to write docstrings and their purpose:\n",
    "\n",
    "Writing a Docstring:\n",
    "\n",
    "A docstring is enclosed in triple-quotes (single or double) and is placed within the first line or lines of a function,\n",
    "class, or module. It's a convention to place docstrings within the first line of a function or immediately after the \n",
    "function signature, class definition, or module description.\n",
    "\n",
    "There are various styles for docstrings, but the most common one is the \"Google-style\" or \"reStructuredText\" format.\n"
   ]
  },
  {
   "cell_type": "code",
   "execution_count": null,
   "id": "6848be38",
   "metadata": {},
   "outputs": [],
   "source": [
    "# 2.Describe some best practices for naming function and variables in python including naming convention and guidelines\n",
    "'''\n",
    "\n",
    "Naming conventions and guidelines are important in Python to ensure that your code is readable, maintainable,and consistent.\n",
    "Here are some best practices for naming functions and variables in Python:\n",
    "\n",
    "For Function Names:\n",
    "\n",
    "Use Descriptive Names: Choose names that describe the purpose or functionality of the function.\n",
    "A well-chosen name can make your code more self-explanatory.\n",
    "\n",
    "Use Snake Case: Function names should be in lowercase with words separated by underscores. \n",
    "For example, calculate_average_score().\n",
    "\n",
    "Verb-Noun Pairing: Typically, use a verb followed by a noun to describe what the function does.\n",
    "For example, get_data(), calculate_total().\n",
    "\n",
    "Be Consistent: Stick to a consistent naming style throughout your codebase. If you start with snake_case, continue using it.\n",
    "\n",
    "Avoid Ambiguity: Make sure the function name is unambiguous and not easily confused with other functions or variables. \n",
    "If there's potential for confusion, choose a more specific name.\n",
    "\n",
    "Use Function Names That Start With a Verb: This is a common convention and makes it clear that the identifier is a function.\n",
    "For example, calculate_area().\n",
    "\n",
    "For Variable Names:\n",
    "\n",
    "Use Descriptive Names: Variable names should clearly indicate the purpose or content of the variable. \n",
    "This makes your code more self-documenting.\n",
    "\n",
    "Use Snake Case: Variable names should be in lowercase with words separated by underscores.\n",
    "For example, user_name, total_count.\n",
    "\n",
    "Be Concise: While descriptive, variable names should also be concise. Avoid excessively long variable names,\n",
    "as they can make your code harder to read.\n",
    "\n",
    "Avoid Single-Letter Variable Names: Except in cases like loop counters (e.g., i, j, k), avoid using single-letter variable\n",
    "names. Make your variable names meaningful.\n",
    "\n",
    "Be Consistent: Consistency is crucial. If you use user_name in one part of your code, don't switch to username in another\n",
    "part.\n",
    "\n",
    "Use Proper Data Type Prefixes: You can use prefixes to indicate the data type of the variable, such as str_name, \n",
    "int_count, list_values. This can help clarify the variable's purpose.\n",
    "\n",
    "Avoid Reserved Words: Don't use Python's reserved words or built-in function names as variable names to prevent naming \n",
    "conflicts.\n",
    "\n",
    "Additional Naming Practices:\n",
    "\n",
    "Constants: If you have constants in your code, use UPPERCASE_WITH_UNDERSCORES for naming. For example, PI, MAX_VALUE.\n",
    "\n",
    "Private Variables: For variables intended to be private (not part of the public API), prefix them with an underscore, \n",
    "\n",
    "like _private_variable. However, this is a convention, and it doesn't prevent access to the variable.\n",
    "\n",
    "Module and Package Names: Use lowercase names for modules and packages. Avoid using hyphens or spaces; \n",
    "use underscores (e.g., my_module, my_package).\n",
    "\n",
    "Class Names: Use CamelCase (also known as CapWords) for class names. For example, MyClass, PersonInfo.\n",
    "\n",
    "Inherited Class Names: When inheriting from a class, you can append the base class name to the subclass, like MyClassBase.\n",
    "\n",
    "'''"
   ]
  }
 ],
 "metadata": {
  "colab": {
   "provenance": []
  },
  "kernelspec": {
   "display_name": "Python 3 (ipykernel)",
   "language": "python",
   "name": "python3"
  },
  "language_info": {
   "codemirror_mode": {
    "name": "ipython",
    "version": 3
   },
   "file_extension": ".py",
   "mimetype": "text/x-python",
   "name": "python",
   "nbconvert_exporter": "python",
   "pygments_lexer": "ipython3",
   "version": "3.9.13"
  }
 },
 "nbformat": 4,
 "nbformat_minor": 5
}
