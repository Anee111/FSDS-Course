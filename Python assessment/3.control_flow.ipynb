{
 "cells": [
  {
   "cell_type": "markdown",
   "metadata": {
    "id": "ESUGtJ5ivFGB"
   },
   "source": [
    "\n",
    "# Basic If-Else Statements"
   ]
  },
  {
   "cell_type": "code",
   "execution_count": null,
   "metadata": {
    "colab": {
     "base_uri": "https://localhost:8080/"
    },
    "id": "wOaMviI9xzZb",
    "outputId": "195d8182-aa2e-4915-8344-c9f0600615b3"
   },
   "outputs": [
    {
     "name": "stdout",
     "output_type": "stream",
     "text": [
      "enter number:-9\n",
      "negative\n"
     ]
    }
   ],
   "source": [
    "# 1. Write a Python program to check if a given number is positive or negative\n",
    "\n",
    "num = int(input(\"enter number:\"))\n",
    "if num>0:\n",
    "  print(\"positive\")\n",
    "elif num<0:\n",
    "  print(\"negative\")"
   ]
  },
  {
   "cell_type": "code",
   "execution_count": null,
   "metadata": {
    "colab": {
     "base_uri": "https://localhost:8080/"
    },
    "id": "9uhWxIxAyqby",
    "outputId": "05b86135-717c-410b-dd49-c8a683c7ab93"
   },
   "outputs": [
    {
     "name": "stdout",
     "output_type": "stream",
     "text": [
      "enter your age: 9\n",
      "not eligible to vote\n"
     ]
    }
   ],
   "source": [
    "# 2. Create a program that determines if a person is eligible to vote based on their age.\n",
    "age = int(input((\"enter your age: \")))\n",
    "if age>=18:\n",
    "  print(\"eligible to vote\")\n",
    "else:\n",
    "  print(\"not eligible to vote\")"
   ]
  },
  {
   "cell_type": "code",
   "execution_count": null,
   "metadata": {
    "colab": {
     "base_uri": "https://localhost:8080/"
    },
    "id": "BnJp0RR-zThy",
    "outputId": "1d5c71d7-029e-4a4c-d158-50053c29c41b"
   },
   "outputs": [
    {
     "name": "stdout",
     "output_type": "stream",
     "text": [
      "enter first number:89\n",
      "enter second number:43\n",
      "a is big\n"
     ]
    }
   ],
   "source": [
    "# 3. Develop a program to find the maximum of two numbers using if-else statements.\n",
    "a = int(input(\"enter first number:\"))\n",
    "b = int(input(\"enter second number:\"))\n",
    "if a>b:\n",
    "  print(\"a is big\")\n",
    "else:\n",
    "  print(\"b is big\")"
   ]
  },
  {
   "cell_type": "code",
   "execution_count": null,
   "metadata": {
    "colab": {
     "base_uri": "https://localhost:8080/"
    },
    "id": "3y-KOAp2zuhE",
    "outputId": "1e0d5758-ddfe-4d45-e7b7-229d52b462f6"
   },
   "outputs": [
    {
     "name": "stdout",
     "output_type": "stream",
     "text": [
      "enter year:2024\n",
      "2024 is leap year\n"
     ]
    }
   ],
   "source": [
    "# 4. Write a Python script to classify a given year as a leap year or not\n",
    "year = int(input(\"enter year:\"))\n",
    "if year%4==0:\n",
    "  print(year,\"is leap year\")\n",
    "else:\n",
    "  print(year,\"not a leap year\")"
   ]
  },
  {
   "cell_type": "code",
   "execution_count": null,
   "metadata": {
    "colab": {
     "base_uri": "https://localhost:8080/"
    },
    "id": "ahRV5K7x0LPx",
    "outputId": "99aa6acb-0b85-4d57-df8f-b27894baa96d"
   },
   "outputs": [
    {
     "name": "stdout",
     "output_type": "stream",
     "text": [
      "enter character:W\n",
      "W is consonant\n"
     ]
    }
   ],
   "source": [
    "# 5. Create a program that checks whether a character is a vowel or a consonant\n",
    "c = input(\"enter character:\")\n",
    "if c in \"aeiouAEIOU\":\n",
    "  print(c,\"is vowel\")\n",
    "else:\n",
    "  print(c, \"is consonant\")"
   ]
  },
  {
   "cell_type": "code",
   "execution_count": null,
   "metadata": {
    "colab": {
     "base_uri": "https://localhost:8080/"
    },
    "id": "b5dDJ7-10lnS",
    "outputId": "73c1b8a5-afee-4b86-8eb3-f9d48ca11c3c"
   },
   "outputs": [
    {
     "name": "stdout",
     "output_type": "stream",
     "text": [
      "enter number : 312455465\n",
      "312455465 is odd\n"
     ]
    }
   ],
   "source": [
    "# 6. Implement a program to determine whether a given number is even or odd.\n",
    "x = int(input(\"enter number : \"))\n",
    "if x%2==0:\n",
    "  print(x,\"is even\")\n",
    "else:\n",
    "  print(x,\"is odd\")"
   ]
  },
  {
   "cell_type": "code",
   "execution_count": null,
   "metadata": {
    "colab": {
     "base_uri": "https://localhost:8080/"
    },
    "id": "ayTCISeX02pS",
    "outputId": "d7be7b53-21a3-47be-9d23-98098b277bfe"
   },
   "outputs": [
    {
     "name": "stdout",
     "output_type": "stream",
     "text": [
      "enter number : -4\n",
      "4 is absolute of -4\n"
     ]
    }
   ],
   "source": [
    "#7. Write a Python function to calculate the absolute value of a number without using the `abs()` function\n",
    "x = int(input(\"enter number : \"))\n",
    "if x>=0:\n",
    "  print(\"{} is absolute of {}\".format(x,x))\n",
    "else:\n",
    "  print(\"{} is absolute of {}\".format(-x,x))\n"
   ]
  },
  {
   "cell_type": "code",
   "execution_count": null,
   "metadata": {
    "colab": {
     "base_uri": "https://localhost:8080/"
    },
    "id": "md3va5rI2T7I",
    "outputId": "dcc0bd34-def3-4c3e-e44c-37d7f31c0d8d"
   },
   "outputs": [
    {
     "name": "stdout",
     "output_type": "stream",
     "text": [
      "enter number : 1\n",
      "enter number : 2\n",
      "enter number : 3\n",
      "z is big\n"
     ]
    }
   ],
   "source": [
    "# 8. Develop a program that determines the largest of three given numbers using if-else statements\n",
    "x = int(input(\"enter number : \"))\n",
    "y = int(input(\"enter number : \"))\n",
    "z = int(input(\"enter number : \"))\n",
    "if x>=y and x>=z:\n",
    "  if x==y==z:\n",
    "    print(\"x,y,z, are equal\")\n",
    "  elif x==y:\n",
    "    print(\" x and y are equal\")\n",
    "  elif x==z:\n",
    "    print(\"x and z are equal\")\n",
    "  else:\n",
    "    print(\"a is big\")\n",
    "elif y>=z:\n",
    "  if y==z:\n",
    "    print(\" y and z are equal\")\n",
    "  else:\n",
    "    print(\" y is big\")\n",
    "else:\n",
    "  print(\"z is big\")\n"
   ]
  },
  {
   "cell_type": "code",
   "execution_count": null,
   "metadata": {
    "colab": {
     "base_uri": "https://localhost:8080/"
    },
    "id": "MCH9dHrY3fNB",
    "outputId": "205db149-95ea-4fa3-d56f-a811cbee4dcf"
   },
   "outputs": [
    {
     "name": "stdout",
     "output_type": "stream",
     "text": [
      "enter string : ama\n",
      "ama is palindrome\n"
     ]
    }
   ],
   "source": [
    "# 9. Create a program that checks if a given string is a palindrome\n",
    "x = input(\"enter string : \")\n",
    "if x==x[::-1]:\n",
    "  print(x, \"is palindrome\")\n",
    "else:\n",
    "  print(x,\" not palindrome\")\n"
   ]
  },
  {
   "cell_type": "code",
   "execution_count": null,
   "metadata": {
    "colab": {
     "base_uri": "https://localhost:8080/"
    },
    "id": "WG4BgdVz4VxI",
    "outputId": "b3afee2c-360f-47a9-9bc6-a68c5b4bf021"
   },
   "outputs": [
    {
     "name": "stdout",
     "output_type": "stream",
     "text": [
      "enter score:43\n",
      "Fail\n"
     ]
    }
   ],
   "source": [
    "# 10. Write a Python program to calculate the grade based on a student's score\n",
    "\n",
    "s = int(input(\"enter score:\"))\n",
    "if s>=90:\n",
    "  print(\"Grade A\")\n",
    "elif 80<=s<90:\n",
    "  print(\"Grade B\")\n",
    "elif 70<=s<80:\n",
    "  print(\"Grade C\")\n",
    "elif 60<=s<70:\n",
    "  print(\"Grade D\")\n",
    "elif 50<=s<60:\n",
    "  print(\"Grade E\")\n",
    "else:\n",
    "  print(\"Fail\")"
   ]
  },
  {
   "cell_type": "markdown",
   "metadata": {
    "id": "YUGsaqsLvVJe"
   },
   "source": [
    "# Nested If-Else Statements:"
   ]
  },
  {
   "cell_type": "code",
   "execution_count": null,
   "metadata": {
    "colab": {
     "base_uri": "https://localhost:8080/"
    },
    "id": "6-5hoXd25NXB",
    "outputId": "2234f674-f98d-4036-d305-90d646848d9f"
   },
   "outputs": [
    {
     "name": "stdout",
     "output_type": "stream",
     "text": [
      "enter number : 23\n",
      "enter number : 34\n",
      "enter number : 5657\n",
      "z is big\n"
     ]
    }
   ],
   "source": [
    "# 11. Write a program to find the largest among three numbers using nested if-else statements\n",
    "x = int(input(\"enter number : \"))\n",
    "y = int(input(\"enter number : \"))\n",
    "z = int(input(\"enter number : \"))\n",
    "if x>=y and x>=z:\n",
    "  if x==y==z:\n",
    "    print(\"x,y,z, are equal\")\n",
    "  elif x==y:\n",
    "    print(\" x and y are equal\")\n",
    "  elif x==z:\n",
    "    print(\"x and z are equal\")\n",
    "  else:\n",
    "    print(\"a is big\")\n",
    "elif y>=z:\n",
    "  if y==z:\n",
    "    print(\" y and z are equal\")\n",
    "  else:\n",
    "    print(\" y is big\")\n",
    "else:\n",
    "  print(\"z is big\")\n"
   ]
  },
  {
   "cell_type": "code",
   "execution_count": null,
   "metadata": {
    "colab": {
     "base_uri": "https://localhost:8080/"
    },
    "id": "UeTZPJEb5elD",
    "outputId": "40911f2f-fd58-4e41-d0c6-7416cceeb5ba"
   },
   "outputs": [
    {
     "name": "stdout",
     "output_type": "stream",
     "text": [
      "enter first side of tri : 2\n",
      "enter second side of tri: 4\n",
      "enter third side of tri : 3\n",
      "triangle is scalene\n"
     ]
    }
   ],
   "source": [
    "# 12. Implement a program to determine if a triangle is equilateral, isosceles, or scalene.\n",
    "x = int(input(\"enter first side of tri : \"))\n",
    "y = int(input(\"enter second side of tri: \"))\n",
    "z = int(input(\"enter third side of tri : \"))\n",
    "if x==y==z:\n",
    "  print(\"triangle is equilateral\")\n",
    "elif x==y or x==z or y==z:\n",
    "  print(\"triangle is isosceles\")\n",
    "else:\n",
    "  print(\"triangle is scalene\")"
   ]
  },
  {
   "cell_type": "code",
   "execution_count": null,
   "metadata": {
    "colab": {
     "base_uri": "https://localhost:8080/"
    },
    "id": "2aZPa_Pf8Dhi",
    "outputId": "5a2c43e4-0ac4-45ed-97e7-efd9a7e18ed0"
   },
   "outputs": [
    {
     "name": "stdout",
     "output_type": "stream",
     "text": [
      "enter year :2000\n",
      "leap year\n"
     ]
    }
   ],
   "source": [
    "# 13. Develop a program that checks if a year is a leap year and also if it is a century year\n",
    "year = int(input(\"Enter a year:\"))\n",
    "\n",
    "if year % 4 == 0:\n",
    "    if year % 100 == 0:\n",
    "        if year % 400 == 0:\n",
    "            print(year, \"is a leap year and also a century year\")\n",
    "        else:\n",
    "            print(year, \"is a century year but not a leap year\")\n",
    "    else:\n",
    "        print(year, \"is a leap year\")\n",
    "else:\n",
    "    print(year, \"is a normal year\")"
   ]
  },
  {
   "cell_type": "code",
   "execution_count": null,
   "metadata": {
    "colab": {
     "base_uri": "https://localhost:8080/"
    },
    "id": "3WfwFGBX-dzC",
    "outputId": "bb7a8a7e-25bf-48d0-9e2d-9d0bcc0b7606"
   },
   "outputs": [
    {
     "name": "stdout",
     "output_type": "stream",
     "text": [
      "enter number-9\n",
      "negative\n"
     ]
    }
   ],
   "source": [
    "# 14. Write a Python script to determine if a number is positive, negative, or zero.\n",
    "n = int(input(\"enter number\"))\n",
    "if n>0:\n",
    "  print(\"positive\")\n",
    "if n==0:\n",
    "  print(\"zero\")\n",
    "if n<0:\n",
    "  print(\"negative\")"
   ]
  },
  {
   "cell_type": "code",
   "execution_count": null,
   "metadata": {
    "colab": {
     "base_uri": "https://localhost:8080/"
    },
    "id": "o8duKweMup1y",
    "outputId": "c680a30b-94f3-4f0b-82a8-99bf8fc5b9da"
   },
   "outputs": [
    {
     "name": "stdout",
     "output_type": "stream",
     "text": [
      "enter age :13\n",
      "teenager\n"
     ]
    }
   ],
   "source": [
    "# 15. Create a program to check if a person is a teenager (between 13 and 19 years old).\n",
    "age = int(input(\"enter age :\"))\n",
    "if 13<= age <=19:\n",
    "  print(\"teenager\")\n",
    "else:\n",
    "  print(\"not teenager\")"
   ]
  },
  {
   "cell_type": "code",
   "execution_count": null,
   "metadata": {
    "colab": {
     "base_uri": "https://localhost:8080/"
    },
    "id": "52_mt4iIv6F3",
    "outputId": "7433ff76-a9b2-4d30-c513-9c96e1140f15"
   },
   "outputs": [
    {
     "name": "stdout",
     "output_type": "stream",
     "text": [
      "enter angle of triangle in degrees: 56\n",
      "Acute angle\n"
     ]
    }
   ],
   "source": [
    "# 16. Develop a program that determines the type of angle based on its measure (acute, obtuse, or right).\n",
    "n = int(input(\"enter angle of triangle in degrees: \"))\n",
    "if 0<n<90:\n",
    "  print(\"Acute angle\")\n",
    "elif n==90:\n",
    "  print(\"right angle\")\n",
    "elif 90<n<180:\n",
    "  print(\"obtuse angle\")"
   ]
  },
  {
   "cell_type": "code",
   "execution_count": null,
   "metadata": {
    "colab": {
     "base_uri": "https://localhost:8080/"
    },
    "id": "EcCxUc7VVSmu",
    "outputId": "33482833-070c-481a-8152-6194046d5ded"
   },
   "outputs": [
    {
     "name": "stdout",
     "output_type": "stream",
     "text": [
      "Enter coefficient a: 2.5\n",
      "Enter coefficient b: 4.6\n",
      "Enter coefficient c: 9\n",
      "The roots are complex: -0.9199999999999999 + 1.6593974810153231i and -0.9199999999999999 - 1.6593974810153231i\n"
     ]
    }
   ],
   "source": [
    "# 17. Write a Python program to calculate the roots of a quadratic equation.\n",
    "# Input coefficients from the user\n",
    "a = float(input(\"Enter coefficient a: \"))\n",
    "b = float(input(\"Enter coefficient b: \"))\n",
    "c = float(input(\"Enter coefficient c: \"))\n",
    "\n",
    "# Calculate the discriminant\n",
    "discriminant = b**2 - 4*a*c\n",
    "\n",
    "# Check if the discriminant is positive, negative, or zero\n",
    "if discriminant > 0:\n",
    "    # Two real and distinct roots\n",
    "    root1 = (-b + (discriminant ** 0.5)) / (2*a)\n",
    "    root2 = (-b - (discriminant ** 0.5)) / (2*a)\n",
    "    print(f\"The roots are real and distinct: {root1} and {root2}\")\n",
    "elif discriminant == 0:\n",
    "    # One real root (repeated)\n",
    "    root = -b / (2*a)\n",
    "    print(f\"The root is real and repeated: {root}\")\n",
    "else:\n",
    "    # Complex roots\n",
    "    real_part = -b / (2*a)\n",
    "    imaginary_part = (abs(discriminant) ** 0.5) / (2*a)\n",
    "    print(f\"The roots are complex: {real_part} + {imaginary_part}i and {real_part} - {imaginary_part}i\")\n",
    "\n"
   ]
  },
  {
   "cell_type": "code",
   "execution_count": null,
   "metadata": {
    "colab": {
     "base_uri": "https://localhost:8080/"
    },
    "id": "2qZa3MfEIDom",
    "outputId": "130e9e6c-fd10-42ae-9c0b-d1b22e2d6666"
   },
   "outputs": [
    {
     "name": "stdout",
     "output_type": "stream",
     "text": [
      "Enter coefficient a: 2.5\n",
      "Enter coefficient b: 4.6\n",
      "Enter coefficient c: 9\n",
      "(-0.9199999999999997+1.6593974810153231j) (-0.9200000000000002-1.6593974810153231j)\n"
     ]
    }
   ],
   "source": [
    "a = float(input(\"Enter coefficient a: \"))\n",
    "b = float(input(\"Enter coefficient b: \"))\n",
    "c = float(input(\"Enter coefficient c: \"))\n",
    "x = (-b+((b**2-(4*a*c))**(1/2)))/(2*a)\n",
    "y = (-b-((b**2-(4*a*c))**(1/2)))/(2*a)\n",
    "print(x,y)\n"
   ]
  },
  {
   "cell_type": "code",
   "execution_count": null,
   "metadata": {
    "colab": {
     "base_uri": "https://localhost:8080/"
    },
    "id": "BWzofHDFznJ2",
    "outputId": "acf75cca-9f56-4b58-c19a-45d9af0cf086"
   },
   "outputs": [
    {
     "name": "stdout",
     "output_type": "stream",
     "text": [
      "enter week number to find day of week:14\n",
      "sunday\n"
     ]
    }
   ],
   "source": [
    "# 18. Implement a program to determine the day of the week based on a user-provided number (1 for Monday, 2 for Tuesday, etc.).\n",
    "x = int(input((\"enter week number to find day of week:\")))\n",
    "if x==1 or x%7==1:\n",
    "  print(\"monday\")\n",
    "elif x==2 or x%7==2:\n",
    "  print(\"tuesday\")\n",
    "elif x==3 or x%7==3:\n",
    "  print(\"wednesday\")\n",
    "elif x==4 or x%7==4:\n",
    "  print(\"Thursday\")\n",
    "elif x==5 or x%7==5:\n",
    "  print(\"Friday\")\n",
    "elif x==6 or x%7==6:\n",
    "  print(\"Saturday\")\n",
    "elif x==7 or x%7==0:\n",
    "  print(\"sunday\")\n",
    "\n",
    "\n"
   ]
  },
  {
   "cell_type": "code",
   "execution_count": null,
   "metadata": {
    "colab": {
     "base_uri": "https://localhost:8080/"
    },
    "id": "bhKV1_hZI__P",
    "outputId": "b2f1af47-9678-47b2-d56a-83454263c2dc"
   },
   "outputs": [
    {
     "name": "stdout",
     "output_type": "stream",
     "text": [
      "Enter a year: 2000\n",
      "2000 is not a leap year and not evenly divisible by 400.\n"
     ]
    }
   ],
   "source": [
    "# 19. Create a program that determines if a year is a leap year and also if it is evenly divisible by 400\n",
    "# Input a year from the user\n",
    "year = int(input(\"Enter a year: \"))\n",
    "\n",
    "# Check if it's a leap year\n",
    "if (year % 4 == 0 and year % 100 != 0) and (year % 400 == 0):\n",
    "    print(f\"{year} is a leap year and evenly divisible by 400.\")\n",
    "else:\n",
    "    print(f\"{year} is not a leap year and not evenly divisible by 400.\")\n"
   ]
  },
  {
   "cell_type": "code",
   "execution_count": null,
   "metadata": {
    "colab": {
     "base_uri": "https://localhost:8080/"
    },
    "id": "3n2_NNfI0qCI",
    "outputId": "3cbb048f-cc6b-4905-abde-a2be62f5030f"
   },
   "outputs": [
    {
     "name": "stdout",
     "output_type": "stream",
     "text": [
      "enter number7\n",
      "prime number\n",
      "prime number\n",
      "prime number\n",
      "prime number\n",
      "prime number\n"
     ]
    }
   ],
   "source": [
    "# 20. Develop a program that checks if a given number is prime or not using nested if-else statements\n",
    "\n",
    "\n",
    "n = int(input(\"enter number\"))\n",
    "if n>1:\n",
    "  for i in range(2,n):\n",
    "    if n%i==0:\n",
    "      print(\"not prime number\")\n",
    "      break\n",
    "    else:\n",
    "      print(\"prime number\")\n",
    "else:\n",
    "  print(\"not prime number\")\n",
    "\n"
   ]
  },
  {
   "cell_type": "markdown",
   "metadata": {
    "id": "t-FVjZVAwQgH"
   },
   "source": [
    "# Elif Statements:"
   ]
  },
  {
   "cell_type": "code",
   "execution_count": null,
   "metadata": {
    "colab": {
     "base_uri": "https://localhost:8080/"
    },
    "id": "xSjVqCGFwjLP",
    "outputId": "cebb8287-509b-4360-ff77-68a52127c9b6"
   },
   "outputs": [
    {
     "name": "stdout",
     "output_type": "stream",
     "text": [
      "enter score:21\n",
      "Fail\n"
     ]
    }
   ],
   "source": [
    "# 21. Write a Python program to assign grades based on different ranges of scores using elif statements.\n",
    "s = int(input(\"enter score:\"))\n",
    "if s>=90:\n",
    "  print(\"Grade A\")\n",
    "elif 80<=s>90:\n",
    "  print(\"Grade B\")\n",
    "elif 70<=s>80:\n",
    "  print(\"Grade C\")\n",
    "elif 60<=s>50:\n",
    "  print(\"Grade D\")\n",
    "elif 50<=s>60:\n",
    "  print(\"Grade E\")\n",
    "else:\n",
    "  print(\"Fail\")\n"
   ]
  },
  {
   "cell_type": "code",
   "execution_count": null,
   "metadata": {
    "colab": {
     "base_uri": "https://localhost:8080/"
    },
    "id": "KCS5xMLLy2VL",
    "outputId": "0babe354-820a-45db-aca1-eda47a8f2a1f"
   },
   "outputs": [
    {
     "name": "stdout",
     "output_type": "stream",
     "text": [
      "enter angle of triangle in degrees: 78\n",
      "Acute angle\n"
     ]
    }
   ],
   "source": [
    "# 22. Implement a program to determine the type of a triangle based on its angles\n",
    "n = int(input(\"enter angle of triangle in degrees: \"))\n",
    "if 0<n<90:\n",
    "  print(\"Acute angle\")\n",
    "elif n==90:\n",
    "  print(\"right angle\")\n",
    "elif 90<n<180:\n",
    "  print(\"obtuse angle\")\n"
   ]
  },
  {
   "cell_type": "code",
   "execution_count": null,
   "metadata": {
    "colab": {
     "base_uri": "https://localhost:8080/"
    },
    "id": "R5RSb2o0y4xA",
    "outputId": "14c8266e-6038-4b30-a931-8e319b69e5d9"
   },
   "outputs": [
    {
     "name": "stdout",
     "output_type": "stream",
     "text": [
      "enter height in meteres :1.58496 \n",
      "enter weight in kilograms : 63\n",
      "your bmi is 25.07863743538138\n",
      "You are overweight.\n"
     ]
    }
   ],
   "source": [
    "# 23. Develop a program to categorize a given person's BMI into underweight, normal, overweight, or obese using elif statements\n",
    "height = float(input(\"enter height in meteres :\"))\n",
    "weight = int(input(\"enter weight in kilograms : \"))\n",
    "\n",
    "bmi = (weight / height**2)\n",
    "print(\"your bmi is {}\". format(bmi))\n",
    "\n",
    "if bmi < 18.5:\n",
    "    print(\"You are underweight.\")\n",
    "elif 18.5 <= bmi < 24.9:\n",
    "    print(\"You have a normal weight.\")\n",
    "elif 25 <= bmi < 29.9:\n",
    "    print(\"You are overweight.\")\n",
    "else:\n",
    "    print(\"You are obese.\")"
   ]
  },
  {
   "cell_type": "code",
   "execution_count": null,
   "metadata": {
    "colab": {
     "base_uri": "https://localhost:8080/"
    },
    "id": "IaZtFCUw0STy",
    "outputId": "a1430d4f-3a17-4235-dbf0-26983296ac3b"
   },
   "outputs": [
    {
     "name": "stdout",
     "output_type": "stream",
     "text": [
      "-7\n",
      "negative\n"
     ]
    }
   ],
   "source": [
    "# 24. Create a program that determines whether a given number is positive, negative, or zero using elif statements\n",
    "n = int(input())\n",
    "if n>0:\n",
    "  print((\"positive\"))\n",
    "elif n==0:\n",
    "  print(\"zero\")\n",
    "else:\n",
    "  print(\"negative\")\n"
   ]
  },
  {
   "cell_type": "code",
   "execution_count": null,
   "metadata": {
    "colab": {
     "base_uri": "https://localhost:8080/"
    },
    "id": "5W6NgWq10XJa",
    "outputId": "dc7b8d87-1293-443b-e764-4cf97ec9f3ca"
   },
   "outputs": [
    {
     "name": "stdout",
     "output_type": "stream",
     "text": [
      "enter character:@\n",
      "special character\n"
     ]
    }
   ],
   "source": [
    "# 25. Write a Python script to determine the type of a character (uppercase, lowercase, or special) using elif statements.\n",
    "c = input(\"enter character:\")\n",
    "if c.islower():\n",
    "  print(\"lower charcter\")\n",
    "elif c.isupper():\n",
    "  print(\"upper character\")\n",
    "elif  not c.isdigit():\n",
    "  print(\"special character\")\n"
   ]
  },
  {
   "cell_type": "code",
   "execution_count": 4,
   "metadata": {
    "id": "6ToIq9BW0eyN"
   },
   "outputs": [
    {
     "name": "stdout",
     "output_type": "stream",
     "text": [
      "enter purchase amount:738000\n",
      "25% discount is applicable on your purchase amount\n",
      "discounted price is 184500.0\n",
      "amount to be paid after discount: 553500.0\n"
     ]
    }
   ],
   "source": [
    "# 26. Implement a program to calculate the discounted price based on different purchase amounts using elif statements.\n",
    "\n",
    "n = float(input(\"enter purchase amount:\"))\n",
    "          \n",
    "if 0<n<=1000:\n",
    "    print(\"5% discount is applicable on your purchase amount\")\n",
    "    x = (5/100)*n\n",
    "    print(\"discounted price is\",x)\n",
    "    print(\"amount to be paid after discount:\",n-x)\n",
    "elif 1000<n<=10000:\n",
    "    print(\"10% discount is applicable on your purchase amount\")\n",
    "    x = (10/100)*n\n",
    "    print(\"discounted price is\",x)\n",
    "    print(\"amount to be paid after discount:\",n-x)\n",
    "elif 10000<n<=100000:\n",
    "    print(\"15% discount is applicable on your purchase amount\")\n",
    "    x = (15/100)*n\n",
    "    print(\"discounted price is\",x)\n",
    "    print(\"amount to be paid after discount:\",n-x)\n",
    "else:\n",
    "    print(\"25% discount is applicable on your purchase amount\")\n",
    "    x = (25/100)*n\n",
    "    print(\"discounted price is\",x)\n",
    "    print(\"amount to be paid after discount:\",n-x)\n",
    "    \n"
   ]
  },
  {
   "cell_type": "code",
   "execution_count": 5,
   "metadata": {
    "id": "XIUUO1n40iBt"
   },
   "outputs": [
    {
     "name": "stdout",
     "output_type": "stream",
     "text": [
      "enter electricity consumption units:300\n",
      "electricity bill is 2625.0\n"
     ]
    }
   ],
   "source": [
    "# 27. Develop a program to calculate the electricity bill based on different consumption slabs using elif statements\n",
    "\n",
    "n = float(input(\"enter electricity consumption units:\"))\n",
    "\n",
    "if 0<n<=30:\n",
    "    print(\"electricity bill is\",n*1.9)\n",
    "elif 30<n<=75:\n",
    "    print(\"electricity bill is\",n*3)\n",
    "elif 75<n<=125:\n",
    "    print(\"electricity bill is\",n*4.5)\n",
    "elif 125<n<=225:\n",
    "    print(\"electricity bill is\",n*6)\n",
    "elif 225<n<=400:\n",
    "    print(\"electricity bill is\",n*8.75)\n",
    "else:\n",
    "    print(\"electricity bill is\",n*9.75)"
   ]
  },
  {
   "cell_type": "code",
   "execution_count": 6,
   "metadata": {
    "id": "z6GXXE-y0oGY"
   },
   "outputs": [
    {
     "name": "stdout",
     "output_type": "stream",
     "text": [
      "Enter the measure of angle 1: 21\n",
      "Enter the measure of angle 2: 34\n",
      "Enter the measure of angle 3: 109\n",
      "Enter the measure of angle 4: 89\n",
      "Enter the length of side 1: 12\n",
      "Enter the length of side 2: 13\n",
      "Enter the length of side 3: 12\n",
      "Enter the length of side 4: 6\n",
      "It is a general quadrilateral.\n"
     ]
    }
   ],
   "source": [
    "# 28. Create a program to determine the type of quadrilateral based on its angles and sides using elif statements.\n",
    "\n",
    "def determine_quadrilateral_type(a, b, c, d):\n",
    "    # Check if it is a parallelogram\n",
    "    if a == c and b == d:\n",
    "        if a == b:\n",
    "            print(\"It is a square.\")\n",
    "        else:\n",
    "            print(\"It is a rectangle.\")\n",
    "    # Check if it is a trapezoid\n",
    "    elif a == b or c == d:\n",
    "        print(\"It is a trapezoid.\")\n",
    "    # Check if it is a kite\n",
    "    elif a == b and c != d or a != b and c == d:\n",
    "        print(\"It is a kite.\")\n",
    "    # Check if it is a rhombus\n",
    "    elif a == b == c == d:\n",
    "        print(\"It is a rhombus.\")\n",
    "    # Check if it is any other quadrilateral\n",
    "    else:\n",
    "        print(\"It is a general quadrilateral.\")\n",
    "\n",
    "# Example usage:\n",
    "angle1 = int(input(\"Enter the measure of angle 1: \"))\n",
    "angle2 = int(input(\"Enter the measure of angle 2: \"))\n",
    "angle3 = int(input(\"Enter the measure of angle 3: \"))\n",
    "angle4 = int(input(\"Enter the measure of angle 4: \"))\n",
    "\n",
    "side1 = int(input(\"Enter the length of side 1: \"))\n",
    "side2 = int(input(\"Enter the length of side 2: \"))\n",
    "side3 = int(input(\"Enter the length of side 3: \"))\n",
    "side4 = int(input(\"Enter the length of side 4: \"))\n",
    "\n",
    "determine_quadrilateral_type(angle1, angle2, angle3, angle4)\n"
   ]
  },
  {
   "cell_type": "code",
   "execution_count": null,
   "metadata": {
    "colab": {
     "base_uri": "https://localhost:8080/"
    },
    "id": "64mdQ3Ok0ty7",
    "outputId": "dbff2b25-8c51-486f-a5e0-d756847261d1"
   },
   "outputs": [
    {
     "name": "stdout",
     "output_type": "stream",
     "text": [
      "enter month:january\n",
      "winter season\n"
     ]
    }
   ],
   "source": [
    "# 29. Write a Python script to determine the season based on a user-provided month using elif statements\n",
    "month = input(\"enter month:\")\n",
    "month_lower = month.lower()\n",
    "if month_lower in [\"january\",\"february\",\"november\",\"december\"]:\n",
    "  print(\"winter season\")\n",
    "elif month_lower in [\"march\",\"april\",\"may\",\"june\"]:\n",
    "  print(\"summer season\")\n",
    "else:\n",
    "  print(\"rainy season\")"
   ]
  },
  {
   "cell_type": "code",
   "execution_count": 1,
   "metadata": {
    "id": "dt9eoz_b00Uv"
   },
   "outputs": [
    {
     "name": "stdout",
     "output_type": "stream",
     "text": [
      "enter year : 2012\n",
      "enter month: 9\n",
      "2012 is leap year\n",
      "9 has 30 \n"
     ]
    }
   ],
   "source": [
    "# 30. Implement a program to determine the type of a year (leap or common) and month (30 or 31 days) using elif statements\n",
    "year = int(input(\"enter year : \"))\n",
    "month = int(input(\"enter month: \"))\n",
    "if (year % 4 == 0 and year % 100 != 0) or (year % 400 == 0):\n",
    "  year_check = \"leap year\"\n",
    "else:\n",
    "  year_check = \"common year\"\n",
    "\n",
    "if month in [1, 3, 5, 7, 8, 10, 12]:\n",
    "    month_days = 31\n",
    "elif month in [4, 6, 9, 11]:\n",
    "    month_days = 30\n",
    "elif month == 2:\n",
    "    if year_check == \"leap year\":\n",
    "        month_days = 29\n",
    "    else:\n",
    "        month_days = 28\n",
    "else:\n",
    "    print(\"Invalid month entered.\")\n",
    "    exit()\n",
    "\n",
    "print(\"{} is {}\".format(year,year_check))\n",
    "print(\"{} has {} \".format(month,month_days))"
   ]
  },
  {
   "cell_type": "markdown",
   "metadata": {
    "id": "jQ75mCOIVj1q"
   },
   "source": [
    "# Basic level"
   ]
  },
  {
   "cell_type": "code",
   "execution_count": null,
   "metadata": {
    "colab": {
     "base_uri": "https://localhost:8080/"
    },
    "id": "VSHA8izqVjyk",
    "outputId": "44eba8a1-3723-416f-80aa-9ad1d3ae7726"
   },
   "outputs": [
    {
     "name": "stdout",
     "output_type": "stream",
     "text": [
      "enter number:0\n",
      "zero\n"
     ]
    }
   ],
   "source": [
    "#  1. Write a Python program that checks if a given number is positive, negative, or zero\n",
    "\n",
    "n = int(input(\"enter number:\"))\n",
    "if n<0:\n",
    "  print(\"negative\")\n",
    "elif n==0:\n",
    "  print(\"zero\")\n",
    "else:\n",
    "  print(\"negative\")"
   ]
  },
  {
   "cell_type": "code",
   "execution_count": null,
   "metadata": {
    "colab": {
     "base_uri": "https://localhost:8080/"
    },
    "id": "uaYBde5RVjtS",
    "outputId": "c0db663f-e310-4486-bfa1-1d88a5c0531f"
   },
   "outputs": [
    {
     "name": "stdout",
     "output_type": "stream",
     "text": [
      "enter age18\n",
      "eligible\n"
     ]
    }
   ],
   "source": [
    "# 2. Create a program to determine if a person is eligible to vote based on their age.\n",
    "vote = int(input(\"enter age\"))\n",
    "if vote>=18:\n",
    "  print(\"eligible\")\n",
    "else:\n",
    "  print(\"not eligible\")"
   ]
  },
  {
   "cell_type": "code",
   "execution_count": null,
   "metadata": {
    "colab": {
     "base_uri": "https://localhost:8080/"
    },
    "id": "jdxxFs5tVjqa",
    "outputId": "98ba6ec5-a908-4f62-ca1e-edab9b960565"
   },
   "outputs": [
    {
     "name": "stdout",
     "output_type": "stream",
     "text": [
      "3\n",
      "56\n",
      " b is big\n"
     ]
    }
   ],
   "source": [
    "# 3. Write a program to find the maximum of two given numbers using conditional statements.\n",
    "a = int(input())\n",
    "b = int(input())\n",
    "if a>b:\n",
    "  print(\"a is big\")\n",
    "else:\n",
    "  print(\" b is big\")"
   ]
  },
  {
   "cell_type": "code",
   "execution_count": null,
   "metadata": {
    "id": "AEJapB7PVjnG"
   },
   "outputs": [],
   "source": []
  },
  {
   "cell_type": "code",
   "execution_count": null,
   "metadata": {
    "colab": {
     "base_uri": "https://localhost:8080/"
    },
    "id": "fyVV4U8DVjkI",
    "outputId": "3c71168d-76f4-40a1-f2d4-9398faf30156"
   },
   "outputs": [
    {
     "name": "stdout",
     "output_type": "stream",
     "text": [
      "enter score:49\n",
      "fail\n"
     ]
    }
   ],
   "source": [
    "# 4. Develop a program that calculates the grade of a student based on their exam score\n",
    "\n",
    "n = int(input(\"enter score:\"))\n",
    "if 100<=n>=90:\n",
    "  print(\"grade A\")\n",
    "elif 90<n>=80:\n",
    "  print(\"grade B\")\n",
    "elif 80<n>=70:\n",
    "  print(\"grade C\")\n",
    "elif 70<n>=60:\n",
    "  print(\"grade D\")\n",
    "elif 60<n>=50:\n",
    "  print(\"grade E\")\n",
    "else:\n",
    "  print(\"fail\")"
   ]
  },
  {
   "cell_type": "code",
   "execution_count": null,
   "metadata": {
    "colab": {
     "base_uri": "https://localhost:8080/"
    },
    "id": "FI-NbYc9Vje-",
    "outputId": "32153125-e531-4591-e22e-891bc7cf72b8"
   },
   "outputs": [
    {
     "name": "stdout",
     "output_type": "stream",
     "text": [
      "enter year:2024\n",
      "leap year\n"
     ]
    }
   ],
   "source": [
    "# 5. Create a program that checks if a year is a leap year or not\n",
    "year = int(input(\"enter year:\"))\n",
    "if (year%4==0 and year%100!=0) or year%400==0:\n",
    "  print(\"leap year\")\n",
    "else:\n",
    "  print(\"not leap year\")"
   ]
  },
  {
   "cell_type": "code",
   "execution_count": null,
   "metadata": {
    "colab": {
     "base_uri": "https://localhost:8080/"
    },
    "id": "yFWujMZSVjbr",
    "outputId": "45d4160c-9268-449f-bd5b-c0456d19f5ce"
   },
   "outputs": [
    {
     "name": "stdout",
     "output_type": "stream",
     "text": [
      "enter first side length3\n",
      "enter second side length5\n",
      "enter third side length3\n",
      "isosceles triangle\n"
     ]
    }
   ],
   "source": [
    "# 6. Write a program to classify a triangle based on its sides' lengths.\n",
    "a = int(input('enter first side length'))\n",
    "b = int(input('enter second side length'))\n",
    "c = int(input(\"enter third side length\"))\n",
    "if a==b==c:\n",
    "  print(\"equlateral trianfle\")\n",
    "elif a==b or b==c or c==a:\n",
    "  print(\"isosceles triangle\")\n",
    "else:\n",
    "  print(\"scalene triangle3\")"
   ]
  },
  {
   "cell_type": "code",
   "execution_count": null,
   "metadata": {
    "colab": {
     "base_uri": "https://localhost:8080/"
    },
    "id": "mMWxd7j6VjY0",
    "outputId": "25411674-9c80-4cee-b228-a88234fa13bf"
   },
   "outputs": [
    {
     "name": "stdout",
     "output_type": "stream",
     "text": [
      "enter number : 45\n",
      "enter number : 56\n",
      "enter number : 78\n",
      "z is big\n"
     ]
    }
   ],
   "source": [
    "# 7. Build a program that determines the largest of three given numbers.\n",
    "x = int(input(\"enter number : \"))\n",
    "y = int(input(\"enter number : \"))\n",
    "z = int(input(\"enter number : \"))\n",
    "if x>=y and x>=z:\n",
    "  if x==y==z:\n",
    "    print(\"x,y,z, are equal\")\n",
    "  elif x==y:\n",
    "    print(\" x and y are equal\")\n",
    "  elif x==z:\n",
    "    print(\"x and z are equal\")\n",
    "  else:\n",
    "    print(\"a is big\")\n",
    "elif y>=z:\n",
    "  if y==z:\n",
    "    print(\" y and z are equal\")\n",
    "  else:\n",
    "    print(\" y is big\")\n",
    "else:\n",
    "  print(\"z is big\")"
   ]
  },
  {
   "cell_type": "code",
   "execution_count": null,
   "metadata": {
    "colab": {
     "base_uri": "https://localhost:8080/"
    },
    "id": "ZwWgV3LsVjVD",
    "outputId": "e799efbe-9ba3-4986-a70c-6e821cf96d0e"
   },
   "outputs": [
    {
     "name": "stdout",
     "output_type": "stream",
     "text": [
      "enter character a-z/A-Zg\n",
      "g is consonant\n"
     ]
    }
   ],
   "source": [
    "# 8. Develop a program that checks whether a character is a vowel or a consonant\n",
    "c = input(\"enter character a-z/A-Z\")\n",
    "if c in \"AEIOUaeiou\":\n",
    "  print(c,\"is vowel\")\n",
    "else:\n",
    "  print(c, \"is consonant\")"
   ]
  },
  {
   "cell_type": "code",
   "execution_count": 7,
   "metadata": {
    "id": "_EIURkqjVjSQ"
   },
   "outputs": [
    {
     "name": "stdout",
     "output_type": "stream",
     "text": [
      "Total Cost of the Shopping Cart: $136.00\n"
     ]
    }
   ],
   "source": [
    "# 9. Create a program to calculate the total cost of a shopping cart based on discounts\n",
    "\n",
    "def calculate_discounted_price(item_price, quantity, discount_rate):\n",
    "    subtotal = item_price * quantity\n",
    "    discount_amount = subtotal * (discount_rate / 100)\n",
    "    discounted_price = subtotal - discount_amount\n",
    "    return discounted_price\n",
    "\n",
    "def calculate_total_cost(cart):\n",
    "    total_cost = 0\n",
    "    for item in cart:\n",
    "        item_price = item['price']\n",
    "        quantity = item['quantity']\n",
    "        discount_rate = item.get('discount', 0)  # Default discount is 0 if not specified\n",
    "        discounted_price = calculate_discounted_price(item_price, quantity, discount_rate)\n",
    "        total_cost += discounted_price\n",
    "    return total_cost\n",
    "\n",
    "# Example usage:\n",
    "cart = [\n",
    "    {'item': 'Shirt', 'price': 25, 'quantity': 2, 'discount': 10},\n",
    "    {'item': 'Jeans', 'price': 40, 'quantity': 1},\n",
    "    {'item': 'Shoes', 'price': 60, 'quantity': 1, 'discount': 15},\n",
    "]\n",
    "\n",
    "total_cost = calculate_total_cost(cart)\n",
    "print(f'Total Cost of the Shopping Cart: ${total_cost:.2f}')\n"
   ]
  },
  {
   "cell_type": "code",
   "execution_count": null,
   "metadata": {
    "colab": {
     "base_uri": "https://localhost:8080/"
    },
    "id": "Z8-ELHJ1FLFN",
    "outputId": "dfe79dda-9955-4f89-b76f-db952071d16e"
   },
   "outputs": [
    {
     "name": "stdout",
     "output_type": "stream",
     "text": [
      "enter number:3\n",
      "3 is odd\n"
     ]
    }
   ],
   "source": [
    "# 10. Write a program that checks if a given number is even or odd.\n",
    "n = int(input(\"enter number:\"))\n",
    "if n%2==0:\n",
    "  print(n,\"is even\")\n",
    "else:\n",
    "  print(n,\"is odd\")"
   ]
  },
  {
   "cell_type": "markdown",
   "metadata": {
    "id": "PuWPCIk_T-6w"
   },
   "source": [
    "# intermediate level"
   ]
  },
  {
   "cell_type": "code",
   "execution_count": null,
   "metadata": {
    "colab": {
     "base_uri": "https://localhost:8080/"
    },
    "id": "URje9MAeUATc",
    "outputId": "744b5bd8-3850-42c9-b4df-d3d482a5e5b6"
   },
   "outputs": [
    {
     "name": "stdout",
     "output_type": "stream",
     "text": [
      "enter a value4\n",
      "enter b value4\n",
      "enter c value4\n",
      "(-0.49999999999999994+0.8660254037844386j) (-0.5-0.8660254037844386j)\n"
     ]
    }
   ],
   "source": [
    "# 11. Write a program that calculates the roots of a quadratic equation\n",
    "a = int(input(\"enter a value\"))\n",
    "b = int(input(\"enter b value\"))\n",
    "c = int(input(\"enter c value\"))\n",
    "x = (-b + (b**2 - (4*a*c))**(1/2)) /(2*a)\n",
    "y = (-b - (b**2 - (4*a*c))**(1/2)) /(2*a)\n",
    "print(x,y)\n"
   ]
  },
  {
   "cell_type": "code",
   "execution_count": null,
   "metadata": {
    "colab": {
     "base_uri": "https://localhost:8080/"
    },
    "id": "JNLsyuWOUAYi",
    "outputId": "90571ae5-b5f0-4a1e-c132-599f4fc7b5ea"
   },
   "outputs": [
    {
     "name": "stdout",
     "output_type": "stream",
     "text": [
      "enter day number(1-7)7\n",
      "sunday\n"
     ]
    }
   ],
   "source": [
    "# 12. Create a program that determines the day of the week based on the day number (1-7)\n",
    "n = int(input(\"enter day number(1-7)\"))\n",
    "if n==1:\n",
    "  print(\"monday\")\n",
    "elif n ==2:\n",
    "  print(\"tuesday\")\n",
    "elif  n==3:\n",
    "  print(\"wednesday\")\n",
    "elif n==4:\n",
    "  print(\"thursday\")\n",
    "elif n==5:\n",
    "  print(\"friday\")\n",
    "elif n==6:\n",
    "  print(\"saturday\")\n",
    "elif n==7:\n",
    "  print(\"sunday\")"
   ]
  },
  {
   "cell_type": "code",
   "execution_count": null,
   "metadata": {
    "colab": {
     "base_uri": "https://localhost:8080/"
    },
    "id": "ucT8zJBgUAeM",
    "outputId": "7958e64f-d73e-4eb2-ec84-6180d7a54b50"
   },
   "outputs": [
    {
     "data": {
      "text/plain": [
       "120"
      ]
     },
     "execution_count": 3,
     "metadata": {},
     "output_type": "execute_result"
    }
   ],
   "source": [
    "# 13. Develop a program that calculates the factorial of a given number using recursion.\n",
    "def fact(n):\n",
    "  if n==0:\n",
    "    return 1\n",
    "  else:\n",
    "    return n*fact(n-1)\n",
    "fact(5)"
   ]
  },
  {
   "cell_type": "code",
   "execution_count": null,
   "metadata": {
    "colab": {
     "base_uri": "https://localhost:8080/"
    },
    "id": "FbnHhADEWEbz",
    "outputId": "53c2906c-cfd6-4507-cd76-c90774d07f2b"
   },
   "outputs": [
    {
     "name": "stdout",
     "output_type": "stream",
     "text": [
      "enter number : 78\n",
      "enter number : 78\n",
      "enter number : 908\n",
      "z is big\n"
     ]
    }
   ],
   "source": [
    "# 14. Write a program to find the largest among three numbers without using the `max()` function\n",
    "x = int(input(\"enter number : \"))\n",
    "y = int(input(\"enter number : \"))\n",
    "z = int(input(\"enter number : \"))\n",
    "if x>=y and x>=z:\n",
    "  if x==y==z:\n",
    "    print(\"x,y,z, are equal\")\n",
    "  elif x==y:\n",
    "    print(\" x and y are equal\")\n",
    "  elif x==z:\n",
    "    print(\"x and z are equal\")\n",
    "  else:\n",
    "    print(\"a is big\")\n",
    "elif y>=z:\n",
    "  if y==z:\n",
    "    print(\" y and z are equal\")\n",
    "  else:\n",
    "    print(\" y is big\")\n",
    "else:\n",
    "  print(\"z is big\")\n"
   ]
  },
  {
   "cell_type": "code",
   "execution_count": null,
   "metadata": {
    "id": "U50-M9QPWGuN"
   },
   "outputs": [
    {
     "name": "stdout",
     "output_type": "stream",
     "text": [
      "\n",
      "ATM Menu:\n",
      "1. Display Balance\n",
      "2. Deposit\n",
      "3. Withdraw\n",
      "4. Exit\n",
      "Enter your choice (1-4): 1\n",
      "Your current balance is $1000.00\n",
      "\n",
      "ATM Menu:\n",
      "1. Display Balance\n",
      "2. Deposit\n",
      "3. Withdraw\n",
      "4. Exit\n",
      "Enter your choice (1-4): 2\\\n",
      "Invalid choice. Please enter a number between 1 and 4.\n",
      "\n",
      "ATM Menu:\n",
      "1. Display Balance\n",
      "2. Deposit\n",
      "3. Withdraw\n",
      "4. Exit\n",
      "Enter your choice (1-4): 2\n",
      "Enter the deposit amount: $23\n",
      "Deposited $23.00. Your new balance is $1023.00\n",
      "\n",
      "ATM Menu:\n",
      "1. Display Balance\n",
      "2. Deposit\n",
      "3. Withdraw\n",
      "4. Exit\n"
     ]
    }
   ],
   "source": [
    "# 15. Create a program that simulates a basic ATM transaction menu.\n",
    "\n",
    "def display_balance(balance):\n",
    "    print(f\"Your current balance is ${balance:.2f}\")\n",
    "\n",
    "def deposit(balance, amount):\n",
    "    balance += amount\n",
    "    print(f\"Deposited ${amount:.2f}. Your new balance is ${balance:.2f}\")\n",
    "    return balance\n",
    "\n",
    "def withdraw(balance, amount):\n",
    "    if amount > balance:\n",
    "        print(\"Insufficient funds. Withdrawal canceled.\")\n",
    "    else:\n",
    "        balance -= amount\n",
    "        print(f\"Withdrew ${amount:.2f}. Your new balance is ${balance:.2f}\")\n",
    "    return balance\n",
    "\n",
    "def main():\n",
    "    balance = 1000.0  # Initial balance\n",
    "\n",
    "    while True:\n",
    "        print(\"\\nATM Menu:\")\n",
    "        print(\"1. Display Balance\")\n",
    "        print(\"2. Deposit\")\n",
    "        print(\"3. Withdraw\")\n",
    "        print(\"4. Exit\")\n",
    "\n",
    "        choice = input(\"Enter your choice (1-4): \")\n",
    "\n",
    "        if choice == \"1\":\n",
    "            display_balance(balance)\n",
    "        elif choice == \"2\":\n",
    "            amount = float(input(\"Enter the deposit amount: $\"))\n",
    "            balance = deposit(balance, amount)\n",
    "        elif choice == \"3\":\n",
    "            amount = float(input(\"Enter the withdrawal amount: $\"))\n",
    "            balance = withdraw(balance, amount)\n",
    "        elif choice == \"4\":\n",
    "            print(\"Thank you for using the ATM. Goodbye!\")\n",
    "            break\n",
    "        else:\n",
    "            print(\"Invalid choice. Please enter a number between 1 and 4.\")\n",
    "\n",
    "if __name__ == \"__main__\":\n",
    "    main()\n"
   ]
  },
  {
   "cell_type": "code",
   "execution_count": null,
   "metadata": {
    "colab": {
     "base_uri": "https://localhost:8080/"
    },
    "id": "C4KaQ-bZWGjO",
    "outputId": "4c3fa0b6-c2cb-41ba-db48-4e79b8f933b8"
   },
   "outputs": [
    {
     "name": "stdout",
     "output_type": "stream",
     "text": [
      "enter wordama\n",
      "its palindrome and palindrome of ama is ama\n"
     ]
    }
   ],
   "source": [
    "# 16. Build a program that checks if a given string is a palindrome or not\n",
    "p = input(\"enter word\")\n",
    "if p==p[::-1]:\n",
    "  print(\"its palindrome and palindrome of {} is {}\".format(p,p[::-1]))\n",
    "else:\n",
    "  print(\"not palindrome\")"
   ]
  },
  {
   "cell_type": "code",
   "execution_count": null,
   "metadata": {
    "colab": {
     "base_uri": "https://localhost:8080/"
    },
    "id": "pThuwtZOWGXa",
    "outputId": "753763b6-f82b-4cbf-f443-47770dfdcf19"
   },
   "outputs": [
    {
     "data": {
      "text/plain": [
       "5.5"
      ]
     },
     "execution_count": 16,
     "metadata": {},
     "output_type": "execute_result"
    }
   ],
   "source": [
    "# 17. Write a program that calculates the average of a list of numbers, excluding the smallest and largest values\n",
    "li = [12,1,2,3,4,5,6,7,8,9,10,0]\n",
    "h =li.remove(max(li))\n",
    "l = li.remove(min(li))\n",
    "average = sum(li)/len(li)\n",
    "average\n"
   ]
  },
  {
   "cell_type": "code",
   "execution_count": null,
   "metadata": {
    "colab": {
     "base_uri": "https://localhost:8080/"
    },
    "id": "qHccbEXNWGKg",
    "outputId": "3b45a225-de1b-4ae8-fa01-e83a669a12a6"
   },
   "outputs": [
    {
     "name": "stdout",
     "output_type": "stream",
     "text": [
      "enter temperature in celcius36\n"
     ]
    },
    {
     "data": {
      "text/plain": [
       "96.8"
      ]
     },
     "execution_count": 19,
     "metadata": {},
     "output_type": "execute_result"
    }
   ],
   "source": [
    "# 18. Develop a program that converts a given temperature from Celsius to Fahrenheit\n",
    "c = int(input((\"enter temperature in celcius\")))\n",
    "f = (c*(9/5)) +32\n",
    "f"
   ]
  },
  {
   "cell_type": "code",
   "execution_count": 13,
   "metadata": {
    "id": "p7t2yQ9CWF-U"
   },
   "outputs": [
    {
     "name": "stdout",
     "output_type": "stream",
     "text": [
      "+.addition\n",
      "-.subtraction\n",
      "* multiplication\n",
      " /  division\n",
      "enter + or / or * or -/\n",
      "Enter the numerator: 2\n",
      "Enter the denominator: 2\n",
      "Result: 1.0\n"
     ]
    }
   ],
   "source": [
    "# 19. Create a program that simulates a basic calculator for addition, subtraction, multiplication, and division\n",
    "\n",
    "def addition(li):\n",
    "    a=0\n",
    "    for i in li:\n",
    "        a=a+i\n",
    "    return a\n",
    "        \n",
    "def subtraction(a,b):\n",
    "    return a-b\n",
    "\n",
    "def multiplication(li):\n",
    "    l=1\n",
    "    for i in li:\n",
    "        l=l*i\n",
    "    return l\n",
    "    \n",
    "def division(a,b):\n",
    "    if b==0:\n",
    "        return \" division error\"\n",
    "    return a/b\n",
    "\n",
    "def main():\n",
    "    print(\"+.addition\")\n",
    "    print(\"-.subtraction\")\n",
    "    print(\"* multiplication\")\n",
    "    print(\" /  division\")\n",
    "    \n",
    "    choice = input(\"enter + or / or * or -\" )\n",
    "    \n",
    "    if choice == \"+\":\n",
    "        numbers = [int(x) for x in input(\"Enter numbers separated by spaces: \").split(',')]\n",
    "        print(\"Result:\", addition(numbers))\n",
    "    \n",
    "    elif choice == \"-\":\n",
    "        a = int(input(\"Enter the first number: \"))\n",
    "        b = int(input(\"Enter the second number: \"))\n",
    "        print(\"Result:\", subtraction(a,b))\n",
    "    \n",
    "    elif choice == \"*\":\n",
    "        numbers = [int(x) for x in input(\"Enter numbers separated by spaces: \").split(',')]\n",
    "        print(\"Result:\", multiplication(numbers))\n",
    "\n",
    "    \n",
    "    elif choice == \"/\":\n",
    "        a = float(input(\"Enter the numerator: \"))\n",
    "        b = float(input(\"Enter the denominator: \"))\n",
    "        print(\"Result:\", division(a,b))\n",
    "    else:\n",
    "        return \"Invalid choice. Please enter +, -, *, or /.\"\n",
    "    \n",
    "if __name__ == \"__main__\":\n",
    "    main()\n",
    "\n"
   ]
  },
  {
   "cell_type": "code",
   "execution_count": 14,
   "metadata": {
    "id": "BICzz7LxWF1Y"
   },
   "outputs": [
    {
     "name": "stdout",
     "output_type": "stream",
     "text": [
      "Enter the coefficient a: 2\n",
      "Enter the coefficient b: 2\n",
      "Enter the coefficient c: 2\n",
      "Enter the coefficient d: 2\n",
      "Root 1: (-0.738013930512056+0j)\n",
      "Root 2: (-0.1309930347439719-1.3377187506970074j)\n",
      "Root 3: (-0.130993034743972+1.3377187506970074j)\n"
     ]
    }
   ],
   "source": [
    "# 20. Write a program that determines the roots of a cubic equation using the Cardano formula\n",
    "import cmath\n",
    "\n",
    "def cubic_roots(a, b, c, d):\n",
    "    # Discriminant for Cardano's formula\n",
    "    delta_0 = c**2 - 3*b*a*d\n",
    "    delta_1 = 2*c**3 - 9*b*c*a + 27*a**2*d\n",
    "\n",
    "    # Cardano's formula\n",
    "    C = ((delta_1 + cmath.sqrt(delta_1**2 - 4*delta_0**3)) / 2)**(1/3)\n",
    "    \n",
    "    # Cube root of unity\n",
    "    omega = (-1 + cmath.sqrt(-3)) / 2\n",
    "\n",
    "    # Roots\n",
    "    root_1 = -(1 / (3 * a)) * (b + C + delta_0 / C)\n",
    "    root_2 = -(1 / (3 * a)) * (b + omega*C + omega**2*delta_0 / C)\n",
    "    root_3 = -(1 / (3 * a)) * (b + omega**2*C + omega*delta_0 / C)\n",
    "\n",
    "    return root_1, root_2, root_3\n",
    "\n",
    "def main():\n",
    "    # Input coefficients\n",
    "    a = float(input(\"Enter the coefficient a: \"))\n",
    "    b = float(input(\"Enter the coefficient b: \"))\n",
    "    c = float(input(\"Enter the coefficient c: \"))\n",
    "    d = float(input(\"Enter the coefficient d: \"))\n",
    "\n",
    "    # Calculate roots\n",
    "    roots = cubic_roots(a, b, c, d)\n",
    "\n",
    "    # Display roots\n",
    "    print(\"Root 1:\", roots[0])\n",
    "    print(\"Root 2:\", roots[1])\n",
    "    print(\"Root 3:\", roots[2])\n",
    "\n",
    "if __name__ == \"__main__\":\n",
    "    main()\n",
    "\n"
   ]
  },
  {
   "cell_type": "markdown",
   "metadata": {
    "id": "yhuZ_0mxwkO0"
   },
   "source": [
    "# Advanced Level"
   ]
  },
  {
   "cell_type": "code",
   "execution_count": null,
   "metadata": {
    "colab": {
     "base_uri": "https://localhost:8080/"
    },
    "id": "nltMpjvs232K",
    "outputId": "a6a5b267-a137-4b63-ee6d-7a098330b041"
   },
   "outputs": [
    {
     "name": "stdout",
     "output_type": "stream",
     "text": [
      "enter your income per this year :1000000\n",
      "select regime (new or old)old\n",
      "300000.0 is your tax\n"
     ]
    }
   ],
   "source": [
    "# 21. Create a program that calculates the income tax based on the user's income and tax brackets\n",
    "\n",
    "income = int(input(\"enter your income per this year :\"))\n",
    "regime = input(\"select regime (new or old)\")\n",
    "if regime == \"new\":\n",
    "  if 0<= income <=250000:\n",
    "    print(\"no tax is applicable for your salary\")\n",
    "  elif 250000< income <= 500000:\n",
    "    print(\"{} is your tax but as per tax rebate u/s 87A is available hence there is no tax applicable for your income\".format((5/100)*income))\n",
    "  elif 500000< income <=750000:\n",
    "    print(\"{} is your tax\".format((10/100)*income))\n",
    "  elif 750000< income <=1000000:\n",
    "   print(\"{} is your tax\".format((15/100)*income))\n",
    "  elif 1000000 < income <= 1250000:\n",
    "    print(\"{} is your tax\".format((20/100)*income))\n",
    "  elif 1250000 < income <= 1500000:\n",
    "    print(\"{} is your tax\".format((25/100)*income))\n",
    "  elif income <0:\n",
    "    print(\" enter income in positive values\")\n",
    "  else:\n",
    "    print(\"{} is your tax\".format((30/100)*income))\n",
    "elif regime == \"old\":\n",
    "  if 0<= income <=250000:\n",
    "    print(\"no tax is applicable for your salary\")\n",
    "  elif 250000< income <= 500000:\n",
    "    print(\"{} is your tax for your income\".format((5/100)*income))\n",
    "  elif 500000< income <=100000:\n",
    "    print(\"{} is your tax\".format((20/100)*income))\n",
    "  elif income <0:\n",
    "    print(\" enter income in positive values\")\n",
    "  else:\n",
    "    print(\"{} is your tax\".format((30/100)*income))\n"
   ]
  },
  {
   "cell_type": "code",
   "execution_count": 15,
   "metadata": {
    "id": "vgJAAP5frct8"
   },
   "outputs": [
    {
     "name": "stdout",
     "output_type": "stream",
     "text": [
      "Welcome to Rock-Paper-Scissors!\n",
      "Choose: Rock, Paper, or Scissors\n",
      "paper\n",
      "You chose: paper\n",
      "Computer chose: paper\n",
      "It's a tie!\n",
      "Do you want to play again? (yes/no): yes\n",
      "Choose: Rock, Paper, or Scissors\n",
      "scissor\n",
      "Invalid choice. Please choose Rock, Paper, or Scissors.\n",
      "scissors\n",
      "You chose: scissors\n",
      "Computer chose: paper\n",
      "You win!\n",
      "Do you want to play again? (yes/no): no\n",
      "Thanks for playing. Goodbye!\n"
     ]
    }
   ],
   "source": [
    "# 22. Write a program that simulates a rock-paper-scissors game against the computer\n",
    "\n",
    "import random\n",
    "\n",
    "def get_user_choice():\n",
    "    print(\"Choose: Rock, Paper, or Scissors\")\n",
    "    user_choice = input().lower()\n",
    "    while user_choice not in [\"rock\", \"paper\", \"scissors\"]:\n",
    "        print(\"Invalid choice. Please choose Rock, Paper, or Scissors.\")\n",
    "        user_choice = input().lower()\n",
    "    return user_choice\n",
    "\n",
    "def get_computer_choice():\n",
    "    return random.choice([\"rock\", \"paper\", \"scissors\"])\n",
    "\n",
    "def determine_winner(user_choice, computer_choice):\n",
    "    if user_choice == computer_choice:\n",
    "        return \"It's a tie!\"\n",
    "    elif (\n",
    "        (user_choice == \"rock\" and computer_choice == \"scissors\") or\n",
    "        (user_choice == \"paper\" and computer_choice == \"rock\") or\n",
    "        (user_choice == \"scissors\" and computer_choice == \"paper\")\n",
    "    ):\n",
    "        return \"You win!\"\n",
    "    else:\n",
    "        return \"Computer wins!\"\n",
    "\n",
    "def main():\n",
    "    print(\"Welcome to Rock-Paper-Scissors!\")\n",
    "    \n",
    "    while True:\n",
    "        user_choice = get_user_choice()\n",
    "        computer_choice = get_computer_choice()\n",
    "\n",
    "        print(\"You chose:\", user_choice)\n",
    "        print(\"Computer chose:\", computer_choice)\n",
    "\n",
    "        result = determine_winner(user_choice, computer_choice)\n",
    "        print(result)\n",
    "\n",
    "        play_again = input(\"Do you want to play again? (yes/no): \").lower()\n",
    "        if play_again != \"yes\":\n",
    "            print(\"Thanks for playing. Goodbye!\")\n",
    "            break\n",
    "\n",
    "if __name__ == \"__main__\":\n",
    "    main()\n",
    "\n",
    "    \n",
    "    \n",
    "    "
   ]
  },
  {
   "cell_type": "code",
   "execution_count": null,
   "metadata": {
    "colab": {
     "base_uri": "https://localhost:8080/"
    },
    "id": "mUAYPEeqWrwT",
    "outputId": "ee959fda-86c9-4e3b-d88d-97b975e8e5a8"
   },
   "outputs": [
    {
     "name": "stdout",
     "output_type": "stream",
     "text": [
      "Enter the length of the password: 9\n",
      "Include uppercase letters (yes/no): yes\n",
      "Include digits (yes/no): yes\n",
      "Include special characters (yes/no): yes\n",
      "Generated Password: [a:4D4ROz\n"
     ]
    }
   ],
   "source": [
    "# 23. Develop a program that generates a random password based on user preferences (length, complexity)\n",
    "import random\n",
    "import string\n",
    "\n",
    "def generate_password(length, use_uppercase, use_digits, use_special_chars):\n",
    "    characters = string.ascii_lowercase\n",
    "    if use_uppercase:\n",
    "        characters += string.ascii_uppercase\n",
    "    if use_digits:\n",
    "        characters += string.digits\n",
    "    if use_special_chars:\n",
    "        characters += string.punctuation\n",
    "\n",
    "    password = ''.join(random.choice(characters) for _ in range(length))\n",
    "    return password\n",
    "\n",
    "# Input user preferences\n",
    "length = int(input(\"Enter the length of the password: \"))\n",
    "use_uppercase = input(\"Include uppercase letters (yes/no): \").lower() == \"yes\"\n",
    "use_digits = input(\"Include digits (yes/no): \").lower() == \"yes\"\n",
    "use_special_chars = input(\"Include special characters (yes/no): \").lower() == \"yes\"\n",
    "\n",
    "# Generate and print the password\n",
    "password = generate_password(length, use_uppercase, use_digits, use_special_chars)\n",
    "print(f\"Generated Password: {password}\")\n"
   ]
  },
  {
   "cell_type": "code",
   "execution_count": 1,
   "metadata": {
    "id": "a1vjSQeIWrtN"
   },
   "outputs": [
    {
     "name": "stdout",
     "output_type": "stream",
     "text": [
      "Welcome to the Text Adventure Game!\n",
      "You find yourself in a mysterious forest.\n",
      "Your goal is to reach the end of the forest.\n",
      "Let the adventure begin!\n",
      "\n",
      "\n",
      "You are on the main path through the forest.\n",
      "What do you want to do next?\n",
      "Choose your action:\n",
      "1. Continue down the path\n",
      "2. Take a different route\n",
      "3. Quit\n",
      "Enter the number of your choice: 1\n",
      "\n",
      "You come across a fork in the path.\n",
      "Do you want to go left or right?\n",
      "Choose your action:\n",
      "1. Go left\n",
      "2. Go right\n",
      "Enter the number of your choice: 1\n",
      "You chose to go left.\n",
      "You encounter a river. Do you want to swim across or find a bridge?\n",
      "Choose your action:\n",
      "1. Swim across\n",
      "2. Find a bridge\n",
      "Enter the number of your choice: 1\n",
      "You swim across the river and continue your journey.\n",
      "\n",
      "You are on the main path through the forest.\n",
      "What do you want to do next?\n",
      "Choose your action:\n",
      "1. Continue down the path\n",
      "2. Take a different route\n",
      "3. Quit\n",
      "Enter the number of your choice: 3\n",
      "Thanks for playing! See you next time.\n"
     ]
    }
   ],
   "source": [
    "# 24. Create a program that implements a simple text-based adventure game with branching scenarios\n",
    "\n",
    "import time\n",
    "\n",
    "def introduction():\n",
    "    print(\"Welcome to the Text Adventure Game!\")\n",
    "    time.sleep(1)\n",
    "    print(\"You find yourself in a mysterious forest.\")\n",
    "    time.sleep(1)\n",
    "    print(\"Your goal is to reach the end of the forest.\")\n",
    "    time.sleep(1)\n",
    "    print(\"Let the adventure begin!\\n\")\n",
    "\n",
    "def make_choice(options):\n",
    "    print(\"Choose your action:\")\n",
    "    for i, option in enumerate(options, start=1):\n",
    "        print(f\"{i}. {option}\")\n",
    "\n",
    "    choice = input(\"Enter the number of your choice: \")\n",
    "    return int(choice)\n",
    "\n",
    "def forest_path():\n",
    "    print(\"\\nYou come across a fork in the path.\")\n",
    "    time.sleep(1)\n",
    "    print(\"Do you want to go left or right?\")\n",
    "\n",
    "    choice = make_choice([\"Go left\", \"Go right\"])\n",
    "\n",
    "    if choice == 1:\n",
    "        print(\"You chose to go left.\")\n",
    "        time.sleep(1)\n",
    "        print(\"You encounter a river. Do you want to swim across or find a bridge?\")\n",
    "        sub_choice = make_choice([\"Swim across\", \"Find a bridge\"])\n",
    "\n",
    "        if sub_choice == 1:\n",
    "            print(\"You swim across the river and continue your journey.\")\n",
    "        else:\n",
    "            print(\"You find a sturdy bridge and cross the river safely.\")\n",
    "    else:\n",
    "        print(\"You chose to go right.\")\n",
    "        time.sleep(1)\n",
    "        print(\"You find a dense thicket. Do you want to go through it or find another way?\")\n",
    "        sub_choice = make_choice([\"Go through the thicket\", \"Find another way\"])\n",
    "\n",
    "        if sub_choice == 1:\n",
    "            print(\"You navigate through the thicket and continue your journey.\")\n",
    "        else:\n",
    "            print(\"You find a hidden path around the thicket and continue your journey.\")\n",
    "\n",
    "def encounter_enemy():\n",
    "    print(\"\\nOh no! You have encountered a wild animal.\")\n",
    "    time.sleep(1)\n",
    "    print(\"Do you want to fight or try to escape?\")\n",
    "\n",
    "    choice = make_choice([\"Fight\", \"Escape\"])\n",
    "\n",
    "    if choice == 1:\n",
    "        print(\"You bravely fight the wild animal and defeat it.\")\n",
    "    else:\n",
    "        print(\"You quickly escape from the wild animal and continue your journey.\")\n",
    "\n",
    "def main():\n",
    "    introduction()\n",
    "\n",
    "    while True:\n",
    "        print(\"\\nYou are on the main path through the forest.\")\n",
    "        time.sleep(1)\n",
    "        print(\"What do you want to do next?\")\n",
    "        \n",
    "        choice = make_choice([\"Continue down the path\", \"Take a different route\", \"Quit\"])\n",
    "\n",
    "        if choice == 1:\n",
    "            forest_path()\n",
    "        elif choice == 2:\n",
    "            encounter_enemy()\n",
    "        else:\n",
    "            print(\"Thanks for playing! See you next time.\")\n",
    "            break\n",
    "\n",
    "if __name__ == \"__main__\":\n",
    "    main()\n"
   ]
  },
  {
   "cell_type": "code",
   "execution_count": 16,
   "metadata": {
    "id": "yz85awC2WroG"
   },
   "outputs": [
    {
     "name": "stdout",
     "output_type": "stream",
     "text": [
      "Welcome to the Linear Equation Solver!\n",
      "Linear equation: ax + b = 0\n",
      "Enter the coefficient a: 2\n",
      "Enter the coefficient b: 3\n",
      "The solution for x is: -1.5\n"
     ]
    }
   ],
   "source": [
    "# 25. Build a program that solves a linear equation  for x, considering different cases\n",
    "\n",
    "def solve_linear_equation(a, b):\n",
    "    if a == 0:\n",
    "        if b == 0:\n",
    "            return \"Infinite solutions (any x is a solution)\"\n",
    "        else:\n",
    "            return \"No solution (contradiction)\"\n",
    "    else:\n",
    "        x = -b / a\n",
    "        return f\"The solution for x is: {x}\"\n",
    "\n",
    "def main():\n",
    "    print(\"Welcome to the Linear Equation Solver!\")\n",
    "    print(\"Linear equation: ax + b = 0\")\n",
    "\n",
    "    # Input coefficients\n",
    "    a = float(input(\"Enter the coefficient a: \"))\n",
    "    b = float(input(\"Enter the coefficient b: \"))\n",
    "\n",
    "    # Solve the linear equation\n",
    "    result = solve_linear_equation(a, b)\n",
    "\n",
    "    # Display the result\n",
    "    print(result)\n",
    "\n",
    "if __name__ == \"__main__\":\n",
    "    main()\n"
   ]
  },
  {
   "cell_type": "code",
   "execution_count": 1,
   "metadata": {
    "id": "fOFiLBpqWrie"
   },
   "outputs": [
    {
     "name": "stdout",
     "output_type": "stream",
     "text": [
      "What is the capital of Andhra Pradesh?\n",
      "a. Delhi\n",
      "b. Visakhapatnam\n",
      "c. Hyderabad\n",
      "Type the letter corresponding to your answer: b\n",
      "Correct!\n",
      "\n",
      "In which city is the Taj Mahal located?\n",
      "a. Agra\n",
      "b. Porbandar\n",
      "c. Kolkata\n",
      "Type the letter corresponding to your answer: a\n",
      "Correct!\n",
      "\n",
      "which city known as pink city\n",
      "a. Chennai\n",
      "b. Jaipur\n",
      "c. Jamshedpur\n",
      "Type the letter corresponding to your answer: b\n",
      "Correct!\n",
      "\n",
      "Your final score is: 3\n"
     ]
    }
   ],
   "source": [
    "## 26. Write a program that simulates a basic quiz game with multiple-choice questions and scoring.\n",
    "\n",
    "score = 0\n",
    "\n",
    "question1 = {\n",
    "    \"question\": \"What is the capital of Andhra Pradesh?\",\n",
    "    \"choices\": {\n",
    "        \"a\": \"Delhi\",\n",
    "        \"b\": \"Visakhapatnam\",\n",
    "        \"c\": \"Hyderabad\"\n",
    "    },\n",
    "    \"correct_answer\": \"b\"\n",
    "}\n",
    "\n",
    "question2 = {\n",
    "    \"question\": \"In which city is the Taj Mahal located?\",\n",
    "    \"choices\": {\n",
    "        \"a\": \"Agra\",\n",
    "        \"b\": \"Porbandar\",\n",
    "        \"c\": \"Kolkata\"\n",
    "    },\n",
    "    \"correct_answer\": \"a\"\n",
    "}\n",
    "\n",
    "question3 = {\n",
    "    \"question\": \"which city known as pink city\",\n",
    "    \"choices\": {\n",
    "        \"a\": \"Chennai\",\n",
    "        \"b\": \"Jaipur\",\n",
    "        \"c\": \"Jamshedpur\"\n",
    "    },\n",
    "    \"correct_answer\": \"b\"\n",
    "}\n",
    "\n",
    "questions = [question1, question2,question3]\n",
    "\n",
    "for i in questions:\n",
    "    print(i[\"question\"])\n",
    "    for key, value in i[\"choices\"].items():\n",
    "        print(f\"{key}. {value}\")\n",
    "\n",
    "    user_answer = input(\"Type the letter corresponding to your answer: \")\n",
    "\n",
    "    if user_answer.lower() == i[\"correct_answer\"]:\n",
    "        score += 1\n",
    "        print(\"Correct!\\n\")\n",
    "    else:\n",
    "        print(f\"Wrong! The correct answer is {i['correct_answer'].upper()}.\\n\")\n",
    "\n",
    "print(f\"Your final score is: {score}\")\n"
   ]
  },
  {
   "cell_type": "code",
   "execution_count": 6,
   "metadata": {
    "id": "5hRKbjFRWrgB"
   },
   "outputs": [
    {
     "data": {
      "text/plain": [
       "'2013 is not prime'"
      ]
     },
     "execution_count": 6,
     "metadata": {},
     "output_type": "execute_result"
    }
   ],
   "source": [
    "\n",
    "\n",
    "# 27. Develop a program that determines whether a given year is a prime number or not\n",
    "\n",
    "\n",
    "\n",
    "def year_prime_check(year):\n",
    "    for i in range(2,year):\n",
    "        if year % i == 0:\n",
    "            return \"{} is not prime\".format(year)\n",
    "    return \"{} is prime\".format(year)\n",
    "\n",
    "year_prime_check(2013)"
   ]
  },
  {
   "cell_type": "code",
   "execution_count": 2,
   "metadata": {},
   "outputs": [
    {
     "name": "stdout",
     "output_type": "stream",
     "text": [
      "Enter the first number: 13\n",
      "Enter the second number: 12\n",
      "Enter the third number: 23\n",
      "Sorted numbers in ascending order: (12.0, 13.0, 23.0)\n"
     ]
    }
   ],
   "source": [
    "# 28. Create a program that sorts three numbers in ascending order using conditional statements\n",
    "\n",
    "# Function to sort three numbers in ascending order\n",
    "def sort_numbers(num1, num2, num3):\n",
    "    if num1 <= num2 and num1 <= num3:\n",
    "        smallest = num1\n",
    "        if num2 <= num3:\n",
    "            middle = num2\n",
    "            largest = num3\n",
    "        else:\n",
    "            middle = num3\n",
    "            largest = num2\n",
    "    elif num2 <= num1 and num2 <= num3:\n",
    "        smallest = num2\n",
    "        if num1 <= num3:\n",
    "            middle = num1\n",
    "            largest = num3\n",
    "        else:\n",
    "            middle = num3\n",
    "            largest = num1\n",
    "    else:\n",
    "        smallest = num3\n",
    "        if num1 <= num2:\n",
    "            middle = num1\n",
    "            largest = num2\n",
    "        else:\n",
    "            middle = num2\n",
    "            largest = num1\n",
    "\n",
    "    return smallest, middle, largest\n",
    "\n",
    "# Input three numbers\n",
    "num1 = float(input(\"Enter the first number: \"))\n",
    "num2 = float(input(\"Enter the second number: \"))\n",
    "num3 = float(input(\"Enter the third number: \"))\n",
    "\n",
    "# Call the sort_numbers function\n",
    "sorted_numbers = sort_numbers(num1, num2, num3)\n",
    "\n",
    "# Display the sorted numbers\n",
    "print(\"Sorted numbers in ascending order:\", sorted_numbers)\n",
    "\n",
    "        "
   ]
  },
  {
   "cell_type": "code",
   "execution_count": 8,
   "metadata": {},
   "outputs": [
    {
     "name": "stdout",
     "output_type": "stream",
     "text": [
      "Sorted order: 1, 2, 3\n"
     ]
    }
   ],
   "source": [
    "def three_num_asc(x, y, z):\n",
    "    if x >= y and x >= z:\n",
    "        if y >= z:\n",
    "            print(f\"Sorted order: {z}, {y}, {x}\")\n",
    "        else:\n",
    "            print(f\"Sorted order: {y}, {z}, {x}\")\n",
    "    elif y >= z:\n",
    "        if x >= z:\n",
    "            print(f\"Sorted order: {z}, {x}, {y}\")\n",
    "        else:\n",
    "            print(f\"Sorted order: {x}, {z}, {y}\")\n",
    "    else:\n",
    "        print(f\"Sorted order: {x}, {y}, {z}\")\n",
    "\n",
    "# Example usage:\n",
    "three_num_asc(3, 1, 2)\n"
   ]
  },
  {
   "cell_type": "code",
   "execution_count": null,
   "metadata": {},
   "outputs": [],
   "source": []
  },
  {
   "cell_type": "code",
   "execution_count": 9,
   "metadata": {},
   "outputs": [
    {
     "name": "stdout",
     "output_type": "stream",
     "text": [
      "enter height in meteres :140\n",
      "enter weight in kilograms : 30\n",
      "your bmi is 0.001530612244897959\n",
      "You are underweight.\n"
     ]
    }
   ],
   "source": [
    "# 30. Write a program that calculates the BMI (Body Mass Index) and provides health recommendations based on the user's input\n",
    "\n",
    "height = float(input(\"enter height in meteres :\"))\n",
    "weight = int(input(\"enter weight in kilograms : \"))\n",
    "\n",
    "bmi = (weight / height**2)\n",
    "print(\"your bmi is {}\". format(bmi))\n",
    "\n",
    "if bmi < 18.5:\n",
    "    print(\"You are underweight.\")\n",
    "elif 18.5 <= bmi < 24.9:\n",
    "    print(\"You have a normal weight.\")\n",
    "elif 25 <= bmi < 29.9:\n",
    "    print(\"You are overweight.\")\n",
    "else:\n",
    "    print(\"You are obese.\")"
   ]
  },
  {
   "cell_type": "markdown",
   "metadata": {},
   "source": [
    "# Challenge level"
   ]
  },
  {
   "cell_type": "code",
   "execution_count": 10,
   "metadata": {},
   "outputs": [
    {
     "name": "stdout",
     "output_type": "stream",
     "text": [
      "Enter your password: Aneesha@314\n",
      "Password is valid.\n"
     ]
    }
   ],
   "source": [
    "# 31 create a program that validates a password based on complexity rules (length, characters, etc.)\n",
    "\n",
    "import re\n",
    "\n",
    "def validate_password(password):\n",
    "    # Minimum length requirement\n",
    "    if len(password) < 8:\n",
    "        return \"Password must be at least 8 characters long.\"\n",
    "\n",
    "    # Check for at least one uppercase letter\n",
    "    if not any(char.isupper() for char in password):\n",
    "        return \"Password must contain at least one uppercase letter.\"\n",
    "\n",
    "    # Check for at least one lowercase letter\n",
    "    if not any(char.islower() for char in password):\n",
    "        return \"Password must contain at least one lowercase letter.\"\n",
    "\n",
    "    # Check for at least one digit\n",
    "    if not any(char.isdigit() for char in password):\n",
    "        return \"Password must contain at least one digit.\"\n",
    "\n",
    "    # Check for at least one special character\n",
    "    special_characters = re.compile(r'[!@#$%^&*(),.?\":{}|<>]')\n",
    "    if not special_characters.search(password):\n",
    "        return \"Password must contain at least one special character.\"\n",
    "\n",
    "    return \"Password is valid.\"\n",
    "\n",
    "# Example usage:\n",
    "password_input = input(\"Enter your password: \")\n",
    "result = validate_password(password_input)\n",
    "print(result)\n"
   ]
  },
  {
   "cell_type": "code",
   "execution_count": 4,
   "metadata": {
    "scrolled": true
   },
   "outputs": [
    {
     "name": "stdout",
     "output_type": "stream",
     "text": [
      "Matrix Addition and Subtraction Program\n",
      "\n",
      "Enter Matrix A:\n",
      "Enter the number of rows: 2\n",
      "Enter the number of columns: 2\n",
      "Enter the elements row-wise:\n",
      "Enter element at position (1, 1): 2\n",
      "Enter element at position (1, 2): 2\n",
      "Enter element at position (2, 1): 2\n",
      "Enter element at position (2, 2): 2\n",
      "\n",
      "Enter Matrix B:\n",
      "Enter the number of rows: 2\n",
      "Enter the number of columns: 2\n",
      "Enter the elements row-wise:\n",
      "Enter element at position (1, 1): 2\n",
      "Enter element at position (1, 2): 2\n",
      "Enter element at position (2, 1): 2\n",
      "Enter element at position (2, 2): 2\n",
      "\n",
      "Matrix A:\n",
      "[2.0, 2.0]\n",
      "[2.0, 2.0]\n",
      "\n",
      "Matrix B:\n",
      "[2.0, 2.0]\n",
      "[2.0, 2.0]\n",
      "\n",
      "Matrix A + Matrix B:\n",
      "[4.0, 4.0]\n",
      "[4.0, 4.0]\n",
      "\n",
      "Matrix A - Matrix B:\n",
      "[0.0, 0.0]\n",
      "[0.0, 0.0]\n"
     ]
    }
   ],
   "source": [
    "# 32. Develop a program that performs matrix addition and subtraction based on user input\n",
    "def add_matrices(matrix1, matrix2):\n",
    "    result = [[0 for _ in range(len(matrix1[0]))] for _ in range(len(matrix1))]\n",
    "    for i in range(len(matrix1)):\n",
    "        for j in range(len(matrix1[0])):\n",
    "            result[i][j] = matrix1[i][j] + matrix2[i][j]\n",
    "    return result\n",
    "\n",
    "def subtract_matrices(matrix1, matrix2):\n",
    "    result = [[0 for _ in range(len(matrix1[0]))] for _ in range(len(matrix1))]\n",
    "    for i in range(len(matrix1)):\n",
    "        for j in range(len(matrix1[0])):\n",
    "            result[i][j] = matrix1[i][j] - matrix2[i][j]\n",
    "    return result\n",
    "\n",
    "def print_matrix(matrix):\n",
    "    for row in matrix:\n",
    "        print(row)\n",
    "\n",
    "def input_matrix():\n",
    "    rows = int(input(\"Enter the number of rows: \"))\n",
    "    columns = int(input(\"Enter the number of columns: \"))\n",
    "\n",
    "    matrix = []\n",
    "    print(\"Enter the elements row-wise:\")\n",
    "\n",
    "    for i in range(rows):\n",
    "        row = []\n",
    "        for j in range(columns):\n",
    "            element = float(input(f\"Enter element at position ({i+1}, {j+1}): \"))\n",
    "            row.append(element)\n",
    "        matrix.append(row)\n",
    "\n",
    "    return matrix\n",
    "\n",
    "def main():\n",
    "    print(\"Matrix Addition and Subtraction Program\")\n",
    "\n",
    "    print(\"\\nEnter Matrix A:\")\n",
    "    matrix_a = input_matrix()\n",
    "\n",
    "    print(\"\\nEnter Matrix B:\")\n",
    "    matrix_b = input_matrix()\n",
    "\n",
    "    print(\"\\nMatrix A:\")\n",
    "    print_matrix(matrix_a)\n",
    "\n",
    "    print(\"\\nMatrix B:\")\n",
    "    print_matrix(matrix_b)\n",
    "\n",
    "    add_result = add_matrices(matrix_a, matrix_b)\n",
    "    sub_result = subtract_matrices(matrix_a, matrix_b)\n",
    "\n",
    "    print(\"\\nMatrix A + Matrix B:\")\n",
    "    print_matrix(add_result)\n",
    "\n",
    "    print(\"\\nMatrix A - Matrix B:\")\n",
    "    print_matrix(sub_result)\n",
    "\n",
    "if __name__ == \"__main__\":\n",
    "    main()\n"
   ]
  },
  {
   "cell_type": "code",
   "execution_count": 5,
   "metadata": {},
   "outputs": [
    {
     "name": "stdout",
     "output_type": "stream",
     "text": [
      "Greatest Common Divisor (GCD) Calculator\n",
      "Enter the first number: 21\n",
      "Enter the second number: 3\n",
      "The GCD of 21 and 3 is: 3\n"
     ]
    }
   ],
   "source": [
    "# 33. Write a program that calculates the greatest common divisor (GCD) of two numbers using the Euclidean  algorithm\n",
    "\n",
    "def euclidean_algorithm(a, b):\n",
    "    while b:\n",
    "        a, b = b, a % b\n",
    "    return a\n",
    "\n",
    "def main():\n",
    "    print(\"Greatest Common Divisor (GCD) Calculator\")\n",
    "\n",
    "    # Input two numbers\n",
    "    num1 = int(input(\"Enter the first number: \"))\n",
    "    num2 = int(input(\"Enter the second number: \"))\n",
    "\n",
    "    # Ensure non-negative input\n",
    "    num1 = abs(num1)\n",
    "    num2 = abs(num2)\n",
    "\n",
    "    # Call the Euclidean algorithm function\n",
    "    gcd = euclidean_algorithm(num1, num2)\n",
    "\n",
    "    print(f\"The GCD of {num1} and {num2} is: {gcd}\")\n",
    "\n",
    "if __name__ == \"__main__\":\n",
    "    main()\n"
   ]
  },
  {
   "cell_type": "code",
   "execution_count": 6,
   "metadata": {},
   "outputs": [
    {
     "name": "stdout",
     "output_type": "stream",
     "text": [
      "Matrix Multiplication Program\n",
      "\n",
      "Enter Matrix A:\n",
      "Enter the number of rows: 2\n",
      "Enter the number of columns: 2\n",
      "Enter the elements row-wise:\n",
      "Enter element at position (1, 1): 1\n",
      "Enter element at position (1, 2): 2\n",
      "Enter element at position (2, 1): 1\n",
      "Enter element at position (2, 2): 1\n",
      "\n",
      "Enter Matrix B:\n",
      "Enter the number of rows: 2\n",
      "Enter the number of columns: 2\n",
      "Enter the elements row-wise:\n",
      "Enter element at position (1, 1): 1\n",
      "Enter element at position (1, 2): 1\n",
      "Enter element at position (2, 1): 1\n",
      "Enter element at position (2, 2): 1\n",
      "\n",
      "Matrix A:\n",
      "[1.0, 2.0]\n",
      "[1.0, 1.0]\n",
      "\n",
      "Matrix B:\n",
      "[1.0, 1.0]\n",
      "[1.0, 1.0]\n",
      "\n",
      "Matrix A * Matrix B:\n",
      "[3.0, 3.0]\n",
      "[2.0, 2.0]\n"
     ]
    }
   ],
   "source": [
    "# 34. Build a program that performs matrix multiplication using nested loops and conditional statements\n",
    "\n",
    "def matrix_multiply(matrix1, matrix2):\n",
    "    if len(matrix1[0]) != len(matrix2):\n",
    "        print(\"Error: Number of columns in the first matrix must be equal to the number of rows in the second matrix.\")\n",
    "        return None\n",
    "\n",
    "    result = [[0 for _ in range(len(matrix2[0]))] for _ in range(len(matrix1))]\n",
    "\n",
    "    for i in range(len(matrix1)):\n",
    "        for j in range(len(matrix2[0])):\n",
    "            for k in range(len(matrix2)):\n",
    "                result[i][j] += matrix1[i][k] * matrix2[k][j]\n",
    "\n",
    "    return result\n",
    "\n",
    "def print_matrix(matrix):\n",
    "    for row in matrix:\n",
    "        print(row)\n",
    "\n",
    "def input_matrix():\n",
    "    rows = int(input(\"Enter the number of rows: \"))\n",
    "    columns = int(input(\"Enter the number of columns: \"))\n",
    "\n",
    "    matrix = []\n",
    "    print(\"Enter the elements row-wise:\")\n",
    "\n",
    "    for i in range(rows):\n",
    "        row = []\n",
    "        for j in range(columns):\n",
    "            element = float(input(f\"Enter element at position ({i+1}, {j+1}): \"))\n",
    "            row.append(element)\n",
    "        matrix.append(row)\n",
    "\n",
    "    return matrix\n",
    "\n",
    "def main():\n",
    "    print(\"Matrix Multiplication Program\")\n",
    "\n",
    "    print(\"\\nEnter Matrix A:\")\n",
    "    matrix_a = input_matrix()\n",
    "\n",
    "    print(\"\\nEnter Matrix B:\")\n",
    "    matrix_b = input_matrix()\n",
    "\n",
    "    print(\"\\nMatrix A:\")\n",
    "    print_matrix(matrix_a)\n",
    "\n",
    "    print(\"\\nMatrix B:\")\n",
    "    print_matrix(matrix_b)\n",
    "\n",
    "    result = matrix_multiply(matrix_a, matrix_b)\n",
    "\n",
    "    if result:\n",
    "        print(\"\\nMatrix A * Matrix B:\")\n",
    "        print_matrix(result)\n",
    "\n",
    "if __name__ == \"__main__\":\n",
    "    main()\n"
   ]
  },
  {
   "cell_type": "code",
   "execution_count": 7,
   "metadata": {},
   "outputs": [
    {
     "name": "stdout",
     "output_type": "stream",
     "text": [
      "Welcome to Tic-Tac-Toe!\n",
      "Enter your symbol (X or O): O\n",
      "  |   |  \n",
      "-----------------\n",
      "  |   |  \n",
      "-----------------\n",
      "  |   |  \n",
      "-----------------\n",
      "\n",
      "O's turn:\n",
      "Enter the row (1, 2, or 3): 1\n",
      "Enter the column (1, 2, or 3): 2\n",
      "  | O |  \n",
      "-----------------\n",
      "  |   |  \n",
      "-----------------\n",
      "  |   |  \n",
      "-----------------\n",
      "\n",
      "Computer's turn:\n",
      "  | O |  \n",
      "-----------------\n",
      "X |   |  \n",
      "-----------------\n",
      "  |   |  \n",
      "-----------------\n",
      "\n",
      "O's turn:\n",
      "Enter the row (1, 2, or 3): 2\n",
      "Enter the column (1, 2, or 3): 1\n",
      "Invalid move. Try again.\n",
      "Enter the row (1, 2, or 3): 2\n",
      "Enter the column (1, 2, or 3): 2\n",
      "  | O |  \n",
      "-----------------\n",
      "X | O |  \n",
      "-----------------\n",
      "  |   |  \n",
      "-----------------\n",
      "\n",
      "Computer's turn:\n",
      "  | O |  \n",
      "-----------------\n",
      "X | O |  \n",
      "-----------------\n",
      "  | X |  \n",
      "-----------------\n",
      "\n",
      "O's turn:\n",
      "Enter the row (1, 2, or 3): 1\n",
      "Enter the column (1, 2, or 3): 1\n",
      "O | O |  \n",
      "-----------------\n",
      "X | O |  \n",
      "-----------------\n",
      "  | X |  \n",
      "-----------------\n",
      "\n",
      "Computer's turn:\n",
      "O | O | X\n",
      "-----------------\n",
      "X | O |  \n",
      "-----------------\n",
      "  | X |  \n",
      "-----------------\n",
      "\n",
      "O's turn:\n",
      "Enter the row (1, 2, or 3): 2\n",
      "Enter the column (1, 2, or 3): 3\n",
      "O | O | X\n",
      "-----------------\n",
      "X | O | O\n",
      "-----------------\n",
      "  | X |  \n",
      "-----------------\n",
      "\n",
      "Computer's turn:\n",
      "O | O | X\n",
      "-----------------\n",
      "X | O | O\n",
      "-----------------\n",
      "  | X | X\n",
      "-----------------\n",
      "\n",
      "O's turn:\n",
      "Enter the row (1, 2, or 3): 1\n",
      "Enter the column (1, 2, or 3): 2\n",
      "Invalid move. Try again.\n",
      "Enter the row (1, 2, or 3): 3\n",
      "Enter the column (1, 2, or 3): 1\n",
      "O | O | X\n",
      "-----------------\n",
      "X | O | O\n",
      "-----------------\n",
      "O | X | X\n",
      "-----------------\n",
      "\n",
      "The game is a tie!\n"
     ]
    }
   ],
   "source": [
    "# 35. Create a program that simulates a basic text-based tic-tac-toe game against the computer\n",
    "\n",
    "import random\n",
    "\n",
    "def print_board(board):\n",
    "    for row in board:\n",
    "        print(\" | \".join(row))\n",
    "        print(\"-\" * 17)\n",
    "\n",
    "def check_winner(board, player):\n",
    "    # Check rows and columns\n",
    "    for i in range(3):\n",
    "        if all(board[i][j] == player for j in range(3)) or all(board[j][i] == player for j in range(3)):\n",
    "            return True\n",
    "\n",
    "    # Check diagonals\n",
    "    if all(board[i][i] == player for i in range(3)) or all(board[i][2 - i] == player for i in range(3)):\n",
    "        return True\n",
    "\n",
    "    return False\n",
    "\n",
    "def is_board_full(board):\n",
    "    return all(board[i][j] != ' ' for i in range(3) for j in range(3))\n",
    "\n",
    "def player_turn(board, player):\n",
    "    print(f\"\\n{player}'s turn:\")\n",
    "    while True:\n",
    "        try:\n",
    "            row = int(input(\"Enter the row (1, 2, or 3): \")) - 1\n",
    "            col = int(input(\"Enter the column (1, 2, or 3): \")) - 1\n",
    "\n",
    "            if 0 <= row < 3 and 0 <= col < 3 and board[row][col] == ' ':\n",
    "                board[row][col] = player\n",
    "                break\n",
    "            else:\n",
    "                print(\"Invalid move. Try again.\")\n",
    "        except ValueError:\n",
    "            print(\"Invalid input. Please enter a number.\")\n",
    "\n",
    "def computer_turn(board, computer, player):\n",
    "    print(\"\\nComputer's turn:\")\n",
    "    while True:\n",
    "        row = random.randint(0, 2)\n",
    "        col = random.randint(0, 2)\n",
    "\n",
    "        if board[row][col] == ' ':\n",
    "            board[row][col] = computer\n",
    "            break\n",
    "\n",
    "def main():\n",
    "    print(\"Welcome to Tic-Tac-Toe!\")\n",
    "    board = [[' ' for _ in range(3)] for _ in range(3)]\n",
    "\n",
    "    player = input(\"Enter your symbol (X or O): \").upper()\n",
    "    computer = 'O' if player == 'X' else 'X'\n",
    "\n",
    "    print_board(board)\n",
    "\n",
    "    while True:\n",
    "        player_turn(board, player)\n",
    "        print_board(board)\n",
    "\n",
    "        if check_winner(board, player):\n",
    "            print(f\"\\nCongratulations! You ({player}) won!\")\n",
    "            break\n",
    "\n",
    "        if is_board_full(board):\n",
    "            print(\"\\nThe game is a tie!\")\n",
    "            break\n",
    "\n",
    "        computer_turn(board, computer, player)\n",
    "        print_board(board)\n",
    "\n",
    "        if check_winner(board, computer):\n",
    "            print(\"\\nSorry! Computer won.\")\n",
    "            break\n",
    "\n",
    "        if is_board_full(board):\n",
    "            print(\"\\nThe game is a tie!\")\n",
    "            break\n",
    "\n",
    "if __name__ == \"__main__\":\n",
    "    main()\n"
   ]
  },
  {
   "cell_type": "code",
   "execution_count": 8,
   "metadata": {},
   "outputs": [
    {
     "name": "stdout",
     "output_type": "stream",
     "text": [
      "Fibonacci Number Generator\n",
      "Enter the number of terms you want to generate: 1\n",
      "\n",
      "Fibonacci Sequence up to term 1:\n",
      "[0, 1]\n"
     ]
    }
   ],
   "source": [
    "# 36. Write a program that generates Fibonacci numbers up to a specified term using iterative methods\n",
    "\n",
    "def generate_fibonacci(n):\n",
    "    fibonacci_sequence = [0, 1]\n",
    "\n",
    "    for i in range(2, n):\n",
    "        next_term = fibonacci_sequence[i-1] + fibonacci_sequence[i-2]\n",
    "        fibonacci_sequence.append(next_term)\n",
    "\n",
    "    return fibonacci_sequence\n",
    "\n",
    "def main():\n",
    "    print(\"Fibonacci Number Generator\")\n",
    "\n",
    "    try:\n",
    "        n = int(input(\"Enter the number of terms you want to generate: \"))\n",
    "        if n <= 0:\n",
    "            raise ValueError(\"Number of terms should be a positive integer.\")\n",
    "    except ValueError as e:\n",
    "        print(f\"Error: {e}\")\n",
    "        return\n",
    "\n",
    "    fibonacci_sequence = generate_fibonacci(n)\n",
    "\n",
    "    print(f\"\\nFibonacci Sequence up to term {n}:\")\n",
    "    print(fibonacci_sequence)\n",
    "\n",
    "if __name__ == \"__main__\":\n",
    "    main()\n"
   ]
  },
  {
   "cell_type": "code",
   "execution_count": 9,
   "metadata": {},
   "outputs": [
    {
     "name": "stdout",
     "output_type": "stream",
     "text": [
      "Fibonacci Term Calculator using Memoization\n",
      "Enter the value of n for the nth term: 3\n",
      "\n",
      "The 3th term of the Fibonacci sequence is: 2\n"
     ]
    }
   ],
   "source": [
    "# 37. Develop a program that calculates the nth term of the Fibonacci sequence using memoization\n",
    "\n",
    "def fibonacci_memo(n, memo={}):\n",
    "    if n <= 1:\n",
    "        return n\n",
    "\n",
    "    if n not in memo:\n",
    "        memo[n] = fibonacci_memo(n - 1, memo) + fibonacci_memo(n - 2, memo)\n",
    "\n",
    "    return memo[n]\n",
    "\n",
    "def main():\n",
    "    print(\"Fibonacci Term Calculator using Memoization\")\n",
    "\n",
    "    try:\n",
    "        n = int(input(\"Enter the value of n for the nth term: \"))\n",
    "        if n < 0:\n",
    "            raise ValueError(\"Value of n should be a non-negative integer.\")\n",
    "    except ValueError as e:\n",
    "        print(f\"Error: {e}\")\n",
    "        return\n",
    "\n",
    "    result = fibonacci_memo(n)\n",
    "\n",
    "    print(f\"\\nThe {n}th term of the Fibonacci sequence is: {result}\")\n",
    "\n",
    "if __name__ == \"__main__\":\n",
    "    main()\n"
   ]
  },
  {
   "cell_type": "code",
   "execution_count": 10,
   "metadata": {},
   "outputs": [
    {
     "name": "stdout",
     "output_type": "stream",
     "text": [
      "Calendar Generator\n",
      "Enter the year: 2024\n",
      "Enter the month (1-12): 2\n",
      "\n",
      "Calendar for February 2024:\n",
      " Mo Tu We Th Fr Sa Su\n",
      "             1   2   3   4  \n",
      " 5   6   7   8   9  10  11  \n",
      "12  13  14  15  16  17  18  \n",
      "19  20  21  22  23  24  25  \n",
      "26  27  28  29              \n"
     ]
    }
   ],
   "source": [
    "# 38. Create a program that generates a calendar for a given month and year using conditional statements\n",
    "\n",
    "import calendar\n",
    "\n",
    "def generate_calendar(year, month):\n",
    "    cal = calendar.monthcalendar(year, month)\n",
    "\n",
    "    print(f\"\\nCalendar for {calendar.month_name[month]} {year}:\")\n",
    "    print(\" Mo Tu We Th Fr Sa Su\")\n",
    "\n",
    "    for week in cal:\n",
    "        for day in week:\n",
    "            if day == 0:\n",
    "                print(\"   \", end=\" \")\n",
    "            else:\n",
    "                print(f\"{day:2} \", end=\" \")\n",
    "        print()\n",
    "\n",
    "def main():\n",
    "    print(\"Calendar Generator\")\n",
    "\n",
    "    try:\n",
    "        year = int(input(\"Enter the year: \"))\n",
    "        month = int(input(\"Enter the month (1-12): \"))\n",
    "        if not (1 <= month <= 12):\n",
    "            raise ValueError(\"Month should be in the range 1-12.\")\n",
    "    except ValueError as e:\n",
    "        print(f\"Error: {e}\")\n",
    "        return\n",
    "\n",
    "    generate_calendar(year, month)\n",
    "\n",
    "if __name__ == \"__main__\":\n",
    "    main()\n"
   ]
  },
  {
   "cell_type": "code",
   "execution_count": 11,
   "metadata": {},
   "outputs": [
    {
     "name": "stdout",
     "output_type": "stream",
     "text": [
      "Welcome to Blackjack!\n",
      "Your cards: [5, 10], current score: 15\n",
      "Computer's first card: 5\n",
      "Type 'y' to get another card, 'n' to pass: y\n",
      "Your cards: [5, 10, 3], current score: 18\n",
      "Computer's first card: 5\n",
      "Type 'y' to get another card, 'n' to pass: y\n",
      "Your cards: [5, 10, 3, 7], current score: 25\n",
      "Computer's first card: 5\n",
      "\n",
      "Your final hand: [5, 10, 3, 7], final score: 25\n",
      "Computer's final hand: [5, 10, 4], final score: 19\n",
      "You went over. You lose.\n"
     ]
    }
   ],
   "source": [
    "# 39. Build a program that simulates a basic text-based blackjack game against the compute\n",
    "\n",
    "import random\n",
    "\n",
    "def deal_card():\n",
    "    cards = [11, 2, 3, 4, 5, 6, 7, 8, 9, 10, 10, 10, 10]\n",
    "    return random.choice(cards)\n",
    "\n",
    "def calculate_score(cards):\n",
    "    if sum(cards) == 21 and len(cards) == 2:\n",
    "        return 0  # Blackjack\n",
    "    if 11 in cards and sum(cards) > 21:\n",
    "        cards.remove(11)\n",
    "        cards.append(1)\n",
    "    return sum(cards)\n",
    "\n",
    "def compare(user_score, computer_score):\n",
    "    if user_score == computer_score:\n",
    "        return \"It's a draw!\"\n",
    "    elif computer_score == 0:\n",
    "        return \"You lose, the computer has a Blackjack.\"\n",
    "    elif user_score == 0:\n",
    "        return \"You win with a Blackjack!\"\n",
    "    elif user_score > 21:\n",
    "        return \"You went over. You lose.\"\n",
    "    elif computer_score > 21:\n",
    "        return \"Computer went over. You win!\"\n",
    "    elif user_score > computer_score:\n",
    "        return \"You win!\"\n",
    "    else:\n",
    "        return \"You lose.\"\n",
    "\n",
    "def play_game():\n",
    "    print(\"Welcome to Blackjack!\")\n",
    "\n",
    "    user_cards = [deal_card(), deal_card()]\n",
    "    computer_cards = [deal_card(), deal_card()]\n",
    "\n",
    "    game_over = False\n",
    "\n",
    "    while not game_over:\n",
    "        user_score = calculate_score(user_cards)\n",
    "        computer_score = calculate_score(computer_cards)\n",
    "\n",
    "        print(f\"Your cards: {user_cards}, current score: {user_score}\")\n",
    "        print(f\"Computer's first card: {computer_cards[0]}\")\n",
    "\n",
    "        if user_score == 0 or computer_score == 0 or user_score > 21:\n",
    "            game_over = True\n",
    "        else:\n",
    "            another_card = input(\"Type 'y' to get another card, 'n' to pass: \")\n",
    "            if another_card == 'y':\n",
    "                user_cards.append(deal_card())\n",
    "            else:\n",
    "                game_over = True\n",
    "\n",
    "    while computer_score != 0 and computer_score < 17:\n",
    "        computer_cards.append(deal_card())\n",
    "        computer_score = calculate_score(computer_cards)\n",
    "\n",
    "    print(f\"\\nYour final hand: {user_cards}, final score: {user_score}\")\n",
    "    print(f\"Computer's final hand: {computer_cards}, final score: {computer_score}\")\n",
    "\n",
    "    print(compare(user_score, computer_score))\n",
    "\n",
    "if __name__ == \"__main__\":\n",
    "    play_game()\n"
   ]
  },
  {
   "cell_type": "code",
   "execution_count": 12,
   "metadata": {},
   "outputs": [
    {
     "name": "stdout",
     "output_type": "stream",
     "text": [
      "Prime Factor Generator\n",
      "Enter a positive integer: 2\n",
      "\n",
      "The prime factors of 2 are: [2]\n"
     ]
    }
   ],
   "source": [
    "# 40. Write a program that generates the prime factors of a given number using trial division.\n",
    "\n",
    "def generate_prime_factors(number):\n",
    "    prime_factors = []\n",
    "\n",
    "    # Divide by 2 until it's an odd number\n",
    "    while number % 2 == 0:\n",
    "        prime_factors.append(2)\n",
    "        number = number // 2\n",
    "\n",
    "    # Divide by odd numbers starting from 3\n",
    "    for i in range(3, int(number**0.5) + 1, 2):\n",
    "        while number % i == 0:\n",
    "            prime_factors.append(i)\n",
    "            number = number // i\n",
    "\n",
    "    # If the remaining number is a prime greater than 2\n",
    "    if number > 2:\n",
    "        prime_factors.append(number)\n",
    "\n",
    "    return prime_factors\n",
    "\n",
    "def main():\n",
    "    print(\"Prime Factor Generator\")\n",
    "\n",
    "    try:\n",
    "        num = int(input(\"Enter a positive integer: \"))\n",
    "        if num <= 0:\n",
    "            raise ValueError(\"Please enter a positive integer.\")\n",
    "    except ValueError as e:\n",
    "        print(f\"Error: {e}\")\n",
    "        return\n",
    "\n",
    "    factors = generate_prime_factors(num)\n",
    "\n",
    "    print(f\"\\nThe prime factors of {num} are: {factors}\")\n",
    "\n",
    "if __name__ == \"__main__\":\n",
    "    main()\n"
   ]
  },
  {
   "cell_type": "code",
   "execution_count": null,
   "metadata": {},
   "outputs": [],
   "source": []
  }
 ],
 "metadata": {
  "colab": {
   "provenance": []
  },
  "kernelspec": {
   "display_name": "Python 3 (ipykernel)",
   "language": "python",
   "name": "python3"
  },
  "language_info": {
   "codemirror_mode": {
    "name": "ipython",
    "version": 3
   },
   "file_extension": ".py",
   "mimetype": "text/x-python",
   "name": "python",
   "nbconvert_exporter": "python",
   "pygments_lexer": "ipython3",
   "version": "3.9.7"
  }
 },
 "nbformat": 4,
 "nbformat_minor": 1
}
